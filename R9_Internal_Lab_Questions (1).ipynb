{
  "nbformat": 4,
  "nbformat_minor": 0,
  "metadata": {
    "colab": {
      "name": "R9_Internal_Lab_Questions.ipynb",
      "provenance": [],
      "collapsed_sections": []
    },
    "kernelspec": {
      "name": "python3",
      "display_name": "Python 3"
    }
  },
  "cells": [
    {
      "cell_type": "markdown",
      "metadata": {
        "id": "I-P5m4iA_xe7",
        "colab_type": "text"
      },
      "source": [
        "# Bounding box detection - Racoon data\n",
        "\n",
        "\n",
        "## Data files\n",
        "- images_racoon.rar: contain images of racoons\n",
        "- train_labels.cv: contains coordinates for bounding box for every image"
      ]
    },
    {
      "cell_type": "markdown",
      "metadata": {
        "colab_type": "text",
        "id": "d8M5gzwKWGiU"
      },
      "source": [
        "### Import the necessary libraries"
      ]
    },
    {
      "cell_type": "code",
      "metadata": {
        "colab_type": "code",
        "id": "VOMKpZJcWGiV",
        "colab": {
          "base_uri": "https://localhost:8080/",
          "height": 34
        },
        "outputId": "e1b9f3fd-fffc-46d7-f720-e8da96d1990e"
      },
      "source": [
        "%tensorflow_version 2.x"
      ],
      "execution_count": 1,
      "outputs": [
        {
          "output_type": "stream",
          "text": [
            "TensorFlow 2.x selected.\n"
          ],
          "name": "stdout"
        }
      ]
    },
    {
      "cell_type": "code",
      "metadata": {
        "id": "YhUxSdViO3GZ",
        "colab_type": "code",
        "colab": {}
      },
      "source": [
        "import tensorflow as tf\n",
        "import numpy as np"
      ],
      "execution_count": 0,
      "outputs": []
    },
    {
      "cell_type": "code",
      "metadata": {
        "id": "tVZrtHAYP_nq",
        "colab_type": "code",
        "colab": {}
      },
      "source": [
        "import pandas as pd"
      ],
      "execution_count": 0,
      "outputs": []
    },
    {
      "cell_type": "code",
      "metadata": {
        "id": "5xn_Xz-xQIAx",
        "colab_type": "code",
        "colab": {
          "base_uri": "https://localhost:8080/",
          "height": 122
        },
        "outputId": "7f49464f-bc44-4344-f5c0-10e44024b382"
      },
      "source": [
        "from google.colab import drive\n",
        "drive.mount('/content/drive')"
      ],
      "execution_count": 3,
      "outputs": [
        {
          "output_type": "stream",
          "text": [
            "Go to this URL in a browser: https://accounts.google.com/o/oauth2/auth?client_id=947318989803-6bn6qk8qdgf4n4g3pfee6491hc0brc4i.apps.googleusercontent.com&redirect_uri=urn%3aietf%3awg%3aoauth%3a2.0%3aoob&response_type=code&scope=email%20https%3a%2f%2fwww.googleapis.com%2fauth%2fdocs.test%20https%3a%2f%2fwww.googleapis.com%2fauth%2fdrive%20https%3a%2f%2fwww.googleapis.com%2fauth%2fdrive.photos.readonly%20https%3a%2f%2fwww.googleapis.com%2fauth%2fpeopleapi.readonly\n",
            "\n",
            "Enter your authorization code:\n",
            "··········\n",
            "Mounted at /content/drive\n"
          ],
          "name": "stdout"
        }
      ]
    },
    {
      "cell_type": "markdown",
      "metadata": {
        "id": "Z_INIZOi_tUW",
        "colab_type": "text"
      },
      "source": [
        "### Change directory"
      ]
    },
    {
      "cell_type": "code",
      "metadata": {
        "id": "Sxgw3GT1AR9Y",
        "colab_type": "code",
        "colab": {}
      },
      "source": [
        "import os\n",
        "os.chdir(\"//content//drive//My Drive//Internal Lab 9\")"
      ],
      "execution_count": 0,
      "outputs": []
    },
    {
      "cell_type": "markdown",
      "metadata": {
        "colab_type": "text",
        "id": "lwxBtvYRWGii"
      },
      "source": [
        "### Load the training data from train.csv file"
      ]
    },
    {
      "cell_type": "code",
      "metadata": {
        "colab_type": "code",
        "id": "wiTjjKtpWGij",
        "colab": {}
      },
      "source": [
        "label = pd.read_csv(\"train_labels.csv\")"
      ],
      "execution_count": 0,
      "outputs": []
    },
    {
      "cell_type": "markdown",
      "metadata": {
        "colab_type": "text",
        "id": "-F3CkYxUWGin"
      },
      "source": [
        "### Print the shape of the train dataset"
      ]
    },
    {
      "cell_type": "code",
      "metadata": {
        "colab_type": "code",
        "id": "uRz_MtnvWGip",
        "colab": {
          "base_uri": "https://localhost:8080/",
          "height": 34
        },
        "outputId": "741fdf7a-234f-4482-e4e3-41f83ee87eab"
      },
      "source": [
        "label.shape"
      ],
      "execution_count": 11,
      "outputs": [
        {
          "output_type": "execute_result",
          "data": {
            "text/plain": [
              "(173, 8)"
            ]
          },
          "metadata": {
            "tags": []
          },
          "execution_count": 11
        }
      ]
    },
    {
      "cell_type": "code",
      "metadata": {
        "id": "ZpYjwXtLTcAF",
        "colab_type": "code",
        "colab": {
          "base_uri": "https://localhost:8080/",
          "height": 204
        },
        "outputId": "7350cac4-c0f4-44ae-a416-b34495b62416"
      },
      "source": [
        "label.head()"
      ],
      "execution_count": 12,
      "outputs": [
        {
          "output_type": "execute_result",
          "data": {
            "text/html": [
              "<div>\n",
              "<style scoped>\n",
              "    .dataframe tbody tr th:only-of-type {\n",
              "        vertical-align: middle;\n",
              "    }\n",
              "\n",
              "    .dataframe tbody tr th {\n",
              "        vertical-align: top;\n",
              "    }\n",
              "\n",
              "    .dataframe thead th {\n",
              "        text-align: right;\n",
              "    }\n",
              "</style>\n",
              "<table border=\"1\" class=\"dataframe\">\n",
              "  <thead>\n",
              "    <tr style=\"text-align: right;\">\n",
              "      <th></th>\n",
              "      <th>filename</th>\n",
              "      <th>width</th>\n",
              "      <th>height</th>\n",
              "      <th>class</th>\n",
              "      <th>xmin</th>\n",
              "      <th>ymin</th>\n",
              "      <th>xmax</th>\n",
              "      <th>ymax</th>\n",
              "    </tr>\n",
              "  </thead>\n",
              "  <tbody>\n",
              "    <tr>\n",
              "      <th>0</th>\n",
              "      <td>raccoon-17.jpg</td>\n",
              "      <td>259</td>\n",
              "      <td>194</td>\n",
              "      <td>raccoon</td>\n",
              "      <td>95</td>\n",
              "      <td>60</td>\n",
              "      <td>167</td>\n",
              "      <td>118</td>\n",
              "    </tr>\n",
              "    <tr>\n",
              "      <th>1</th>\n",
              "      <td>raccoon-11.jpg</td>\n",
              "      <td>660</td>\n",
              "      <td>432</td>\n",
              "      <td>raccoon</td>\n",
              "      <td>3</td>\n",
              "      <td>1</td>\n",
              "      <td>461</td>\n",
              "      <td>431</td>\n",
              "    </tr>\n",
              "    <tr>\n",
              "      <th>2</th>\n",
              "      <td>raccoon-63.jpg</td>\n",
              "      <td>600</td>\n",
              "      <td>400</td>\n",
              "      <td>raccoon</td>\n",
              "      <td>74</td>\n",
              "      <td>107</td>\n",
              "      <td>280</td>\n",
              "      <td>290</td>\n",
              "    </tr>\n",
              "    <tr>\n",
              "      <th>3</th>\n",
              "      <td>raccoon-63.jpg</td>\n",
              "      <td>600</td>\n",
              "      <td>400</td>\n",
              "      <td>raccoon</td>\n",
              "      <td>227</td>\n",
              "      <td>93</td>\n",
              "      <td>403</td>\n",
              "      <td>298</td>\n",
              "    </tr>\n",
              "    <tr>\n",
              "      <th>4</th>\n",
              "      <td>raccoon-60.jpg</td>\n",
              "      <td>273</td>\n",
              "      <td>185</td>\n",
              "      <td>raccoon</td>\n",
              "      <td>58</td>\n",
              "      <td>33</td>\n",
              "      <td>197</td>\n",
              "      <td>127</td>\n",
              "    </tr>\n",
              "  </tbody>\n",
              "</table>\n",
              "</div>"
            ],
            "text/plain": [
              "         filename  width  height    class  xmin  ymin  xmax  ymax\n",
              "0  raccoon-17.jpg    259     194  raccoon    95    60   167   118\n",
              "1  raccoon-11.jpg    660     432  raccoon     3     1   461   431\n",
              "2  raccoon-63.jpg    600     400  raccoon    74   107   280   290\n",
              "3  raccoon-63.jpg    600     400  raccoon   227    93   403   298\n",
              "4  raccoon-60.jpg    273     185  raccoon    58    33   197   127"
            ]
          },
          "metadata": {
            "tags": []
          },
          "execution_count": 12
        }
      ]
    },
    {
      "cell_type": "code",
      "metadata": {
        "id": "VmzAaQ0VaZQg",
        "colab_type": "code",
        "colab": {
          "base_uri": "https://localhost:8080/",
          "height": 170
        },
        "outputId": "00917236-6048-4279-a030-055d23eb0659"
      },
      "source": [
        "label.dtypes"
      ],
      "execution_count": 20,
      "outputs": [
        {
          "output_type": "execute_result",
          "data": {
            "text/plain": [
              "filename    object\n",
              "width        int64\n",
              "height       int64\n",
              "class       object\n",
              "xmin         int64\n",
              "ymin         int64\n",
              "xmax         int64\n",
              "ymax         int64\n",
              "dtype: object"
            ]
          },
          "metadata": {
            "tags": []
          },
          "execution_count": 20
        }
      ]
    },
    {
      "cell_type": "code",
      "metadata": {
        "id": "K7H6lOIoWu1K",
        "colab_type": "code",
        "colab": {
          "base_uri": "https://localhost:8080/",
          "height": 102
        },
        "outputId": "fa36a7ce-8ce0-400c-aaf2-21645c471f19"
      },
      "source": [
        "!pip install patool"
      ],
      "execution_count": 14,
      "outputs": [
        {
          "output_type": "stream",
          "text": [
            "Collecting patool\n",
            "\u001b[?25l  Downloading https://files.pythonhosted.org/packages/43/94/52243ddff508780dd2d8110964320ab4851134a55ab102285b46e740f76a/patool-1.12-py2.py3-none-any.whl (77kB)\n",
            "\r\u001b[K     |████▎                           | 10kB 16.9MB/s eta 0:00:01\r\u001b[K     |████████▌                       | 20kB 3.3MB/s eta 0:00:01\r\u001b[K     |████████████▊                   | 30kB 4.8MB/s eta 0:00:01\r\u001b[K     |█████████████████               | 40kB 6.2MB/s eta 0:00:01\r\u001b[K     |█████████████████████▏          | 51kB 3.9MB/s eta 0:00:01\r\u001b[K     |█████████████████████████▍      | 61kB 4.6MB/s eta 0:00:01\r\u001b[K     |█████████████████████████████▋  | 71kB 5.1MB/s eta 0:00:01\r\u001b[K     |████████████████████████████████| 81kB 4.1MB/s \n",
            "\u001b[?25hInstalling collected packages: patool\n",
            "Successfully installed patool-1.12\n"
          ],
          "name": "stdout"
        }
      ]
    },
    {
      "cell_type": "code",
      "metadata": {
        "id": "NpSYEz9uXSXz",
        "colab_type": "code",
        "colab": {
          "base_uri": "https://localhost:8080/",
          "height": 102
        },
        "outputId": "d79d569f-1ccb-4d7c-f097-d7a0d8332c11"
      },
      "source": [
        "import patoolib\n",
        "patoolib.extract_archive(\"images_racoon.rar\")\n"
      ],
      "execution_count": 17,
      "outputs": [
        {
          "output_type": "stream",
          "text": [
            "patool: Extracting images_racoon.rar ...\n",
            "patool: running /usr/bin/unrar x -- \"/content/drive/My Drive/Internal Lab 9/images_racoon.rar\"\n",
            "patool:     with cwd='./Unpack_ui5hg45k'\n",
            "patool: ... images_racoon.rar extracted to `images'.\n"
          ],
          "name": "stdout"
        },
        {
          "output_type": "execute_result",
          "data": {
            "text/plain": [
              "'images'"
            ]
          },
          "metadata": {
            "tags": []
          },
          "execution_count": 17
        }
      ]
    },
    {
      "cell_type": "markdown",
      "metadata": {
        "colab_type": "text",
        "id": "axf5m10eWGis"
      },
      "source": [
        "### Declare a variable IMAGE_SIZE = 128 as we will be using MobileNet which will be taking Input shape as 128 * 128 "
      ]
    },
    {
      "cell_type": "code",
      "metadata": {
        "colab_type": "code",
        "id": "7ayEk2c9WGit",
        "colab": {}
      },
      "source": [
        "IMAGE_SIZE  = 128"
      ],
      "execution_count": 0,
      "outputs": []
    },
    {
      "cell_type": "markdown",
      "metadata": {
        "colab_type": "text",
        "id": "wbrrYb5IWGix"
      },
      "source": [
        "### With the help of csv.reader write a for loop which can load the train.csv file and store the path, width, height, x0,y0,x1,y1 in induvidual variables. <br>\n",
        "1. Create a list variable known as 'path' which has all the path for all the training images\n",
        "2. Create an array 'coords' which has the resized coordinates of the bounding box for the training images\n",
        "\n",
        "<u>Note:</u> All the training images should be downsampled to 128 * 128 as it is the input shape of MobileNet (which we will be using for Object detection). Hence the corresponding coordinates of the bounding boxes should be changed to match the image dimension of 128 * 128 "
      ]
    },
    {
      "cell_type": "code",
      "metadata": {
        "colab_type": "code",
        "id": "twSTiPpRWGiy",
        "colab": {}
      },
      "source": [
        "import csv\n",
        "TRAIN_CSV = \"train_labels.csv\"\n",
        "with open(TRAIN_CSV, 'r') as csvfile:\n",
        "    paths = []\n",
        "    coords = np.zeros((sum(1 for line in csvfile)-1, 4))\n",
        "    reader = csv.reader(csvfile, delimiter=',')\n",
        "    csvfile.seek(0)\n",
        "    next(reader)\n",
        "    for col, row in enumerate(reader):\n",
        "               \n",
        "        #for i, r in enumerate(row[1:7]): # Parse row with seven entities\n",
        "        #    row[i+1] = int(r)\n",
        "              \n",
        "        path, image_width, image_height,_, x0, y0, x1, y1 = row  \n",
        "        path = \"/content/drive/My Drive/Internal Lab 9/images/\" + path\n",
        "        coords[col, 0] = int(x0) * IMAGE_SIZE / int(image_width) # Normalize bounding box by image size\n",
        "        coords[col, 1] = int(y0) * IMAGE_SIZE / int(image_height) # Normalize bounding box by image size\n",
        "        coords[col, 2] = (int(x1) - int(x0)) * IMAGE_SIZE / int(image_width) # Normalize bounding box by image size\n",
        "        coords[col, 3] = (int(y1) - int(y0)) * IMAGE_SIZE / int(image_height)\n",
        "        paths.append(path)\n",
        "\n",
        "        \n",
        "          "
      ],
      "execution_count": 0,
      "outputs": []
    },
    {
      "cell_type": "markdown",
      "metadata": {
        "colab_type": "text",
        "id": "Z9iZWEpKWGi2"
      },
      "source": [
        "### Write a for loop which can load all the training images into a variable 'batch_images' using the paths from the 'paths' variable\n",
        "<u>Note:</u> Convert the image to RGB scale as the MobileNet accepts 3 channels as inputs   "
      ]
    },
    {
      "cell_type": "code",
      "metadata": {
        "id": "CgSMZOAnbRM5",
        "colab_type": "code",
        "colab": {}
      },
      "source": [
        "# IMPORT LIBRARIES AND PACKAGES\n",
        "import tensorflow as tf\n",
        "import csv\n",
        "import numpy as np\n",
        "from PIL import Image\n",
        "\n",
        "from tensorflow.keras import Model, Sequential\n",
        "from tensorflow.keras.applications.mobilenet import MobileNet, preprocess_input #restructure the dimensions of image - to batch processing dimnesions\n",
        "from tensorflow.keras.callbacks import ModelCheckpoint, EarlyStopping, ReduceLROnPlateau, Callback\n",
        "from tensorflow.keras.layers import Conv2D, Reshape\n",
        "from tensorflow.keras.utils import Sequence\n",
        "from tensorflow.keras.backend import epsilon"
      ],
      "execution_count": 0,
      "outputs": []
    },
    {
      "cell_type": "code",
      "metadata": {
        "colab_type": "code",
        "id": "h6e99qquWGi3",
        "colab": {}
      },
      "source": [
        "\n",
        "batch_images = np.zeros((len(paths), IMAGE_SIZE, IMAGE_SIZE, 3), dtype=np.float32)\n",
        "for i, f in enumerate(paths):\n",
        "    img = Image.open(f) # Read image\n",
        "    img = img.resize((IMAGE_SIZE, IMAGE_SIZE)) # Resize image\n",
        "    img = img.convert('RGB')\n",
        "    batch_images[i] = preprocess_input(np.array(img, dtype=np.float32))"
      ],
      "execution_count": 0,
      "outputs": []
    },
    {
      "cell_type": "markdown",
      "metadata": {
        "colab_type": "text",
        "id": "C9KU6pUTWGi9"
      },
      "source": [
        "### Import MobileNet and load MobileNet into a variable named 'model' which takes input shape of 128 * 128 * 3. Freeze all the layers. Add convolution and reshape layers at the end to ensure the output is 4 coordinates"
      ]
    },
    {
      "cell_type": "code",
      "metadata": {
        "colab_type": "code",
        "id": "nosEtf1lWGi-",
        "colab": {
          "base_uri": "https://localhost:8080/",
          "height": 51
        },
        "outputId": "c954eb49-e25f-450e-b9dd-36f812a1e501"
      },
      "source": [
        "ALPHA = 1.0\n",
        "model = MobileNet(input_shape=(IMAGE_SIZE, IMAGE_SIZE, 3), include_top=False, alpha=ALPHA) # Load pre-trained mobilenet\n",
        "# Do not include classification (top) layer\n",
        "\n",
        "# to freeze layers, except the new top layer, of course, which will be added below\n",
        "for layer in model.layers:\n",
        "    layer.trainable = False\n",
        "\n",
        "# Add new top layer which is a conv layer of the same size as the previous layer so that only 4 coords of BBox can be output\n",
        "x = model.layers[-1].output\n",
        "x = Conv2D(4, kernel_size=4, name=\"coords\")(x)\n",
        "# In the line above kernel size should be 3 for img size 96, 4 for img size 128, 5 for img size 160 etc.\n",
        "x = Reshape((4,))(x) # These are the 4 predicted coordinates of one BBox\n",
        "\n",
        "model = Model(inputs=model.input, outputs=x)"
      ],
      "execution_count": 31,
      "outputs": [
        {
          "output_type": "stream",
          "text": [
            "Downloading data from https://github.com/fchollet/deep-learning-models/releases/download/v0.6/mobilenet_1_0_128_tf_no_top.h5\n",
            "17227776/17225924 [==============================] - 1s 0us/step\n"
          ],
          "name": "stdout"
        }
      ]
    },
    {
      "cell_type": "markdown",
      "metadata": {
        "colab_type": "text",
        "id": "nsQSHWgpWGjC"
      },
      "source": [
        "### Define a custom loss function IoU which calculates Intersection Over Union"
      ]
    },
    {
      "cell_type": "code",
      "metadata": {
        "colab_type": "code",
        "id": "7Ig_Gsn-WGjD",
        "colab": {}
      },
      "source": [
        "gt = coords\n",
        "def loss(gt,pred):\n",
        "    intersections = 0\n",
        "    unions = 0\n",
        "    diff_width = np.minimum(gt[:,0] + gt[:,2], pred[:,0] + pred[:,2]) - np.maximum(gt[:,0], pred[:,0])\n",
        "    diff_height = np.minimum(gt[:,1] + gt[:,3], pred[:,1] + pred[:,3]) - np.maximum(gt[:,1], pred[:,1])\n",
        "    intersection = diff_width * diff_height\n",
        "    \n",
        "    # Compute union\n",
        "    area_gt = gt[:,2] * gt[:,3]\n",
        "    area_pred = pred[:,2] * pred[:,3]\n",
        "    union = area_gt + area_pred - intersection\n",
        "\n",
        "#     Compute intersection and union over multiple boxes\n",
        "    for j, _ in enumerate(union):\n",
        "        if union[j] > 0 and intersection[j] > 0 and union[j] >= intersection[j]:\n",
        "            intersections += intersection[j]\n",
        "            unions += union[j]\n",
        "\n",
        "    # Compute IOU. Use epsilon to prevent division by zero\n",
        "    iou = np.round(intersections / (unions + epsilon()), 4)\n",
        "    iou = iou.astype(np.float32)\n",
        "    return iou\n",
        "\n",
        "def IoU(y_true, y_pred):\n",
        "    iou = tf.compat.v1.py_func(loss, [y_true, y_pred], tf.float32)\n",
        "    return iou"
      ],
      "execution_count": 0,
      "outputs": []
    },
    {
      "cell_type": "markdown",
      "metadata": {
        "colab_type": "text",
        "id": "2Zs7VcSVWGjF"
      },
      "source": [
        "### Write model.compile function & model.fit function with: <br>\n",
        "1. Optimizer = Adam, Loss = 'mse' and metrics = IoU\n",
        "2. Epochs = 30, batch_size = 32, verbose = 1"
      ]
    },
    {
      "cell_type": "code",
      "metadata": {
        "colab_type": "code",
        "id": "f35dLEJlWGjG",
        "colab": {
          "base_uri": "https://localhost:8080/",
          "height": 1000
        },
        "outputId": "040aa3eb-1ac1-40a9-fd7a-69356db2af33"
      },
      "source": [
        "model.compile(optimizer='Adam', loss='mse', metrics=[IoU]) # Regression loss is MSE\n",
        "\n",
        "#checkpoint = ModelCheckpoint(\"model-{val_iou:.2f}.h5\", verbose=1, save_best_only=True,\n",
        "#                              save_weights_only=True, mode=\"max\", period=1) # Checkpoint best validation model\n",
        "#stop = EarlyStopping(monitor=\"val_iou\", patience=PATIENCE, mode=\"max\") # Stop early, if the validation error deteriorates\n",
        "#reduce_lr = ReduceLROnPlateau(monitor=\"val_iou\", factor=0.2, patience=10, min_lr=1e-7, verbose=1, mode=\"max\")\n",
        "# Reduce learning rate if Validation IOU does not improve\n",
        "\n",
        "model.fit(batch_images,gt,\n",
        "            epochs=30,batch_size = 32,\n",
        "            verbose=1)"
      ],
      "execution_count": 37,
      "outputs": [
        {
          "output_type": "stream",
          "text": [
            "Train on 173 samples\n",
            "Epoch 1/30\n",
            "173/173 [==============================] - 5s 26ms/sample - loss: 2831.4633 - IoU: 0.0994\n",
            "Epoch 2/30\n",
            "173/173 [==============================] - 3s 18ms/sample - loss: 661.6865 - IoU: 0.4473\n",
            "Epoch 3/30\n",
            "173/173 [==============================] - 3s 18ms/sample - loss: 652.0497 - IoU: 0.5209\n",
            "Epoch 4/30\n",
            "173/173 [==============================] - 3s 18ms/sample - loss: 560.1144 - IoU: 0.5267\n",
            "Epoch 5/30\n",
            "173/173 [==============================] - 3s 18ms/sample - loss: 340.9420 - IoU: 0.5884\n",
            "Epoch 6/30\n",
            "173/173 [==============================] - 3s 19ms/sample - loss: 293.7774 - IoU: 0.5637\n",
            "Epoch 7/30\n",
            "173/173 [==============================] - 3s 19ms/sample - loss: 248.7618 - IoU: 0.5983\n",
            "Epoch 8/30\n",
            "173/173 [==============================] - 3s 19ms/sample - loss: 194.1747 - IoU: 0.6607\n",
            "Epoch 9/30\n",
            "173/173 [==============================] - 3s 19ms/sample - loss: 171.6479 - IoU: 0.6841\n",
            "Epoch 10/30\n",
            "173/173 [==============================] - 3s 18ms/sample - loss: 150.9486 - IoU: 0.7032\n",
            "Epoch 11/30\n",
            "173/173 [==============================] - 3s 18ms/sample - loss: 124.2931 - IoU: 0.7247\n",
            "Epoch 12/30\n",
            "173/173 [==============================] - 3s 19ms/sample - loss: 116.4856 - IoU: 0.7360\n",
            "Epoch 13/30\n",
            "173/173 [==============================] - 3s 19ms/sample - loss: 104.4973 - IoU: 0.7488\n",
            "Epoch 14/30\n",
            "173/173 [==============================] - 3s 19ms/sample - loss: 97.7874 - IoU: 0.7635\n",
            "Epoch 15/30\n",
            "173/173 [==============================] - 3s 19ms/sample - loss: 94.9780 - IoU: 0.7694\n",
            "Epoch 16/30\n",
            "173/173 [==============================] - 3s 18ms/sample - loss: 85.1015 - IoU: 0.7785\n",
            "Epoch 17/30\n",
            "173/173 [==============================] - 3s 18ms/sample - loss: 93.5420 - IoU: 0.7622\n",
            "Epoch 18/30\n",
            "173/173 [==============================] - 3s 18ms/sample - loss: 87.4284 - IoU: 0.7731\n",
            "Epoch 19/30\n",
            "173/173 [==============================] - 3s 18ms/sample - loss: 73.4543 - IoU: 0.7996\n",
            "Epoch 20/30\n",
            "173/173 [==============================] - 3s 18ms/sample - loss: 73.9495 - IoU: 0.7908\n",
            "Epoch 21/30\n",
            "173/173 [==============================] - 3s 18ms/sample - loss: 74.3329 - IoU: 0.8012\n",
            "Epoch 22/30\n",
            "173/173 [==============================] - 3s 18ms/sample - loss: 66.9161 - IoU: 0.8154\n",
            "Epoch 23/30\n",
            "173/173 [==============================] - 3s 19ms/sample - loss: 66.2639 - IoU: 0.8160\n",
            "Epoch 24/30\n",
            "173/173 [==============================] - 3s 19ms/sample - loss: 67.8230 - IoU: 0.8026\n",
            "Epoch 25/30\n",
            "173/173 [==============================] - 3s 18ms/sample - loss: 60.1468 - IoU: 0.8286\n",
            "Epoch 26/30\n",
            "173/173 [==============================] - 3s 19ms/sample - loss: 65.1173 - IoU: 0.8173\n",
            "Epoch 27/30\n",
            "173/173 [==============================] - 3s 18ms/sample - loss: 65.5409 - IoU: 0.8194\n",
            "Epoch 28/30\n",
            "173/173 [==============================] - 3s 18ms/sample - loss: 64.3422 - IoU: 0.8140\n",
            "Epoch 29/30\n",
            "173/173 [==============================] - 3s 18ms/sample - loss: 62.5809 - IoU: 0.8077\n",
            "Epoch 30/30\n",
            "173/173 [==============================] - 3s 18ms/sample - loss: 64.2789 - IoU: 0.8130\n"
          ],
          "name": "stdout"
        },
        {
          "output_type": "execute_result",
          "data": {
            "text/plain": [
              "<tensorflow.python.keras.callbacks.History at 0x7f7f8e8889b0>"
            ]
          },
          "metadata": {
            "tags": []
          },
          "execution_count": 37
        }
      ]
    },
    {
      "cell_type": "code",
      "metadata": {
        "id": "QpvmEOT7qaIl",
        "colab_type": "code",
        "colab": {
          "base_uri": "https://localhost:8080/",
          "height": 1000
        },
        "outputId": "3881a715-a8f9-40a3-dd33-b29f27a46224"
      },
      "source": [
        "model.summary()"
      ],
      "execution_count": 71,
      "outputs": [
        {
          "output_type": "stream",
          "text": [
            "Model: \"model\"\n",
            "_________________________________________________________________\n",
            "Layer (type)                 Output Shape              Param #   \n",
            "=================================================================\n",
            "input_1 (InputLayer)         [(None, 128, 128, 3)]     0         \n",
            "_________________________________________________________________\n",
            "conv1_pad (ZeroPadding2D)    (None, 129, 129, 3)       0         \n",
            "_________________________________________________________________\n",
            "conv1 (Conv2D)               (None, 64, 64, 32)        864       \n",
            "_________________________________________________________________\n",
            "conv1_bn (BatchNormalization (None, 64, 64, 32)        128       \n",
            "_________________________________________________________________\n",
            "conv1_relu (ReLU)            (None, 64, 64, 32)        0         \n",
            "_________________________________________________________________\n",
            "conv_dw_1 (DepthwiseConv2D)  (None, 64, 64, 32)        288       \n",
            "_________________________________________________________________\n",
            "conv_dw_1_bn (BatchNormaliza (None, 64, 64, 32)        128       \n",
            "_________________________________________________________________\n",
            "conv_dw_1_relu (ReLU)        (None, 64, 64, 32)        0         \n",
            "_________________________________________________________________\n",
            "conv_pw_1 (Conv2D)           (None, 64, 64, 64)        2048      \n",
            "_________________________________________________________________\n",
            "conv_pw_1_bn (BatchNormaliza (None, 64, 64, 64)        256       \n",
            "_________________________________________________________________\n",
            "conv_pw_1_relu (ReLU)        (None, 64, 64, 64)        0         \n",
            "_________________________________________________________________\n",
            "conv_pad_2 (ZeroPadding2D)   (None, 65, 65, 64)        0         \n",
            "_________________________________________________________________\n",
            "conv_dw_2 (DepthwiseConv2D)  (None, 32, 32, 64)        576       \n",
            "_________________________________________________________________\n",
            "conv_dw_2_bn (BatchNormaliza (None, 32, 32, 64)        256       \n",
            "_________________________________________________________________\n",
            "conv_dw_2_relu (ReLU)        (None, 32, 32, 64)        0         \n",
            "_________________________________________________________________\n",
            "conv_pw_2 (Conv2D)           (None, 32, 32, 128)       8192      \n",
            "_________________________________________________________________\n",
            "conv_pw_2_bn (BatchNormaliza (None, 32, 32, 128)       512       \n",
            "_________________________________________________________________\n",
            "conv_pw_2_relu (ReLU)        (None, 32, 32, 128)       0         \n",
            "_________________________________________________________________\n",
            "conv_dw_3 (DepthwiseConv2D)  (None, 32, 32, 128)       1152      \n",
            "_________________________________________________________________\n",
            "conv_dw_3_bn (BatchNormaliza (None, 32, 32, 128)       512       \n",
            "_________________________________________________________________\n",
            "conv_dw_3_relu (ReLU)        (None, 32, 32, 128)       0         \n",
            "_________________________________________________________________\n",
            "conv_pw_3 (Conv2D)           (None, 32, 32, 128)       16384     \n",
            "_________________________________________________________________\n",
            "conv_pw_3_bn (BatchNormaliza (None, 32, 32, 128)       512       \n",
            "_________________________________________________________________\n",
            "conv_pw_3_relu (ReLU)        (None, 32, 32, 128)       0         \n",
            "_________________________________________________________________\n",
            "conv_pad_4 (ZeroPadding2D)   (None, 33, 33, 128)       0         \n",
            "_________________________________________________________________\n",
            "conv_dw_4 (DepthwiseConv2D)  (None, 16, 16, 128)       1152      \n",
            "_________________________________________________________________\n",
            "conv_dw_4_bn (BatchNormaliza (None, 16, 16, 128)       512       \n",
            "_________________________________________________________________\n",
            "conv_dw_4_relu (ReLU)        (None, 16, 16, 128)       0         \n",
            "_________________________________________________________________\n",
            "conv_pw_4 (Conv2D)           (None, 16, 16, 256)       32768     \n",
            "_________________________________________________________________\n",
            "conv_pw_4_bn (BatchNormaliza (None, 16, 16, 256)       1024      \n",
            "_________________________________________________________________\n",
            "conv_pw_4_relu (ReLU)        (None, 16, 16, 256)       0         \n",
            "_________________________________________________________________\n",
            "conv_dw_5 (DepthwiseConv2D)  (None, 16, 16, 256)       2304      \n",
            "_________________________________________________________________\n",
            "conv_dw_5_bn (BatchNormaliza (None, 16, 16, 256)       1024      \n",
            "_________________________________________________________________\n",
            "conv_dw_5_relu (ReLU)        (None, 16, 16, 256)       0         \n",
            "_________________________________________________________________\n",
            "conv_pw_5 (Conv2D)           (None, 16, 16, 256)       65536     \n",
            "_________________________________________________________________\n",
            "conv_pw_5_bn (BatchNormaliza (None, 16, 16, 256)       1024      \n",
            "_________________________________________________________________\n",
            "conv_pw_5_relu (ReLU)        (None, 16, 16, 256)       0         \n",
            "_________________________________________________________________\n",
            "conv_pad_6 (ZeroPadding2D)   (None, 17, 17, 256)       0         \n",
            "_________________________________________________________________\n",
            "conv_dw_6 (DepthwiseConv2D)  (None, 8, 8, 256)         2304      \n",
            "_________________________________________________________________\n",
            "conv_dw_6_bn (BatchNormaliza (None, 8, 8, 256)         1024      \n",
            "_________________________________________________________________\n",
            "conv_dw_6_relu (ReLU)        (None, 8, 8, 256)         0         \n",
            "_________________________________________________________________\n",
            "conv_pw_6 (Conv2D)           (None, 8, 8, 512)         131072    \n",
            "_________________________________________________________________\n",
            "conv_pw_6_bn (BatchNormaliza (None, 8, 8, 512)         2048      \n",
            "_________________________________________________________________\n",
            "conv_pw_6_relu (ReLU)        (None, 8, 8, 512)         0         \n",
            "_________________________________________________________________\n",
            "conv_dw_7 (DepthwiseConv2D)  (None, 8, 8, 512)         4608      \n",
            "_________________________________________________________________\n",
            "conv_dw_7_bn (BatchNormaliza (None, 8, 8, 512)         2048      \n",
            "_________________________________________________________________\n",
            "conv_dw_7_relu (ReLU)        (None, 8, 8, 512)         0         \n",
            "_________________________________________________________________\n",
            "conv_pw_7 (Conv2D)           (None, 8, 8, 512)         262144    \n",
            "_________________________________________________________________\n",
            "conv_pw_7_bn (BatchNormaliza (None, 8, 8, 512)         2048      \n",
            "_________________________________________________________________\n",
            "conv_pw_7_relu (ReLU)        (None, 8, 8, 512)         0         \n",
            "_________________________________________________________________\n",
            "conv_dw_8 (DepthwiseConv2D)  (None, 8, 8, 512)         4608      \n",
            "_________________________________________________________________\n",
            "conv_dw_8_bn (BatchNormaliza (None, 8, 8, 512)         2048      \n",
            "_________________________________________________________________\n",
            "conv_dw_8_relu (ReLU)        (None, 8, 8, 512)         0         \n",
            "_________________________________________________________________\n",
            "conv_pw_8 (Conv2D)           (None, 8, 8, 512)         262144    \n",
            "_________________________________________________________________\n",
            "conv_pw_8_bn (BatchNormaliza (None, 8, 8, 512)         2048      \n",
            "_________________________________________________________________\n",
            "conv_pw_8_relu (ReLU)        (None, 8, 8, 512)         0         \n",
            "_________________________________________________________________\n",
            "conv_dw_9 (DepthwiseConv2D)  (None, 8, 8, 512)         4608      \n",
            "_________________________________________________________________\n",
            "conv_dw_9_bn (BatchNormaliza (None, 8, 8, 512)         2048      \n",
            "_________________________________________________________________\n",
            "conv_dw_9_relu (ReLU)        (None, 8, 8, 512)         0         \n",
            "_________________________________________________________________\n",
            "conv_pw_9 (Conv2D)           (None, 8, 8, 512)         262144    \n",
            "_________________________________________________________________\n",
            "conv_pw_9_bn (BatchNormaliza (None, 8, 8, 512)         2048      \n",
            "_________________________________________________________________\n",
            "conv_pw_9_relu (ReLU)        (None, 8, 8, 512)         0         \n",
            "_________________________________________________________________\n",
            "conv_dw_10 (DepthwiseConv2D) (None, 8, 8, 512)         4608      \n",
            "_________________________________________________________________\n",
            "conv_dw_10_bn (BatchNormaliz (None, 8, 8, 512)         2048      \n",
            "_________________________________________________________________\n",
            "conv_dw_10_relu (ReLU)       (None, 8, 8, 512)         0         \n",
            "_________________________________________________________________\n",
            "conv_pw_10 (Conv2D)          (None, 8, 8, 512)         262144    \n",
            "_________________________________________________________________\n",
            "conv_pw_10_bn (BatchNormaliz (None, 8, 8, 512)         2048      \n",
            "_________________________________________________________________\n",
            "conv_pw_10_relu (ReLU)       (None, 8, 8, 512)         0         \n",
            "_________________________________________________________________\n",
            "conv_dw_11 (DepthwiseConv2D) (None, 8, 8, 512)         4608      \n",
            "_________________________________________________________________\n",
            "conv_dw_11_bn (BatchNormaliz (None, 8, 8, 512)         2048      \n",
            "_________________________________________________________________\n",
            "conv_dw_11_relu (ReLU)       (None, 8, 8, 512)         0         \n",
            "_________________________________________________________________\n",
            "conv_pw_11 (Conv2D)          (None, 8, 8, 512)         262144    \n",
            "_________________________________________________________________\n",
            "conv_pw_11_bn (BatchNormaliz (None, 8, 8, 512)         2048      \n",
            "_________________________________________________________________\n",
            "conv_pw_11_relu (ReLU)       (None, 8, 8, 512)         0         \n",
            "_________________________________________________________________\n",
            "conv_pad_12 (ZeroPadding2D)  (None, 9, 9, 512)         0         \n",
            "_________________________________________________________________\n",
            "conv_dw_12 (DepthwiseConv2D) (None, 4, 4, 512)         4608      \n",
            "_________________________________________________________________\n",
            "conv_dw_12_bn (BatchNormaliz (None, 4, 4, 512)         2048      \n",
            "_________________________________________________________________\n",
            "conv_dw_12_relu (ReLU)       (None, 4, 4, 512)         0         \n",
            "_________________________________________________________________\n",
            "conv_pw_12 (Conv2D)          (None, 4, 4, 1024)        524288    \n",
            "_________________________________________________________________\n",
            "conv_pw_12_bn (BatchNormaliz (None, 4, 4, 1024)        4096      \n",
            "_________________________________________________________________\n",
            "conv_pw_12_relu (ReLU)       (None, 4, 4, 1024)        0         \n",
            "_________________________________________________________________\n",
            "conv_dw_13 (DepthwiseConv2D) (None, 4, 4, 1024)        9216      \n",
            "_________________________________________________________________\n",
            "conv_dw_13_bn (BatchNormaliz (None, 4, 4, 1024)        4096      \n",
            "_________________________________________________________________\n",
            "conv_dw_13_relu (ReLU)       (None, 4, 4, 1024)        0         \n",
            "_________________________________________________________________\n",
            "conv_pw_13 (Conv2D)          (None, 4, 4, 1024)        1048576   \n",
            "_________________________________________________________________\n",
            "conv_pw_13_bn (BatchNormaliz (None, 4, 4, 1024)        4096      \n",
            "_________________________________________________________________\n",
            "conv_pw_13_relu (ReLU)       (None, 4, 4, 1024)        0         \n",
            "_________________________________________________________________\n",
            "coords (Conv2D)              (None, 1, 1, 4)           65540     \n",
            "_________________________________________________________________\n",
            "reshape (Reshape)            (None, 4)                 0         \n",
            "=================================================================\n",
            "Total params: 3,294,404\n",
            "Trainable params: 65,540\n",
            "Non-trainable params: 3,228,864\n",
            "_________________________________________________________________\n"
          ],
          "name": "stdout"
        }
      ]
    },
    {
      "cell_type": "markdown",
      "metadata": {
        "colab_type": "text",
        "id": "II1itmqiWGjK"
      },
      "source": [
        "### Pick a test image from the given data"
      ]
    },
    {
      "cell_type": "code",
      "metadata": {
        "colab_type": "code",
        "id": "0ULErYeSWGjK",
        "colab": {}
      },
      "source": [
        "# Pick a test image, run model, show image, and show predicted bounding box overlaid on the image\n",
        "import cv2\n",
        "filename = './images/raccoon-1.jpg'\n",
        "unscaled = cv2.imread(filename) # Original image for display"
      ],
      "execution_count": 0,
      "outputs": []
    },
    {
      "cell_type": "markdown",
      "metadata": {
        "colab_type": "text",
        "id": "h99SC9MjWGjO"
      },
      "source": [
        "### Resize the image to 128 * 128 and preprocess the image for the MobileNet model"
      ]
    },
    {
      "cell_type": "code",
      "metadata": {
        "colab_type": "code",
        "id": "J3jbKm7_WGjP",
        "colab": {}
      },
      "source": [
        "image_height, image_width, _ = unscaled.shape\n",
        "image = cv2.resize(unscaled, (IMAGE_SIZE, IMAGE_SIZE)) # Rescaled image to run the network\n",
        "feat_scaled = preprocess_input(np.array(image, dtype=np.float32))"
      ],
      "execution_count": 0,
      "outputs": []
    },
    {
      "cell_type": "markdown",
      "metadata": {
        "colab_type": "text",
        "id": "aGK4IjdaWGjR"
      },
      "source": [
        "### Predict the coordinates of the bounding box for the given test image"
      ]
    },
    {
      "cell_type": "code",
      "metadata": {
        "colab_type": "code",
        "id": "abnXH5F7WGjS",
        "colab": {}
      },
      "source": [
        "region = model.predict(x=np.array([feat_scaled]))[0] # Predict the BBox"
      ],
      "execution_count": 0,
      "outputs": []
    },
    {
      "cell_type": "markdown",
      "metadata": {
        "colab_type": "text",
        "id": "CXbjVdLWWGjW"
      },
      "source": [
        "### Plot the test image using .imshow and draw a boundary box around the image with the coordinates obtained from the model"
      ]
    },
    {
      "cell_type": "code",
      "metadata": {
        "colab_type": "code",
        "id": "t4Ah05MlWGjY",
        "colab": {
          "base_uri": "https://localhost:8080/",
          "height": 266
        },
        "outputId": "963b5324-1038-4416-c6cf-7e1e4d375f06"
      },
      "source": [
        "x0 = int(region[0] * image_width / IMAGE_SIZE) # Scale the BBox\n",
        "y0 = int(region[1] * image_height / IMAGE_SIZE)\n",
        "\n",
        "x1 = int((region[2]) * image_width / IMAGE_SIZE)\n",
        "y1 = int((region[3]) * image_height / IMAGE_SIZE)\n",
        "\n",
        "\n",
        "import matplotlib.pyplot as plt\n",
        "import matplotlib.patches as patches\n",
        "from PIL import Image\n",
        "import numpy as np\n",
        "\n",
        "\n",
        "# Create figure and axes\n",
        "fig,ax = plt.subplots(1)\n",
        "\n",
        "# Display the image\n",
        "ax.imshow(unscaled)\n",
        "\n",
        "# Create a Rectangle patch\n",
        "rect = patches.Rectangle((x0, y0), (x1 - x0) , (y1 - y0) , linewidth=2, edgecolor='r', facecolor='none')\n",
        "\n",
        "# Add the patch to the Axes\n",
        "ax.add_patch(rect)\n",
        "\n",
        "plt.show()"
      ],
      "execution_count": 41,
      "outputs": [
        {
          "output_type": "display_data",
          "data": {
            "image/png": "[encoded data removed]",
            "text/plain": [
              "<Figure size 432x288 with 1 Axes>"
            ]
          },
          "metadata": {
            "tags": []
          }
        }
      ]
    },
    {
      "cell_type": "markdown",
      "metadata": {
        "id": "70uye82rMg3S",
        "colab_type": "text"
      },
      "source": [
        "# Time Series Prediction using LSTM"
      ]
    },
    {
      "cell_type": "markdown",
      "metadata": {
        "id": "CBdggSYjMg3U",
        "colab_type": "text"
      },
      "source": [
        "### Download Data\n",
        "Link: https://datamarket.com/data/set/2324/daily-minimum-temperatures-in-melbourne-australia-1981-1990#!ds=2324&display=line\n",
        "\n",
        "#### Description\n",
        "Daily minimum temperatures in Melbourne, Australia, 1981-1990\n",
        "\n",
        "Units: Degrees Celcius\n",
        "\n",
        "#### Steps before loading\n",
        "- Rename the column name with temprature values to \"Temprature\"\n",
        "- In the last, there is one extra row in the data, remove it by opening the file and save it again.\n",
        "- There are some values in Temprature column which have a \"?\" before them, they will give error, remove \"?\" before them and save the file\n",
        "- If you don't want to do these steps, just load the data file given by Great Learning."
      ]
    },
    {
      "cell_type": "markdown",
      "metadata": {
        "id": "xXaEyK4qMg3W",
        "colab_type": "text"
      },
      "source": [
        "#### Mount google drive"
      ]
    },
    {
      "cell_type": "code",
      "metadata": {
        "colab_type": "code",
        "id": "VjoLRSg57qlt",
        "colab": {}
      },
      "source": [
        "#Google drive mounted above "
      ],
      "execution_count": 0,
      "outputs": []
    },
    {
      "cell_type": "markdown",
      "metadata": {
        "id": "BghKtCKlMg3b",
        "colab_type": "text"
      },
      "source": [
        "#### Change your present working directory"
      ]
    },
    {
      "cell_type": "code",
      "metadata": {
        "id": "JOYCPgwJMg3c",
        "colab_type": "code",
        "colab": {}
      },
      "source": [
        "#Directory is changed to present one "
      ],
      "execution_count": 0,
      "outputs": []
    },
    {
      "cell_type": "markdown",
      "metadata": {
        "id": "UMP39JKEMg3f",
        "colab_type": "text"
      },
      "source": [
        "### Load your data file"
      ]
    },
    {
      "cell_type": "code",
      "metadata": {
        "colab_type": "code",
        "id": "AanHqGBu7Jw2",
        "colab": {}
      },
      "source": [
        "temp = pd.read_csv(\"daily-minimum-temperatures-in-me.csv\",index_col='Date')"
      ],
      "execution_count": 0,
      "outputs": []
    },
    {
      "cell_type": "code",
      "metadata": {
        "id": "lcPP9PqXiddm",
        "colab_type": "code",
        "colab": {
          "base_uri": "https://localhost:8080/",
          "height": 34
        },
        "outputId": "13ecc793-b8d4-4b96-a7ed-e1da3f7c97c9"
      },
      "source": [
        "temp.shape"
      ],
      "execution_count": 82,
      "outputs": [
        {
          "output_type": "execute_result",
          "data": {
            "text/plain": [
              "(3650, 1)"
            ]
          },
          "metadata": {
            "tags": []
          },
          "execution_count": 82
        }
      ]
    },
    {
      "cell_type": "code",
      "metadata": {
        "id": "5oFhA4gnijm9",
        "colab_type": "code",
        "colab": {
          "base_uri": "https://localhost:8080/",
          "height": 235
        },
        "outputId": "4e82ebfd-3e49-4aad-8190-52cecc0eab0e"
      },
      "source": [
        "temp.head()"
      ],
      "execution_count": 83,
      "outputs": [
        {
          "output_type": "execute_result",
          "data": {
            "text/html": [
              "<div>\n",
              "<style scoped>\n",
              "    .dataframe tbody tr th:only-of-type {\n",
              "        vertical-align: middle;\n",
              "    }\n",
              "\n",
              "    .dataframe tbody tr th {\n",
              "        vertical-align: top;\n",
              "    }\n",
              "\n",
              "    .dataframe thead th {\n",
              "        text-align: right;\n",
              "    }\n",
              "</style>\n",
              "<table border=\"1\" class=\"dataframe\">\n",
              "  <thead>\n",
              "    <tr style=\"text-align: right;\">\n",
              "      <th></th>\n",
              "      <th>Temperature</th>\n",
              "    </tr>\n",
              "    <tr>\n",
              "      <th>Date</th>\n",
              "      <th></th>\n",
              "    </tr>\n",
              "  </thead>\n",
              "  <tbody>\n",
              "    <tr>\n",
              "      <th>1981-01-01</th>\n",
              "      <td>20.7</td>\n",
              "    </tr>\n",
              "    <tr>\n",
              "      <th>1981-01-02</th>\n",
              "      <td>17.9</td>\n",
              "    </tr>\n",
              "    <tr>\n",
              "      <th>1981-01-03</th>\n",
              "      <td>18.8</td>\n",
              "    </tr>\n",
              "    <tr>\n",
              "      <th>1981-01-04</th>\n",
              "      <td>14.6</td>\n",
              "    </tr>\n",
              "    <tr>\n",
              "      <th>1981-01-05</th>\n",
              "      <td>15.8</td>\n",
              "    </tr>\n",
              "  </tbody>\n",
              "</table>\n",
              "</div>"
            ],
            "text/plain": [
              "            Temperature\n",
              "Date                   \n",
              "1981-01-01         20.7\n",
              "1981-01-02         17.9\n",
              "1981-01-03         18.8\n",
              "1981-01-04         14.6\n",
              "1981-01-05         15.8"
            ]
          },
          "metadata": {
            "tags": []
          },
          "execution_count": 83
        }
      ]
    },
    {
      "cell_type": "markdown",
      "metadata": {
        "id": "EAfx3bsQMg3j",
        "colab_type": "text"
      },
      "source": [
        "#### Plot data"
      ]
    },
    {
      "cell_type": "code",
      "metadata": {
        "id": "REU4UapqMg3k",
        "colab_type": "code",
        "colab": {
          "base_uri": "https://localhost:8080/",
          "height": 296
        },
        "outputId": "2cff78a3-2168-46c7-9c56-8dc32799e631"
      },
      "source": [
        "import seaborn as sns\n",
        "sns.distplot(temp.Temperature)"
      ],
      "execution_count": 84,
      "outputs": [
        {
          "output_type": "execute_result",
          "data": {
            "text/plain": [
              "<matplotlib.axes._subplots.AxesSubplot at 0x7f7f7bc770f0>"
            ]
          },
          "metadata": {
            "tags": []
          },
          "execution_count": 84
        },
        {
          "output_type": "display_data",
          "data": {
            "image/png": "[encoded data removed]",
            "text/plain": [
              "<Figure size 432x288 with 1 Axes>"
            ]
          },
          "metadata": {
            "tags": []
          }
        }
      ]
    },
    {
      "cell_type": "markdown",
      "metadata": {
        "id": "LWGBEOdNMg3n",
        "colab_type": "text"
      },
      "source": [
        "#### Descibe your dataframe"
      ]
    },
    {
      "cell_type": "code",
      "metadata": {
        "colab_type": "code",
        "id": "oBWNA_kG7JxC",
        "colab": {
          "base_uri": "https://localhost:8080/",
          "height": 297
        },
        "outputId": "389adba1-b997-4795-b488-d96cc6cf16d4"
      },
      "source": [
        "temp.describe()"
      ],
      "execution_count": 47,
      "outputs": [
        {
          "output_type": "execute_result",
          "data": {
            "text/html": [
              "<div>\n",
              "<style scoped>\n",
              "    .dataframe tbody tr th:only-of-type {\n",
              "        vertical-align: middle;\n",
              "    }\n",
              "\n",
              "    .dataframe tbody tr th {\n",
              "        vertical-align: top;\n",
              "    }\n",
              "\n",
              "    .dataframe thead th {\n",
              "        text-align: right;\n",
              "    }\n",
              "</style>\n",
              "<table border=\"1\" class=\"dataframe\">\n",
              "  <thead>\n",
              "    <tr style=\"text-align: right;\">\n",
              "      <th></th>\n",
              "      <th>Temperature</th>\n",
              "    </tr>\n",
              "  </thead>\n",
              "  <tbody>\n",
              "    <tr>\n",
              "      <th>count</th>\n",
              "      <td>3650.000000</td>\n",
              "    </tr>\n",
              "    <tr>\n",
              "      <th>mean</th>\n",
              "      <td>11.177753</td>\n",
              "    </tr>\n",
              "    <tr>\n",
              "      <th>std</th>\n",
              "      <td>4.071837</td>\n",
              "    </tr>\n",
              "    <tr>\n",
              "      <th>min</th>\n",
              "      <td>0.000000</td>\n",
              "    </tr>\n",
              "    <tr>\n",
              "      <th>25%</th>\n",
              "      <td>8.300000</td>\n",
              "    </tr>\n",
              "    <tr>\n",
              "      <th>50%</th>\n",
              "      <td>11.000000</td>\n",
              "    </tr>\n",
              "    <tr>\n",
              "      <th>75%</th>\n",
              "      <td>14.000000</td>\n",
              "    </tr>\n",
              "    <tr>\n",
              "      <th>max</th>\n",
              "      <td>26.300000</td>\n",
              "    </tr>\n",
              "  </tbody>\n",
              "</table>\n",
              "</div>"
            ],
            "text/plain": [
              "       Temperature\n",
              "count  3650.000000\n",
              "mean     11.177753\n",
              "std       4.071837\n",
              "min       0.000000\n",
              "25%       8.300000\n",
              "50%      11.000000\n",
              "75%      14.000000\n",
              "max      26.300000"
            ]
          },
          "metadata": {
            "tags": []
          },
          "execution_count": 47
        }
      ]
    },
    {
      "cell_type": "markdown",
      "metadata": {
        "id": "HlPYgFPLMg3r",
        "colab_type": "text"
      },
      "source": [
        "#### Check for null values"
      ]
    },
    {
      "cell_type": "code",
      "metadata": {
        "colab_type": "code",
        "id": "97MVIy_N7JxH",
        "colab": {
          "base_uri": "https://localhost:8080/",
          "height": 119
        },
        "outputId": "1c42d1f8-729f-425b-e03b-c7e6accdd58b"
      },
      "source": [
        "temp.info()"
      ],
      "execution_count": 85,
      "outputs": [
        {
          "output_type": "stream",
          "text": [
            "<class 'pandas.core.frame.DataFrame'>\n",
            "Index: 3650 entries, 1981-01-01 to 1990-12-31\n",
            "Data columns (total 1 columns):\n",
            "Temperature    3650 non-null float64\n",
            "dtypes: float64(1)\n",
            "memory usage: 57.0+ KB\n"
          ],
          "name": "stdout"
        }
      ]
    },
    {
      "cell_type": "code",
      "metadata": {
        "id": "L6dF9qBkjoTD",
        "colab_type": "code",
        "colab": {
          "base_uri": "https://localhost:8080/",
          "height": 51
        },
        "outputId": "458756bc-0074-4621-8628-7807136ca5bd"
      },
      "source": [
        "temp.isnull().sum()"
      ],
      "execution_count": 115,
      "outputs": [
        {
          "output_type": "execute_result",
          "data": {
            "text/plain": [
              "Temperature    0\n",
              "dtype: int64"
            ]
          },
          "metadata": {
            "tags": []
          },
          "execution_count": 115
        }
      ]
    },
    {
      "cell_type": "markdown",
      "metadata": {
        "id": "qo6HzStBMg3v",
        "colab_type": "text"
      },
      "source": [
        "#### Drop null values"
      ]
    },
    {
      "cell_type": "code",
      "metadata": {
        "colab_type": "code",
        "id": "fgh7mdOI7JxS",
        "colab": {}
      },
      "source": [
        "#There are no null values "
      ],
      "execution_count": 0,
      "outputs": []
    },
    {
      "cell_type": "markdown",
      "metadata": {
        "id": "LcJgcz37Mg30",
        "colab_type": "text"
      },
      "source": [
        "#### Get the representation of the distribution of data in the form of histogram"
      ]
    },
    {
      "cell_type": "code",
      "metadata": {
        "colab_type": "code",
        "id": "659sLAx27Jxc",
        "colab": {
          "base_uri": "https://localhost:8080/",
          "height": 296
        },
        "outputId": "86cd4c90-852d-4148-e797-06af45b05639"
      },
      "source": [
        "sns.distplot(temp.Temperature, hist=True)"
      ],
      "execution_count": 53,
      "outputs": [
        {
          "output_type": "execute_result",
          "data": {
            "text/plain": [
              "<matplotlib.axes._subplots.AxesSubplot at 0x7f7f7cf17e48>"
            ]
          },
          "metadata": {
            "tags": []
          },
          "execution_count": 53
        },
        {
          "output_type": "display_data",
          "data": {
            "image/png": "[encoded data removed]",
            "text/plain": [
              "<Figure size 432x288 with 1 Axes>"
            ]
          },
          "metadata": {
            "tags": []
          }
        }
      ]
    },
    {
      "cell_type": "markdown",
      "metadata": {
        "id": "GpH88qtBMg34",
        "colab_type": "text"
      },
      "source": [
        "#### Check the maximum and minimum values"
      ]
    },
    {
      "cell_type": "code",
      "metadata": {
        "colab_type": "code",
        "id": "WmkjCx8c7Jxn",
        "colab": {
          "base_uri": "https://localhost:8080/",
          "height": 85
        },
        "outputId": "f1cc68cc-4b24-4534-865d-4382d51f9818"
      },
      "source": [
        "print(\"Maximum Temp : \", np.max(temp))\n",
        "print(\"Minimum Temp : \", np.min(temp))"
      ],
      "execution_count": 87,
      "outputs": [
        {
          "output_type": "stream",
          "text": [
            "Maximum Temp :  Temperature    26.3\n",
            "dtype: float64\n",
            "Minimum Temp :  Temperature    0.0\n",
            "dtype: float64\n"
          ],
          "name": "stdout"
        }
      ]
    },
    {
      "cell_type": "markdown",
      "metadata": {
        "id": "AQVmR3ENMg37",
        "colab_type": "text"
      },
      "source": [
        "### Normalize the data"
      ]
    },
    {
      "cell_type": "code",
      "metadata": {
        "colab_type": "code",
        "id": "fb4SNzD27Jxw",
        "colab": {}
      },
      "source": [
        "from sklearn.preprocessing import MinMaxScaler\n",
        "#apply the sclaing to make values between 0 to 1\n",
        "scaler = MinMaxScaler()\n",
        "scaled = scaler.fit_transform(np.asarray(temp))"
      ],
      "execution_count": 0,
      "outputs": []
    },
    {
      "cell_type": "code",
      "metadata": {
        "id": "yKbbngfen9ge",
        "colab_type": "code",
        "colab": {
          "base_uri": "https://localhost:8080/",
          "height": 136
        },
        "outputId": "c04fdf97-2b41-4d4e-b04e-6be80c5bf4f5"
      },
      "source": [
        "scaled"
      ],
      "execution_count": 90,
      "outputs": [
        {
          "output_type": "execute_result",
          "data": {
            "text/plain": [
              "array([[0.78707224],\n",
              "       [0.68060837],\n",
              "       [0.7148289 ],\n",
              "       ...,\n",
              "       [0.51330798],\n",
              "       [0.59695817],\n",
              "       [0.49429658]])"
            ]
          },
          "metadata": {
            "tags": []
          },
          "execution_count": 90
        }
      ]
    },
    {
      "cell_type": "markdown",
      "metadata": {
        "id": "Amc8j4P-Mg3-",
        "colab_type": "text"
      },
      "source": [
        "#### Check the maximum and minimum values of scaled data"
      ]
    },
    {
      "cell_type": "code",
      "metadata": {
        "colab_type": "code",
        "id": "clv2rSfL7Jx4",
        "colab": {
          "base_uri": "https://localhost:8080/",
          "height": 51
        },
        "outputId": "9ddf51ae-19f5-4ebb-ee0b-47ca31716112"
      },
      "source": [
        "print('Min', np.min(scaled))\n",
        "print('Max', np.max(scaled))"
      ],
      "execution_count": 91,
      "outputs": [
        {
          "output_type": "stream",
          "text": [
            "Min 0.0\n",
            "Max 1.0\n"
          ],
          "name": "stdout"
        }
      ]
    },
    {
      "cell_type": "markdown",
      "metadata": {
        "id": "mPwfKLsbMg4B",
        "colab_type": "text"
      },
      "source": [
        "#### Look into some of the scaled values"
      ]
    },
    {
      "cell_type": "code",
      "metadata": {
        "colab_type": "code",
        "id": "Xq9CBinO7Jx9",
        "colab": {
          "base_uri": "https://localhost:8080/",
          "height": 187
        },
        "outputId": "5a9b87ef-225c-482a-cebf-089574e66949"
      },
      "source": [
        "print(scaled[:10])"
      ],
      "execution_count": 92,
      "outputs": [
        {
          "output_type": "stream",
          "text": [
            "[[0.78707224]\n",
            " [0.68060837]\n",
            " [0.7148289 ]\n",
            " [0.55513308]\n",
            " [0.60076046]\n",
            " [0.60076046]\n",
            " [0.60076046]\n",
            " [0.66159696]\n",
            " [0.82889734]\n",
            " [0.76045627]]\n"
          ],
          "name": "stdout"
        }
      ]
    },
    {
      "cell_type": "markdown",
      "metadata": {
        "id": "4i6aEeORMg4F",
        "colab_type": "text"
      },
      "source": [
        "### Split data into Training and Testing"
      ]
    },
    {
      "cell_type": "code",
      "metadata": {
        "colab_type": "code",
        "id": "-0Uh7lCO7JyD",
        "colab": {}
      },
      "source": [
        "#Split the data into train and test based on time # cannot be random basis like machine learning \n",
        "train_size = int(len(scaled) * 0.70)\n",
        "test_size = len(scaled - train_size)\n",
        "train, test = scaled[0:train_size, :], scaled[train_size: len(scaled), :]\n"
      ],
      "execution_count": 0,
      "outputs": []
    },
    {
      "cell_type": "markdown",
      "metadata": {
        "id": "MYxgFlAHMg4I",
        "colab_type": "text"
      },
      "source": [
        "#### Print train and test size"
      ]
    },
    {
      "cell_type": "code",
      "metadata": {
        "id": "T9pRem3FMg4J",
        "colab_type": "code",
        "colab": {
          "base_uri": "https://localhost:8080/",
          "height": 51
        },
        "outputId": "b7b4b5e0-cb89-4ef1-a5ef-0c549603927b"
      },
      "source": [
        "print('train: {}\\ntest: {}'.format(len(train), len(test)))"
      ],
      "execution_count": 94,
      "outputs": [
        {
          "output_type": "stream",
          "text": [
            "train: 2555\n",
            "test: 1095\n"
          ],
          "name": "stdout"
        }
      ]
    },
    {
      "cell_type": "markdown",
      "metadata": {
        "id": "-UKovqKBMg4L",
        "colab_type": "text"
      },
      "source": [
        "## Create the sequential data\n",
        "Map the temprature at a particular time t to the temprature at time t+n, where n is any number you define.\n",
        "\n",
        "For example: to map tempratures of consecutive days, use t+1, i.e. loop_back = 1"
      ]
    },
    {
      "cell_type": "markdown",
      "metadata": {
        "id": "m7uoSqtKMg4M",
        "colab_type": "text"
      },
      "source": [
        "#### Define your function to create dataset"
      ]
    },
    {
      "cell_type": "code",
      "metadata": {
        "colab_type": "code",
        "id": "jWIvInPB7JyK",
        "colab": {}
      },
      "source": [
        "def create_dataset(dataset, look_back=1):\n",
        "    \n",
        "    \n",
        "    dataX, dataY = [], []\n",
        "    \n",
        "    for i in range(len(dataset)-look_back):\n",
        "        \n",
        "        \n",
        "        a = dataset[i:(i+look_back), 0]\n",
        "        \n",
        "        dataX.append(a)\n",
        "        \n",
        "        dataY.append(dataset[i + look_back, 0])\n",
        "        \n",
        "    return np.array(dataX), np.array(dataY)"
      ],
      "execution_count": 0,
      "outputs": []
    },
    {
      "cell_type": "markdown",
      "metadata": {
        "id": "WePfiYR6Mg4R",
        "colab_type": "text"
      },
      "source": [
        "#### Use function to get training and test set"
      ]
    },
    {
      "cell_type": "code",
      "metadata": {
        "colab_type": "code",
        "id": "uarOJcPk7JyQ",
        "scrolled": true,
        "colab": {}
      },
      "source": [
        "look_back = 1\n",
        "X_train, y_train = create_dataset(train, look_back)\n",
        "X_test, y_test = create_dataset(test, look_back)"
      ],
      "execution_count": 0,
      "outputs": []
    },
    {
      "cell_type": "code",
      "metadata": {
        "id": "FTe_82OqplMW",
        "colab_type": "code",
        "colab": {
          "base_uri": "https://localhost:8080/",
          "height": 34
        },
        "outputId": "f017919d-8ed5-4674-88cc-b6af5a159439"
      },
      "source": [
        "len(X_train)"
      ],
      "execution_count": 105,
      "outputs": [
        {
          "output_type": "execute_result",
          "data": {
            "text/plain": [
              "2554"
            ]
          },
          "metadata": {
            "tags": []
          },
          "execution_count": 105
        }
      ]
    },
    {
      "cell_type": "code",
      "metadata": {
        "id": "eViXnTRHppUX",
        "colab_type": "code",
        "colab": {
          "base_uri": "https://localhost:8080/",
          "height": 34
        },
        "outputId": "b982978c-0a19-45d1-b366-63d266efcbae"
      },
      "source": [
        "len(X_test)"
      ],
      "execution_count": 98,
      "outputs": [
        {
          "output_type": "execute_result",
          "data": {
            "text/plain": [
              "1094"
            ]
          },
          "metadata": {
            "tags": []
          },
          "execution_count": 98
        }
      ]
    },
    {
      "cell_type": "code",
      "metadata": {
        "id": "7qDMvSInsLGN",
        "colab_type": "code",
        "colab": {
          "base_uri": "https://localhost:8080/",
          "height": 34
        },
        "outputId": "4ea41e52-9e61-4c4c-cfad-7d34f2b4bdc7"
      },
      "source": [
        "X_train.shape"
      ],
      "execution_count": 106,
      "outputs": [
        {
          "output_type": "execute_result",
          "data": {
            "text/plain": [
              "(2554, 1)"
            ]
          },
          "metadata": {
            "tags": []
          },
          "execution_count": 106
        }
      ]
    },
    {
      "cell_type": "markdown",
      "metadata": {
        "id": "w_vztTvsMg4X",
        "colab_type": "text"
      },
      "source": [
        "#### Transform the prepared train and test input data into the expected structure using numpy.reshape()"
      ]
    },
    {
      "cell_type": "code",
      "metadata": {
        "colab_type": "code",
        "id": "UJZ4VB4N7JyV",
        "colab": {
          "base_uri": "https://localhost:8080/",
          "height": 51
        },
        "outputId": "082d847d-e903-4c5b-b8c4-a74ab4566f59"
      },
      "source": [
        "#samples, time_steps, features\n",
        "X_train = np.reshape(X_train, (X_train.shape[0], X_train.shape[1], 1))\n",
        "X_test = np.reshape(X_test, (X_test.shape[0], X_test.shape[1], 1))\n",
        "print(X_train.shape)\n",
        "print(X_test.shape)"
      ],
      "execution_count": 107,
      "outputs": [
        {
          "output_type": "stream",
          "text": [
            "(2554, 1, 1)\n",
            "(1094, 1, 1)\n"
          ],
          "name": "stdout"
        }
      ]
    },
    {
      "cell_type": "markdown",
      "metadata": {
        "id": "2ApGy3FBMg4a",
        "colab_type": "text"
      },
      "source": [
        "## Define Model"
      ]
    },
    {
      "cell_type": "markdown",
      "metadata": {
        "id": "kx0ctZLiMg4b",
        "colab_type": "text"
      },
      "source": [
        "### Define sequntial model, add LSTM layer and compile the model"
      ]
    },
    {
      "cell_type": "code",
      "metadata": {
        "id": "vuH_fa14qqP1",
        "colab_type": "code",
        "colab": {}
      },
      "source": [
        "from tensorflow.keras.layers import GRU, Dense\n",
        "from tensorflow.keras.layers import LSTM\n",
        "from tensorflow.keras  import callbacks\n",
        "from tensorflow.keras import optimizers"
      ],
      "execution_count": 0,
      "outputs": []
    },
    {
      "cell_type": "code",
      "metadata": {
        "colab_type": "code",
        "id": "yRW-Txvt7Jya",
        "colab": {}
      },
      "source": [
        "tf.keras.backend.clear_session()\n",
        "\n",
        "#The network has a visible layer with 1 input, a hidden layer with 4 LSTM blocks or neurons, and an output layer that makes a single value prediction. The default sigmoid activation function is used for the LSTM blocks. The network is trained for 100 epochs and a batch size of 1 is used.\n",
        "#create and fit the LSTM network\n",
        "batch_size = 1\n",
        "model1 = Sequential()\n",
        "model1.add(LSTM(4, batch_input_shape=(batch_size, look_back, 1), stateful=True))\n",
        "model1.add(Dense(1))\n",
        "model1.compile(loss='mean_squared_error', optimizer='adam')\n"
      ],
      "execution_count": 0,
      "outputs": []
    },
    {
      "cell_type": "markdown",
      "metadata": {
        "id": "zyAxLVdxMg4f",
        "colab_type": "text"
      },
      "source": [
        "### Summarize your model"
      ]
    },
    {
      "cell_type": "code",
      "metadata": {
        "id": "0I_UO7GOMg4g",
        "colab_type": "code",
        "colab": {
          "base_uri": "https://localhost:8080/",
          "height": 221
        },
        "outputId": "18fce392-fff8-47ef-9d63-b3cd5c1a8b4a"
      },
      "source": [
        "model1.summary()"
      ],
      "execution_count": 109,
      "outputs": [
        {
          "output_type": "stream",
          "text": [
            "Model: \"sequential\"\n",
            "_________________________________________________________________\n",
            "Layer (type)                 Output Shape              Param #   \n",
            "=================================================================\n",
            "lstm (LSTM)                  (1, 4)                    96        \n",
            "_________________________________________________________________\n",
            "dense (Dense)                (1, 1)                    5         \n",
            "=================================================================\n",
            "Total params: 101\n",
            "Trainable params: 101\n",
            "Non-trainable params: 0\n",
            "_________________________________________________________________\n"
          ],
          "name": "stdout"
        }
      ]
    },
    {
      "cell_type": "markdown",
      "metadata": {
        "id": "orlJW-1_Mg4j",
        "colab_type": "text"
      },
      "source": [
        "### Train the model"
      ]
    },
    {
      "cell_type": "code",
      "metadata": {
        "id": "yyzESxsmMg4j",
        "colab_type": "code",
        "colab": {
          "base_uri": "https://localhost:8080/",
          "height": 1000
        },
        "outputId": "57c28c94-ea22-4a88-b837-2a7adc4ff526"
      },
      "source": [
        "model1.fit(X_train, y_train, epochs=200, batch_size=batch_size, verbose=2, shuffle=True)"
      ],
      "execution_count": 111,
      "outputs": [
        {
          "output_type": "stream",
          "text": [
            "Train on 2554 samples\n",
            "Epoch 1/200\n",
            "2554/2554 - 5s - loss: 0.0161\n",
            "Epoch 2/200\n",
            "2554/2554 - 4s - loss: 0.0102\n",
            "Epoch 3/200\n",
            "2554/2554 - 4s - loss: 0.0102\n",
            "Epoch 4/200\n",
            "2554/2554 - 4s - loss: 0.0102\n",
            "Epoch 5/200\n",
            "2554/2554 - 4s - loss: 0.0102\n",
            "Epoch 6/200\n",
            "2554/2554 - 4s - loss: 0.0102\n",
            "Epoch 7/200\n",
            "2554/2554 - 4s - loss: 0.0102\n",
            "Epoch 8/200\n",
            "2554/2554 - 4s - loss: 0.0101\n",
            "Epoch 9/200\n",
            "2554/2554 - 4s - loss: 0.0102\n",
            "Epoch 10/200\n",
            "2554/2554 - 4s - loss: 0.0101\n",
            "Epoch 11/200\n",
            "2554/2554 - 4s - loss: 0.0102\n",
            "Epoch 12/200\n",
            "2554/2554 - 4s - loss: 0.0102\n",
            "Epoch 13/200\n",
            "2554/2554 - 4s - loss: 0.0102\n",
            "Epoch 14/200\n",
            "2554/2554 - 4s - loss: 0.0101\n",
            "Epoch 15/200\n",
            "2554/2554 - 4s - loss: 0.0102\n",
            "Epoch 16/200\n",
            "2554/2554 - 4s - loss: 0.0101\n",
            "Epoch 17/200\n",
            "2554/2554 - 4s - loss: 0.0101\n",
            "Epoch 18/200\n",
            "2554/2554 - 4s - loss: 0.0102\n",
            "Epoch 19/200\n",
            "2554/2554 - 4s - loss: 0.0102\n",
            "Epoch 20/200\n",
            "2554/2554 - 4s - loss: 0.0101\n",
            "Epoch 21/200\n",
            "2554/2554 - 4s - loss: 0.0101\n",
            "Epoch 22/200\n",
            "2554/2554 - 4s - loss: 0.0102\n",
            "Epoch 23/200\n",
            "2554/2554 - 4s - loss: 0.0102\n",
            "Epoch 24/200\n",
            "2554/2554 - 4s - loss: 0.0101\n",
            "Epoch 25/200\n",
            "2554/2554 - 4s - loss: 0.0101\n",
            "Epoch 26/200\n",
            "2554/2554 - 4s - loss: 0.0101\n",
            "Epoch 27/200\n",
            "2554/2554 - 4s - loss: 0.0102\n",
            "Epoch 28/200\n",
            "2554/2554 - 4s - loss: 0.0102\n",
            "Epoch 29/200\n",
            "2554/2554 - 4s - loss: 0.0101\n",
            "Epoch 30/200\n",
            "2554/2554 - 4s - loss: 0.0101\n",
            "Epoch 31/200\n",
            "2554/2554 - 4s - loss: 0.0101\n",
            "Epoch 32/200\n",
            "2554/2554 - 4s - loss: 0.0101\n",
            "Epoch 33/200\n",
            "2554/2554 - 4s - loss: 0.0102\n",
            "Epoch 34/200\n",
            "2554/2554 - 4s - loss: 0.0102\n",
            "Epoch 35/200\n",
            "2554/2554 - 4s - loss: 0.0102\n",
            "Epoch 36/200\n",
            "2554/2554 - 4s - loss: 0.0102\n",
            "Epoch 37/200\n",
            "2554/2554 - 4s - loss: 0.0101\n",
            "Epoch 38/200\n",
            "2554/2554 - 4s - loss: 0.0101\n",
            "Epoch 39/200\n",
            "2554/2554 - 4s - loss: 0.0101\n",
            "Epoch 40/200\n",
            "2554/2554 - 4s - loss: 0.0101\n",
            "Epoch 41/200\n",
            "2554/2554 - 4s - loss: 0.0101\n",
            "Epoch 42/200\n",
            "2554/2554 - 4s - loss: 0.0102\n",
            "Epoch 43/200\n",
            "2554/2554 - 4s - loss: 0.0101\n",
            "Epoch 44/200\n",
            "2554/2554 - 4s - loss: 0.0101\n",
            "Epoch 45/200\n",
            "2554/2554 - 4s - loss: 0.0101\n",
            "Epoch 46/200\n",
            "2554/2554 - 4s - loss: 0.0101\n",
            "Epoch 47/200\n",
            "2554/2554 - 4s - loss: 0.0102\n",
            "Epoch 48/200\n",
            "2554/2554 - 4s - loss: 0.0101\n",
            "Epoch 49/200\n",
            "2554/2554 - 4s - loss: 0.0101\n",
            "Epoch 50/200\n",
            "2554/2554 - 4s - loss: 0.0102\n",
            "Epoch 51/200\n",
            "2554/2554 - 4s - loss: 0.0102\n",
            "Epoch 52/200\n",
            "2554/2554 - 4s - loss: 0.0101\n",
            "Epoch 53/200\n",
            "2554/2554 - 4s - loss: 0.0101\n",
            "Epoch 54/200\n",
            "2554/2554 - 4s - loss: 0.0102\n",
            "Epoch 55/200\n",
            "2554/2554 - 4s - loss: 0.0102\n",
            "Epoch 56/200\n",
            "2554/2554 - 4s - loss: 0.0101\n",
            "Epoch 57/200\n",
            "2554/2554 - 4s - loss: 0.0102\n",
            "Epoch 58/200\n",
            "2554/2554 - 4s - loss: 0.0102\n",
            "Epoch 59/200\n",
            "2554/2554 - 4s - loss: 0.0101\n",
            "Epoch 60/200\n",
            "2554/2554 - 4s - loss: 0.0102\n",
            "Epoch 61/200\n",
            "2554/2554 - 4s - loss: 0.0102\n",
            "Epoch 62/200\n",
            "2554/2554 - 4s - loss: 0.0102\n",
            "Epoch 63/200\n",
            "2554/2554 - 4s - loss: 0.0100\n",
            "Epoch 64/200\n",
            "2554/2554 - 4s - loss: 0.0101\n",
            "Epoch 65/200\n",
            "2554/2554 - 4s - loss: 0.0101\n",
            "Epoch 66/200\n",
            "2554/2554 - 4s - loss: 0.0101\n",
            "Epoch 67/200\n",
            "2554/2554 - 4s - loss: 0.0101\n",
            "Epoch 68/200\n",
            "2554/2554 - 4s - loss: 0.0102\n",
            "Epoch 69/200\n",
            "2554/2554 - 4s - loss: 0.0102\n",
            "Epoch 70/200\n",
            "2554/2554 - 4s - loss: 0.0101\n",
            "Epoch 71/200\n",
            "2554/2554 - 4s - loss: 0.0101\n",
            "Epoch 72/200\n",
            "2554/2554 - 4s - loss: 0.0101\n",
            "Epoch 73/200\n",
            "2554/2554 - 4s - loss: 0.0102\n",
            "Epoch 74/200\n",
            "2554/2554 - 4s - loss: 0.0101\n",
            "Epoch 75/200\n",
            "2554/2554 - 4s - loss: 0.0101\n",
            "Epoch 76/200\n",
            "2554/2554 - 4s - loss: 0.0101\n",
            "Epoch 77/200\n",
            "2554/2554 - 4s - loss: 0.0101\n",
            "Epoch 78/200\n",
            "2554/2554 - 4s - loss: 0.0101\n",
            "Epoch 79/200\n",
            "2554/2554 - 4s - loss: 0.0101\n",
            "Epoch 80/200\n",
            "2554/2554 - 4s - loss: 0.0101\n",
            "Epoch 81/200\n",
            "2554/2554 - 4s - loss: 0.0102\n",
            "Epoch 82/200\n",
            "2554/2554 - 4s - loss: 0.0101\n",
            "Epoch 83/200\n",
            "2554/2554 - 4s - loss: 0.0102\n",
            "Epoch 84/200\n",
            "2554/2554 - 4s - loss: 0.0101\n",
            "Epoch 85/200\n",
            "2554/2554 - 4s - loss: 0.0101\n",
            "Epoch 86/200\n",
            "2554/2554 - 4s - loss: 0.0101\n",
            "Epoch 87/200\n",
            "2554/2554 - 4s - loss: 0.0101\n",
            "Epoch 88/200\n",
            "2554/2554 - 4s - loss: 0.0100\n",
            "Epoch 89/200\n",
            "2554/2554 - 4s - loss: 0.0102\n",
            "Epoch 90/200\n",
            "2554/2554 - 4s - loss: 0.0101\n",
            "Epoch 91/200\n",
            "2554/2554 - 4s - loss: 0.0101\n",
            "Epoch 92/200\n",
            "2554/2554 - 4s - loss: 0.0101\n",
            "Epoch 93/200\n",
            "2554/2554 - 4s - loss: 0.0101\n",
            "Epoch 94/200\n",
            "2554/2554 - 4s - loss: 0.0101\n",
            "Epoch 95/200\n",
            "2554/2554 - 4s - loss: 0.0101\n",
            "Epoch 96/200\n",
            "2554/2554 - 4s - loss: 0.0102\n",
            "Epoch 97/200\n",
            "2554/2554 - 4s - loss: 0.0101\n",
            "Epoch 98/200\n",
            "2554/2554 - 4s - loss: 0.0101\n",
            "Epoch 99/200\n",
            "2554/2554 - 4s - loss: 0.0101\n",
            "Epoch 100/200\n",
            "2554/2554 - 4s - loss: 0.0101\n",
            "Epoch 101/200\n",
            "2554/2554 - 4s - loss: 0.0101\n",
            "Epoch 102/200\n",
            "2554/2554 - 4s - loss: 0.0101\n",
            "Epoch 103/200\n",
            "2554/2554 - 4s - loss: 0.0100\n",
            "Epoch 104/200\n",
            "2554/2554 - 4s - loss: 0.0101\n",
            "Epoch 105/200\n",
            "2554/2554 - 4s - loss: 0.0100\n",
            "Epoch 106/200\n",
            "2554/2554 - 4s - loss: 0.0102\n",
            "Epoch 107/200\n",
            "2554/2554 - 4s - loss: 0.0101\n",
            "Epoch 108/200\n",
            "2554/2554 - 4s - loss: 0.0101\n",
            "Epoch 109/200\n",
            "2554/2554 - 4s - loss: 0.0101\n",
            "Epoch 110/200\n",
            "2554/2554 - 4s - loss: 0.0101\n",
            "Epoch 111/200\n",
            "2554/2554 - 4s - loss: 0.0101\n",
            "Epoch 112/200\n",
            "2554/2554 - 4s - loss: 0.0101\n",
            "Epoch 113/200\n",
            "2554/2554 - 4s - loss: 0.0101\n",
            "Epoch 114/200\n",
            "2554/2554 - 4s - loss: 0.0101\n",
            "Epoch 115/200\n",
            "2554/2554 - 4s - loss: 0.0101\n",
            "Epoch 116/200\n",
            "2554/2554 - 4s - loss: 0.0101\n",
            "Epoch 117/200\n",
            "2554/2554 - 4s - loss: 0.0101\n",
            "Epoch 118/200\n",
            "2554/2554 - 4s - loss: 0.0101\n",
            "Epoch 119/200\n",
            "2554/2554 - 4s - loss: 0.0101\n",
            "Epoch 120/200\n",
            "2554/2554 - 4s - loss: 0.0101\n",
            "Epoch 121/200\n",
            "2554/2554 - 4s - loss: 0.0101\n",
            "Epoch 122/200\n",
            "2554/2554 - 4s - loss: 0.0101\n",
            "Epoch 123/200\n",
            "2554/2554 - 4s - loss: 0.0101\n",
            "Epoch 124/200\n",
            "2554/2554 - 4s - loss: 0.0101\n",
            "Epoch 125/200\n",
            "2554/2554 - 4s - loss: 0.0101\n",
            "Epoch 126/200\n",
            "2554/2554 - 4s - loss: 0.0101\n",
            "Epoch 127/200\n",
            "2554/2554 - 4s - loss: 0.0101\n",
            "Epoch 128/200\n",
            "2554/2554 - 4s - loss: 0.0100\n",
            "Epoch 129/200\n",
            "2554/2554 - 4s - loss: 0.0100\n",
            "Epoch 130/200\n",
            "2554/2554 - 4s - loss: 0.0101\n",
            "Epoch 131/200\n",
            "2554/2554 - 4s - loss: 0.0101\n",
            "Epoch 132/200\n",
            "2554/2554 - 4s - loss: 0.0101\n",
            "Epoch 133/200\n",
            "2554/2554 - 4s - loss: 0.0101\n",
            "Epoch 134/200\n",
            "2554/2554 - 4s - loss: 0.0100\n",
            "Epoch 135/200\n",
            "2554/2554 - 4s - loss: 0.0100\n",
            "Epoch 136/200\n",
            "2554/2554 - 4s - loss: 0.0101\n",
            "Epoch 137/200\n",
            "2554/2554 - 4s - loss: 0.0101\n",
            "Epoch 138/200\n",
            "2554/2554 - 4s - loss: 0.0101\n",
            "Epoch 139/200\n",
            "2554/2554 - 4s - loss: 0.0101\n",
            "Epoch 140/200\n",
            "2554/2554 - 4s - loss: 0.0101\n",
            "Epoch 141/200\n",
            "2554/2554 - 4s - loss: 0.0101\n",
            "Epoch 142/200\n",
            "2554/2554 - 4s - loss: 0.0101\n",
            "Epoch 143/200\n",
            "2554/2554 - 4s - loss: 0.0101\n",
            "Epoch 144/200\n",
            "2554/2554 - 4s - loss: 0.0101\n",
            "Epoch 145/200\n",
            "2554/2554 - 4s - loss: 0.0101\n",
            "Epoch 146/200\n",
            "2554/2554 - 4s - loss: 0.0101\n",
            "Epoch 147/200\n",
            "2554/2554 - 4s - loss: 0.0101\n",
            "Epoch 148/200\n",
            "2554/2554 - 4s - loss: 0.0101\n",
            "Epoch 149/200\n",
            "2554/2554 - 4s - loss: 0.0101\n",
            "Epoch 150/200\n",
            "2554/2554 - 4s - loss: 0.0101\n",
            "Epoch 151/200\n",
            "2554/2554 - 4s - loss: 0.0101\n",
            "Epoch 152/200\n",
            "2554/2554 - 4s - loss: 0.0101\n",
            "Epoch 153/200\n",
            "2554/2554 - 4s - loss: 0.0101\n",
            "Epoch 154/200\n",
            "2554/2554 - 4s - loss: 0.0100\n",
            "Epoch 155/200\n",
            "2554/2554 - 4s - loss: 0.0101\n",
            "Epoch 156/200\n",
            "2554/2554 - 4s - loss: 0.0101\n",
            "Epoch 157/200\n",
            "2554/2554 - 4s - loss: 0.0101\n",
            "Epoch 158/200\n",
            "2554/2554 - 4s - loss: 0.0101\n",
            "Epoch 159/200\n",
            "2554/2554 - 4s - loss: 0.0101\n",
            "Epoch 160/200\n",
            "2554/2554 - 4s - loss: 0.0100\n",
            "Epoch 161/200\n",
            "2554/2554 - 4s - loss: 0.0101\n",
            "Epoch 162/200\n",
            "2554/2554 - 4s - loss: 0.0101\n",
            "Epoch 163/200\n",
            "2554/2554 - 4s - loss: 0.0100\n",
            "Epoch 164/200\n",
            "2554/2554 - 4s - loss: 0.0101\n",
            "Epoch 165/200\n",
            "2554/2554 - 4s - loss: 0.0101\n",
            "Epoch 166/200\n",
            "2554/2554 - 4s - loss: 0.0101\n",
            "Epoch 167/200\n",
            "2554/2554 - 4s - loss: 0.0100\n",
            "Epoch 168/200\n",
            "2554/2554 - 4s - loss: 0.0101\n",
            "Epoch 169/200\n",
            "2554/2554 - 4s - loss: 0.0101\n",
            "Epoch 170/200\n",
            "2554/2554 - 4s - loss: 0.0100\n",
            "Epoch 171/200\n",
            "2554/2554 - 4s - loss: 0.0101\n",
            "Epoch 172/200\n",
            "2554/2554 - 4s - loss: 0.0100\n",
            "Epoch 173/200\n",
            "2554/2554 - 4s - loss: 0.0101\n",
            "Epoch 174/200\n",
            "2554/2554 - 4s - loss: 0.0100\n",
            "Epoch 175/200\n",
            "2554/2554 - 4s - loss: 0.0101\n",
            "Epoch 176/200\n",
            "2554/2554 - 4s - loss: 0.0101\n",
            "Epoch 177/200\n",
            "2554/2554 - 4s - loss: 0.0101\n",
            "Epoch 178/200\n",
            "2554/2554 - 4s - loss: 0.0101\n",
            "Epoch 179/200\n",
            "2554/2554 - 4s - loss: 0.0101\n",
            "Epoch 180/200\n",
            "2554/2554 - 4s - loss: 0.0100\n",
            "Epoch 181/200\n",
            "2554/2554 - 4s - loss: 0.0100\n",
            "Epoch 182/200\n",
            "2554/2554 - 4s - loss: 0.0101\n",
            "Epoch 183/200\n",
            "2554/2554 - 4s - loss: 0.0101\n",
            "Epoch 184/200\n",
            "2554/2554 - 4s - loss: 0.0101\n",
            "Epoch 185/200\n",
            "2554/2554 - 4s - loss: 0.0100\n",
            "Epoch 186/200\n",
            "2554/2554 - 4s - loss: 0.0101\n",
            "Epoch 187/200\n",
            "2554/2554 - 4s - loss: 0.0101\n",
            "Epoch 188/200\n",
            "2554/2554 - 4s - loss: 0.0100\n",
            "Epoch 189/200\n",
            "2554/2554 - 4s - loss: 0.0101\n",
            "Epoch 190/200\n",
            "2554/2554 - 4s - loss: 0.0101\n",
            "Epoch 191/200\n",
            "2554/2554 - 4s - loss: 0.0100\n",
            "Epoch 192/200\n",
            "2554/2554 - 4s - loss: 0.0101\n",
            "Epoch 193/200\n",
            "2554/2554 - 4s - loss: 0.0101\n",
            "Epoch 194/200\n",
            "2554/2554 - 4s - loss: 0.0101\n",
            "Epoch 195/200\n",
            "2554/2554 - 4s - loss: 0.0100\n",
            "Epoch 196/200\n",
            "2554/2554 - 4s - loss: 0.0100\n",
            "Epoch 197/200\n",
            "2554/2554 - 4s - loss: 0.0101\n",
            "Epoch 198/200\n",
            "2554/2554 - 4s - loss: 0.0100\n",
            "Epoch 199/200\n",
            "2554/2554 - 4s - loss: 0.0101\n",
            "Epoch 200/200\n",
            "2554/2554 - 4s - loss: 0.0101\n"
          ],
          "name": "stdout"
        },
        {
          "output_type": "execute_result",
          "data": {
            "text/plain": [
              "<tensorflow.python.keras.callbacks.History at 0x7f7f7b986a90>"
            ]
          },
          "metadata": {
            "tags": []
          },
          "execution_count": 111
        }
      ]
    },
    {
      "cell_type": "markdown",
      "metadata": {
        "id": "eSQgnvPKMg4m",
        "colab_type": "text"
      },
      "source": [
        "## Make Predictions and Evaluate your model"
      ]
    },
    {
      "cell_type": "code",
      "metadata": {
        "colab_type": "code",
        "id": "85Ip5wrq7Jyi",
        "colab": {
          "base_uri": "https://localhost:8080/",
          "height": 51
        },
        "outputId": "b5b54860-dc87-409c-d7f8-d31ff4f4efe3"
      },
      "source": [
        "import math\n",
        "from sklearn.metrics import mean_squared_error\n",
        "\n",
        "trainPredict = model1.predict(X_train, batch_size=batch_size)\n",
        "\n",
        "testPredict = model1.predict(X_test, batch_size=batch_size)\n",
        "# invert predictions\n",
        "trainPredict = scaler.inverse_transform(trainPredict)\n",
        "y_train = scaler.inverse_transform([y_train])\n",
        "testPredict = scaler.inverse_transform(testPredict)\n",
        "y_test = scaler.inverse_transform([y_test])\n",
        "# calculate root mean squared error\n",
        "trainScore = math.sqrt(mean_squared_error(y_train[0], trainPredict[:,0]))\n",
        "print('Train Score: %.2f RMSE' % (trainScore))\n",
        "testScore = math.sqrt(mean_squared_error(y_test[0], testPredict[:,0]))\n",
        "print('Test Score: %.2f RMSE' % (testScore))"
      ],
      "execution_count": 113,
      "outputs": [
        {
          "output_type": "stream",
          "text": [
            "Train Score: 2.66 RMSE\n",
            "Test Score: 2.48 RMSE\n"
          ],
          "name": "stdout"
        }
      ]
    },
    {
      "cell_type": "markdown",
      "metadata": {
        "id": "Ewi6Zyl9Mg4o",
        "colab_type": "text"
      },
      "source": [
        "## Plot the results"
      ]
    },
    {
      "cell_type": "code",
      "metadata": {
        "colab_type": "code",
        "id": "FHbIWp-D7Jyn",
        "colab": {
          "base_uri": "https://localhost:8080/",
          "height": 592
        },
        "outputId": "a7c19e55-787e-4fe6-8281-e6e7ea2db5eb"
      },
      "source": [
        "trainPredictPlot = np.empty_like(scaled)\n",
        "trainPredictPlot[:, :] = np.nan\n",
        "trainPredictPlot[look_back:len(trainPredict)+look_back, :] = trainPredict\n",
        "# shift test predictions for plotting\n",
        "testPredictPlot = np.empty_like(scaled)\n",
        "testPredictPlot[:, :] = np.nan\n",
        "testPredictPlot[len(trainPredict)+(look_back*2):len(scaled), :] = testPredict\n",
        "# plot baseline and predictions\n",
        "plt.figure(figsize=(20,10))\n",
        "plt.plot(scaler.inverse_transform(scaled))\n",
        "plt.plot(trainPredictPlot)\n",
        "plt.plot(testPredictPlot)\n",
        "plt.show()"
      ],
      "execution_count": 114,
      "outputs": [
        {
          "output_type": "display_data",
          "data": {
            "image/png": "[encoded data removed]",
            "text/plain": [
              "<Figure size 1440x720 with 1 Axes>"
            ]
          },
          "metadata": {
            "tags": []
          }
        }
      ]
    }
  ]
}