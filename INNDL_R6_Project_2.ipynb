{
  "nbformat": 4,
  "nbformat_minor": 0,
  "metadata": {
    "colab": {
      "name": "INNDL_R6_Project_2.ipynb",
      "provenance": [],
      "collapsed_sections": []
    },
    "kernelspec": {
      "name": "python3",
      "display_name": "Python 3"
    }
  },
  "cells": [
    {
      "cell_type": "markdown",
      "metadata": {
        "id": "jfqxwlUr47TK",
        "colab_type": "text"
      },
      "source": [
        "# Neural Networks - Project 2\n"
      ]
    },
    {
      "cell_type": "code",
      "metadata": {
        "id": "N017wmGX5Hae",
        "colab_type": "code",
        "colab": {}
      },
      "source": [
        " %tensorflow_version 2.x"
      ],
      "execution_count": 0,
      "outputs": []
    },
    {
      "cell_type": "code",
      "metadata": {
        "id": "GUvHyJzL5PYG",
        "colab_type": "code",
        "outputId": "8ded9a82-8796-4eec-9d2b-667dd4bd290b",
        "colab": {
          "base_uri": "https://localhost:8080/",
          "height": 34
        }
      },
      "source": [
        "import tensorflow as tf\n",
        "print(tf.__version__)"
      ],
      "execution_count": 5,
      "outputs": [
        {
          "output_type": "stream",
          "text": [
            "2.1.0-rc1\n"
          ],
          "name": "stdout"
        }
      ]
    },
    {
      "cell_type": "code",
      "metadata": {
        "id": "CuHd8J4f5RP9",
        "colab_type": "code",
        "colab": {}
      },
      "source": [
        "tf.random.set_seed(42)"
      ],
      "execution_count": 0,
      "outputs": []
    },
    {
      "cell_type": "code",
      "metadata": {
        "id": "C2WMWPaQM6WZ",
        "colab_type": "code",
        "colab": {}
      },
      "source": [
        "#Import Libraries\n",
        "import pandas as pd\n",
        "import h5py\n",
        "import numpy as np"
      ],
      "execution_count": 0,
      "outputs": []
    },
    {
      "cell_type": "code",
      "metadata": {
        "id": "ncDUmBYt5UjV",
        "colab_type": "code",
        "colab": {
          "base_uri": "https://localhost:8080/",
          "height": 122
        },
        "outputId": "91821a72-b60b-4ef3-b613-5add49ef0f8d"
      },
      "source": [
        "from google.colab import drive\n",
        "drive.mount('/content/drive')"
      ],
      "execution_count": 8,
      "outputs": [
        {
          "output_type": "stream",
          "text": [
            "Go to this URL in a browser: https://accounts.google.com/o/oauth2/auth?client_id=947318989803-6bn6qk8qdgf4n4g3pfee6491hc0brc4i.apps.googleusercontent.com&redirect_uri=urn%3aietf%3awg%3aoauth%3a2.0%3aoob&response_type=code&scope=email%20https%3a%2f%2fwww.googleapis.com%2fauth%2fdocs.test%20https%3a%2f%2fwww.googleapis.com%2fauth%2fdrive%20https%3a%2f%2fwww.googleapis.com%2fauth%2fdrive.photos.readonly%20https%3a%2f%2fwww.googleapis.com%2fauth%2fpeopleapi.readonly\n",
            "\n",
            "Enter your authorization code:\n",
            "··········\n",
            "Mounted at /content/drive\n"
          ],
          "name": "stdout"
        }
      ]
    },
    {
      "cell_type": "markdown",
      "metadata": {
        "id": "lQ6p_bWXMW6s",
        "colab_type": "text"
      },
      "source": [
        "##Data fetching and understand the train/val/test splits."
      ]
    },
    {
      "cell_type": "code",
      "metadata": {
        "id": "a5NX24vn5sUq",
        "colab_type": "code",
        "colab": {}
      },
      "source": [
        "data = h5py.File(\"/content/drive/My Drive/SVHN_sg.h5\", \"r\")"
      ],
      "execution_count": 0,
      "outputs": []
    },
    {
      "cell_type": "code",
      "metadata": {
        "id": "an85ZG4YL4pW",
        "colab_type": "code",
        "outputId": "44355838-3157-4c3b-c3c6-db80991193f3",
        "colab": {
          "base_uri": "https://localhost:8080/",
          "height": 34
        }
      },
      "source": [
        "data"
      ],
      "execution_count": 0,
      "outputs": [
        {
          "output_type": "execute_result",
          "data": {
            "text/plain": [
              "<HDF5 file \"SVHN_sg.h5\" (mode r)>"
            ]
          },
          "metadata": {
            "tags": []
          },
          "execution_count": 7
        }
      ]
    },
    {
      "cell_type": "code",
      "metadata": {
        "id": "FqTq-KhxNug0",
        "colab_type": "code",
        "outputId": "7f2db688-4aac-493d-e7f8-e053b41e7b02",
        "colab": {
          "base_uri": "https://localhost:8080/",
          "height": 34
        }
      },
      "source": [
        "list(data.keys())"
      ],
      "execution_count": 10,
      "outputs": [
        {
          "output_type": "execute_result",
          "data": {
            "text/plain": [
              "['X_test', 'X_train', 'X_val', 'y_test', 'y_train', 'y_val']"
            ]
          },
          "metadata": {
            "tags": []
          },
          "execution_count": 10
        }
      ]
    },
    {
      "cell_type": "code",
      "metadata": {
        "id": "4NAANBmFI_0N",
        "colab_type": "code",
        "colab": {}
      },
      "source": [
        "X_test = data[\"X_test\"]\n",
        "X_train = data[\"X_train\"]\n",
        "X_val = data[\"X_val\"]\n",
        "y_test = data[\"y_test\"]\n",
        "y_train = data[\"y_train\"]\n",
        "y_val = data[\"y_val\"]"
      ],
      "execution_count": 0,
      "outputs": []
    },
    {
      "cell_type": "code",
      "metadata": {
        "id": "3XAZpCRy9ziv",
        "colab_type": "code",
        "outputId": "ac3757e0-8f04-49ef-b096-c2412b22890e",
        "colab": {
          "base_uri": "https://localhost:8080/",
          "height": 34
        }
      },
      "source": [
        "X_test"
      ],
      "execution_count": 0,
      "outputs": [
        {
          "output_type": "execute_result",
          "data": {
            "text/plain": [
              "<HDF5 dataset \"X_test\": shape (18000, 32, 32), type \"<f4\">"
            ]
          },
          "metadata": {
            "tags": []
          },
          "execution_count": 48
        }
      ]
    },
    {
      "cell_type": "code",
      "metadata": {
        "id": "VB-cTYWQAFJm",
        "colab_type": "code",
        "colab": {}
      },
      "source": [
        "X_test = np.array(X_test)\n",
        "X_train = np.array(X_train)\n",
        "X_val = np.array(X_val)\n",
        "y_test = np.array(y_test)\n",
        "y_train = np.array(y_train)\n",
        "y_val = np.array(y_val)"
      ],
      "execution_count": 0,
      "outputs": []
    },
    {
      "cell_type": "code",
      "metadata": {
        "id": "1NUiiOWwALSZ",
        "colab_type": "code",
        "outputId": "2a0ea9e5-64d0-4e75-eb9f-f444dab2f1d4",
        "colab": {
          "base_uri": "https://localhost:8080/",
          "height": 34
        }
      },
      "source": [
        "X_test.shape"
      ],
      "execution_count": 0,
      "outputs": [
        {
          "output_type": "execute_result",
          "data": {
            "text/plain": [
              "(18000, 32, 32)"
            ]
          },
          "metadata": {
            "tags": []
          },
          "execution_count": 13
        }
      ]
    },
    {
      "cell_type": "code",
      "metadata": {
        "id": "1r_tBCWWGBFI",
        "colab_type": "code",
        "outputId": "90a394f7-b629-41c6-c87c-17ff32f2cb93",
        "colab": {
          "base_uri": "https://localhost:8080/",
          "height": 34
        }
      },
      "source": [
        "y_train.shape"
      ],
      "execution_count": 0,
      "outputs": [
        {
          "output_type": "execute_result",
          "data": {
            "text/plain": [
              "(42000,)"
            ]
          },
          "metadata": {
            "tags": []
          },
          "execution_count": 14
        }
      ]
    },
    {
      "cell_type": "code",
      "metadata": {
        "id": "v4QZTkzfBmop",
        "colab_type": "code",
        "colab": {}
      },
      "source": [
        "#It has 18000 record points and \"32,,32\" are their dimensions."
      ],
      "execution_count": 0,
      "outputs": []
    },
    {
      "cell_type": "code",
      "metadata": {
        "id": "2LKa5k68FAjy",
        "colab_type": "code",
        "colab": {}
      },
      "source": [
        "#Convert train and test labels to one hot vectors - 1-9 and 10 would be for 0 as this is single digit classification.\n",
        "y_train = tf.keras.utils.to_categorical(y_train, num_classes=10)\n",
        "y_test = tf.keras.utils.to_categorical(y_test, num_classes=10)\n",
        "y_val = tf.keras.utils.to_categorical(y_val, num_classes=10)"
      ],
      "execution_count": 0,
      "outputs": []
    },
    {
      "cell_type": "code",
      "metadata": {
        "id": "AdIZX97xDCRQ",
        "colab_type": "code",
        "outputId": "b810b10e-86ab-4ee0-c960-06153ab9a629",
        "colab": {
          "base_uri": "https://localhost:8080/",
          "height": 248
        }
      },
      "source": [
        "import numpy as np\n",
        "\n",
        "# visualizing the first 10 images in the dataset and their labels\n",
        "%matplotlib inline\n",
        "import matplotlib.pyplot as plt\n",
        "plt.figure(figsize=(10, 1))\n",
        "for i in range(10):\n",
        "    plt.subplot(1, 10, i+1)\n",
        "    plt.imshow(X_train[i].reshape(32, 32), cmap=\"gray\")\n",
        "    plt.axis('off')\n",
        "    print('label for each of the below image: %s' % (np.argmax(y_train[0:10][i])))    # --- no labels as this is a regression problem not a classfication one\n",
        "plt.show()"
      ],
      "execution_count": 15,
      "outputs": [
        {
          "output_type": "stream",
          "text": [
            "label for each of the below image: 2\n",
            "label for each of the below image: 6\n",
            "label for each of the below image: 7\n",
            "label for each of the below image: 4\n",
            "label for each of the below image: 4\n",
            "label for each of the below image: 0\n",
            "label for each of the below image: 3\n",
            "label for each of the below image: 0\n",
            "label for each of the below image: 7\n",
            "label for each of the below image: 3\n"
          ],
          "name": "stdout"
        },
        {
          "output_type": "display_data",
          "data": {
            "image/png": "[encoded data removed]",
            "text/plain": [
              "<Figure size 720x72 with 10 Axes>"
            ]
          },
          "metadata": {
            "tags": []
          }
        }
      ]
    },
    {
      "cell_type": "code",
      "metadata": {
        "id": "rjiK1zoplgdf",
        "colab_type": "code",
        "outputId": "73b986c9-7ab1-4ebe-d55c-031b72ba7a39",
        "colab": {
          "base_uri": "https://localhost:8080/",
          "height": 283
        }
      },
      "source": [
        "print('Label: ', y_train[0])\n",
        "plt.imshow(X_train[0].reshape(32,32), cmap=plt.cm.bone);"
      ],
      "execution_count": 16,
      "outputs": [
        {
          "output_type": "stream",
          "text": [
            "Label:  [0. 0. 1. 0. 0. 0. 0. 0. 0. 0.]\n"
          ],
          "name": "stdout"
        },
        {
          "output_type": "display_data",
          "data": {
            "image/png": "[encoded data removed]",
            "text/plain": [
              "<Figure size 432x288 with 1 Axes>"
            ]
          },
          "metadata": {
            "tags": []
          }
        }
      ]
    },
    {
      "cell_type": "code",
      "metadata": {
        "id": "rY1wU-8CWJU2",
        "colab_type": "code",
        "colab": {}
      },
      "source": [
        "#Normalize both the train and test image data to 0-1\n",
        "x_train_scaled = np.subtract(X_train, np.min(X_train))/np.subtract(np.max(X_train),np.min(X_train))\n",
        "x_test_scaled = np.subtract(X_test, np.min(X_test))/np.subtract(np.max(X_test),np.min(X_test))\n",
        "x_val_scaled = np.subtract(X_val, np.min(X_val))/np.subtract(np.max(X_val),np.min(X_val))"
      ],
      "execution_count": 0,
      "outputs": []
    },
    {
      "cell_type": "code",
      "metadata": {
        "id": "TrQ79YFI5G4W",
        "colab_type": "code",
        "outputId": "50da8d7c-0975-4179-a66f-599759241581",
        "colab": {
          "base_uri": "https://localhost:8080/",
          "height": 34
        }
      },
      "source": [
        "np.max(x_train_scaled)"
      ],
      "execution_count": 0,
      "outputs": [
        {
          "output_type": "execute_result",
          "data": {
            "text/plain": [
              "1.0"
            ]
          },
          "metadata": {
            "tags": []
          },
          "execution_count": 78
        }
      ]
    },
    {
      "cell_type": "code",
      "metadata": {
        "id": "zsbIN2x8W_t1",
        "colab_type": "code",
        "colab": {}
      },
      "source": [
        "#Reshape the data from 32x32 to 32x32x1 to match input dimensions in Conv2D layer in keras\n",
        "x_train_reshape = tf.keras.backend.expand_dims(x_train_scaled, axis=-1)"
      ],
      "execution_count": 0,
      "outputs": []
    },
    {
      "cell_type": "code",
      "metadata": {
        "id": "cepwVwvFXRJn",
        "colab_type": "code",
        "outputId": "feabd3f5-eda8-418a-8dcc-8f0731712dcd",
        "colab": {
          "base_uri": "https://localhost:8080/",
          "height": 34
        }
      },
      "source": [
        "x_train_reshape.shape"
      ],
      "execution_count": 0,
      "outputs": [
        {
          "output_type": "execute_result",
          "data": {
            "text/plain": [
              "TensorShape([42000, 32, 32, 1])"
            ]
          },
          "metadata": {
            "tags": []
          },
          "execution_count": 12
        }
      ]
    },
    {
      "cell_type": "code",
      "metadata": {
        "id": "7gf7iHQ_XcF2",
        "colab_type": "code",
        "colab": {}
      },
      "source": [
        "x_test_reshape = tf.keras.backend.expand_dims(x_test_scaled, axis=-1)"
      ],
      "execution_count": 0,
      "outputs": []
    },
    {
      "cell_type": "code",
      "metadata": {
        "id": "tpEJU6wnXi0h",
        "colab_type": "code",
        "outputId": "fb4d6824-1fe5-40d9-aa46-77ac6c625fe2",
        "colab": {
          "base_uri": "https://localhost:8080/",
          "height": 34
        }
      },
      "source": [
        "x_test_reshape.shape"
      ],
      "execution_count": 0,
      "outputs": [
        {
          "output_type": "execute_result",
          "data": {
            "text/plain": [
              "TensorShape([18000, 32, 32, 1])"
            ]
          },
          "metadata": {
            "tags": []
          },
          "execution_count": 26
        }
      ]
    },
    {
      "cell_type": "code",
      "metadata": {
        "id": "54_rp_W8XmdF",
        "colab_type": "code",
        "colab": {}
      },
      "source": [
        "x_val_reshape = tf.keras.backend.expand_dims(x_val_scaled, axis=-1)"
      ],
      "execution_count": 0,
      "outputs": []
    },
    {
      "cell_type": "code",
      "metadata": {
        "id": "hDvzauweXmre",
        "colab_type": "code",
        "outputId": "f79fe53e-3042-4614-b742-2b64874d250c",
        "colab": {
          "base_uri": "https://localhost:8080/",
          "height": 34
        }
      },
      "source": [
        "x_val_reshape.shape"
      ],
      "execution_count": 0,
      "outputs": [
        {
          "output_type": "execute_result",
          "data": {
            "text/plain": [
              "TensorShape([60000, 32, 32, 1])"
            ]
          },
          "metadata": {
            "tags": []
          },
          "execution_count": 28
        }
      ]
    },
    {
      "cell_type": "markdown",
      "metadata": {
        "id": "ong1U2geMgtH",
        "colab_type": "text"
      },
      "source": [
        "##Implement and apply a deep neural network classifier including (feedforward neural network, RELU, activations)"
      ]
    },
    {
      "cell_type": "code",
      "metadata": {
        "id": "l3JDEVOCMlZS",
        "colab_type": "code",
        "colab": {}
      },
      "source": [
        "#Importing the Libraries for building ANN model \n",
        "from tensorflow.keras.models import Sequential  #For building the Neural Network layer by layer\n",
        "from tensorflow.keras.layers import Dense, BatchNormalization, Dropout, Reshape, Flatten #Dense - To randomly initialize the weights to small numbers close to 0(But not 0)\n",
        "from tensorflow.keras.layers import MaxPool2D, Conv2D\n",
        "from tensorflow.keras import regularizers\n",
        "from tensorflow.keras import optimizers\n",
        "from tensorflow.keras.backend import backend"
      ],
      "execution_count": 0,
      "outputs": []
    },
    {
      "cell_type": "code",
      "metadata": {
        "id": "7y8v7Xo8G11s",
        "colab_type": "code",
        "colab": {}
      },
      "source": [
        "tf.keras.backend.clear_session()\n",
        "\n",
        "# Initialize Sequential model\n",
        "model = Sequential()\n",
        "\n",
        "model.add(Reshape((32,32,1),input_shape=(32,32,1)))\n"
      ],
      "execution_count": 0,
      "outputs": []
    },
    {
      "cell_type": "code",
      "metadata": {
        "id": "Vea4MIljCrIQ",
        "colab_type": "code",
        "colab": {}
      },
      "source": [
        "#Add convolutional layer\n",
        "model.add(Conv2D(32, #Number of filters \n",
        "                                 kernel_size=(3,3), #Size of the filter\n",
        "                                 activation='relu'))\n"
      ],
      "execution_count": 0,
      "outputs": []
    },
    {
      "cell_type": "code",
      "metadata": {
        "id": "UJJxKFK0FGFf",
        "colab_type": "code",
        "colab": {}
      },
      "source": [
        "#Add MaxPooling layer\n",
        "model.add(MaxPool2D(pool_size=(2,2)))\n",
        "\n",
        "\n",
        "#Add another dropout layer\n",
        "model.add(Dropout(0.25))"
      ],
      "execution_count": 0,
      "outputs": []
    },
    {
      "cell_type": "code",
      "metadata": {
        "id": "a93yhcjTEyF0",
        "colab_type": "code",
        "colab": {}
      },
      "source": [
        "#Flatten the output\n",
        "model.add(Flatten())"
      ],
      "execution_count": 0,
      "outputs": []
    },
    {
      "cell_type": "code",
      "metadata": {
        "id": "HXiEJYD4rHwK",
        "colab_type": "code",
        "colab": {}
      },
      "source": [
        "#Fully Connected Dense layer - 1st\n",
        "model.add(Dense(100, activation='relu'))\n",
        "\n",
        "#Dense layer - 2nd\n",
        "model.add(Dense(100, activation='relu'))\n",
        "\n",
        "#Dense layer - 3rd\n",
        "model.add(Dense(10, activation='relu'))"
      ],
      "execution_count": 0,
      "outputs": []
    },
    {
      "cell_type": "code",
      "metadata": {
        "id": "goyXP8BmG9CH",
        "colab_type": "code",
        "colab": {}
      },
      "source": [
        "#Output layer\n",
        "#Sigmoid activation function is used whenever we need Probabilities of 2 categories or less(Similar to Logistic Regression)\n",
        "#We would switch to Softmax as the dependent variable has more than 2 categories\n",
        "\n",
        "model.add(Dense(10, activation='softmax'))"
      ],
      "execution_count": 0,
      "outputs": []
    },
    {
      "cell_type": "code",
      "metadata": {
        "id": "P5MLCmIZHCN4",
        "colab_type": "code",
        "colab": {}
      },
      "source": [
        "# Compile the model\n",
        "#Here we would be using 'adam' optimizer and loss as 'categorical_crossentropy'.\n",
        "#if more than 2 categories then we use - categorical_crossentropy\n",
        "model.compile(optimizer= 'adam', loss='categorical_crossentropy', metrics=['accuracy'])"
      ],
      "execution_count": 0,
      "outputs": []
    },
    {
      "cell_type": "code",
      "metadata": {
        "id": "mmnTgtAVHIAx",
        "colab_type": "code",
        "outputId": "5f8c1291-e7c1-4d4e-afe0-61878ccf75ba",
        "colab": {
          "base_uri": "https://localhost:8080/",
          "height": 391
        }
      },
      "source": [
        "#Train the model\n",
        "model.fit(x_train_reshape,y_train,          \n",
        "          validation_data=(x_val_reshape,y_val),\n",
        "          epochs=10,\n",
        "          batch_size=200)"
      ],
      "execution_count": 193,
      "outputs": [
        {
          "output_type": "stream",
          "text": [
            "Train on 42000 samples, validate on 60000 samples\n",
            "Epoch 1/10\n",
            "42000/42000 [==============================] - 36s 851us/sample - loss: 2.1564 - accuracy: 0.1798 - val_loss: 1.8898 - val_accuracy: 0.2738\n",
            "Epoch 2/10\n",
            "42000/42000 [==============================] - 35s 836us/sample - loss: 1.5711 - accuracy: 0.4387 - val_loss: 1.3001 - val_accuracy: 0.5731\n",
            "Epoch 3/10\n",
            "42000/42000 [==============================] - 35s 831us/sample - loss: 1.1245 - accuracy: 0.6347 - val_loss: 0.9178 - val_accuracy: 0.7268\n",
            "Epoch 4/10\n",
            "42000/42000 [==============================] - 35s 837us/sample - loss: 0.8822 - accuracy: 0.7314 - val_loss: 0.7775 - val_accuracy: 0.7729\n",
            "Epoch 5/10\n",
            "42000/42000 [==============================] - 35s 832us/sample - loss: 0.7715 - accuracy: 0.7699 - val_loss: 0.6962 - val_accuracy: 0.8014\n",
            "Epoch 6/10\n",
            "42000/42000 [==============================] - 35s 836us/sample - loss: 0.7006 - accuracy: 0.7923 - val_loss: 0.6163 - val_accuracy: 0.8242\n",
            "Epoch 7/10\n",
            "42000/42000 [==============================] - 35s 842us/sample - loss: 0.6497 - accuracy: 0.8071 - val_loss: 0.5842 - val_accuracy: 0.8347\n",
            "Epoch 8/10\n",
            "42000/42000 [==============================] - 35s 831us/sample - loss: 0.6142 - accuracy: 0.8188 - val_loss: 0.5518 - val_accuracy: 0.8462\n",
            "Epoch 9/10\n",
            "42000/42000 [==============================] - 35s 836us/sample - loss: 0.5848 - accuracy: 0.8287 - val_loss: 0.5356 - val_accuracy: 0.8496\n",
            "Epoch 10/10\n",
            "42000/42000 [==============================] - 35s 838us/sample - loss: 0.5535 - accuracy: 0.8372 - val_loss: 0.5094 - val_accuracy: 0.8541\n"
          ],
          "name": "stdout"
        },
        {
          "output_type": "execute_result",
          "data": {
            "text/plain": [
              "<tensorflow.python.keras.callbacks.History at 0x7fd6db8f90f0>"
            ]
          },
          "metadata": {
            "tags": []
          },
          "execution_count": 193
        }
      ]
    },
    {
      "cell_type": "code",
      "metadata": {
        "id": "NIhO5jWpY4n2",
        "colab_type": "code",
        "outputId": "17e14b30-8427-4933-a236-9f132908502f",
        "colab": {
          "base_uri": "https://localhost:8080/",
          "height": 459
        }
      },
      "source": [
        "model.summary()"
      ],
      "execution_count": 194,
      "outputs": [
        {
          "output_type": "stream",
          "text": [
            "Model: \"sequential\"\n",
            "_________________________________________________________________\n",
            "Layer (type)                 Output Shape              Param #   \n",
            "=================================================================\n",
            "reshape (Reshape)            (None, 32, 32, 1)         0         \n",
            "_________________________________________________________________\n",
            "conv2d (Conv2D)              (None, 30, 30, 32)        320       \n",
            "_________________________________________________________________\n",
            "max_pooling2d (MaxPooling2D) (None, 15, 15, 32)        0         \n",
            "_________________________________________________________________\n",
            "dropout (Dropout)            (None, 15, 15, 32)        0         \n",
            "_________________________________________________________________\n",
            "flatten (Flatten)            (None, 7200)              0         \n",
            "_________________________________________________________________\n",
            "dense (Dense)                (None, 100)               720100    \n",
            "_________________________________________________________________\n",
            "dense_1 (Dense)              (None, 100)               10100     \n",
            "_________________________________________________________________\n",
            "dense_2 (Dense)              (None, 10)                1010      \n",
            "_________________________________________________________________\n",
            "dense_3 (Dense)              (None, 10)                110       \n",
            "=================================================================\n",
            "Total params: 731,640\n",
            "Trainable params: 731,640\n",
            "Non-trainable params: 0\n",
            "_________________________________________________________________\n"
          ],
          "name": "stdout"
        }
      ]
    },
    {
      "cell_type": "code",
      "metadata": {
        "id": "1S66Za7HHMb3",
        "colab_type": "code",
        "outputId": "97bc2c85-7f78-4aae-928a-c70d211c2b22",
        "colab": {
          "base_uri": "https://localhost:8080/",
          "height": 51
        }
      },
      "source": [
        "#Training Accuracy\n",
        "score = model.evaluate(x_train_reshape, y_train, verbose=0)\n",
        "print(\"Train Loss : \", score[0])\n",
        "print(\"Train Accuracy : \",score[1])"
      ],
      "execution_count": 195,
      "outputs": [
        {
          "output_type": "stream",
          "text": [
            "Train Loss :  0.4789819264525459\n",
            "Train Accuracy :  0.86207145\n"
          ],
          "name": "stdout"
        }
      ]
    },
    {
      "cell_type": "code",
      "metadata": {
        "id": "-2j4_xXBHO0k",
        "colab_type": "code",
        "outputId": "9fe443cd-799f-4e8b-c6ed-8739c6421d0a",
        "colab": {
          "base_uri": "https://localhost:8080/",
          "height": 51
        }
      },
      "source": [
        "#Testing Accuracy\n",
        "score = model.evaluate(x_test_reshape, y_test, verbose=0)\n",
        "print(\"Test Loss : \", score[0])\n",
        "print(\"Test Accuracy : \",score[1])"
      ],
      "execution_count": 196,
      "outputs": [
        {
          "output_type": "stream",
          "text": [
            "Test Loss :  0.5803298817343182\n",
            "Test Accuracy :  0.8356111\n"
          ],
          "name": "stdout"
        }
      ]
    },
    {
      "cell_type": "markdown",
      "metadata": {
        "id": "b0wGVPRSMmrh",
        "colab_type": "text"
      },
      "source": [
        "##Understand and be able to implement (vectorized) backpropagation (cost stochastic gradient descent, cross entropy loss, cost functions) "
      ]
    },
    {
      "cell_type": "code",
      "metadata": {
        "id": "yKIT0--oMqCo",
        "colab_type": "code",
        "colab": {}
      },
      "source": [
        "tf.keras.backend.clear_session()\n",
        "\n",
        "# Initialize Sequential model\n",
        "model1 = Sequential()\n",
        "\n",
        "model1.add(Reshape((32,32,1),input_shape=(32,32,1)))"
      ],
      "execution_count": 0,
      "outputs": []
    },
    {
      "cell_type": "code",
      "metadata": {
        "id": "VGG3Oh_uM93U",
        "colab_type": "code",
        "colab": {}
      },
      "source": [
        "#Add convolutional layer\n",
        "model1.add(Conv2D(32, #Number of filters \n",
        "                                 kernel_size=(3,3), #Size of the filter\n",
        "                                 activation='relu'))"
      ],
      "execution_count": 0,
      "outputs": []
    },
    {
      "cell_type": "code",
      "metadata": {
        "id": "dfA5pzY75UUt",
        "colab_type": "code",
        "colab": {}
      },
      "source": [
        "#Add MaxPooling layer\n",
        "model1.add(MaxPool2D(pool_size=(2,2)))\n",
        "\n",
        "\n",
        "#Add another dropout layer\n",
        "model1.add(Dropout(0.25))\n",
        "\n",
        "#Flatten the output\n",
        "model1.add(Flatten())"
      ],
      "execution_count": 0,
      "outputs": []
    },
    {
      "cell_type": "code",
      "metadata": {
        "id": "AmDTm02-5Uj8",
        "colab_type": "code",
        "colab": {}
      },
      "source": [
        "#Fully Connected Dense layer - 1st\n",
        "model1.add(Dense(100, activation='relu'))\n",
        "\n",
        "#Dense layer - 2nd\n",
        "model1.add(Dense(100, activation='relu'))\n",
        "\n",
        "#Dense layer - 3rd\n",
        "model1.add(Dense(10, activation='relu'))"
      ],
      "execution_count": 0,
      "outputs": []
    },
    {
      "cell_type": "code",
      "metadata": {
        "id": "pTo5pCAo5j71",
        "colab_type": "code",
        "colab": {}
      },
      "source": [
        "#Output Layer\n",
        "model1.add(Dense(10, activation='softmax'))"
      ],
      "execution_count": 0,
      "outputs": []
    },
    {
      "cell_type": "code",
      "metadata": {
        "id": "kl1CwesCPIDH",
        "colab_type": "code",
        "colab": {}
      },
      "source": [
        "\n",
        "sgd_optimizer = tf.keras.optimizers.SGD(lr=0.01, momentum=0.9)\n",
        "model1.compile(optimizer= sgd_optimizer, loss='categorical_crossentropy', metrics=['accuracy'])"
      ],
      "execution_count": 0,
      "outputs": []
    },
    {
      "cell_type": "code",
      "metadata": {
        "id": "8UNEXK3rPLQn",
        "colab_type": "code",
        "colab": {
          "base_uri": "https://localhost:8080/",
          "height": 391
        },
        "outputId": "fd421b10-53e8-48a4-d364-cfe447a2e273"
      },
      "source": [
        "#Train the model\n",
        "model1.fit(x_train_reshape,y_train,          \n",
        "          validation_data=(x_val_reshape,y_val),\n",
        "          epochs=10,\n",
        "          batch_size=200)"
      ],
      "execution_count": 205,
      "outputs": [
        {
          "output_type": "stream",
          "text": [
            "Train on 42000 samples, validate on 60000 samples\n",
            "Epoch 1/10\n",
            "42000/42000 [==============================] - 36s 856us/sample - loss: 2.3028 - accuracy: 0.1036 - val_loss: 2.3018 - val_accuracy: 0.1031\n",
            "Epoch 2/10\n",
            "42000/42000 [==============================] - 35s 843us/sample - loss: 2.3008 - accuracy: 0.1178 - val_loss: 2.2982 - val_accuracy: 0.1136\n",
            "Epoch 3/10\n",
            "42000/42000 [==============================] - 35s 840us/sample - loss: 2.2811 - accuracy: 0.1629 - val_loss: 2.2316 - val_accuracy: 0.2032\n",
            "Epoch 4/10\n",
            "42000/42000 [==============================] - 35s 844us/sample - loss: 2.0716 - accuracy: 0.2561 - val_loss: 1.8637 - val_accuracy: 0.3488\n",
            "Epoch 5/10\n",
            "42000/42000 [==============================] - 35s 843us/sample - loss: 1.7431 - accuracy: 0.3873 - val_loss: 1.5983 - val_accuracy: 0.4394\n",
            "Epoch 6/10\n",
            "42000/42000 [==============================] - 35s 843us/sample - loss: 1.5580 - accuracy: 0.4595 - val_loss: 1.4337 - val_accuracy: 0.5239\n",
            "Epoch 7/10\n",
            "42000/42000 [==============================] - 35s 845us/sample - loss: 1.4142 - accuracy: 0.5283 - val_loss: 1.2973 - val_accuracy: 0.5844\n",
            "Epoch 8/10\n",
            "42000/42000 [==============================] - 37s 869us/sample - loss: 1.2780 - accuracy: 0.5899 - val_loss: 1.1421 - val_accuracy: 0.6441\n",
            "Epoch 9/10\n",
            "42000/42000 [==============================] - 36s 847us/sample - loss: 1.1608 - accuracy: 0.6332 - val_loss: 1.0363 - val_accuracy: 0.6792\n",
            "Epoch 10/10\n",
            "42000/42000 [==============================] - 36s 847us/sample - loss: 1.0671 - accuracy: 0.6687 - val_loss: 0.9518 - val_accuracy: 0.7143\n"
          ],
          "name": "stdout"
        },
        {
          "output_type": "execute_result",
          "data": {
            "text/plain": [
              "<tensorflow.python.keras.callbacks.History at 0x7fd6db716cf8>"
            ]
          },
          "metadata": {
            "tags": []
          },
          "execution_count": 205
        }
      ]
    },
    {
      "cell_type": "code",
      "metadata": {
        "id": "heoSm7C8hzAT",
        "colab_type": "code",
        "colab": {
          "base_uri": "https://localhost:8080/",
          "height": 459
        },
        "outputId": "4a5e6cf3-3cc3-471e-ea5e-11716f87bfaf"
      },
      "source": [
        "model1.summary()"
      ],
      "execution_count": 206,
      "outputs": [
        {
          "output_type": "stream",
          "text": [
            "Model: \"sequential\"\n",
            "_________________________________________________________________\n",
            "Layer (type)                 Output Shape              Param #   \n",
            "=================================================================\n",
            "reshape (Reshape)            (None, 32, 32, 1)         0         \n",
            "_________________________________________________________________\n",
            "conv2d (Conv2D)              (None, 30, 30, 32)        320       \n",
            "_________________________________________________________________\n",
            "max_pooling2d (MaxPooling2D) (None, 15, 15, 32)        0         \n",
            "_________________________________________________________________\n",
            "dropout (Dropout)            (None, 15, 15, 32)        0         \n",
            "_________________________________________________________________\n",
            "flatten (Flatten)            (None, 7200)              0         \n",
            "_________________________________________________________________\n",
            "dense (Dense)                (None, 100)               720100    \n",
            "_________________________________________________________________\n",
            "dense_1 (Dense)              (None, 100)               10100     \n",
            "_________________________________________________________________\n",
            "dense_2 (Dense)              (None, 10)                1010      \n",
            "_________________________________________________________________\n",
            "dense_3 (Dense)              (None, 10)                110       \n",
            "=================================================================\n",
            "Total params: 731,640\n",
            "Trainable params: 731,640\n",
            "Non-trainable params: 0\n",
            "_________________________________________________________________\n"
          ],
          "name": "stdout"
        }
      ]
    },
    {
      "cell_type": "code",
      "metadata": {
        "id": "t6ACoM8E7zFo",
        "colab_type": "code",
        "colab": {
          "base_uri": "https://localhost:8080/",
          "height": 51
        },
        "outputId": "be1fae3e-feff-4c9c-a455-870a9c07902f"
      },
      "source": [
        "#Training Accuracy\n",
        "score_model1_train = model1.evaluate(x_train_reshape, y_train, verbose=0)\n",
        "print(\"Train Loss : \", score_model1_train[0])\n",
        "print(\"Train Accuracy : \",score_model1_train[1])"
      ],
      "execution_count": 208,
      "outputs": [
        {
          "output_type": "stream",
          "text": [
            "Train Loss :  0.9377683415639968\n",
            "Train Accuracy :  0.71835715\n"
          ],
          "name": "stdout"
        }
      ]
    },
    {
      "cell_type": "code",
      "metadata": {
        "id": "6d5FYEiO7zaE",
        "colab_type": "code",
        "colab": {
          "base_uri": "https://localhost:8080/",
          "height": 51
        },
        "outputId": "1486a498-50b3-4b16-aacf-0f525dd13b1a"
      },
      "source": [
        "#Testing Accuracy\n",
        "score_model1_test = model.evaluate(x_test_reshape, y_test, verbose=0)\n",
        "print(\"Test Loss : \", score_model1_test[0])\n",
        "print(\"Test Accuracy : \",score_model1_test[1])"
      ],
      "execution_count": 209,
      "outputs": [
        {
          "output_type": "stream",
          "text": [
            "Test Loss :  0.5696177128950755\n",
            "Test Accuracy :  0.8400556\n"
          ],
          "name": "stdout"
        }
      ]
    },
    {
      "cell_type": "markdown",
      "metadata": {
        "id": "X4emat-bMtYV",
        "colab_type": "text"
      },
      "source": [
        "##Implement batch normalization for training the neural network."
      ]
    },
    {
      "cell_type": "code",
      "metadata": {
        "id": "-FKAjE-AMu_G",
        "colab_type": "code",
        "colab": {}
      },
      "source": [
        "tf.keras.backend.clear_session()\n",
        "\n",
        "# Initialize Sequential model\n",
        "model2 = Sequential()\n",
        "\n",
        "model2.add(Reshape((32,32,1),input_shape=(32,32,1)))\n",
        "\n",
        "#normalize data\n",
        "model2.add(BatchNormalization())"
      ],
      "execution_count": 0,
      "outputs": []
    },
    {
      "cell_type": "code",
      "metadata": {
        "id": "rgk_1748LJgR",
        "colab_type": "code",
        "colab": {}
      },
      "source": [
        "\n",
        "#Add convolutional layer\n",
        "model2.add(Conv2D(32, #Number of filters \n",
        "                                 kernel_size=(3,3), #Size of the filter\n",
        "                                 activation='relu'))\n",
        "\n",
        "#Add convolutional layer\n",
        "model2.add(Conv2D(32, #Number of filters \n",
        "                                 kernel_size=(3,3), #Size of the filter\n",
        "                                 activation='relu'))"
      ],
      "execution_count": 0,
      "outputs": []
    },
    {
      "cell_type": "code",
      "metadata": {
        "id": "AS6OL7iULPFv",
        "colab_type": "code",
        "colab": {}
      },
      "source": [
        "#Add MaxPooling layer\n",
        "model2.add(MaxPool2D(pool_size=(2,2)))\n",
        "\n",
        "\n",
        "#Add another dropout layer\n",
        "model2.add(Dropout(0.25))\n",
        "\n",
        "#Flatten the output\n",
        "model2.add(Flatten())"
      ],
      "execution_count": 0,
      "outputs": []
    },
    {
      "cell_type": "code",
      "metadata": {
        "id": "BzLMXrsFLXx4",
        "colab_type": "code",
        "colab": {}
      },
      "source": [
        "#normalize data\n",
        "model2.add(BatchNormalization())\n",
        "#Fully Connected Dense layer - 1st\n",
        "model2.add(Dense(100, activation='relu'))\n",
        "\n",
        "#normalize data\n",
        "model2.add(BatchNormalization())\n",
        "#Dense layer - 2nd\n",
        "model2.add(Dense(100, activation='relu'))\n",
        "\n",
        "#normalize data\n",
        "model2.add(BatchNormalization())\n",
        "#Dense layer - 3rd\n",
        "model2.add(Dense(10, activation='relu'))"
      ],
      "execution_count": 0,
      "outputs": []
    },
    {
      "cell_type": "code",
      "metadata": {
        "id": "o8Enw-qbL6bF",
        "colab_type": "code",
        "colab": {}
      },
      "source": [
        "#Output Layer\n",
        "model2.add(Dense(10, activation='softmax'))"
      ],
      "execution_count": 0,
      "outputs": []
    },
    {
      "cell_type": "code",
      "metadata": {
        "id": "Ku4SH6EEZzcv",
        "colab_type": "code",
        "colab": {}
      },
      "source": [
        "model2.compile(optimizer= 'adam', loss='categorical_crossentropy', metrics=['accuracy'])\n"
      ],
      "execution_count": 0,
      "outputs": []
    },
    {
      "cell_type": "code",
      "metadata": {
        "id": "_O7xzK90Z-vI",
        "colab_type": "code",
        "colab": {
          "base_uri": "https://localhost:8080/",
          "height": 391
        },
        "outputId": "264cb533-88d4-41b5-b595-da3152f38514"
      },
      "source": [
        "#Train the model\n",
        "model2.fit(x_train_reshape,y_train,          \n",
        "          validation_data=(x_val_reshape,y_val),\n",
        "          epochs=10,\n",
        "          batch_size=200)"
      ],
      "execution_count": 112,
      "outputs": [
        {
          "output_type": "stream",
          "text": [
            "Train on 42000 samples, validate on 60000 samples\n",
            "Epoch 1/10\n",
            "42000/42000 [==============================] - 122s 3ms/sample - loss: 1.2410 - accuracy: 0.5900 - val_loss: 3.2040 - val_accuracy: 0.1532\n",
            "Epoch 2/10\n",
            "42000/42000 [==============================] - 121s 3ms/sample - loss: 0.4632 - accuracy: 0.8634 - val_loss: 1.1867 - val_accuracy: 0.6489\n",
            "Epoch 3/10\n",
            "42000/42000 [==============================] - 120s 3ms/sample - loss: 0.3256 - accuracy: 0.9034 - val_loss: 0.2840 - val_accuracy: 0.9213\n",
            "Epoch 4/10\n",
            "42000/42000 [==============================] - 120s 3ms/sample - loss: 0.2504 - accuracy: 0.9243 - val_loss: 0.2090 - val_accuracy: 0.9406\n",
            "Epoch 5/10\n",
            "42000/42000 [==============================] - 120s 3ms/sample - loss: 0.1988 - accuracy: 0.9406 - val_loss: 0.1851 - val_accuracy: 0.9484\n",
            "Epoch 6/10\n",
            "42000/42000 [==============================] - 119s 3ms/sample - loss: 0.1671 - accuracy: 0.9499 - val_loss: 0.1664 - val_accuracy: 0.9539\n",
            "Epoch 7/10\n",
            "42000/42000 [==============================] - 119s 3ms/sample - loss: 0.1336 - accuracy: 0.9592 - val_loss: 0.1549 - val_accuracy: 0.9581\n",
            "Epoch 8/10\n",
            "42000/42000 [==============================] - 120s 3ms/sample - loss: 0.1123 - accuracy: 0.9647 - val_loss: 0.1452 - val_accuracy: 0.9617\n",
            "Epoch 9/10\n",
            "42000/42000 [==============================] - 119s 3ms/sample - loss: 0.1020 - accuracy: 0.9673 - val_loss: 0.1414 - val_accuracy: 0.9631\n",
            "Epoch 10/10\n",
            "42000/42000 [==============================] - 119s 3ms/sample - loss: 0.0863 - accuracy: 0.9724 - val_loss: 0.1462 - val_accuracy: 0.9634\n"
          ],
          "name": "stdout"
        },
        {
          "output_type": "execute_result",
          "data": {
            "text/plain": [
              "<tensorflow.python.keras.callbacks.History at 0x7fd6e95b9ac8>"
            ]
          },
          "metadata": {
            "tags": []
          },
          "execution_count": 112
        }
      ]
    },
    {
      "cell_type": "code",
      "metadata": {
        "id": "xpj22jgraB2O",
        "colab_type": "code",
        "colab": {
          "base_uri": "https://localhost:8080/",
          "height": 629
        },
        "outputId": "1215d4f8-ae1b-482a-f3a8-eeb6a0aa8534"
      },
      "source": [
        "model2.summary()\n"
      ],
      "execution_count": 113,
      "outputs": [
        {
          "output_type": "stream",
          "text": [
            "Model: \"sequential\"\n",
            "_________________________________________________________________\n",
            "Layer (type)                 Output Shape              Param #   \n",
            "=================================================================\n",
            "reshape (Reshape)            (None, 32, 32, 1)         0         \n",
            "_________________________________________________________________\n",
            "batch_normalization (BatchNo (None, 32, 32, 1)         4         \n",
            "_________________________________________________________________\n",
            "conv2d (Conv2D)              (None, 30, 30, 32)        320       \n",
            "_________________________________________________________________\n",
            "conv2d_1 (Conv2D)            (None, 28, 28, 32)        9248      \n",
            "_________________________________________________________________\n",
            "max_pooling2d (MaxPooling2D) (None, 14, 14, 32)        0         \n",
            "_________________________________________________________________\n",
            "dropout (Dropout)            (None, 14, 14, 32)        0         \n",
            "_________________________________________________________________\n",
            "flatten (Flatten)            (None, 6272)              0         \n",
            "_________________________________________________________________\n",
            "batch_normalization_1 (Batch (None, 6272)              25088     \n",
            "_________________________________________________________________\n",
            "dense (Dense)                (None, 100)               627300    \n",
            "_________________________________________________________________\n",
            "batch_normalization_2 (Batch (None, 100)               400       \n",
            "_________________________________________________________________\n",
            "dense_1 (Dense)              (None, 100)               10100     \n",
            "_________________________________________________________________\n",
            "batch_normalization_3 (Batch (None, 100)               400       \n",
            "_________________________________________________________________\n",
            "dense_2 (Dense)              (None, 10)                1010      \n",
            "_________________________________________________________________\n",
            "dense_3 (Dense)              (None, 10)                110       \n",
            "=================================================================\n",
            "Total params: 673,980\n",
            "Trainable params: 661,034\n",
            "Non-trainable params: 12,946\n",
            "_________________________________________________________________\n"
          ],
          "name": "stdout"
        }
      ]
    },
    {
      "cell_type": "markdown",
      "metadata": {
        "id": "IHfOIp1JMvgZ",
        "colab_type": "text"
      },
      "source": [
        "##Print the classification accuracy metrics "
      ]
    },
    {
      "cell_type": "code",
      "metadata": {
        "id": "QOX2Q5m_Mxw8",
        "colab_type": "code",
        "colab": {
          "base_uri": "https://localhost:8080/",
          "height": 51
        },
        "outputId": "fb798553-afd7-4254-ec3f-c60501d65bfa"
      },
      "source": [
        "#Training Accuracy\n",
        "score_train_model2 = model2.evaluate(x_train_reshape, y_train, verbose=0)\n",
        "print(\"Train Loss : \", score_train_model2[0])\n",
        "print(\"Train Accuracy : \",score_train_model2[1])"
      ],
      "execution_count": 214,
      "outputs": [
        {
          "output_type": "stream",
          "text": [
            "Train Loss :  0.04200830354834242\n",
            "Train Accuracy :  0.98833334\n"
          ],
          "name": "stdout"
        }
      ]
    },
    {
      "cell_type": "code",
      "metadata": {
        "id": "4MCTtSTk9pig",
        "colab_type": "code",
        "colab": {
          "base_uri": "https://localhost:8080/",
          "height": 51
        },
        "outputId": "b0f2a9fa-3590-42fc-ff72-9b441b1715f3"
      },
      "source": [
        "#Testing Accuracy\n",
        "score_test_model2 = model2.evaluate(x_test_reshape, y_test, verbose=0)\n",
        "print(\"Test Loss : \", score_test_model2[0])\n",
        "print(\"Test Accuracy : \",score_test_model2[1])\n"
      ],
      "execution_count": 215,
      "outputs": [
        {
          "output_type": "stream",
          "text": [
            "Test Loss :  0.3891664120281736\n",
            "Test Accuracy :  0.90533334\n"
          ],
          "name": "stdout"
        }
      ]
    },
    {
      "cell_type": "code",
      "metadata": {
        "id": "5dlYCwhSDJMQ",
        "colab_type": "code",
        "colab": {}
      },
      "source": [
        "#Conclusion : After applying BatchNormalization and with Adam optimizer we have achieved test accuracy of 90%"
      ],
      "execution_count": 0,
      "outputs": []
    }
  ]
}