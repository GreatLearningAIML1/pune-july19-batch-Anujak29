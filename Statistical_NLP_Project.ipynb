{
  "nbformat": 4,
  "nbformat_minor": 0,
  "metadata": {
    "colab": {
      "name": "Statistical_NLP_Project",
      "provenance": [],
      "collapsed_sections": [],
      "machine_shape": "hm"
    },
    "kernelspec": {
      "name": "python3",
      "display_name": "Python 3"
    }
  },
  "cells": [
    {
      "cell_type": "markdown",
      "metadata": {
        "id": "86wVSTcTl79T",
        "colab_type": "text"
      },
      "source": [
        "# Statiscal NLP Project - Blog Authorship Corpus"
      ]
    },
    {
      "cell_type": "code",
      "metadata": {
        "id": "LPgl_FpXl4c_",
        "colab_type": "code",
        "colab": {}
      },
      "source": [
        "#Import Libraries\n",
        "import numpy as np\n",
        "import pandas as pd\n",
        "import re\n",
        "import nltk \n",
        "from sklearn.model_selection import train_test_split\n",
        "from sklearn.feature_extraction.text import CountVectorizer\n",
        "from sklearn import metrics\n",
        "%matplotlib inline\n",
        "\n",
        "import warnings\n",
        "warnings.filterwarnings('ignore')"
      ],
      "execution_count": 0,
      "outputs": []
    },
    {
      "cell_type": "markdown",
      "metadata": {
        "id": "cga4zaPfrhpD",
        "colab_type": "text"
      },
      "source": [
        "## Load the dataset"
      ]
    },
    {
      "cell_type": "code",
      "metadata": {
        "id": "MnNwf5XKmmdw",
        "colab_type": "code",
        "colab": {}
      },
      "source": [
        "#After mounting the drive from the files section, read the dataset\n",
        "df = pd.read_csv(\"/content/drive/My Drive/blogtext.csv\")"
      ],
      "execution_count": 0,
      "outputs": []
    },
    {
      "cell_type": "code",
      "metadata": {
        "id": "GaZfiWPDm4rF",
        "colab_type": "code",
        "outputId": "16a181e3-36ce-475a-d7ac-f050b0af7e60",
        "colab": {
          "base_uri": "https://localhost:8080/",
          "height": 34
        }
      },
      "source": [
        "df.shape"
      ],
      "execution_count": 6,
      "outputs": [
        {
          "output_type": "execute_result",
          "data": {
            "text/plain": [
              "(681284, 7)"
            ]
          },
          "metadata": {
            "tags": []
          },
          "execution_count": 6
        }
      ]
    },
    {
      "cell_type": "code",
      "metadata": {
        "id": "YpgRcOs5nfcN",
        "colab_type": "code",
        "outputId": "efc3f90b-0d9e-490e-c8f8-f50fc3346011",
        "colab": {
          "base_uri": "https://localhost:8080/",
          "height": 204
        }
      },
      "source": [
        "df.head()"
      ],
      "execution_count": 7,
      "outputs": [
        {
          "output_type": "execute_result",
          "data": {
            "text/html": [
              "<div>\n",
              "<style scoped>\n",
              "    .dataframe tbody tr th:only-of-type {\n",
              "        vertical-align: middle;\n",
              "    }\n",
              "\n",
              "    .dataframe tbody tr th {\n",
              "        vertical-align: top;\n",
              "    }\n",
              "\n",
              "    .dataframe thead th {\n",
              "        text-align: right;\n",
              "    }\n",
              "</style>\n",
              "<table border=\"1\" class=\"dataframe\">\n",
              "  <thead>\n",
              "    <tr style=\"text-align: right;\">\n",
              "      <th></th>\n",
              "      <th>id</th>\n",
              "      <th>gender</th>\n",
              "      <th>age</th>\n",
              "      <th>topic</th>\n",
              "      <th>sign</th>\n",
              "      <th>date</th>\n",
              "      <th>text</th>\n",
              "    </tr>\n",
              "  </thead>\n",
              "  <tbody>\n",
              "    <tr>\n",
              "      <th>0</th>\n",
              "      <td>2059027</td>\n",
              "      <td>male</td>\n",
              "      <td>15</td>\n",
              "      <td>Student</td>\n",
              "      <td>Leo</td>\n",
              "      <td>14,May,2004</td>\n",
              "      <td>Info has been found (+/- 100 pages,...</td>\n",
              "    </tr>\n",
              "    <tr>\n",
              "      <th>1</th>\n",
              "      <td>2059027</td>\n",
              "      <td>male</td>\n",
              "      <td>15</td>\n",
              "      <td>Student</td>\n",
              "      <td>Leo</td>\n",
              "      <td>13,May,2004</td>\n",
              "      <td>These are the team members:   Drewe...</td>\n",
              "    </tr>\n",
              "    <tr>\n",
              "      <th>2</th>\n",
              "      <td>2059027</td>\n",
              "      <td>male</td>\n",
              "      <td>15</td>\n",
              "      <td>Student</td>\n",
              "      <td>Leo</td>\n",
              "      <td>12,May,2004</td>\n",
              "      <td>In het kader van kernfusie op aarde...</td>\n",
              "    </tr>\n",
              "    <tr>\n",
              "      <th>3</th>\n",
              "      <td>2059027</td>\n",
              "      <td>male</td>\n",
              "      <td>15</td>\n",
              "      <td>Student</td>\n",
              "      <td>Leo</td>\n",
              "      <td>12,May,2004</td>\n",
              "      <td>testing!!!  testing!!!</td>\n",
              "    </tr>\n",
              "    <tr>\n",
              "      <th>4</th>\n",
              "      <td>3581210</td>\n",
              "      <td>male</td>\n",
              "      <td>33</td>\n",
              "      <td>InvestmentBanking</td>\n",
              "      <td>Aquarius</td>\n",
              "      <td>11,June,2004</td>\n",
              "      <td>Thanks to Yahoo!'s Toolbar I can ...</td>\n",
              "    </tr>\n",
              "  </tbody>\n",
              "</table>\n",
              "</div>"
            ],
            "text/plain": [
              "        id  ...                                               text\n",
              "0  2059027  ...             Info has been found (+/- 100 pages,...\n",
              "1  2059027  ...             These are the team members:   Drewe...\n",
              "2  2059027  ...             In het kader van kernfusie op aarde...\n",
              "3  2059027  ...                   testing!!!  testing!!!          \n",
              "4  3581210  ...               Thanks to Yahoo!'s Toolbar I can ...\n",
              "\n",
              "[5 rows x 7 columns]"
            ]
          },
          "metadata": {
            "tags": []
          },
          "execution_count": 7
        }
      ]
    },
    {
      "cell_type": "code",
      "metadata": {
        "id": "zgpSgcALj5dh",
        "colab_type": "code",
        "outputId": "2ae408a3-22e4-4cb4-bc8f-8c8dfa7e9e29",
        "colab": {
          "base_uri": "https://localhost:8080/",
          "height": 34
        }
      },
      "source": [
        "df[\"gender\"].unique()"
      ],
      "execution_count": 8,
      "outputs": [
        {
          "output_type": "execute_result",
          "data": {
            "text/plain": [
              "array(['male', 'female'], dtype=object)"
            ]
          },
          "metadata": {
            "tags": []
          },
          "execution_count": 8
        }
      ]
    },
    {
      "cell_type": "code",
      "metadata": {
        "id": "U1Tvh9lAlLif",
        "colab_type": "code",
        "outputId": "93feaa02-f434-404b-ea1d-8b31b82ad08d",
        "colab": {
          "base_uri": "https://localhost:8080/",
          "height": 34
        }
      },
      "source": [
        "df[\"age\"].nunique()"
      ],
      "execution_count": 0,
      "outputs": [
        {
          "output_type": "execute_result",
          "data": {
            "text/plain": [
              "26"
            ]
          },
          "metadata": {
            "tags": []
          },
          "execution_count": 8
        }
      ]
    },
    {
      "cell_type": "code",
      "metadata": {
        "id": "7-oykLjdlUxa",
        "colab_type": "code",
        "outputId": "84a81c73-e955-448a-de5c-ba9406d20c58",
        "colab": {
          "base_uri": "https://localhost:8080/",
          "height": 51
        }
      },
      "source": [
        "df[\"age\"].unique()"
      ],
      "execution_count": 0,
      "outputs": [
        {
          "output_type": "execute_result",
          "data": {
            "text/plain": [
              "array([15, 33, 14, 25, 17, 23, 37, 26, 24, 27, 45, 34, 41, 44, 16, 39, 35,\n",
              "       36, 46, 42, 13, 38, 43, 40, 47, 48])"
            ]
          },
          "metadata": {
            "tags": []
          },
          "execution_count": 10
        }
      ]
    },
    {
      "cell_type": "code",
      "metadata": {
        "id": "nONfiogqljbn",
        "colab_type": "code",
        "outputId": "641e33f2-a727-4c58-f738-9219e1622891",
        "colab": {
          "base_uri": "https://localhost:8080/",
          "height": 34
        }
      },
      "source": [
        "df[\"topic\"].nunique()"
      ],
      "execution_count": 0,
      "outputs": [
        {
          "output_type": "execute_result",
          "data": {
            "text/plain": [
              "40"
            ]
          },
          "metadata": {
            "tags": []
          },
          "execution_count": 11
        }
      ]
    },
    {
      "cell_type": "code",
      "metadata": {
        "id": "A1JVXYejlqhM",
        "colab_type": "code",
        "outputId": "8e62532e-1039-463b-cb14-dcf2e3ef8daa",
        "colab": {
          "base_uri": "https://localhost:8080/",
          "height": 187
        }
      },
      "source": [
        "df[\"topic\"].unique()"
      ],
      "execution_count": 0,
      "outputs": [
        {
          "output_type": "execute_result",
          "data": {
            "text/plain": [
              "array(['Student', 'InvestmentBanking', 'indUnk', 'Non-Profit', 'Banking',\n",
              "       'Education', 'Engineering', 'Science', 'Communications-Media',\n",
              "       'BusinessServices', 'Sports-Recreation', 'Arts', 'Internet',\n",
              "       'Museums-Libraries', 'Accounting', 'Technology', 'Law',\n",
              "       'Consulting', 'Automotive', 'Religion', 'Fashion', 'Publishing',\n",
              "       'Marketing', 'LawEnforcement-Security', 'HumanResources',\n",
              "       'Telecommunications', 'Military', 'Government', 'Transportation',\n",
              "       'Architecture', 'Advertising', 'Agriculture', 'Biotech',\n",
              "       'RealEstate', 'Manufacturing', 'Construction', 'Chemicals',\n",
              "       'Maritime', 'Tourism', 'Environment'], dtype=object)"
            ]
          },
          "metadata": {
            "tags": []
          },
          "execution_count": 12
        }
      ]
    },
    {
      "cell_type": "code",
      "metadata": {
        "id": "XAtYVVQBpOlG",
        "colab_type": "code",
        "outputId": "88f0162f-62ba-4c79-9dff-2dea5f338e3e",
        "colab": {
          "base_uri": "https://localhost:8080/",
          "height": 714
        }
      },
      "source": [
        "df[\"topic\"].value_counts()"
      ],
      "execution_count": 0,
      "outputs": [
        {
          "output_type": "execute_result",
          "data": {
            "text/plain": [
              "indUnk                     251015\n",
              "Student                    153903\n",
              "Technology                  42055\n",
              "Arts                        32449\n",
              "Education                   29633\n",
              "Communications-Media        20140\n",
              "Internet                    16006\n",
              "Non-Profit                  14700\n",
              "Engineering                 11653\n",
              "Law                          9040\n",
              "Publishing                   7753\n",
              "Science                      7269\n",
              "Government                   6907\n",
              "Consulting                   5862\n",
              "Religion                     5235\n",
              "Fashion                      4851\n",
              "Marketing                    4769\n",
              "Advertising                  4676\n",
              "BusinessServices             4500\n",
              "Banking                      4049\n",
              "Chemicals                    3928\n",
              "Telecommunications           3891\n",
              "Accounting                   3832\n",
              "Military                     3128\n",
              "Museums-Libraries            3096\n",
              "Sports-Recreation            3038\n",
              "HumanResources               3010\n",
              "RealEstate                   2870\n",
              "Transportation               2326\n",
              "Manufacturing                2272\n",
              "Biotech                      2234\n",
              "Tourism                      1942\n",
              "LawEnforcement-Security      1878\n",
              "Architecture                 1638\n",
              "InvestmentBanking            1292\n",
              "Automotive                   1244\n",
              "Agriculture                  1235\n",
              "Construction                 1093\n",
              "Environment                   592\n",
              "Maritime                      280\n",
              "Name: topic, dtype: int64"
            ]
          },
          "metadata": {
            "tags": []
          },
          "execution_count": 19
        }
      ]
    },
    {
      "cell_type": "code",
      "metadata": {
        "id": "UxSYjJibmCW0",
        "colab_type": "code",
        "outputId": "7857d007-4cf2-4241-d3e5-77a279c2b0cc",
        "colab": {
          "base_uri": "https://localhost:8080/",
          "height": 34
        }
      },
      "source": [
        "df[\"sign\"].nunique()"
      ],
      "execution_count": 0,
      "outputs": [
        {
          "output_type": "execute_result",
          "data": {
            "text/plain": [
              "12"
            ]
          },
          "metadata": {
            "tags": []
          },
          "execution_count": 13
        }
      ]
    },
    {
      "cell_type": "code",
      "metadata": {
        "id": "S9M6E7wbmG6w",
        "colab_type": "code",
        "outputId": "6e08bfe8-67f5-415e-c550-d489864877cb",
        "colab": {
          "base_uri": "https://localhost:8080/",
          "height": 68
        }
      },
      "source": [
        "df[\"sign\"].unique()"
      ],
      "execution_count": 9,
      "outputs": [
        {
          "output_type": "execute_result",
          "data": {
            "text/plain": [
              "array(['Leo', 'Aquarius', 'Aries', 'Capricorn', 'Gemini', 'Cancer',\n",
              "       'Sagittarius', 'Scorpio', 'Libra', 'Virgo', 'Taurus', 'Pisces'],\n",
              "      dtype=object)"
            ]
          },
          "metadata": {
            "tags": []
          },
          "execution_count": 9
        }
      ]
    },
    {
      "cell_type": "code",
      "metadata": {
        "id": "ZlG204fGmVe_",
        "colab_type": "code",
        "outputId": "fe981634-6ea4-4bf8-bb84-fd511b21e0ea",
        "colab": {
          "base_uri": "https://localhost:8080/",
          "height": 221
        }
      },
      "source": [
        "df.info()"
      ],
      "execution_count": 0,
      "outputs": [
        {
          "output_type": "stream",
          "text": [
            "<class 'pandas.core.frame.DataFrame'>\n",
            "RangeIndex: 681284 entries, 0 to 681283\n",
            "Data columns (total 7 columns):\n",
            "id        681284 non-null int64\n",
            "gender    681284 non-null object\n",
            "age       681284 non-null int64\n",
            "topic     681284 non-null object\n",
            "sign      681284 non-null object\n",
            "date      681284 non-null object\n",
            "text      681284 non-null object\n",
            "dtypes: int64(2), object(5)\n",
            "memory usage: 36.4+ MB\n"
          ],
          "name": "stdout"
        }
      ]
    },
    {
      "cell_type": "code",
      "metadata": {
        "id": "qzgA0R2Dn85h",
        "colab_type": "code",
        "colab": {}
      },
      "source": [
        "#Observation : No null values in the dataset"
      ],
      "execution_count": 0,
      "outputs": []
    },
    {
      "cell_type": "code",
      "metadata": {
        "id": "xsl1x06lou3c",
        "colab_type": "code",
        "colab": {}
      },
      "source": [
        "#selecting fewer rows for further processing without crashing the system\n",
        "dframe = df.sample(n=1000, random_state=7)"
      ],
      "execution_count": 0,
      "outputs": []
    },
    {
      "cell_type": "code",
      "metadata": {
        "id": "nZEkzzoOqX6t",
        "colab_type": "code",
        "colab": {}
      },
      "source": [
        "#We can also select fewer records based on column 'topic' - We can select fewer 'topic' records.\n",
        "#checked column \"topic\". it seems value \"IndUnk\" means unknown values in the column which has count of 251015. So , dropping all the rows having this value , \n",
        "#so as to reduce the size of the dataframe for us to process further withour any crash.\n",
        "#dframe = df[df.topic != \"indUnk\"]"
      ],
      "execution_count": 0,
      "outputs": []
    },
    {
      "cell_type": "code",
      "metadata": {
        "id": "VQCQKgldrcLm",
        "colab_type": "code",
        "outputId": "cb60a8ac-e2ba-4c87-cfb6-8c4236bfc10a",
        "colab": {
          "base_uri": "https://localhost:8080/",
          "height": 204
        }
      },
      "source": [
        "dframe.head()"
      ],
      "execution_count": 70,
      "outputs": [
        {
          "output_type": "execute_result",
          "data": {
            "text/html": [
              "<div>\n",
              "<style scoped>\n",
              "    .dataframe tbody tr th:only-of-type {\n",
              "        vertical-align: middle;\n",
              "    }\n",
              "\n",
              "    .dataframe tbody tr th {\n",
              "        vertical-align: top;\n",
              "    }\n",
              "\n",
              "    .dataframe thead th {\n",
              "        text-align: right;\n",
              "    }\n",
              "</style>\n",
              "<table border=\"1\" class=\"dataframe\">\n",
              "  <thead>\n",
              "    <tr style=\"text-align: right;\">\n",
              "      <th></th>\n",
              "      <th>id</th>\n",
              "      <th>gender</th>\n",
              "      <th>age</th>\n",
              "      <th>topic</th>\n",
              "      <th>sign</th>\n",
              "      <th>date</th>\n",
              "      <th>text</th>\n",
              "    </tr>\n",
              "  </thead>\n",
              "  <tbody>\n",
              "    <tr>\n",
              "      <th>42965</th>\n",
              "      <td>3304516</td>\n",
              "      <td>male</td>\n",
              "      <td>27</td>\n",
              "      <td>Technology</td>\n",
              "      <td>Pisces</td>\n",
              "      <td>24,June,2004</td>\n",
              "      <td>urllink    do you see the man in the picture o...</td>\n",
              "    </tr>\n",
              "    <tr>\n",
              "      <th>218209</th>\n",
              "      <td>303162</td>\n",
              "      <td>female</td>\n",
              "      <td>38</td>\n",
              "      <td>indUnk</td>\n",
              "      <td>Virgo</td>\n",
              "      <td>30,May,2004</td>\n",
              "      <td>yeah cause its  obviously  a  urllink family show</td>\n",
              "    </tr>\n",
              "    <tr>\n",
              "      <th>138338</th>\n",
              "      <td>2806788</td>\n",
              "      <td>female</td>\n",
              "      <td>26</td>\n",
              "      <td>Marketing</td>\n",
              "      <td>Taurus</td>\n",
              "      <td>27,January,2004</td>\n",
              "      <td>damned tarnished halo showing again</td>\n",
              "    </tr>\n",
              "    <tr>\n",
              "      <th>643895</th>\n",
              "      <td>3682951</td>\n",
              "      <td>female</td>\n",
              "      <td>24</td>\n",
              "      <td>indUnk</td>\n",
              "      <td>Taurus</td>\n",
              "      <td>18,June,2004</td>\n",
              "      <td>i suggest that the underground press could per...</td>\n",
              "    </tr>\n",
              "    <tr>\n",
              "      <th>452608</th>\n",
              "      <td>3368641</td>\n",
              "      <td>male</td>\n",
              "      <td>39</td>\n",
              "      <td>Education</td>\n",
              "      <td>Pisces</td>\n",
              "      <td>18,May,2004</td>\n",
              "      <td>sometimes when i am quiet and in tune  i feel ...</td>\n",
              "    </tr>\n",
              "  </tbody>\n",
              "</table>\n",
              "</div>"
            ],
            "text/plain": [
              "             id  ...                                               text\n",
              "42965   3304516  ...  urllink    do you see the man in the picture o...\n",
              "218209   303162  ...  yeah cause its  obviously  a  urllink family show\n",
              "138338  2806788  ...                damned tarnished halo showing again\n",
              "643895  3682951  ...  i suggest that the underground press could per...\n",
              "452608  3368641  ...  sometimes when i am quiet and in tune  i feel ...\n",
              "\n",
              "[5 rows x 7 columns]"
            ]
          },
          "metadata": {
            "tags": []
          },
          "execution_count": 70
        }
      ]
    },
    {
      "cell_type": "code",
      "metadata": {
        "id": "FNjC5HXyrh-j",
        "colab_type": "code",
        "outputId": "22ea7a7d-a649-4dba-a09c-494ffaa458bf",
        "colab": {
          "base_uri": "https://localhost:8080/",
          "height": 34
        }
      },
      "source": [
        "dframe.shape"
      ],
      "execution_count": 69,
      "outputs": [
        {
          "output_type": "execute_result",
          "data": {
            "text/plain": [
              "(1000, 7)"
            ]
          },
          "metadata": {
            "tags": []
          },
          "execution_count": 69
        }
      ]
    },
    {
      "cell_type": "markdown",
      "metadata": {
        "id": "sFsoi6y8r0_f",
        "colab_type": "text"
      },
      "source": [
        "## Preprocess rows of the “text” column :\n",
        "a. Remove unwanted characters  \n",
        "b. Convert text to lowercase  \n",
        "c. Remove unwanted spaces  \n",
        "d. Remove stopwords  "
      ]
    },
    {
      "cell_type": "code",
      "metadata": {
        "id": "QQ3xHmNU0ShW",
        "colab_type": "code",
        "colab": {}
      },
      "source": [
        "#Converting Text to Lowercase\n",
        "dframe['text'] = dframe['text'].map(lambda s: s.lower())"
      ],
      "execution_count": 0,
      "outputs": []
    },
    {
      "cell_type": "code",
      "metadata": {
        "id": "xA1_aQjpnlVU",
        "colab_type": "code",
        "colab": {}
      },
      "source": [
        "#Removing unwanted characters and selecting a-z \n",
        "#dframe['text'] = dframe['text'].map(lambda s: re.sub('[^0-9a-z _]','',s))\n",
        "dframe['text'] = dframe['text'].map(lambda s: re.sub('[^a-z ]','',s))"
      ],
      "execution_count": 0,
      "outputs": []
    },
    {
      "cell_type": "code",
      "metadata": {
        "id": "7-zd1PYX0ESl",
        "colab_type": "code",
        "outputId": "b2dd8ab2-24be-46dd-9ae8-8de82e298006",
        "colab": {
          "base_uri": "https://localhost:8080/",
          "height": 204
        }
      },
      "source": [
        "dframe.head()"
      ],
      "execution_count": 22,
      "outputs": [
        {
          "output_type": "execute_result",
          "data": {
            "text/html": [
              "<div>\n",
              "<style scoped>\n",
              "    .dataframe tbody tr th:only-of-type {\n",
              "        vertical-align: middle;\n",
              "    }\n",
              "\n",
              "    .dataframe tbody tr th {\n",
              "        vertical-align: top;\n",
              "    }\n",
              "\n",
              "    .dataframe thead th {\n",
              "        text-align: right;\n",
              "    }\n",
              "</style>\n",
              "<table border=\"1\" class=\"dataframe\">\n",
              "  <thead>\n",
              "    <tr style=\"text-align: right;\">\n",
              "      <th></th>\n",
              "      <th>id</th>\n",
              "      <th>gender</th>\n",
              "      <th>age</th>\n",
              "      <th>topic</th>\n",
              "      <th>sign</th>\n",
              "      <th>date</th>\n",
              "      <th>text</th>\n",
              "    </tr>\n",
              "  </thead>\n",
              "  <tbody>\n",
              "    <tr>\n",
              "      <th>42965</th>\n",
              "      <td>3304516</td>\n",
              "      <td>male</td>\n",
              "      <td>27</td>\n",
              "      <td>Technology</td>\n",
              "      <td>Pisces</td>\n",
              "      <td>24,June,2004</td>\n",
              "      <td>urllink    do you see the ma...</td>\n",
              "    </tr>\n",
              "    <tr>\n",
              "      <th>218209</th>\n",
              "      <td>303162</td>\n",
              "      <td>female</td>\n",
              "      <td>38</td>\n",
              "      <td>indUnk</td>\n",
              "      <td>Virgo</td>\n",
              "      <td>30,May,2004</td>\n",
              "      <td>yeah cause its  obviously  a  urllink f...</td>\n",
              "    </tr>\n",
              "    <tr>\n",
              "      <th>138338</th>\n",
              "      <td>2806788</td>\n",
              "      <td>female</td>\n",
              "      <td>26</td>\n",
              "      <td>Marketing</td>\n",
              "      <td>Taurus</td>\n",
              "      <td>27,January,2004</td>\n",
              "      <td>damned tarnished halo showing again...</td>\n",
              "    </tr>\n",
              "    <tr>\n",
              "      <th>643895</th>\n",
              "      <td>3682951</td>\n",
              "      <td>female</td>\n",
              "      <td>24</td>\n",
              "      <td>indUnk</td>\n",
              "      <td>Taurus</td>\n",
              "      <td>18,June,2004</td>\n",
              "      <td>i suggest that the underground press co...</td>\n",
              "    </tr>\n",
              "    <tr>\n",
              "      <th>452608</th>\n",
              "      <td>3368641</td>\n",
              "      <td>male</td>\n",
              "      <td>39</td>\n",
              "      <td>Education</td>\n",
              "      <td>Pisces</td>\n",
              "      <td>18,May,2004</td>\n",
              "      <td>sometimes when i am quiet and in ...</td>\n",
              "    </tr>\n",
              "  </tbody>\n",
              "</table>\n",
              "</div>"
            ],
            "text/plain": [
              "             id  ...                                               text\n",
              "42965   3304516  ...                    urllink    do you see the ma...\n",
              "218209   303162  ...         yeah cause its  obviously  a  urllink f...\n",
              "138338  2806788  ...             damned tarnished halo showing again...\n",
              "643895  3682951  ...         i suggest that the underground press co...\n",
              "452608  3368641  ...               sometimes when i am quiet and in ...\n",
              "\n",
              "[5 rows x 7 columns]"
            ]
          },
          "metadata": {
            "tags": []
          },
          "execution_count": 22
        }
      ]
    },
    {
      "cell_type": "code",
      "metadata": {
        "id": "cU6Loi2SzWjN",
        "colab_type": "code",
        "colab": {}
      },
      "source": [
        "#remove unwanted spaces\n",
        "dframe['text'] = dframe['text'].map(lambda s: s.strip())"
      ],
      "execution_count": 0,
      "outputs": []
    },
    {
      "cell_type": "code",
      "metadata": {
        "id": "b3CYT-r34t1l",
        "colab_type": "code",
        "colab": {}
      },
      "source": [
        "#We would remove stopwords in CountVectorizer step \n",
        "#set(stopwords.words('english'))  #No stopwords lib in Nltk package"
      ],
      "execution_count": 0,
      "outputs": []
    },
    {
      "cell_type": "markdown",
      "metadata": {
        "id": "HW_MgDiFFLCP",
        "colab_type": "text"
      },
      "source": [
        "### As we want to make this into a multi-label classification problem, you are required to merge all the label columns together, so that we have all the labels together for a particular sentence\n",
        "a. Label columns to merge: “gender”, “age”, “topic”, “sign”  \n",
        "b. After completing the previous step, there should be only two columns in your data\n",
        "frame i.e. “text” and “labels” as shown in the below image"
      ]
    },
    {
      "cell_type": "code",
      "metadata": {
        "id": "lIB6ceYiHSYY",
        "colab_type": "code",
        "colab": {}
      },
      "source": [
        "df2 = pd.DataFrame(dframe.text)"
      ],
      "execution_count": 0,
      "outputs": []
    },
    {
      "cell_type": "code",
      "metadata": {
        "id": "CgO0Dy6eH8zl",
        "colab_type": "code",
        "outputId": "1a0822dc-f5e5-4e14-8f78-9a8eb7e43c58",
        "colab": {
          "base_uri": "https://localhost:8080/",
          "height": 204
        }
      },
      "source": [
        "df2.head()"
      ],
      "execution_count": 32,
      "outputs": [
        {
          "output_type": "execute_result",
          "data": {
            "text/html": [
              "<div>\n",
              "<style scoped>\n",
              "    .dataframe tbody tr th:only-of-type {\n",
              "        vertical-align: middle;\n",
              "    }\n",
              "\n",
              "    .dataframe tbody tr th {\n",
              "        vertical-align: top;\n",
              "    }\n",
              "\n",
              "    .dataframe thead th {\n",
              "        text-align: right;\n",
              "    }\n",
              "</style>\n",
              "<table border=\"1\" class=\"dataframe\">\n",
              "  <thead>\n",
              "    <tr style=\"text-align: right;\">\n",
              "      <th></th>\n",
              "      <th>text</th>\n",
              "    </tr>\n",
              "  </thead>\n",
              "  <tbody>\n",
              "    <tr>\n",
              "      <th>42965</th>\n",
              "      <td>urllink    do you see the man in the picture o...</td>\n",
              "    </tr>\n",
              "    <tr>\n",
              "      <th>218209</th>\n",
              "      <td>yeah cause its  obviously  a  urllink family show</td>\n",
              "    </tr>\n",
              "    <tr>\n",
              "      <th>138338</th>\n",
              "      <td>damned tarnished halo showing again</td>\n",
              "    </tr>\n",
              "    <tr>\n",
              "      <th>643895</th>\n",
              "      <td>i suggest that the underground press could per...</td>\n",
              "    </tr>\n",
              "    <tr>\n",
              "      <th>452608</th>\n",
              "      <td>sometimes when i am quiet and in tune  i feel ...</td>\n",
              "    </tr>\n",
              "  </tbody>\n",
              "</table>\n",
              "</div>"
            ],
            "text/plain": [
              "                                                     text\n",
              "42965   urllink    do you see the man in the picture o...\n",
              "218209  yeah cause its  obviously  a  urllink family show\n",
              "138338                damned tarnished halo showing again\n",
              "643895  i suggest that the underground press could per...\n",
              "452608  sometimes when i am quiet and in tune  i feel ..."
            ]
          },
          "metadata": {
            "tags": []
          },
          "execution_count": 32
        }
      ]
    },
    {
      "cell_type": "code",
      "metadata": {
        "id": "sfYUOM-lH-OB",
        "colab_type": "code",
        "colab": {}
      },
      "source": [
        "df2[\"labels\"] = dframe.apply(lambda x: list([x['gender'],\n",
        "                                        x['age'],\n",
        "                                        x['topic'],\n",
        "                                         x[\"sign\"]]),axis=1)"
      ],
      "execution_count": 0,
      "outputs": []
    },
    {
      "cell_type": "code",
      "metadata": {
        "id": "UwQFU_2lM-6k",
        "colab_type": "code",
        "outputId": "2d77594a-9dfc-47d9-c6bb-87117a3e06ca",
        "colab": {
          "base_uri": "https://localhost:8080/",
          "height": 204
        }
      },
      "source": [
        "df2.head()"
      ],
      "execution_count": 35,
      "outputs": [
        {
          "output_type": "execute_result",
          "data": {
            "text/html": [
              "<div>\n",
              "<style scoped>\n",
              "    .dataframe tbody tr th:only-of-type {\n",
              "        vertical-align: middle;\n",
              "    }\n",
              "\n",
              "    .dataframe tbody tr th {\n",
              "        vertical-align: top;\n",
              "    }\n",
              "\n",
              "    .dataframe thead th {\n",
              "        text-align: right;\n",
              "    }\n",
              "</style>\n",
              "<table border=\"1\" class=\"dataframe\">\n",
              "  <thead>\n",
              "    <tr style=\"text-align: right;\">\n",
              "      <th></th>\n",
              "      <th>text</th>\n",
              "      <th>labels</th>\n",
              "    </tr>\n",
              "  </thead>\n",
              "  <tbody>\n",
              "    <tr>\n",
              "      <th>42965</th>\n",
              "      <td>urllink    do you see the man in the picture o...</td>\n",
              "      <td>[male, 27, Technology, Pisces]</td>\n",
              "    </tr>\n",
              "    <tr>\n",
              "      <th>218209</th>\n",
              "      <td>yeah cause its  obviously  a  urllink family show</td>\n",
              "      <td>[female, 38, indUnk, Virgo]</td>\n",
              "    </tr>\n",
              "    <tr>\n",
              "      <th>138338</th>\n",
              "      <td>damned tarnished halo showing again</td>\n",
              "      <td>[female, 26, Marketing, Taurus]</td>\n",
              "    </tr>\n",
              "    <tr>\n",
              "      <th>643895</th>\n",
              "      <td>i suggest that the underground press could per...</td>\n",
              "      <td>[female, 24, indUnk, Taurus]</td>\n",
              "    </tr>\n",
              "    <tr>\n",
              "      <th>452608</th>\n",
              "      <td>sometimes when i am quiet and in tune  i feel ...</td>\n",
              "      <td>[male, 39, Education, Pisces]</td>\n",
              "    </tr>\n",
              "  </tbody>\n",
              "</table>\n",
              "</div>"
            ],
            "text/plain": [
              "                                                     text                           labels\n",
              "42965   urllink    do you see the man in the picture o...   [male, 27, Technology, Pisces]\n",
              "218209  yeah cause its  obviously  a  urllink family show      [female, 38, indUnk, Virgo]\n",
              "138338                damned tarnished halo showing again  [female, 26, Marketing, Taurus]\n",
              "643895  i suggest that the underground press could per...     [female, 24, indUnk, Taurus]\n",
              "452608  sometimes when i am quiet and in tune  i feel ...    [male, 39, Education, Pisces]"
            ]
          },
          "metadata": {
            "tags": []
          },
          "execution_count": 35
        }
      ]
    },
    {
      "cell_type": "markdown",
      "metadata": {
        "id": "k0GssoVTNsNh",
        "colab_type": "text"
      },
      "source": [
        "### Separate features and labels, and split the data into training and testing"
      ]
    },
    {
      "cell_type": "code",
      "metadata": {
        "id": "wGFRdFAqNAEN",
        "colab_type": "code",
        "colab": {}
      },
      "source": [
        "#Feature and Label seperation\n",
        "X = df2[\"text\"] \n",
        "y = df2[\"labels\"]"
      ],
      "execution_count": 0,
      "outputs": []
    },
    {
      "cell_type": "code",
      "metadata": {
        "id": "OI6wSUHzQL3e",
        "colab_type": "code",
        "outputId": "96926866-fbe4-46e2-b596-4313f5b34878",
        "colab": {
          "base_uri": "https://localhost:8080/",
          "height": 34
        }
      },
      "source": [
        "X.shape"
      ],
      "execution_count": 71,
      "outputs": [
        {
          "output_type": "execute_result",
          "data": {
            "text/plain": [
              "(1000,)"
            ]
          },
          "metadata": {
            "tags": []
          },
          "execution_count": 71
        }
      ]
    },
    {
      "cell_type": "code",
      "metadata": {
        "id": "_AySCHsjQNT0",
        "colab_type": "code",
        "outputId": "9d218f34-0308-4004-f32c-5d7747f55ebb",
        "colab": {
          "base_uri": "https://localhost:8080/",
          "height": 34
        }
      },
      "source": [
        "y.shape"
      ],
      "execution_count": 72,
      "outputs": [
        {
          "output_type": "execute_result",
          "data": {
            "text/plain": [
              "(1000,)"
            ]
          },
          "metadata": {
            "tags": []
          },
          "execution_count": 72
        }
      ]
    },
    {
      "cell_type": "code",
      "metadata": {
        "id": "3asCtVKyQPDd",
        "colab_type": "code",
        "colab": {}
      },
      "source": [
        "#Split the data into train and test\n",
        "X_train, X_test, y_train, y_test = train_test_split(X, y, test_size=0.30, random_state=0)"
      ],
      "execution_count": 0,
      "outputs": []
    },
    {
      "cell_type": "code",
      "metadata": {
        "id": "NB7-PmP_Qshv",
        "colab_type": "code",
        "outputId": "8664cc30-48d4-425d-f16a-7c2eb2186e2e",
        "colab": {
          "base_uri": "https://localhost:8080/",
          "height": 85
        }
      },
      "source": [
        "print(X_train.shape)\n",
        "print(X_test.shape)\n",
        "print(y_train.shape)\n",
        "print(y_test.shape)"
      ],
      "execution_count": 11,
      "outputs": [
        {
          "output_type": "stream",
          "text": [
            "(700,)\n",
            "(300,)\n",
            "(700,)\n",
            "(300,)\n"
          ],
          "name": "stdout"
        }
      ]
    },
    {
      "cell_type": "code",
      "metadata": {
        "id": "82NOH3EOMAEw",
        "colab_type": "code",
        "colab": {
          "base_uri": "https://localhost:8080/",
          "height": 119
        },
        "outputId": "c35cb6c1-6d59-486e-e5d7-b3cc08c941c1"
      },
      "source": [
        "X_train.head()"
      ],
      "execution_count": 12,
      "outputs": [
        {
          "output_type": "execute_result",
          "data": {
            "text/plain": [
              "96335     it appears that when you change the settings i...\n",
              "421131    somtimes this house feels like a prison that i...\n",
              "579234    had a good hr min session in the pool today ba...\n",
              "212936    the funniest thing happened today  i overslept...\n",
              "633899    a mother is she who can take the place of all ...\n",
              "Name: text, dtype: object"
            ]
          },
          "metadata": {
            "tags": []
          },
          "execution_count": 12
        }
      ]
    },
    {
      "cell_type": "code",
      "metadata": {
        "id": "fzheiwobMI_V",
        "colab_type": "code",
        "colab": {
          "base_uri": "https://localhost:8080/",
          "height": 119
        },
        "outputId": "bf82a963-56c7-4e99-bc0f-6f2217302de0"
      },
      "source": [
        "y_train.head()"
      ],
      "execution_count": 16,
      "outputs": [
        {
          "output_type": "execute_result",
          "data": {
            "text/plain": [
              "96335            [female, 45, Education, Gemini]\n",
              "421131              [female, 15, indUnk, Gemini]\n",
              "579234       [male, 33, Technology, Sagittarius]\n",
              "212936             [female, 24, Student, Cancer]\n",
              "633899    [female, 24, HumanResources, Aquarius]\n",
              "Name: labels, dtype: object"
            ]
          },
          "metadata": {
            "tags": []
          },
          "execution_count": 16
        }
      ]
    },
    {
      "cell_type": "code",
      "metadata": {
        "id": "3MbuvK-KMgEP",
        "colab_type": "code",
        "colab": {
          "base_uri": "https://localhost:8080/",
          "height": 119
        },
        "outputId": "19276eb2-6b96-4192-e8eb-7dcbd759a221"
      },
      "source": [
        "X_test.head()"
      ],
      "execution_count": 17,
      "outputs": [
        {
          "output_type": "execute_result",
          "data": {
            "text/plain": [
              "550553                             urllink this  feels good\n",
              "171944    listening to beautiful you are  urllink snoop ...\n",
              "354256    and another thing charle has decided that mayb...\n",
              "87645     so im listening to the woes of having a large ...\n",
              "203417    another project that i have on my needles righ...\n",
              "Name: text, dtype: object"
            ]
          },
          "metadata": {
            "tags": []
          },
          "execution_count": 17
        }
      ]
    },
    {
      "cell_type": "code",
      "metadata": {
        "id": "Re2dxuozMko1",
        "colab_type": "code",
        "colab": {
          "base_uri": "https://localhost:8080/",
          "height": 119
        },
        "outputId": "fe285026-5e1c-4315-b214-743f4959c9e7"
      },
      "source": [
        "y_test.head()"
      ],
      "execution_count": 18,
      "outputs": [
        {
          "output_type": "execute_result",
          "data": {
            "text/plain": [
              "550553          [male, 27, Law, Aries]\n",
              "171944      [male, 16, Student, Virgo]\n",
              "354256    [female, 16, Student, Aries]\n",
              "87645     [female, 23, Education, Leo]\n",
              "203417     [female, 42, indUnk, Libra]\n",
              "Name: labels, dtype: object"
            ]
          },
          "metadata": {
            "tags": []
          },
          "execution_count": 18
        }
      ]
    },
    {
      "cell_type": "markdown",
      "metadata": {
        "id": "Qm1eB6geQz0f",
        "colab_type": "text"
      },
      "source": [
        "## Vectorize the features\n",
        "a. Create a Bag of Words using count vectorizer      \n",
        "    i. Use ngram_range=(1, 2)      \n",
        "    ii. Vectorize training and testing features      \n",
        "b. Print the term-document matrix    "
      ]
    },
    {
      "cell_type": "code",
      "metadata": {
        "id": "-zbKObRIQxK7",
        "colab_type": "code",
        "colab": {}
      },
      "source": [
        "#Here we are removing stopwords with the help of CountVectorizer\n",
        "vect = CountVectorizer(stop_words='english',ngram_range=(1,2))"
      ],
      "execution_count": 0,
      "outputs": []
    },
    {
      "cell_type": "code",
      "metadata": {
        "id": "zlynBTJkX5zq",
        "colab_type": "code",
        "outputId": "3dff1be6-a0bd-4589-8f6a-e3bff6117931",
        "colab": {
          "base_uri": "https://localhost:8080/",
          "height": 119
        }
      },
      "source": [
        "#vect.fit(train) learns the vocabulary of the training data\n",
        "vect.fit(X_train)"
      ],
      "execution_count": 20,
      "outputs": [
        {
          "output_type": "execute_result",
          "data": {
            "text/plain": [
              "CountVectorizer(analyzer='word', binary=False, decode_error='strict',\n",
              "                dtype=<class 'numpy.int64'>, encoding='utf-8', input='content',\n",
              "                lowercase=True, max_df=1.0, max_features=None, min_df=1,\n",
              "                ngram_range=(1, 2), preprocessor=None, stop_words='english',\n",
              "                strip_accents=None, token_pattern='(?u)\\\\b\\\\w\\\\w+\\\\b',\n",
              "                tokenizer=None, vocabulary=None)"
            ]
          },
          "metadata": {
            "tags": []
          },
          "execution_count": 20
        }
      ]
    },
    {
      "cell_type": "code",
      "metadata": {
        "id": "Ibfw2wGbainn",
        "colab_type": "code",
        "outputId": "2d2839da-1373-48b5-bb1f-8814a9a53572",
        "colab": {
          "base_uri": "https://localhost:8080/",
          "height": 1000
        }
      },
      "source": [
        "# examine the fitted vocabulary\n",
        "vect.get_feature_names()"
      ],
      "execution_count": 21,
      "outputs": [
        {
          "output_type": "execute_result",
          "data": {
            "text/plain": [
              "['aaa',\n",
              " 'aaa discounts',\n",
              " 'aaaaaaanyway',\n",
              " 'aaaaaaanyway probably',\n",
              " 'aaaaaah',\n",
              " 'aaaaaah said',\n",
              " 'aaaaaahhhh',\n",
              " 'aaaarg',\n",
              " 'aaaarg vowing',\n",
              " 'aaahhhh',\n",
              " 'aaahhhh kayaking',\n",
              " 'aaalllll',\n",
              " 'aaalllll day',\n",
              " 'aampm',\n",
              " 'aampm college',\n",
              " 'aampm helping',\n",
              " 'aampm machines',\n",
              " 'aaron',\n",
              " 'aaron rob',\n",
              " 'abandoned',\n",
              " 'abandoned gas',\n",
              " 'abandoned sleeve',\n",
              " 'abarbablog',\n",
              " 'abarbablog members',\n",
              " 'abaya',\n",
              " 'abaya like',\n",
              " 'abaya set',\n",
              " 'abaya shayla',\n",
              " 'abbreviations',\n",
              " 'abbreviations usb',\n",
              " 'abc',\n",
              " 'abc really',\n",
              " 'abcs',\n",
              " 'abcs type',\n",
              " 'aber',\n",
              " 'aber woman',\n",
              " 'abercrombie',\n",
              " 'abercrombie chick',\n",
              " 'aberystwyth',\n",
              " 'aberystwyth family',\n",
              " 'abilities',\n",
              " 'abilities energy',\n",
              " 'ability',\n",
              " 'ability appreciate',\n",
              " 'ability control',\n",
              " 'ability deliver',\n",
              " 'ability discerned',\n",
              " 'ability evolve',\n",
              " 'ability forecast',\n",
              " 'ability govern',\n",
              " 'ability language',\n",
              " 'ability learners',\n",
              " 'ability multiple',\n",
              " 'ability people',\n",
              " 'ability project',\n",
              " 'ability roam',\n",
              " 'ability scrambled',\n",
              " 'ability trust',\n",
              " 'ability unscramble',\n",
              " 'abit',\n",
              " 'abit reading',\n",
              " 'ablaze',\n",
              " 'ablaze wouldnt',\n",
              " 'able',\n",
              " 'able access',\n",
              " 'able apply',\n",
              " 'able appreciate',\n",
              " 'able basis',\n",
              " 'able birthday',\n",
              " 'able blackmail',\n",
              " 'able boys',\n",
              " 'able browse',\n",
              " 'able camping',\n",
              " 'able catch',\n",
              " 'able coherently',\n",
              " 'able come',\n",
              " 'able complete',\n",
              " 'able connect',\n",
              " 'able construct',\n",
              " 'able contain',\n",
              " 'able defender',\n",
              " 'able eat',\n",
              " 'able entertained',\n",
              " 'able experience',\n",
              " 'able fight',\n",
              " 'able fulfill',\n",
              " 'able infocus',\n",
              " 'able land',\n",
              " 'able make',\n",
              " 'able organise',\n",
              " 'able referring',\n",
              " 'able reproduce',\n",
              " 'able return',\n",
              " 'able send',\n",
              " 'able serve',\n",
              " 'able shit',\n",
              " 'able speak',\n",
              " 'able spill',\n",
              " 'able tell',\n",
              " 'able think',\n",
              " 'able tonbsplive',\n",
              " 'able touch',\n",
              " 'able travel',\n",
              " 'able universitys',\n",
              " 'able urllink',\n",
              " 'able use',\n",
              " 'able weigh',\n",
              " 'able work',\n",
              " 'able writing',\n",
              " 'ablitity',\n",
              " 'ablitity swim',\n",
              " 'abnormal',\n",
              " 'abnormal pap',\n",
              " 'abode',\n",
              " 'abode web',\n",
              " 'abominable',\n",
              " 'abominable abuses',\n",
              " 'abominable truth',\n",
              " 'abortion',\n",
              " 'abortion failed',\n",
              " 'abot',\n",
              " 'abot niya',\n",
              " 'abouti',\n",
              " 'abouti guess',\n",
              " 'abragam',\n",
              " 'abragam believed',\n",
              " 'abrahim',\n",
              " 'abrahim fluent',\n",
              " 'abrahim knew',\n",
              " 'abrahim nassir',\n",
              " 'abrahim people',\n",
              " 'abrahim said',\n",
              " 'abrahim veterinary',\n",
              " 'abrasions',\n",
              " 'abrasions christmas',\n",
              " 'abridged',\n",
              " 'abridged manner',\n",
              " 'abroad',\n",
              " 'abroad americans',\n",
              " 'abroad analysts',\n",
              " 'abroad share',\n",
              " 'abroad way',\n",
              " 'abrupt',\n",
              " 'abrupt want',\n",
              " 'absence',\n",
              " 'absence breakdancing',\n",
              " 'absence lot',\n",
              " 'absent',\n",
              " 'absent got',\n",
              " 'absent jan',\n",
              " 'absent sick',\n",
              " 'absent teeth',\n",
              " 'absent yesterday',\n",
              " 'absolute',\n",
              " 'absolute love',\n",
              " 'absolutely',\n",
              " 'absolutely adore',\n",
              " 'absolutely gorgeous',\n",
              " 'absolutely happened',\n",
              " 'absolutely hate',\n",
              " 'absolutely hilarious',\n",
              " 'absolutely ill',\n",
              " 'absolutely leadership',\n",
              " 'absolutely love',\n",
              " 'absolutely necessary',\n",
              " 'absolutely nil',\n",
              " 'absolved',\n",
              " 'absolved candidate',\n",
              " 'absorb',\n",
              " 'absorb somethingbut',\n",
              " 'absorbed',\n",
              " 'absorbed scenedr',\n",
              " 'absorbed today',\n",
              " 'absorbent',\n",
              " 'absorbent thought',\n",
              " 'abstract',\n",
              " 'abstract beauty',\n",
              " 'abstract following',\n",
              " 'absurd',\n",
              " 'absurd degree',\n",
              " 'abt',\n",
              " 'abt developing',\n",
              " 'abt finished',\n",
              " 'abt lazy',\n",
              " 'abt sucky',\n",
              " 'abu',\n",
              " 'abu ghraib',\n",
              " 'abundant',\n",
              " 'abundant burdensome',\n",
              " 'abuse',\n",
              " 'abuse freedom',\n",
              " 'abuse just',\n",
              " 'abuse soon',\n",
              " 'abuse worse',\n",
              " 'abused',\n",
              " 'abused hopes',\n",
              " 'abused roundly',\n",
              " 'abused saints',\n",
              " 'abuses',\n",
              " 'abuses election',\n",
              " 'abusing',\n",
              " 'abusing tams',\n",
              " 'abyss',\n",
              " 'abyss leads',\n",
              " 'ac',\n",
              " 'ac classmates',\n",
              " 'academic',\n",
              " 'academic council',\n",
              " 'academic decathlon',\n",
              " 'academy',\n",
              " 'academy birmingham',\n",
              " 'academy cos',\n",
              " 'academy liverpool',\n",
              " 'academy rocked',\n",
              " 'academy telling',\n",
              " 'acceeds',\n",
              " 'acceeds friends',\n",
              " 'accelerate',\n",
              " 'accelerate cyclist',\n",
              " 'accelerate middle',\n",
              " 'accelerate slow',\n",
              " 'accelerated',\n",
              " 'accelerated curriculum',\n",
              " 'acceleration',\n",
              " 'acceleration depth',\n",
              " 'accent',\n",
              " 'accent calm',\n",
              " 'accent flawlessly',\n",
              " 'accent surfboards',\n",
              " 'accent thing',\n",
              " 'accent trying',\n",
              " 'accept',\n",
              " 'accept believe',\n",
              " 'accept demand',\n",
              " 'accept know',\n",
              " 'accept love',\n",
              " 'accept mission',\n",
              " 'accept problems',\n",
              " 'accept right',\n",
              " 'accept steadi',\n",
              " 'accept understudy',\n",
              " 'acceptable',\n",
              " 'acceptable doubt',\n",
              " 'acceptable norm',\n",
              " 'acceptable tell',\n",
              " 'acceptance',\n",
              " 'acceptance admirable',\n",
              " 'acceptance children',\n",
              " 'acceptancewhy',\n",
              " 'acceptancewhy parents',\n",
              " 'accepted',\n",
              " 'accepted employee',\n",
              " 'accepted grad',\n",
              " 'accepted hell',\n",
              " 'accepted right',\n",
              " 'accepting',\n",
              " 'accepting people',\n",
              " 'access',\n",
              " 'access aol',\n",
              " 'access day',\n",
              " 'access home',\n",
              " 'access information',\n",
              " 'access internet',\n",
              " 'access material',\n",
              " 'access memory',\n",
              " 'access permissions',\n",
              " 'access times',\n",
              " 'accessible',\n",
              " 'accessible functions',\n",
              " 'accident',\n",
              " 'accident gawking',\n",
              " 'accident prone',\n",
              " 'accidentally',\n",
              " 'accidentally feel',\n",
              " 'accidentally knew',\n",
              " 'accidentally taking',\n",
              " 'accidentally touched',\n",
              " 'accolades',\n",
              " 'accolades great',\n",
              " 'accommodating',\n",
              " 'accommodating higher',\n",
              " 'accompanied',\n",
              " 'accompanied certain',\n",
              " 'accompanied sofa',\n",
              " 'accompany',\n",
              " 'accompany backbeat',\n",
              " 'accompany fen',\n",
              " 'accompanying',\n",
              " 'accompanying naughty',\n",
              " 'accompli',\n",
              " 'accompli adjustment',\n",
              " 'accomplish',\n",
              " 'accomplish church',\n",
              " 'accomplish encouragement',\n",
              " 'accomplished',\n",
              " 'accomplished today',\n",
              " 'accomplished told',\n",
              " 'accomplishment',\n",
              " 'accomplishment asked',\n",
              " 'accomplishment attentionto',\n",
              " 'accomplishment childs',\n",
              " 'accomplishment parent',\n",
              " 'accomplishment parents',\n",
              " 'accomplishment right',\n",
              " 'accomplisment',\n",
              " 'accomplisment childs',\n",
              " 'accordance',\n",
              " 'accordance goals',\n",
              " 'accordance preconceived',\n",
              " 'according',\n",
              " 'according account',\n",
              " 'according article',\n",
              " 'according astrologers',\n",
              " 'according dictionarycom',\n",
              " 'according grade',\n",
              " 'according hisgovernment',\n",
              " 'according mr',\n",
              " 'according recent',\n",
              " 'according religions',\n",
              " 'according research',\n",
              " 'according scanning',\n",
              " 'according statistics',\n",
              " 'according urllink',\n",
              " 'accordion',\n",
              " 'accordion im',\n",
              " 'account',\n",
              " 'account business',\n",
              " 'account counterintelligence',\n",
              " 'account drizztnbnetnbca',\n",
              " 'account grrrr',\n",
              " 'account guitars',\n",
              " 'account morning',\n",
              " 'account ok',\n",
              " 'account order',\n",
              " 'account right',\n",
              " 'account saw',\n",
              " 'account say',\n",
              " 'account tell',\n",
              " 'account today',\n",
              " 'account using',\n",
              " 'accountability',\n",
              " 'accountability friends',\n",
              " 'accountability meet',\n",
              " 'accountability mistakes',\n",
              " 'accountants',\n",
              " 'accountants auditors',\n",
              " 'accounting',\n",
              " 'accounting real',\n",
              " 'accountingconsulting',\n",
              " 'accountingconsulting firm',\n",
              " 'accounts',\n",
              " 'accounts buy',\n",
              " 'accounts indicate',\n",
              " 'accounts job',\n",
              " 'accounts singapore',\n",
              " 'accurate',\n",
              " 'accurate constantly',\n",
              " 'accurately',\n",
              " 'accurately tests',\n",
              " 'accusations',\n",
              " 'accusations hostile',\n",
              " 'accusations rooted',\n",
              " 'accused',\n",
              " 'accused launching',\n",
              " 'accused raping',\n",
              " 'accused removing',\n",
              " 'accused seducing',\n",
              " 'accused spying',\n",
              " 'accused way',\n",
              " 'accustomed',\n",
              " 'accustomed transparently',\n",
              " 'acdc',\n",
              " 'acdc dokken',\n",
              " 'aced',\n",
              " 'aced uhm',\n",
              " 'aches',\n",
              " 'aches master',\n",
              " 'achieve',\n",
              " 'achieve lovelier',\n",
              " 'achieve peace',\n",
              " 'achieve weave',\n",
              " 'achieved',\n",
              " 'achieved permanent',\n",
              " 'achieved william',\n",
              " 'aching',\n",
              " 'aching spinning',\n",
              " 'aching study',\n",
              " 'aci',\n",
              " 'aci rarely',\n",
              " 'acknowledged',\n",
              " 'acknowledged fear',\n",
              " 'acl',\n",
              " 'acl place',\n",
              " 'acorn',\n",
              " 'acorn grew',\n",
              " 'acorn lifeshe',\n",
              " 'acorrectives',\n",
              " 'acorrectives money',\n",
              " 'acount',\n",
              " 'acount yahoo',\n",
              " 'act',\n",
              " 'act civil',\n",
              " 'act cute',\n",
              " 'act like',\n",
              " 'act little',\n",
              " 'act mediator',\n",
              " 'act remove',\n",
              " 'act unscrambling',\n",
              " 'act yesshh',\n",
              " 'actaully',\n",
              " 'acted',\n",
              " 'acted describes',\n",
              " 'acted ideal',\n",
              " 'acted region',\n",
              " 'acted upsetting',\n",
              " 'acting',\n",
              " 'acting appropriately',\n",
              " 'acting cute',\n",
              " 'acting dayumed',\n",
              " 'acting equally',\n",
              " 'acting head',\n",
              " 'acting improved',\n",
              " 'acting like',\n",
              " 'acting odd',\n",
              " 'acting plays',\n",
              " 'acting quickly',\n",
              " 'acting smoked',\n",
              " 'acting sure',\n",
              " 'acting time',\n",
              " 'acting trying',\n",
              " 'acting turned',\n",
              " 'acting weird',\n",
              " 'action',\n",
              " 'action late',\n",
              " 'action muslims',\n",
              " 'action pack',\n",
              " 'action plus',\n",
              " 'action recently',\n",
              " 'action scenes',\n",
              " 'action sincerly',\n",
              " 'action withdraw',\n",
              " 'actioni',\n",
              " 'actioni alsoi',\n",
              " 'actions',\n",
              " 'actions agianst',\n",
              " 'actions jackson',\n",
              " 'actions lol',\n",
              " 'actions nonmuslim',\n",
              " 'actions remembers',\n",
              " 'actions trading',\n",
              " 'actions words',\n",
              " 'activate',\n",
              " 'activate association',\n",
              " 'activate create',\n",
              " 'activate ll',\n",
              " 'activated',\n",
              " 'activated created',\n",
              " 'activated latent',\n",
              " 'activated try',\n",
              " 'activating',\n",
              " 'activating latent',\n",
              " 'activation',\n",
              " 'activation cell',\n",
              " 'active',\n",
              " 'active activate',\n",
              " 'active makes',\n",
              " 'active nurturing',\n",
              " 'active user',\n",
              " 'actively',\n",
              " 'actively doing',\n",
              " 'activist',\n",
              " 'activist business',\n",
              " 'activities',\n",
              " 'activities birthdays',\n",
              " 'activities community',\n",
              " 'activities past',\n",
              " 'activities prove',\n",
              " 'activities special',\n",
              " 'activities tomwell',\n",
              " 'activity',\n",
              " 'activity concerned',\n",
              " 'activity interesting',\n",
              " 'activity kind',\n",
              " 'activity possibly',\n",
              " 'activity reporting',\n",
              " 'activity years',\n",
              " 'actor',\n",
              " 'actor crushed',\n",
              " 'actor day',\n",
              " 'actor hated',\n",
              " 'actor hes',\n",
              " 'actor plays',\n",
              " 'actor wants',\n",
              " 'actors',\n",
              " 'actors lovely',\n",
              " 'actors start',\n",
              " 'actress',\n",
              " 'actress bad',\n",
              " 'actress bit',\n",
              " 'actress half',\n",
              " 'actress reason',\n",
              " 'actress sandra',\n",
              " 'actresses',\n",
              " 'actresses academy',\n",
              " 'actresses sonija',\n",
              " 'acts',\n",
              " 'acts film',\n",
              " 'acts like',\n",
              " 'acts manner',\n",
              " 'acts older',\n",
              " 'acts owns',\n",
              " 'acts snake',\n",
              " 'acts urllink',\n",
              " 'actual',\n",
              " 'actual birthday',\n",
              " 'actual class',\n",
              " 'actual content',\n",
              " 'actual conversation',\n",
              " 'actual entry',\n",
              " 'actual fairness',\n",
              " 'actual jizz',\n",
              " 'actual lap',\n",
              " 'actual letters',\n",
              " 'actual news',\n",
              " 'actual scrambled',\n",
              " 'actual scrambling',\n",
              " 'actual thing',\n",
              " 'actual virus',\n",
              " 'actually',\n",
              " 'actually able',\n",
              " 'actually acting',\n",
              " 'actually alive',\n",
              " 'actually arent',\n",
              " 'actually band',\n",
              " 'actually better',\n",
              " 'actually biggest',\n",
              " 'actually blogs',\n",
              " 'actually brings',\n",
              " 'actually brought',\n",
              " 'actually changes',\n",
              " 'actually commented',\n",
              " 'actually compared',\n",
              " 'actually considering',\n",
              " 'actually cope',\n",
              " 'actually deserve',\n",
              " 'actually develop',\n",
              " 'actually did',\n",
              " 'actually didnt',\n",
              " 'actually dog',\n",
              " 'actually dont',\n",
              " 'actually drunk',\n",
              " 'actually eldric',\n",
              " 'actually feet',\n",
              " 'actually followed',\n",
              " 'actually fuck',\n",
              " 'actually gets',\n",
              " 'actually gives',\n",
              " 'actually glad',\n",
              " 'actually good',\n",
              " 'actually got',\n",
              " 'actually grateful',\n",
              " 'actually healthy',\n",
              " 'actually hit',\n",
              " 'actually inside',\n",
              " 'actually involved',\n",
              " 'actually ive',\n",
              " 'actually jess',\n",
              " 'actually just',\n",
              " 'actually know',\n",
              " 'actually knows',\n",
              " 'actually laundry',\n",
              " 'actually lesson',\n",
              " 'actually like',\n",
              " 'actually liked',\n",
              " 'actually likes',\n",
              " 'actually listen',\n",
              " 'actually look',\n",
              " 'actually making',\n",
              " 'actually matched',\n",
              " 'actually met',\n",
              " 'actually millions',\n",
              " 'actually minutes',\n",
              " 'actually missed',\n",
              " 'actually narcissism',\n",
              " 'actually paid',\n",
              " 'actually picked',\n",
              " 'actually played',\n",
              " 'actually playing',\n",
              " 'actually post',\n",
              " 'actually pretty',\n",
              " 'actually produce',\n",
              " 'actually promptly',\n",
              " 'actually reading',\n",
              " 'actually reads',\n",
              " 'actually realise',\n",
              " 'actually realized',\n",
              " 'actually really',\n",
              " 'actually related',\n",
              " 'actually represent',\n",
              " 'actually said',\n",
              " 'actually sat',\n",
              " 'actually saw',\n",
              " 'actually say',\n",
              " 'actually scolded',\n",
              " 'actually sensible',\n",
              " 'actually served',\n",
              " 'actually shes',\n",
              " 'actually solid',\n",
              " 'actually song',\n",
              " 'actually sorta',\n",
              " 'actually spin',\n",
              " 'actually taking',\n",
              " 'actually talk',\n",
              " 'actually think',\n",
              " 'actually thought',\n",
              " 'actually time',\n",
              " 'actually today',\n",
              " 'actually true',\n",
              " 'actually trust',\n",
              " 'actually turn',\n",
              " 'actually turns',\n",
              " 'actually unoffensive',\n",
              " 'actually use',\n",
              " 'actually verses',\n",
              " 'actually virus',\n",
              " 'actually watched',\n",
              " 'actually watches',\n",
              " 'actually watching',\n",
              " 'actually went',\n",
              " 'actually wish',\n",
              " 'actually work',\n",
              " 'actually worth',\n",
              " 'actually wrong',\n",
              " 'actually wrote',\n",
              " 'actuallyvery',\n",
              " 'actuallyvery inspiringother',\n",
              " 'acutally',\n",
              " 'acutally pratice',\n",
              " 'ad',\n",
              " 'ad just',\n",
              " 'ad milton',\n",
              " 'ada',\n",
              " 'ada akan',\n",
              " 'ada batu',\n",
              " 'ada cemburu',\n",
              " 'ada saat',\n",
              " 'ada senyum',\n",
              " 'ada sesuatu',\n",
              " 'ada yang',\n",
              " 'adalah',\n",
              " 'adalah adik',\n",
              " 'adalah cinta',\n",
              " 'adalah sahabatku',\n",
              " 'adam',\n",
              " 'adam going',\n",
              " 'adam just',\n",
              " 'adam sandler',\n",
              " 'adam wonso',\n",
              " 'adamantly',\n",
              " 'adamantly god',\n",
              " 'adams',\n",
              " 'adams song',\n",
              " 'adanya',\n",
              " 'adanya kemandiriannya',\n",
              " 'adapt',\n",
              " 'adapt need',\n",
              " 'adaptable',\n",
              " 'adaptable organism',\n",
              " 'adapted',\n",
              " 'adapted needs',\n",
              " 'adapted student',\n",
              " 'adapting',\n",
              " 'adapting language',\n",
              " 'adapting pattern',\n",
              " 'adapting recent',\n",
              " 'adasatu',\n",
              " 'adasatu wanita',\n",
              " 'add',\n",
              " 'add beauty',\n",
              " 'add distance',\n",
              " 'add later',\n",
              " 'add long',\n",
              " 'add lunches',\n",
              " 'add mutter',\n",
              " 'add pics',\n",
              " 'add remove',\n",
              " 'add rest',\n",
              " 'add simply',\n",
              " 'add think',\n",
              " 'added',\n",
              " 'added additional',\n",
              " 'added functionality',\n",
              " 'added hard',\n",
              " 'added insult',\n",
              " 'added list',\n",
              " 'added positions',\n",
              " 'added rows',\n",
              " 'added salt',\n",
              " 'added salty',\n",
              " 'added technique',\n",
              " 'added weights',\n",
              " 'adderral',\n",
              " 'adderral zoloft',\n",
              " 'addict',\n",
              " 'addict acted',\n",
              " 'addicted',\n",
              " 'addicted alcohol',\n",
              " 'addicted bad',\n",
              " 'addicted pics',\n",
              " 'addiction',\n",
              " 'addiction failed',\n",
              " 'addiction thatnbspwe',\n",
              " 'addictiveyoull',\n",
              " 'addictiveyoull weeks',\n",
              " 'addictthis',\n",
              " 'addictthis just',\n",
              " 'adding',\n",
              " 'adding bit',\n",
              " 'adding hopes',\n",
              " 'adding strangers',\n",
              " 'adding string',\n",
              " 'adding support',\n",
              " 'adding tragedy',\n",
              " 'adding violence',\n",
              " 'addition',\n",
              " 'addition demonstrates',\n",
              " 'addition historical',\n",
              " 'addition recommended',\n",
              " 'addition salami',\n",
              " 'addition syndication',\n",
              " 'addition think',\n",
              " 'addition video',\n",
              " 'additional',\n",
              " 'additional website',\n",
              " 'additions',\n",
              " 'additions pour',\n",
              " 'addmitally',\n",
              " 'addmitally make',\n",
              " 'address',\n",
              " 'address know',\n",
              " 'address people',\n",
              " 'address sir',\n",
              " 'address societys',\n",
              " 'address spam',\n",
              " 'address various',\n",
              " 'address wait',\n",
              " 'address xml',\n",
              " 'addressed',\n",
              " 'addressed diagnosticprescriptive',\n",
              " 'addresses',\n",
              " 'addresses know',\n",
              " 'addresses representing',\n",
              " 'adequate',\n",
              " 'adequate job',\n",
              " 'adgie',\n",
              " 'adgie happy',\n",
              " 'adgie talking',\n",
              " 'adhd',\n",
              " 'adhd medicines',\n",
              " 'adhered',\n",
              " 'adhered strictly',\n",
              " 'adheres',\n",
              " 'adheres motorized',\n",
              " 'adhoc',\n",
              " 'adhoc question',\n",
              " 'adik',\n",
              " 'adik kelasku',\n",
              " 'adik parang',\n",
              " 'adios',\n",
              " 'adjectives',\n",
              " 'adjectives theyll',\n",
              " 'adjust',\n",
              " 'adjust expectations',\n",
              " 'adjusting',\n",
              " 'adjusting idea',\n",
              " 'adjusting new',\n",
              " 'adjustment',\n",
              " 'adjustment fait',\n",
              " 'adjustment inevitably',\n",
              " 'adjustment just',\n",
              " 'adjusts',\n",
              " 'adjusts lip',\n",
              " 'adler',\n",
              " 'adler planetarium',\n",
              " 'administrating',\n",
              " 'administrating excuse',\n",
              " 'administration',\n",
              " 'administration bush',\n",
              " 'administration install',\n",
              " 'administration sought',\n",
              " 'administrations',\n",
              " 'administrations contempt',\n",
              " 'administrative',\n",
              " 'administrative teacher',\n",
              " 'administrator',\n",
              " 'administrator status',\n",
              " 'administrators',\n",
              " 'administrators programmers',\n",
              " 'admirable',\n",
              " 'admirable fellow',\n",
              " 'admirable invaluable',\n",
              " 'admirable scott',\n",
              " 'admiration',\n",
              " 'admiration hitler',\n",
              " 'admirer',\n",
              " 'admirer passivity',\n",
              " 'admirers',\n",
              " 'admirers forgotten',\n",
              " 'admit',\n",
              " 'admit case',\n",
              " 'admit defeat',\n",
              " 'admit detesting',\n",
              " 'admit didnt',\n",
              " 'admit diet',\n",
              " 'admit good',\n",
              " 'admit guy',\n",
              " 'admit havent',\n",
              " 'admit loving',\n",
              " 'admit sigh',\n",
              " 'admit step',\n",
              " 'admit vanness',\n",
              " 'admit youve',\n",
              " 'admitted',\n",
              " 'admitted feel',\n",
              " 'admitted started',\n",
              " 'admittedly',\n",
              " 'admittedly price',\n",
              " 'adn',\n",
              " 'adn hide',\n",
              " 'adoi',\n",
              " 'adoi competition',\n",
              " 'adolescene',\n",
              " 'adolescene lonely',\n",
              " 'adolescent',\n",
              " 'adolescent rejection',\n",
              " 'adopted',\n",
              " 'adopted daughter',\n",
              " 'adopted ny',\n",
              " 'adopted told',\n",
              " 'adoption',\n",
              " 'adoption family',\n",
              " 'adorable',\n",
              " 'adorable love',\n",
              " 'adoration',\n",
              " 'adoration contemplation',\n",
              " 'adore',\n",
              " 'adore girl',\n",
              " 'adore heart',\n",
              " 'adore know',\n",
              " 'adore perks',\n",
              " 'adore plus',\n",
              " 'adore sweet',\n",
              " 'adorned',\n",
              " 'adorned wall',\n",
              " 'adrain',\n",
              " 'adrain chias',\n",
              " 'adrift',\n",
              " 'adrift floating',\n",
              " 'ads',\n",
              " 'ads said',\n",
              " 'ads slam',\n",
              " 'adsl',\n",
              " 'adsl modem',\n",
              " 'adult',\n",
              " 'adult adolescene',\n",
              " 'adult contemporary',\n",
              " 'adult content',\n",
              " 'adult lifetime',\n",
              " 'adult ones',\n",
              " 'adult remember',\n",
              " 'adult sextoy',\n",
              " 'adult swim',\n",
              " 'advance',\n",
              " 'advance agenda',\n",
              " 'advance election',\n",
              " 'advance science',\n",
              " 'advance trying',\n",
              " 'advanced',\n",
              " 'advanced content',\n",
              " 'advanced course',\n",
              " 'advanced curriculum',\n",
              " 'advanced jordan',\n",
              " 'advanced level',\n",
              " 'advanced retires',\n",
              " 'advancement',\n",
              " 'advancement depth',\n",
              " 'advancement pain',\n",
              " 'advances',\n",
              " 'advances waitress',\n",
              " 'advancing',\n",
              " 'advancing learning',\n",
              " 'advantage',\n",
              " 'advantage access',\n",
              " 'advantage clear',\n",
              " 'advantage combination',\n",
              " 'advantage countries',\n",
              " 'advantage draft',\n",
              " 'advantage good',\n",
              " 'advantage lower',\n",
              " 'advantage opposing',\n",
              " 'advantage story',\n",
              " 'advent',\n",
              " 'advent internet',\n",
              " 'adventure',\n",
              " 'adventure broke',\n",
              " 'adventure music',\n",
              " 'adventures',\n",
              " 'adventures mary',\n",
              " 'adventures pool',\n",
              " 'adventures sea',\n",
              " 'advertise',\n",
              " 'advertise fact',\n",
              " 'advertisements',\n",
              " 'advertisements advocating',\n",
              " 'advertising',\n",
              " 'advertising service',\n",
              " 'advertising slogans',\n",
              " 'advertisment',\n",
              " 'advertisment basically',\n",
              " 'adverts',\n",
              " 'adverts provide',\n",
              " 'advice',\n",
              " 'advice criticism',\n",
              " 'advice dont',\n",
              " 'advice drinking',\n",
              " 'advice shows',\n",
              " 'advice thrown',\n",
              " 'advice win',\n",
              " 'adviceit',\n",
              " 'adviceit does',\n",
              " 'advicewhat',\n",
              " 'advicewhat worked',\n",
              " 'advisable',\n",
              " 'advisable concentrate',\n",
              " 'advise',\n",
              " 'advise diet',\n",
              " 'advise guys',\n",
              " 'advised',\n",
              " 'advised alright',\n",
              " 'advises',\n",
              " 'advises soak',\n",
              " 'advisor',\n",
              " 'advisor group',\n",
              " 'advisors',\n",
              " 'advisors told',\n",
              " 'advisory',\n",
              " 'advisory today',\n",
              " 'advocate',\n",
              " 'advocate fairly',\n",
              " 'advocates',\n",
              " 'advocates involuntary',\n",
              " 'advocating',\n",
              " 'advocating fairer',\n",
              " 'aerobics',\n",
              " 'aerobics people',\n",
              " 'af',\n",
              " 'af baru',\n",
              " 'afar',\n",
              " 'afar knowing',\n",
              " 'affair',\n",
              " 'affair boss',\n",
              " 'affair married',\n",
              " 'affair needs',\n",
              " 'affair stories',\n",
              " 'affairs',\n",
              " 'affairs friends',\n",
              " 'affect',\n",
              " 'affect attitude',\n",
              " 'affect direction',\n",
              " 'affect indous',\n",
              " 'affect sex',\n",
              " 'affect subject',\n",
              " 'affected',\n",
              " 'affected rising',\n",
              " 'affecting',\n",
              " 'affecting love',\n",
              " 'affection',\n",
              " 'affection changes',\n",
              " 'affection seen',\n",
              " 'affectionate',\n",
              " 'affectionate cat',\n",
              " 'affiliate',\n",
              " 'affiliate management',\n",
              " 'affiliate profiles',\n",
              " 'affiliate registration',\n",
              " 'affiliation',\n",
              " 'affiliation regards',\n",
              " 'affinity',\n",
              " 'affinity ms',\n",
              " 'afford',\n",
              " 'afford buy',\n",
              " 'afford guess',\n",
              " 'afford hate',\n",
              " 'afford mountain',\n",
              " 'afford open',\n",
              " 'afford saving',\n",
              " 'afhahahaand',\n",
              " 'afhahahaand celebrating',\n",
              " 'aforementioned',\n",
              " 'aforementioned registrar',\n",
              " ...]"
            ]
          },
          "metadata": {
            "tags": []
          },
          "execution_count": 21
        }
      ]
    },
    {
      "cell_type": "code",
      "metadata": {
        "id": "OpGqdnUeYFfd",
        "colab_type": "code",
        "colab": {}
      },
      "source": [
        "#vect.transform(train) uses the fitted vocabulary to build a document-term matrix from the training data\n",
        "train_dtm = vect.transform(X_train)"
      ],
      "execution_count": 0,
      "outputs": []
    },
    {
      "cell_type": "code",
      "metadata": {
        "id": "hVHeRebgaxsL",
        "colab_type": "code",
        "outputId": "fab609d2-15f9-42f0-bda8-cb8ddd487132",
        "colab": {
          "base_uri": "https://localhost:8080/",
          "height": 34
        }
      },
      "source": [
        "# check the type of the document-term matrix\n",
        "type(train_dtm)"
      ],
      "execution_count": 15,
      "outputs": [
        {
          "output_type": "execute_result",
          "data": {
            "text/plain": [
              "scipy.sparse.csr.csr_matrix"
            ]
          },
          "metadata": {
            "tags": []
          },
          "execution_count": 15
        }
      ]
    },
    {
      "cell_type": "code",
      "metadata": {
        "id": "Q05EEvAzBmH9",
        "colab_type": "code",
        "outputId": "5ec0a3ed-1474-4fa7-81dd-037471faae78",
        "colab": {
          "base_uri": "https://localhost:8080/",
          "height": 34
        }
      },
      "source": [
        "train_dtm.shape"
      ],
      "execution_count": 59,
      "outputs": [
        {
          "output_type": "execute_result",
          "data": {
            "text/plain": [
              "(700, 74792)"
            ]
          },
          "metadata": {
            "tags": []
          },
          "execution_count": 59
        }
      ]
    },
    {
      "cell_type": "code",
      "metadata": {
        "id": "xiaxgqr9a0UK",
        "colab_type": "code",
        "outputId": "5de16c4d-6486-4190-d722-878ca1052562",
        "colab": {
          "base_uri": "https://localhost:8080/",
          "height": 884
        }
      },
      "source": [
        "# examine the sparse matrix contents by printing the DTM for Train dataset\n",
        "print(train_dtm)"
      ],
      "execution_count": 23,
      "outputs": [
        {
          "output_type": "stream",
          "text": [
            "  (0, 2593)\t1\n",
            "  (0, 2594)\t1\n",
            "  (0, 5854)\t1\n",
            "  (0, 5874)\t1\n",
            "  (0, 6183)\t1\n",
            "  (0, 6235)\t1\n",
            "  (0, 9312)\t1\n",
            "  (0, 9340)\t1\n",
            "  (0, 9365)\t2\n",
            "  (0, 9369)\t1\n",
            "  (0, 9374)\t1\n",
            "  (0, 17693)\t1\n",
            "  (0, 17694)\t1\n",
            "  (0, 37504)\t1\n",
            "  (0, 37514)\t1\n",
            "  (0, 43658)\t1\n",
            "  (0, 43678)\t1\n",
            "  (0, 48358)\t1\n",
            "  (0, 49329)\t1\n",
            "  (0, 49353)\t1\n",
            "  (0, 57261)\t1\n",
            "  (0, 57262)\t1\n",
            "  (0, 66873)\t1\n",
            "  (0, 66929)\t1\n",
            "  (1, 1001)\t1\n",
            "  :\t:\n",
            "  (699, 72073)\t1\n",
            "  (699, 72082)\t1\n",
            "  (699, 72083)\t1\n",
            "  (699, 72358)\t1\n",
            "  (699, 72359)\t1\n",
            "  (699, 72662)\t1\n",
            "  (699, 72663)\t1\n",
            "  (699, 73313)\t1\n",
            "  (699, 73314)\t1\n",
            "  (699, 73624)\t1\n",
            "  (699, 73632)\t1\n",
            "  (699, 73805)\t1\n",
            "  (699, 73806)\t1\n",
            "  (699, 73817)\t2\n",
            "  (699, 73818)\t1\n",
            "  (699, 73819)\t1\n",
            "  (699, 73820)\t2\n",
            "  (699, 73821)\t1\n",
            "  (699, 73822)\t1\n",
            "  (699, 74111)\t1\n",
            "  (699, 74144)\t1\n",
            "  (699, 74275)\t1\n",
            "  (699, 74276)\t1\n",
            "  (699, 74424)\t1\n",
            "  (699, 74425)\t1\n"
          ],
          "name": "stdout"
        }
      ]
    },
    {
      "cell_type": "code",
      "metadata": {
        "id": "sxIscJcf0XsM",
        "colab_type": "code",
        "colab": {}
      },
      "source": [
        "#vect.transform(test) uses the fitted vocabulary to build a document-term matrix from the testing data and ignores tokens it hasn't seen before\n",
        "test_dtm = vect.transform(X_test)"
      ],
      "execution_count": 0,
      "outputs": []
    },
    {
      "cell_type": "code",
      "metadata": {
        "id": "I6MnlyVM77AL",
        "colab_type": "code",
        "outputId": "dfd2af23-c6e2-4725-f1cf-7e0a962f5dea",
        "colab": {
          "base_uri": "https://localhost:8080/",
          "height": 34
        }
      },
      "source": [
        "test_dtm.shape"
      ],
      "execution_count": 25,
      "outputs": [
        {
          "output_type": "execute_result",
          "data": {
            "text/plain": [
              "(300, 74792)"
            ]
          },
          "metadata": {
            "tags": []
          },
          "execution_count": 25
        }
      ]
    },
    {
      "cell_type": "code",
      "metadata": {
        "id": "LvHPQkAJ2yxP",
        "colab_type": "code",
        "outputId": "e833a8df-078a-4111-cb0f-6f7c284a4fbb",
        "colab": {
          "base_uri": "https://localhost:8080/",
          "height": 884
        }
      },
      "source": [
        "#Print Document Term Matrix for test\n",
        "print(test_dtm)"
      ],
      "execution_count": 26,
      "outputs": [
        {
          "output_type": "stream",
          "text": [
            "  (0, 21412)\t1\n",
            "  (0, 21414)\t1\n",
            "  (0, 25214)\t1\n",
            "  (0, 68909)\t1\n",
            "  (1, 4820)\t1\n",
            "  (1, 21218)\t1\n",
            "  (1, 37434)\t1\n",
            "  (1, 68909)\t1\n",
            "  (2, 2396)\t1\n",
            "  (2, 2488)\t1\n",
            "  (2, 3235)\t1\n",
            "  (2, 5966)\t1\n",
            "  (2, 8107)\t1\n",
            "  (2, 10573)\t1\n",
            "  (2, 10585)\t1\n",
            "  (2, 11483)\t1\n",
            "  (2, 11586)\t1\n",
            "  (2, 13638)\t1\n",
            "  (2, 14269)\t1\n",
            "  (2, 14778)\t1\n",
            "  (2, 15849)\t1\n",
            "  (2, 16280)\t1\n",
            "  (2, 16387)\t1\n",
            "  (2, 16465)\t1\n",
            "  (2, 17110)\t8\n",
            "  :\t:\n",
            "  (299, 7929)\t1\n",
            "  (299, 10391)\t1\n",
            "  (299, 13108)\t1\n",
            "  (299, 15459)\t1\n",
            "  (299, 16886)\t2\n",
            "  (299, 17659)\t1\n",
            "  (299, 19829)\t1\n",
            "  (299, 21051)\t1\n",
            "  (299, 22568)\t1\n",
            "  (299, 23489)\t1\n",
            "  (299, 23501)\t1\n",
            "  (299, 26079)\t1\n",
            "  (299, 27058)\t1\n",
            "  (299, 28468)\t1\n",
            "  (299, 28491)\t1\n",
            "  (299, 32668)\t1\n",
            "  (299, 45312)\t1\n",
            "  (299, 48189)\t1\n",
            "  (299, 51052)\t1\n",
            "  (299, 52367)\t1\n",
            "  (299, 52578)\t1\n",
            "  (299, 55966)\t1\n",
            "  (299, 60122)\t1\n",
            "  (299, 66346)\t1\n",
            "  (299, 66873)\t1\n"
          ],
          "name": "stdout"
        }
      ]
    },
    {
      "cell_type": "markdown",
      "metadata": {
        "id": "B1uBcnSR1tih",
        "colab_type": "text"
      },
      "source": [
        "### Create a dictionary to get the count of every label i.e. the key will be label name and value will be the total count of the label. Check below image for reference"
      ]
    },
    {
      "cell_type": "code",
      "metadata": {
        "id": "kmBLidKrBJ0F",
        "colab_type": "code",
        "colab": {}
      },
      "source": [
        "x=[]\n",
        "for i in range(len(df2)) : \n",
        "  x = x + df2['labels'].iloc[i]"
      ],
      "execution_count": 0,
      "outputs": []
    },
    {
      "cell_type": "code",
      "metadata": {
        "id": "SIO9Wdy3DsYX",
        "colab_type": "code",
        "outputId": "4aec0fbc-d161-403e-f742-cbe4a0493905",
        "colab": {
          "base_uri": "https://localhost:8080/",
          "height": 1000
        }
      },
      "source": [
        "x"
      ],
      "execution_count": 29,
      "outputs": [
        {
          "output_type": "execute_result",
          "data": {
            "text/plain": [
              "['male',\n",
              " 27,\n",
              " 'Technology',\n",
              " 'Pisces',\n",
              " 'female',\n",
              " 38,\n",
              " 'indUnk',\n",
              " 'Virgo',\n",
              " 'female',\n",
              " 26,\n",
              " 'Marketing',\n",
              " 'Taurus',\n",
              " 'female',\n",
              " 24,\n",
              " 'indUnk',\n",
              " 'Taurus',\n",
              " 'male',\n",
              " 39,\n",
              " 'Education',\n",
              " 'Pisces',\n",
              " 'female',\n",
              " 24,\n",
              " 'Accounting',\n",
              " 'Aquarius',\n",
              " 'male',\n",
              " 16,\n",
              " 'Communications-Media',\n",
              " 'Scorpio',\n",
              " 'male',\n",
              " 33,\n",
              " 'indUnk',\n",
              " 'Taurus',\n",
              " 'male',\n",
              " 17,\n",
              " 'indUnk',\n",
              " 'Sagittarius',\n",
              " 'female',\n",
              " 14,\n",
              " 'HumanResources',\n",
              " 'Scorpio',\n",
              " 'male',\n",
              " 16,\n",
              " 'Student',\n",
              " 'Capricorn',\n",
              " 'male',\n",
              " 25,\n",
              " 'Internet',\n",
              " 'Sagittarius',\n",
              " 'male',\n",
              " 36,\n",
              " 'Fashion',\n",
              " 'Gemini',\n",
              " 'male',\n",
              " 25,\n",
              " 'indUnk',\n",
              " 'Leo',\n",
              " 'female',\n",
              " 34,\n",
              " 'indUnk',\n",
              " 'Aries',\n",
              " 'male',\n",
              " 14,\n",
              " 'Student',\n",
              " 'Leo',\n",
              " 'male',\n",
              " 48,\n",
              " 'Government',\n",
              " 'Leo',\n",
              " 'female',\n",
              " 15,\n",
              " 'Student',\n",
              " 'Capricorn',\n",
              " 'female',\n",
              " 25,\n",
              " 'Advertising',\n",
              " 'Scorpio',\n",
              " 'male',\n",
              " 26,\n",
              " 'Technology',\n",
              " 'Taurus',\n",
              " 'female',\n",
              " 15,\n",
              " 'indUnk',\n",
              " 'Capricorn',\n",
              " 'male',\n",
              " 33,\n",
              " 'Banking',\n",
              " 'Sagittarius',\n",
              " 'male',\n",
              " 34,\n",
              " 'Education',\n",
              " 'Aquarius',\n",
              " 'female',\n",
              " 23,\n",
              " 'indUnk',\n",
              " 'Scorpio',\n",
              " 'male',\n",
              " 15,\n",
              " 'Student',\n",
              " 'Sagittarius',\n",
              " 'male',\n",
              " 26,\n",
              " 'Student',\n",
              " 'Aquarius',\n",
              " 'male',\n",
              " 25,\n",
              " 'indUnk',\n",
              " 'Capricorn',\n",
              " 'male',\n",
              " 23,\n",
              " 'Arts',\n",
              " 'Sagittarius',\n",
              " 'female',\n",
              " 15,\n",
              " 'indUnk',\n",
              " 'Virgo',\n",
              " 'male',\n",
              " 27,\n",
              " 'indUnk',\n",
              " 'Leo',\n",
              " 'female',\n",
              " 24,\n",
              " 'indUnk',\n",
              " 'Libra',\n",
              " 'male',\n",
              " 24,\n",
              " 'Technology',\n",
              " 'Libra',\n",
              " 'male',\n",
              " 24,\n",
              " 'HumanResources',\n",
              " 'Libra',\n",
              " 'male',\n",
              " 34,\n",
              " 'indUnk',\n",
              " 'Taurus',\n",
              " 'female',\n",
              " 15,\n",
              " 'indUnk',\n",
              " 'Taurus',\n",
              " 'male',\n",
              " 38,\n",
              " 'indUnk',\n",
              " 'Virgo',\n",
              " 'female',\n",
              " 23,\n",
              " 'Student',\n",
              " 'Cancer',\n",
              " 'male',\n",
              " 35,\n",
              " 'Technology',\n",
              " 'Aries',\n",
              " 'female',\n",
              " 24,\n",
              " 'indUnk',\n",
              " 'Libra',\n",
              " 'female',\n",
              " 23,\n",
              " 'indUnk',\n",
              " 'Capricorn',\n",
              " 'female',\n",
              " 15,\n",
              " 'Student',\n",
              " 'Pisces',\n",
              " 'female',\n",
              " 33,\n",
              " 'Technology',\n",
              " 'Gemini',\n",
              " 'female',\n",
              " 23,\n",
              " 'Military',\n",
              " 'Pisces',\n",
              " 'male',\n",
              " 44,\n",
              " 'indUnk',\n",
              " 'Cancer',\n",
              " 'female',\n",
              " 24,\n",
              " 'indUnk',\n",
              " 'Virgo',\n",
              " 'male',\n",
              " 13,\n",
              " 'indUnk',\n",
              " 'Taurus',\n",
              " 'female',\n",
              " 39,\n",
              " 'indUnk',\n",
              " 'Sagittarius',\n",
              " 'male',\n",
              " 23,\n",
              " 'Consulting',\n",
              " 'Scorpio',\n",
              " 'male',\n",
              " 42,\n",
              " 'indUnk',\n",
              " 'Capricorn',\n",
              " 'male',\n",
              " 16,\n",
              " 'indUnk',\n",
              " 'Sagittarius',\n",
              " 'female',\n",
              " 26,\n",
              " 'indUnk',\n",
              " 'Virgo',\n",
              " 'female',\n",
              " 16,\n",
              " 'Student',\n",
              " 'Capricorn',\n",
              " 'male',\n",
              " 23,\n",
              " 'Student',\n",
              " 'Cancer',\n",
              " 'female',\n",
              " 23,\n",
              " 'indUnk',\n",
              " 'Scorpio',\n",
              " 'male',\n",
              " 27,\n",
              " 'indUnk',\n",
              " 'Cancer',\n",
              " 'male',\n",
              " 33,\n",
              " 'indUnk',\n",
              " 'Virgo',\n",
              " 'male',\n",
              " 24,\n",
              " 'Military',\n",
              " 'Leo',\n",
              " 'male',\n",
              " 14,\n",
              " 'indUnk',\n",
              " 'Libra',\n",
              " 'female',\n",
              " 15,\n",
              " 'Agriculture',\n",
              " 'Sagittarius',\n",
              " 'male',\n",
              " 33,\n",
              " 'Education',\n",
              " 'Pisces',\n",
              " 'female',\n",
              " 13,\n",
              " 'Student',\n",
              " 'Sagittarius',\n",
              " 'male',\n",
              " 24,\n",
              " 'Technology',\n",
              " 'Libra',\n",
              " 'female',\n",
              " 17,\n",
              " 'indUnk',\n",
              " 'Taurus',\n",
              " 'female',\n",
              " 24,\n",
              " 'indUnk',\n",
              " 'Aries',\n",
              " 'female',\n",
              " 27,\n",
              " 'indUnk',\n",
              " 'Aries',\n",
              " 'male',\n",
              " 25,\n",
              " 'indUnk',\n",
              " 'Aries',\n",
              " 'male',\n",
              " 17,\n",
              " 'Student',\n",
              " 'Capricorn',\n",
              " 'female',\n",
              " 27,\n",
              " 'indUnk',\n",
              " 'Aquarius',\n",
              " 'female',\n",
              " 15,\n",
              " 'indUnk',\n",
              " 'Gemini',\n",
              " 'female',\n",
              " 24,\n",
              " 'indUnk',\n",
              " 'Gemini',\n",
              " 'male',\n",
              " 16,\n",
              " 'Arts',\n",
              " 'Gemini',\n",
              " 'male',\n",
              " 17,\n",
              " 'Student',\n",
              " 'Cancer',\n",
              " 'male',\n",
              " 25,\n",
              " 'Engineering',\n",
              " 'Taurus',\n",
              " 'male',\n",
              " 14,\n",
              " 'Student',\n",
              " 'Leo',\n",
              " 'male',\n",
              " 17,\n",
              " 'RealEstate',\n",
              " 'Virgo',\n",
              " 'male',\n",
              " 27,\n",
              " 'indUnk',\n",
              " 'Capricorn',\n",
              " 'male',\n",
              " 24,\n",
              " 'indUnk',\n",
              " 'Sagittarius',\n",
              " 'male',\n",
              " 25,\n",
              " 'Chemicals',\n",
              " 'Aquarius',\n",
              " 'male',\n",
              " 27,\n",
              " 'Student',\n",
              " 'Taurus',\n",
              " 'male',\n",
              " 25,\n",
              " 'Technology',\n",
              " 'Leo',\n",
              " 'male',\n",
              " 23,\n",
              " 'indUnk',\n",
              " 'Virgo',\n",
              " 'male',\n",
              " 25,\n",
              " 'indUnk',\n",
              " 'Pisces',\n",
              " 'male',\n",
              " 26,\n",
              " 'indUnk',\n",
              " 'Capricorn',\n",
              " 'male',\n",
              " 24,\n",
              " 'indUnk',\n",
              " 'Aries',\n",
              " 'male',\n",
              " 34,\n",
              " 'indUnk',\n",
              " 'Aries',\n",
              " 'female',\n",
              " 23,\n",
              " 'indUnk',\n",
              " 'Scorpio',\n",
              " 'male',\n",
              " 24,\n",
              " 'BusinessServices',\n",
              " 'Virgo',\n",
              " 'female',\n",
              " 25,\n",
              " 'Technology',\n",
              " 'Leo',\n",
              " 'male',\n",
              " 48,\n",
              " 'Education',\n",
              " 'Sagittarius',\n",
              " 'female',\n",
              " 17,\n",
              " 'indUnk',\n",
              " 'Aries',\n",
              " 'male',\n",
              " 25,\n",
              " 'indUnk',\n",
              " 'Libra',\n",
              " 'male',\n",
              " 17,\n",
              " 'Student',\n",
              " 'Sagittarius',\n",
              " 'male',\n",
              " 14,\n",
              " 'Education',\n",
              " 'Sagittarius',\n",
              " 'male',\n",
              " 27,\n",
              " 'Non-Profit',\n",
              " 'Sagittarius',\n",
              " 'male',\n",
              " 23,\n",
              " 'Student',\n",
              " 'Virgo',\n",
              " 'male',\n",
              " 24,\n",
              " 'Technology',\n",
              " 'Gemini',\n",
              " 'female',\n",
              " 26,\n",
              " 'Marketing',\n",
              " 'Taurus',\n",
              " 'female',\n",
              " 34,\n",
              " 'indUnk',\n",
              " 'Aquarius',\n",
              " 'male',\n",
              " 37,\n",
              " 'indUnk',\n",
              " 'Leo',\n",
              " 'male',\n",
              " 17,\n",
              " 'Student',\n",
              " 'Pisces',\n",
              " 'female',\n",
              " 14,\n",
              " 'indUnk',\n",
              " 'Taurus',\n",
              " 'male',\n",
              " 24,\n",
              " 'indUnk',\n",
              " 'Leo',\n",
              " 'male',\n",
              " 16,\n",
              " 'Chemicals',\n",
              " 'Sagittarius',\n",
              " 'female',\n",
              " 13,\n",
              " 'indUnk',\n",
              " 'Aquarius',\n",
              " 'female',\n",
              " 24,\n",
              " 'Education',\n",
              " 'Cancer',\n",
              " 'female',\n",
              " 45,\n",
              " 'Education',\n",
              " 'Gemini',\n",
              " 'male',\n",
              " 24,\n",
              " 'Student',\n",
              " 'Scorpio',\n",
              " 'male',\n",
              " 26,\n",
              " 'Government',\n",
              " 'Taurus',\n",
              " 'female',\n",
              " 16,\n",
              " 'Student',\n",
              " 'Aries',\n",
              " 'female',\n",
              " 23,\n",
              " 'indUnk',\n",
              " 'Capricorn',\n",
              " 'female',\n",
              " 25,\n",
              " 'Advertising',\n",
              " 'Pisces',\n",
              " 'male',\n",
              " 34,\n",
              " 'indUnk',\n",
              " 'Scorpio',\n",
              " 'female',\n",
              " 23,\n",
              " 'Student',\n",
              " 'Taurus',\n",
              " 'female',\n",
              " 14,\n",
              " 'indUnk',\n",
              " 'Taurus',\n",
              " 'male',\n",
              " 14,\n",
              " 'Student',\n",
              " 'Sagittarius',\n",
              " 'female',\n",
              " 24,\n",
              " 'indUnk',\n",
              " 'Aries',\n",
              " 'female',\n",
              " 25,\n",
              " 'indUnk',\n",
              " 'Pisces',\n",
              " 'male',\n",
              " 17,\n",
              " 'Education',\n",
              " 'Scorpio',\n",
              " 'male',\n",
              " 24,\n",
              " 'Student',\n",
              " 'Taurus',\n",
              " 'male',\n",
              " 17,\n",
              " 'indUnk',\n",
              " 'Sagittarius',\n",
              " 'male',\n",
              " 45,\n",
              " 'indUnk',\n",
              " 'Gemini',\n",
              " 'male',\n",
              " 36,\n",
              " 'Fashion',\n",
              " 'Gemini',\n",
              " 'female',\n",
              " 43,\n",
              " 'indUnk',\n",
              " 'Gemini',\n",
              " 'male',\n",
              " 34,\n",
              " 'indUnk',\n",
              " 'Aries',\n",
              " 'male',\n",
              " 17,\n",
              " 'Military',\n",
              " 'Aquarius',\n",
              " 'male',\n",
              " 23,\n",
              " 'Arts',\n",
              " 'Taurus',\n",
              " 'male',\n",
              " 15,\n",
              " 'Religion',\n",
              " 'Capricorn',\n",
              " 'male',\n",
              " 23,\n",
              " 'Science',\n",
              " 'Leo',\n",
              " 'male',\n",
              " 17,\n",
              " 'Student',\n",
              " 'Gemini',\n",
              " 'female',\n",
              " 24,\n",
              " 'Communications-Media',\n",
              " 'Libra',\n",
              " 'male',\n",
              " 34,\n",
              " 'Education',\n",
              " 'Aquarius',\n",
              " 'male',\n",
              " 15,\n",
              " 'indUnk',\n",
              " 'Aquarius',\n",
              " 'male',\n",
              " 35,\n",
              " 'Technology',\n",
              " 'Capricorn',\n",
              " 'male',\n",
              " 34,\n",
              " 'Arts',\n",
              " 'Aquarius',\n",
              " 'male',\n",
              " 13,\n",
              " 'indUnk',\n",
              " 'Taurus',\n",
              " 'male',\n",
              " 24,\n",
              " 'Advertising',\n",
              " 'Leo',\n",
              " 'male',\n",
              " 17,\n",
              " 'Student',\n",
              " 'Capricorn',\n",
              " 'female',\n",
              " 37,\n",
              " 'indUnk',\n",
              " 'Leo',\n",
              " 'male',\n",
              " 23,\n",
              " 'indUnk',\n",
              " 'Scorpio',\n",
              " 'female',\n",
              " 14,\n",
              " 'Student',\n",
              " 'Libra',\n",
              " 'female',\n",
              " 25,\n",
              " 'Arts',\n",
              " 'Virgo',\n",
              " 'male',\n",
              " 14,\n",
              " 'Student',\n",
              " 'Leo',\n",
              " 'male',\n",
              " 17,\n",
              " 'indUnk',\n",
              " 'Capricorn',\n",
              " 'male',\n",
              " 23,\n",
              " 'Banking',\n",
              " 'Capricorn',\n",
              " 'female',\n",
              " 23,\n",
              " 'Student',\n",
              " 'Taurus',\n",
              " 'female',\n",
              " 24,\n",
              " 'indUnk',\n",
              " 'Taurus',\n",
              " 'male',\n",
              " 36,\n",
              " 'Fashion',\n",
              " 'Gemini',\n",
              " 'male',\n",
              " 25,\n",
              " 'Education',\n",
              " 'Gemini',\n",
              " 'female',\n",
              " 26,\n",
              " 'Arts',\n",
              " 'Taurus',\n",
              " 'male',\n",
              " 27,\n",
              " 'indUnk',\n",
              " 'Taurus',\n",
              " 'male',\n",
              " 16,\n",
              " 'Student',\n",
              " 'Aries',\n",
              " 'male',\n",
              " 25,\n",
              " 'indUnk',\n",
              " 'Aquarius',\n",
              " 'male',\n",
              " 37,\n",
              " 'InvestmentBanking',\n",
              " 'Scorpio',\n",
              " 'female',\n",
              " 41,\n",
              " 'Arts',\n",
              " 'Scorpio',\n",
              " 'male',\n",
              " 17,\n",
              " 'Technology',\n",
              " 'Taurus',\n",
              " 'female',\n",
              " 14,\n",
              " 'indUnk',\n",
              " 'Capricorn',\n",
              " 'male',\n",
              " 33,\n",
              " 'Education',\n",
              " 'Aries',\n",
              " 'female',\n",
              " 25,\n",
              " 'indUnk',\n",
              " 'Cancer',\n",
              " 'female',\n",
              " 14,\n",
              " 'Student',\n",
              " 'Sagittarius',\n",
              " 'female',\n",
              " 13,\n",
              " 'Military',\n",
              " 'Taurus',\n",
              " 'female',\n",
              " 43,\n",
              " 'indUnk',\n",
              " 'Taurus',\n",
              " 'female',\n",
              " 15,\n",
              " 'Education',\n",
              " 'Gemini',\n",
              " 'male',\n",
              " 16,\n",
              " 'Technology',\n",
              " 'Cancer',\n",
              " 'female',\n",
              " 23,\n",
              " 'Communications-Media',\n",
              " 'Pisces',\n",
              " 'female',\n",
              " 25,\n",
              " 'Engineering',\n",
              " 'Scorpio',\n",
              " 'male',\n",
              " 23,\n",
              " 'Internet',\n",
              " 'Leo',\n",
              " 'male',\n",
              " 26,\n",
              " 'Technology',\n",
              " 'Taurus',\n",
              " 'female',\n",
              " 24,\n",
              " 'BusinessServices',\n",
              " 'Virgo',\n",
              " 'female',\n",
              " 23,\n",
              " 'indUnk',\n",
              " 'Pisces',\n",
              " 'male',\n",
              " 15,\n",
              " 'Education',\n",
              " 'Scorpio',\n",
              " 'female',\n",
              " 34,\n",
              " 'indUnk',\n",
              " 'Cancer',\n",
              " 'male',\n",
              " 24,\n",
              " 'Engineering',\n",
              " 'Libra',\n",
              " 'female',\n",
              " 15,\n",
              " 'indUnk',\n",
              " 'Capricorn',\n",
              " 'female',\n",
              " 16,\n",
              " 'Student',\n",
              " 'Virgo',\n",
              " 'female',\n",
              " 15,\n",
              " 'Student',\n",
              " 'Sagittarius',\n",
              " 'female',\n",
              " 17,\n",
              " 'Arts',\n",
              " 'Taurus',\n",
              " 'male',\n",
              " 33,\n",
              " 'indUnk',\n",
              " 'Taurus',\n",
              " 'male',\n",
              " 25,\n",
              " 'Technology',\n",
              " 'Pisces',\n",
              " 'male',\n",
              " 15,\n",
              " 'Student',\n",
              " 'Pisces',\n",
              " 'male',\n",
              " 17,\n",
              " 'indUnk',\n",
              " 'Aquarius',\n",
              " 'female',\n",
              " 24,\n",
              " 'indUnk',\n",
              " 'Virgo',\n",
              " 'male',\n",
              " 26,\n",
              " 'Technology',\n",
              " 'Scorpio',\n",
              " 'female',\n",
              " 16,\n",
              " 'Student',\n",
              " 'Libra',\n",
              " 'female',\n",
              " 25,\n",
              " 'indUnk',\n",
              " 'Leo',\n",
              " 'male',\n",
              " 16,\n",
              " 'Student',\n",
              " 'Virgo',\n",
              " 'female',\n",
              " 23,\n",
              " 'indUnk',\n",
              " 'Pisces',\n",
              " 'female',\n",
              " 24,\n",
              " 'indUnk',\n",
              " 'Libra',\n",
              " 'female',\n",
              " 23,\n",
              " 'indUnk',\n",
              " 'Aquarius',\n",
              " 'female',\n",
              " 15,\n",
              " 'indUnk',\n",
              " 'Cancer',\n",
              " 'male',\n",
              " 16,\n",
              " 'Student',\n",
              " 'Cancer',\n",
              " 'female',\n",
              " 13,\n",
              " 'Student',\n",
              " 'Pisces',\n",
              " 'male',\n",
              " 26,\n",
              " 'Student',\n",
              " 'Sagittarius',\n",
              " 'male',\n",
              " 17,\n",
              " 'Arts',\n",
              " 'Pisces',\n",
              " 'male',\n",
              " 27,\n",
              " 'Religion',\n",
              " 'Gemini',\n",
              " 'male',\n",
              " 24,\n",
              " 'indUnk',\n",
              " 'Libra',\n",
              " 'male',\n",
              " 25,\n",
              " 'Engineering',\n",
              " 'Capricorn',\n",
              " 'female',\n",
              " 14,\n",
              " 'indUnk',\n",
              " 'Capricorn',\n",
              " 'female',\n",
              " 15,\n",
              " 'Student',\n",
              " 'Virgo',\n",
              " 'male',\n",
              " 16,\n",
              " 'Non-Profit',\n",
              " 'Cancer',\n",
              " 'female',\n",
              " 17,\n",
              " 'Student',\n",
              " 'Aries',\n",
              " 'male',\n",
              " 27,\n",
              " 'indUnk',\n",
              " 'Libra',\n",
              " 'female',\n",
              " 35,\n",
              " 'indUnk',\n",
              " 'Aries',\n",
              " 'female',\n",
              " 41,\n",
              " 'indUnk',\n",
              " 'Gemini',\n",
              " 'male',\n",
              " 24,\n",
              " 'indUnk',\n",
              " 'Pisces',\n",
              " 'female',\n",
              " 17,\n",
              " 'Student',\n",
              " 'Capricorn',\n",
              " 'female',\n",
              " 38,\n",
              " 'indUnk',\n",
              " 'Virgo',\n",
              " 'male',\n",
              " 27,\n",
              " 'Non-Profit',\n",
              " 'Libra',\n",
              " 'male',\n",
              " 16,\n",
              " 'Student',\n",
              " 'Pisces',\n",
              " 'male',\n",
              " 24,\n",
              " 'Technology',\n",
              " 'Scorpio',\n",
              " 'male',\n",
              " 15,\n",
              " 'Student',\n",
              " 'Virgo',\n",
              " 'female',\n",
              " 15,\n",
              " 'Arts',\n",
              " 'Gemini',\n",
              " 'female',\n",
              " 15,\n",
              " 'Arts',\n",
              " 'Capricorn',\n",
              " 'male',\n",
              " 24,\n",
              " 'Chemicals',\n",
              " 'Cancer',\n",
              " 'female',\n",
              " 48,\n",
              " 'Consulting',\n",
              " 'Capricorn',\n",
              " 'male',\n",
              " 34,\n",
              " 'indUnk',\n",
              " 'Aries',\n",
              " 'female',\n",
              " 48,\n",
              " 'Consulting',\n",
              " 'Capricorn',\n",
              " 'female',\n",
              " 17,\n",
              " 'Student',\n",
              " 'Libra',\n",
              " 'female',\n",
              " 17,\n",
              " 'Arts',\n",
              " 'Virgo',\n",
              " 'male',\n",
              " 26,\n",
              " 'Arts',\n",
              " 'Aries',\n",
              " 'male',\n",
              " 27,\n",
              " 'Communications-Media',\n",
              " 'Virgo',\n",
              " 'female',\n",
              " 24,\n",
              " 'indUnk',\n",
              " 'Virgo',\n",
              " 'male',\n",
              " 25,\n",
              " 'Banking',\n",
              " 'Cancer',\n",
              " 'male',\n",
              " 26,\n",
              " 'Law',\n",
              " 'Capricorn',\n",
              " 'female',\n",
              " 25,\n",
              " 'Arts',\n",
              " 'Virgo',\n",
              " 'male',\n",
              " 34,\n",
              " 'Architecture',\n",
              " 'Sagittarius',\n",
              " 'female',\n",
              " 24,\n",
              " 'indUnk',\n",
              " 'Libra',\n",
              " 'female',\n",
              " 36,\n",
              " 'Consulting',\n",
              " 'Gemini',\n",
              " 'male',\n",
              " 24,\n",
              " 'Internet',\n",
              " 'Scorpio',\n",
              " 'male',\n",
              " 14,\n",
              " 'Biotech',\n",
              " 'Pisces',\n",
              " 'female',\n",
              " 14,\n",
              " 'indUnk',\n",
              " 'Libra',\n",
              " 'female',\n",
              " 46,\n",
              " 'Consulting',\n",
              " 'Capricorn',\n",
              " 'male',\n",
              " 36,\n",
              " 'Fashion',\n",
              " 'Aries',\n",
              " 'female',\n",
              " 15,\n",
              " 'indUnk',\n",
              " 'Libra',\n",
              " 'female',\n",
              " 16,\n",
              " 'indUnk',\n",
              " 'Aquarius',\n",
              " 'male',\n",
              " 17,\n",
              " 'indUnk',\n",
              " 'Libra',\n",
              " 'male',\n",
              " 24,\n",
              " 'Technology',\n",
              " 'Gemini',\n",
              " 'female',\n",
              " 38,\n",
              " 'indUnk',\n",
              " 'Gemini',\n",
              " 'female',\n",
              " 17,\n",
              " 'Student',\n",
              " 'Aquarius',\n",
              " 'male',\n",
              " 15,\n",
              " 'Student',\n",
              " 'Libra',\n",
              " 'male',\n",
              " 16,\n",
              " 'Student',\n",
              " 'Pisces',\n",
              " 'male',\n",
              " 17,\n",
              " 'BusinessServices',\n",
              " 'Virgo',\n",
              " 'male',\n",
              " 17,\n",
              " 'Communications-Media',\n",
              " 'Libra',\n",
              " 'male',\n",
              " 13,\n",
              " 'indUnk',\n",
              " 'Taurus',\n",
              " 'female',\n",
              " 24,\n",
              " 'Education',\n",
              " 'Gemini',\n",
              " 'male',\n",
              " 33,\n",
              " 'indUnk',\n",
              " 'Taurus',\n",
              " 'female',\n",
              " 17,\n",
              " 'Military',\n",
              " 'Pisces',\n",
              " 'male',\n",
              " 27,\n",
              " 'Technology',\n",
              " 'Cancer',\n",
              " 'female',\n",
              " 27,\n",
              " 'Religion',\n",
              " 'Taurus',\n",
              " 'female',\n",
              " 27,\n",
              " 'Consulting',\n",
              " 'Aquarius',\n",
              " 'male',\n",
              " 24,\n",
              " 'indUnk',\n",
              " 'Leo',\n",
              " ...]"
            ]
          },
          "metadata": {
            "tags": []
          },
          "execution_count": 29
        }
      ]
    },
    {
      "cell_type": "code",
      "metadata": {
        "id": "q1H8wozZES1E",
        "colab_type": "code",
        "colab": {}
      },
      "source": [
        "def CountFrequency(my_list): \n",
        "  \n",
        "    # Creating an empty dictionary  \n",
        "    freq = {} \n",
        "    for item in my_list: \n",
        "        if (item in freq): \n",
        "            freq[item] += 1\n",
        "        else: \n",
        "            freq[item] = 1\n",
        "  \n",
        "    print(freq)"
      ],
      "execution_count": 0,
      "outputs": []
    },
    {
      "cell_type": "code",
      "metadata": {
        "id": "UYVdFO5JFtpJ",
        "colab_type": "code",
        "outputId": "7a84d653-a86e-437c-e0b9-0cb7b2184310",
        "colab": {
          "base_uri": "https://localhost:8080/",
          "height": 54
        }
      },
      "source": [
        "CountFrequency(x)"
      ],
      "execution_count": 31,
      "outputs": [
        {
          "output_type": "stream",
          "text": [
            "{'male': 511, 27: 69, 'Technology': 55, 'Pisces': 81, 'female': 489, 38: 9, 'indUnk': 376, 'Virgo': 85, 26: 67, 'Marketing': 7, 'Taurus': 107, 24: 118, 39: 10, 'Education': 55, 'Accounting': 6, 'Aquarius': 91, 16: 93, 'Communications-Media': 29, 'Scorpio': 78, 33: 30, 17: 114, 'Sagittarius': 60, 14: 56, 'HumanResources': 8, 'Student': 230, 'Capricorn': 85, 25: 105, 'Internet': 19, 36: 24, 'Fashion': 10, 'Gemini': 84, 'Leo': 69, 34: 31, 'Aries': 97, 48: 6, 'Government': 8, 15: 72, 'Advertising': 10, 'Banking': 9, 23: 99, 'Arts': 46, 'Libra': 79, 'Cancer': 84, 35: 24, 'Military': 6, 44: 2, 13: 22, 'Consulting': 15, 42: 4, 'Agriculture': 2, 'Engineering': 11, 'RealEstate': 2, 'Chemicals': 7, 'BusinessServices': 7, 'Non-Profit': 15, 37: 12, 45: 6, 43: 9, 'Religion': 6, 'Science': 10, 'InvestmentBanking': 1, 41: 8, 'Law': 10, 'Architecture': 1, 'Biotech': 6, 46: 5, 'Publishing': 9, 47: 3, 'Transportation': 6, 40: 2, 'Manufacturing': 4, 'Sports-Recreation': 5, 'LawEnforcement-Security': 1, 'Environment': 1, 'Telecommunications': 3, 'Museums-Libraries': 2, 'Tourism': 2}\n"
          ],
          "name": "stdout"
        }
      ]
    },
    {
      "cell_type": "markdown",
      "metadata": {
        "id": "GfxQSsVLPIAg",
        "colab_type": "text"
      },
      "source": [
        "## Transform the labels -\n",
        "As we have noticed before, in this task each example can have multiple tags. To deal with such kind of prediction, we need to transform labels in a binary form and the prediction will be a mask of 0s and 1s. For this purpose, it is convenient to use MultiLabelBinarizer from sklearn  \n",
        "\n",
        "a. Convert your train and test labels using MultiLabelBinarizer"
      ]
    },
    {
      "cell_type": "code",
      "metadata": {
        "id": "9yE1GxXrFwXb",
        "colab_type": "code",
        "colab": {}
      },
      "source": [
        "from sklearn.preprocessing import MultiLabelBinarizer"
      ],
      "execution_count": 0,
      "outputs": []
    },
    {
      "cell_type": "code",
      "metadata": {
        "id": "sE6Cf-IASIOC",
        "colab_type": "code",
        "colab": {}
      },
      "source": [
        "mlb = MultiLabelBinarizer()"
      ],
      "execution_count": 0,
      "outputs": []
    },
    {
      "cell_type": "code",
      "metadata": {
        "id": "n_G1UeC1Riuy",
        "colab_type": "code",
        "outputId": "60bf4ce8-a36a-4921-d903-6b67ad35ecbf",
        "colab": {
          "base_uri": "https://localhost:8080/",
          "height": 34
        }
      },
      "source": [
        "y_train.shape"
      ],
      "execution_count": 34,
      "outputs": [
        {
          "output_type": "execute_result",
          "data": {
            "text/plain": [
              "(700,)"
            ]
          },
          "metadata": {
            "tags": []
          },
          "execution_count": 34
        }
      ]
    },
    {
      "cell_type": "code",
      "metadata": {
        "id": "5c77-gTr8QE3",
        "colab_type": "code",
        "colab": {}
      },
      "source": [
        "y_train = list(y_train)"
      ],
      "execution_count": 0,
      "outputs": []
    },
    {
      "cell_type": "code",
      "metadata": {
        "id": "sdsTW2dz__8_",
        "colab_type": "code",
        "colab": {}
      },
      "source": [
        "y_test = list(y_test)"
      ],
      "execution_count": 0,
      "outputs": []
    },
    {
      "cell_type": "code",
      "metadata": {
        "id": "GYygNOuD8VFy",
        "colab_type": "code",
        "outputId": "faf4d0f7-bef8-46a8-eb60-fd3284aef9c7",
        "colab": {
          "base_uri": "https://localhost:8080/",
          "height": 34
        }
      },
      "source": [
        "y_train[0]"
      ],
      "execution_count": 37,
      "outputs": [
        {
          "output_type": "execute_result",
          "data": {
            "text/plain": [
              "['female', 45, 'Education', 'Gemini']"
            ]
          },
          "metadata": {
            "tags": []
          },
          "execution_count": 37
        }
      ]
    },
    {
      "cell_type": "code",
      "metadata": {
        "id": "HYKySsR_8b9g",
        "colab_type": "code",
        "colab": {}
      },
      "source": [
        "for i in np.arange(0,700):\n",
        "  y_train[i] = tuple(y_train[i])"
      ],
      "execution_count": 0,
      "outputs": []
    },
    {
      "cell_type": "code",
      "metadata": {
        "id": "7I-69GSeW4H4",
        "colab_type": "code",
        "colab": {
          "base_uri": "https://localhost:8080/",
          "height": 34
        },
        "outputId": "96c2f20c-49ce-4e26-d189-12b16aa1d225"
      },
      "source": [
        "y_train[0]"
      ],
      "execution_count": 39,
      "outputs": [
        {
          "output_type": "execute_result",
          "data": {
            "text/plain": [
              "('female', 45, 'Education', 'Gemini')"
            ]
          },
          "metadata": {
            "tags": []
          },
          "execution_count": 39
        }
      ]
    },
    {
      "cell_type": "code",
      "metadata": {
        "id": "NIYspqU6AGDS",
        "colab_type": "code",
        "colab": {}
      },
      "source": [
        "for i in np.arange(0,300):\n",
        "  y_test[i] = tuple(y_test[i])"
      ],
      "execution_count": 0,
      "outputs": []
    },
    {
      "cell_type": "code",
      "metadata": {
        "id": "Hss6_vJ-8wsr",
        "colab_type": "code",
        "colab": {}
      },
      "source": [
        "y_train = [[str(j) for j in i] for i in y_train]"
      ],
      "execution_count": 0,
      "outputs": []
    },
    {
      "cell_type": "code",
      "metadata": {
        "id": "P4Db9ld1W_A5",
        "colab_type": "code",
        "colab": {
          "base_uri": "https://localhost:8080/",
          "height": 34
        },
        "outputId": "2a107d98-34c0-4a55-b1f5-da02dd8ce8aa"
      },
      "source": [
        "y_train[0]"
      ],
      "execution_count": 42,
      "outputs": [
        {
          "output_type": "execute_result",
          "data": {
            "text/plain": [
              "['female', '45', 'Education', 'Gemini']"
            ]
          },
          "metadata": {
            "tags": []
          },
          "execution_count": 42
        }
      ]
    },
    {
      "cell_type": "code",
      "metadata": {
        "id": "KX9MV5r0AJu5",
        "colab_type": "code",
        "colab": {}
      },
      "source": [
        "y_test = [[str(j) for j in i] for i in y_test]"
      ],
      "execution_count": 0,
      "outputs": []
    },
    {
      "cell_type": "code",
      "metadata": {
        "id": "LAxum4hxSTn8",
        "colab_type": "code",
        "colab": {}
      },
      "source": [
        "#Fit -Transform MLB on train labels\n",
        "y_train_transformed = mlb.fit_transform(y_train)"
      ],
      "execution_count": 0,
      "outputs": []
    },
    {
      "cell_type": "code",
      "metadata": {
        "id": "HDoM58OOS0IL",
        "colab_type": "code",
        "outputId": "3af4736a-98f9-42b0-9b81-6b9e157b01ea",
        "colab": {
          "base_uri": "https://localhost:8080/",
          "height": 136
        }
      },
      "source": [
        "y_train_transformed"
      ],
      "execution_count": 45,
      "outputs": [
        {
          "output_type": "execute_result",
          "data": {
            "text/plain": [
              "array([[0, 0, 0, ..., 1, 0, 0],\n",
              "       [0, 0, 1, ..., 1, 1, 0],\n",
              "       [0, 0, 0, ..., 0, 0, 1],\n",
              "       ...,\n",
              "       [0, 0, 0, ..., 1, 1, 0],\n",
              "       [0, 0, 0, ..., 1, 0, 0],\n",
              "       [0, 0, 0, ..., 0, 1, 1]])"
            ]
          },
          "metadata": {
            "tags": []
          },
          "execution_count": 45
        }
      ]
    },
    {
      "cell_type": "code",
      "metadata": {
        "id": "UUs_OnnmUU21",
        "colab_type": "code",
        "outputId": "3141db53-9281-4b8e-aa58-0e1fd577bfbf",
        "colab": {
          "base_uri": "https://localhost:8080/",
          "height": 34
        }
      },
      "source": [
        " y_train_transformed.shape"
      ],
      "execution_count": 46,
      "outputs": [
        {
          "output_type": "execute_result",
          "data": {
            "text/plain": [
              "(700, 76)"
            ]
          },
          "metadata": {
            "tags": []
          },
          "execution_count": 46
        }
      ]
    },
    {
      "cell_type": "code",
      "metadata": {
        "id": "xvbDSPc0S3eS",
        "colab_type": "code",
        "outputId": "e33e7721-8bd1-44ee-f610-3a7e074fe34f",
        "colab": {
          "base_uri": "https://localhost:8080/",
          "height": 255
        }
      },
      "source": [
        "#The classes are decoded as below :\n",
        "mlb.classes_"
      ],
      "execution_count": 47,
      "outputs": [
        {
          "output_type": "execute_result",
          "data": {
            "text/plain": [
              "array(['13', '14', '15', '16', '17', '23', '24', '25', '26', '27', '33',\n",
              "       '34', '35', '36', '37', '38', '39', '40', '41', '42', '43', '44',\n",
              "       '45', '46', '47', '48', 'Accounting', 'Advertising', 'Agriculture',\n",
              "       'Aquarius', 'Architecture', 'Aries', 'Arts', 'Banking', 'Biotech',\n",
              "       'BusinessServices', 'Cancer', 'Capricorn', 'Chemicals',\n",
              "       'Communications-Media', 'Consulting', 'Education', 'Engineering',\n",
              "       'Environment', 'Fashion', 'Gemini', 'Government', 'HumanResources',\n",
              "       'Internet', 'InvestmentBanking', 'Law', 'Leo', 'Libra',\n",
              "       'Manufacturing', 'Marketing', 'Military', 'Museums-Libraries',\n",
              "       'Non-Profit', 'Pisces', 'Publishing', 'RealEstate', 'Religion',\n",
              "       'Sagittarius', 'Science', 'Scorpio', 'Sports-Recreation',\n",
              "       'Student', 'Taurus', 'Technology', 'Telecommunications', 'Tourism',\n",
              "       'Transportation', 'Virgo', 'female', 'indUnk', 'male'],\n",
              "      dtype=object)"
            ]
          },
          "metadata": {
            "tags": []
          },
          "execution_count": 47
        }
      ]
    },
    {
      "cell_type": "code",
      "metadata": {
        "id": "x2isS269XcE_",
        "colab_type": "code",
        "colab": {}
      },
      "source": [
        "#MLB transform on test labels\n",
        "y_test_transformed = mlb.transform(y_test)"
      ],
      "execution_count": 0,
      "outputs": []
    },
    {
      "cell_type": "code",
      "metadata": {
        "id": "-gcjACaOZ1A9",
        "colab_type": "code",
        "outputId": "d55bd20b-b315-40a5-9600-3d05ea7b042a",
        "colab": {
          "base_uri": "https://localhost:8080/",
          "height": 136
        }
      },
      "source": [
        "y_test_transformed"
      ],
      "execution_count": 49,
      "outputs": [
        {
          "output_type": "execute_result",
          "data": {
            "text/plain": [
              "array([[0, 0, 0, ..., 0, 0, 1],\n",
              "       [0, 0, 0, ..., 0, 0, 1],\n",
              "       [0, 0, 0, ..., 1, 0, 0],\n",
              "       ...,\n",
              "       [0, 0, 0, ..., 1, 1, 0],\n",
              "       [0, 0, 0, ..., 1, 0, 0],\n",
              "       [0, 0, 0, ..., 0, 0, 1]])"
            ]
          },
          "metadata": {
            "tags": []
          },
          "execution_count": 49
        }
      ]
    },
    {
      "cell_type": "markdown",
      "metadata": {
        "id": "kSz8l3QKaLus",
        "colab_type": "text"
      },
      "source": [
        "##8. Choose a classifier -\n",
        "In this task, we suggest using the One-vs-Rest approach, which is implemented in\n",
        "OneVsRestClassifier class. In this approach k classifiers (= number of tags) are trained. As a basic classifier, use LogisticRegression . It is one of the simplest methods, but often it performs good enough in text classification tasks. It might take some time because the number of classifiers to train is large.  \n",
        "\n",
        "a. Use a linear classifier of your choice, wrap it up in OneVsRestClassifier to train it on every label  \n",
        "b. As One-vs-Rest approach might not have been discussed in the sessions, we are\n",
        "providing you the code for that\n"
      ]
    },
    {
      "cell_type": "code",
      "metadata": {
        "id": "n_ViD1LSZ3yX",
        "colab_type": "code",
        "colab": {}
      },
      "source": [
        "from sklearn.multiclass import OneVsRestClassifier\n",
        "from sklearn.linear_model import LogisticRegression"
      ],
      "execution_count": 0,
      "outputs": []
    },
    {
      "cell_type": "code",
      "metadata": {
        "id": "wQRjqLxqh7zO",
        "colab_type": "code",
        "colab": {}
      },
      "source": [
        "clf = LogisticRegression(solver='lbfgs')"
      ],
      "execution_count": 0,
      "outputs": []
    },
    {
      "cell_type": "code",
      "metadata": {
        "id": "FSWs54uqiTiT",
        "colab_type": "code",
        "colab": {}
      },
      "source": [
        "clf = OneVsRestClassifier(clf)"
      ],
      "execution_count": 0,
      "outputs": []
    },
    {
      "cell_type": "markdown",
      "metadata": {
        "id": "ynJEn7AHilmx",
        "colab_type": "text"
      },
      "source": [
        "## 9. Fit the classifier, make predictions and get the accuracy.  \n",
        "\n",
        "a. Print the following\n",
        "\n",
        "> \n",
        "i. Accuracy score  \n",
        "ii. F1 score    \n",
        "iii. Average precision score  \n",
        "iv. Average recall score  \n",
        "v. Tip: Make sure you are familiar with all of them. How would you expect the\n",
        "things to work for the multi-label scenario? Read about micro/macro/weighted\n",
        "averaging\n",
        "\n",
        "\n"
      ]
    },
    {
      "cell_type": "code",
      "metadata": {
        "id": "XneCuYMwiXtl",
        "colab_type": "code",
        "outputId": "94070865-69a2-419b-c07a-a357b03d3e84",
        "colab": {
          "base_uri": "https://localhost:8080/",
          "height": 187
        }
      },
      "source": [
        "#Fit the classifier\n",
        "clf.fit(train_dtm.toarray(), y_train_transformed)"
      ],
      "execution_count": 53,
      "outputs": [
        {
          "output_type": "execute_result",
          "data": {
            "text/plain": [
              "OneVsRestClassifier(estimator=LogisticRegression(C=1.0, class_weight=None,\n",
              "                                                 dual=False, fit_intercept=True,\n",
              "                                                 intercept_scaling=1,\n",
              "                                                 l1_ratio=None, max_iter=100,\n",
              "                                                 multi_class='auto',\n",
              "                                                 n_jobs=None, penalty='l2',\n",
              "                                                 random_state=None,\n",
              "                                                 solver='lbfgs', tol=0.0001,\n",
              "                                                 verbose=0, warm_start=False),\n",
              "                    n_jobs=None)"
            ]
          },
          "metadata": {
            "tags": []
          },
          "execution_count": 53
        }
      ]
    },
    {
      "cell_type": "code",
      "metadata": {
        "id": "HWegi_6fjye2",
        "colab_type": "code",
        "colab": {}
      },
      "source": [
        "#Make Predictions\n",
        "y_pred_train = clf.predict(train_dtm.toarray())"
      ],
      "execution_count": 0,
      "outputs": []
    },
    {
      "cell_type": "code",
      "metadata": {
        "id": "iFaIQ8LUj2af",
        "colab_type": "code",
        "outputId": "863e0bcf-7dd2-4b2b-cc99-a583dcba2564",
        "colab": {
          "base_uri": "https://localhost:8080/",
          "height": 34
        }
      },
      "source": [
        "#Accuracy\n",
        "print(metrics.accuracy_score(y_train_transformed, y_pred_train))  #Training Accuracy"
      ],
      "execution_count": 64,
      "outputs": [
        {
          "output_type": "stream",
          "text": [
            "0.9114285714285715\n"
          ],
          "name": "stdout"
        }
      ]
    },
    {
      "cell_type": "code",
      "metadata": {
        "id": "ozmyZQO5_JgS",
        "colab_type": "code",
        "outputId": "91d0fb8e-e7c1-4e74-a03f-85eb8ceac8b7",
        "colab": {
          "base_uri": "https://localhost:8080/",
          "height": 34
        }
      },
      "source": [
        "#For multilabel classification- we have to use the average parameter which determines the type of averaging performed on the data.\n",
        "#Here we would use 'micro' averaging - it calculate metrics globally by counting the total true positives, false negatives and false positives.\n",
        "\n",
        "#F1 score \n",
        "metrics.f1_score(y_train_transformed,y_pred_train, average='micro')"
      ],
      "execution_count": 32,
      "outputs": [
        {
          "output_type": "execute_result",
          "data": {
            "text/plain": [
              "0.9751371115173675"
            ]
          },
          "metadata": {
            "tags": []
          },
          "execution_count": 32
        }
      ]
    },
    {
      "cell_type": "code",
      "metadata": {
        "id": "44fWVTnFBo4X",
        "colab_type": "code",
        "outputId": "13d53b5a-3dc3-4182-d85c-a5d8d43012cc",
        "colab": {
          "base_uri": "https://localhost:8080/",
          "height": 34
        }
      },
      "source": [
        "#Average precision score\n",
        "metrics.average_precision_score(y_train_transformed,y_pred_train,average='micro')"
      ],
      "execution_count": 33,
      "outputs": [
        {
          "output_type": "execute_result",
          "data": {
            "text/plain": [
              "0.9539297752808988"
            ]
          },
          "metadata": {
            "tags": []
          },
          "execution_count": 33
        }
      ]
    },
    {
      "cell_type": "code",
      "metadata": {
        "id": "G7PKAJr-BsBP",
        "colab_type": "code",
        "outputId": "187fa843-f4ac-4a4f-9e19-57beb65b45ca",
        "colab": {
          "base_uri": "https://localhost:8080/",
          "height": 34
        }
      },
      "source": [
        "#Average Recall score\n",
        "metrics.recall_score(y_train_transformed,y_pred_train,average='micro')"
      ],
      "execution_count": 34,
      "outputs": [
        {
          "output_type": "execute_result",
          "data": {
            "text/plain": [
              "0.9525"
            ]
          },
          "metadata": {
            "tags": []
          },
          "execution_count": 34
        }
      ]
    },
    {
      "cell_type": "code",
      "metadata": {
        "id": "CumsDHWM5djt",
        "colab_type": "code",
        "colab": {}
      },
      "source": [
        "#Making predictions on test\n",
        "y_test_pred = clf.predict(test_dtm.toarray())"
      ],
      "execution_count": 0,
      "outputs": []
    },
    {
      "cell_type": "code",
      "metadata": {
        "id": "UyVw-Oz959DB",
        "colab_type": "code",
        "colab": {
          "base_uri": "https://localhost:8080/",
          "height": 34
        },
        "outputId": "65b3b312-c4d3-4f2d-c98d-5096056ed3ff"
      },
      "source": [
        "#Test Accuracy\n",
        "print(metrics.accuracy_score(y_test_transformed,y_test_pred))  "
      ],
      "execution_count": 66,
      "outputs": [
        {
          "output_type": "stream",
          "text": [
            "0.0\n"
          ],
          "name": "stdout"
        }
      ]
    },
    {
      "cell_type": "code",
      "metadata": {
        "id": "wUNDklFb6c0t",
        "colab_type": "code",
        "colab": {
          "base_uri": "https://localhost:8080/",
          "height": 34
        },
        "outputId": "aa5db1da-aefd-46f0-cdd2-83b32cf2b4c6"
      },
      "source": [
        "#Test F1 score \n",
        "metrics.f1_score(y_test_transformed,y_test_pred, average='micro')"
      ],
      "execution_count": 42,
      "outputs": [
        {
          "output_type": "execute_result",
          "data": {
            "text/plain": [
              "0.2196825396825397"
            ]
          },
          "metadata": {
            "tags": []
          },
          "execution_count": 42
        }
      ]
    },
    {
      "cell_type": "code",
      "metadata": {
        "id": "tPG-rJeL77BW",
        "colab_type": "code",
        "colab": {
          "base_uri": "https://localhost:8080/",
          "height": 34
        },
        "outputId": "2c2b0442-dfcc-476b-ee00-1010471a7bf5"
      },
      "source": [
        "#Average precision score\n",
        "metrics.average_precision_score(y_test_transformed,y_test_pred,average='micro')"
      ],
      "execution_count": 43,
      "outputs": [
        {
          "output_type": "execute_result",
          "data": {
            "text/plain": [
              "0.11138732631803099"
            ]
          },
          "metadata": {
            "tags": []
          },
          "execution_count": 43
        }
      ]
    },
    {
      "cell_type": "code",
      "metadata": {
        "id": "eeIbfuC28SMK",
        "colab_type": "code",
        "colab": {
          "base_uri": "https://localhost:8080/",
          "height": 34
        },
        "outputId": "7f23d61e-a42f-4bd1-9317-0d082214d442"
      },
      "source": [
        "#Average Recall score\n",
        "metrics.recall_score(y_test_transformed,y_test_pred,average='micro')"
      ],
      "execution_count": 44,
      "outputs": [
        {
          "output_type": "execute_result",
          "data": {
            "text/plain": [
              "0.14428690575479566"
            ]
          },
          "metadata": {
            "tags": []
          },
          "execution_count": 44
        }
      ]
    },
    {
      "cell_type": "code",
      "metadata": {
        "id": "_pZQSeWIVjbw",
        "colab_type": "code",
        "colab": {}
      },
      "source": [
        "#Conclusion : Training metrics are very high and testing metrics are very low as we have taken very few records to train our dataset. \n",
        "#Accuracy can be improved by running the model on large dataset. "
      ],
      "execution_count": 0,
      "outputs": []
    },
    {
      "cell_type": "markdown",
      "metadata": {
        "id": "_DV_aRQ6jkUD",
        "colab_type": "text"
      },
      "source": [
        "### 10. Print true label and predicted label for any five examples"
      ]
    },
    {
      "cell_type": "code",
      "metadata": {
        "id": "96rLWDcdYJTR",
        "colab_type": "code",
        "colab": {}
      },
      "source": [
        "#Get prediction function to predict and using 'inverse_transform' to convert binary labels into original text labels \n",
        "def get_pred(q):\n",
        "    q_pred = clf.predict(q)\n",
        "    return mlb.inverse_transform(q_pred)"
      ],
      "execution_count": 0,
      "outputs": []
    },
    {
      "cell_type": "code",
      "metadata": {
        "id": "N-Zaj8NlGXeD",
        "colab_type": "code",
        "colab": {
          "base_uri": "https://localhost:8080/",
          "height": 377
        },
        "outputId": "907b5e7d-b21e-4fff-ed40-28d7962cfa74"
      },
      "source": [
        "#Printing Labels for any five samples for Train dataset\n",
        "\n",
        "for i in range(5): \n",
        "  k = random.randint(1,700)\n",
        "  print(\"Blog: \", X_train.iloc[k], \"\\nPredicted Label: \", get_pred(train_dtm[k].toarray())), print(\"Actual Label: \",y_train[k], \"\\n\")\n"
      ],
      "execution_count": 66,
      "outputs": [
        {
          "output_type": "stream",
          "text": [
            "Blog:  urllink    why arent they smiling  why so seriousnbsp urllink \n",
            "Predicted Label:  [('Pisces', 'female')]\n",
            "Actual Label:  ['female', '35', 'Transportation', 'Pisces'] \n",
            "\n",
            "Blog:  well for those who are going down to san antonio sometime here is my review on the staybridge suite near the airport i give it  stars it was nice to have  rooms  beds  tvs and a kitchen the reason though for taking away  stars was that it was near traffic so it was hard to leave also the comunity wasnt all spectacular and while the hotel was nice it did show some age so for a low price hotel for a prolonged stay that should suffice your needs \n",
            "Predicted Label:  [('13', 'Capricorn', 'Technology', 'male')]\n",
            "Actual Label:  ['male', '13', 'Technology', 'Capricorn'] \n",
            "\n",
            "Blog:  tonight was great the carpirate ship was awesome its too bad i didnt get to go to the party afterwards but its all good theres another one tomorrow night that i wanted to go to more so there  erika is my best friend ever she lives in sandusky and talks to me more that a lot of people in lapeer thats where i live like danielle for instance she will not talk to me at all on the internet its always i cant talk to ya talk to you later what a load of poop  that was the end of the marking period today i think i did all right i hope i did  conflict of interest no i got interest in conflict \n",
            "Predicted Label:  [('16', 'Cancer', 'Non-Profit', 'male')]\n",
            "Actual Label:  ['male', '16', 'Non-Profit', 'Cancer'] \n",
            "\n",
            "Blog:  since i havent had time to do my daily post on here this is why \n",
            "Predicted Label:  [('female', 'indUnk')]\n",
            "Actual Label:  ['female', '23', 'indUnk', 'Aquarius'] \n",
            "\n",
            "Blog:  urllink    me and my two hotty sophmore friendsnbsp urllink \n",
            "Predicted Label:  [('17', 'Aries', 'female')]\n",
            "Actual Label:  ['female', '17', 'Transportation', 'Aries'] \n",
            "\n"
          ],
          "name": "stdout"
        }
      ]
    },
    {
      "cell_type": "code",
      "metadata": {
        "id": "wGG9Er3FVE_z",
        "colab_type": "code",
        "colab": {
          "base_uri": "https://localhost:8080/",
          "height": 377
        },
        "outputId": "809e69c9-27e5-4f69-c752-0832a674f2b3"
      },
      "source": [
        "#Printing Labels for any five samples for Test dataset\n",
        "\n",
        "for i in range(5): \n",
        "  k = random.randint(1,300)\n",
        "  print(\"Blog: \", X_test.iloc[k], \"\\nPredicted Label: \", get_pred(test_dtm[k].toarray())), print(\"Actual Label: \",y_test[k], \"\\n\")\n"
      ],
      "execution_count": 68,
      "outputs": [
        {
          "output_type": "stream",
          "text": [
            "Blog:  more  another  inches im still recovering from the  inches last week sheesh let a girl catch her breath already \n",
            "Predicted Label:  [('female',)]\n",
            "Actual Label:  ['female', '39', 'indUnk', 'Sagittarius'] \n",
            "\n",
            "Blog:  i decided that i didnt like the redraft of the first chapter and have started to redraft it again im glad i decided to because when i sat down to it last night i realised i had so much more to add so i have deleted it from fanfiction and i hope to have the new one posted for the weekend  other than that i have letters to catch up on and im away to do that just now \n",
            "Predicted Label:  [('male',)]\n",
            "Actual Label:  ['female', '24', 'indUnk', 'Virgo'] \n",
            "\n",
            "Blog:  were backand we had lots of fun too in bewteen stepping in gum mixing up the words soxs and soaked and avoiding giant evil bug things called sequetasmost likely spelled wrongthat have no point in living but other than that we home  ps rave candy is now the offically best sugar source ever  dilussional child \n",
            "Predicted Label:  [('male',)]\n",
            "Actual Label:  ['male', '14', 'Student', 'Sagittarius'] \n",
            "\n",
            "Blog:  there are all these blogs about men not being able to get any sex from their sos and they complain bitterly about it completely understandable what i dont get is why women withhold sex   i personally love to fuck if i were a guy id be hard all day   if i were to write down the thoughts that go through my head on a daily basis id have priests sprinkling holy water on me and demanding that the lustful demons that inhabit my body be cast out  and even as a something female who loves to fuck i have difficulty both finding and getting partners how is it that the libidinously gifted dont often meet each other if i had a boyfriend wed be having all sorts of crazy monkey sex the sort of sex where you wake up the next morning and realize there was indeed a wet spot and oh by the way your panties are hanging from the ceiling fan all the time id be so enthusiastic that hed beg me to let him rest for a few days and on the rare day that im not up for a fullon romp between the sheets on the ground up against the fridge in the shower sitting at my desk whatever nothing gets me or him off quite like a damn good blowjob i love love giving those my technique makes men weak in the knees and im damn proud of it  back to my original point why do womena withhold sex and why do men allow them to if i were married and my husband refused to give it up youd best be damn sure than id have a wandering eye i wouldnt be able to stay with him very long after he started withholding either id divorce his ass and go get me some of the good stuff from whomever i damn well please so quickly itd make his head spin who wants to be with someone who is so unwilling to compromise on so vital an aspect of a functional relationship i couldnt do it and if i felt stuck in the marriage for whatever reason valid or otheriwse id cheat plain and simple i wouldnt cheat to get revenge id cheat because i like to fuck and i cant at home  jeebus all these posts about sex i seriously need to get laid more often \n",
            "Predicted Label:  [('female', 'indUnk')]\n",
            "Actual Label:  ['female', '26', 'indUnk', 'Gemini'] \n",
            "\n",
            "Blog:  urllink httpwwwcoolbastardcombananaswf  ahahahahahaha go there itll be hours of laughs xdxdxdxdxd peanut butter jelly \n",
            "Predicted Label:  [('male',)]\n",
            "Actual Label:  ['female', '15', 'Arts', 'Gemini'] \n",
            "\n"
          ],
          "name": "stdout"
        }
      ]
    }
  ]
}