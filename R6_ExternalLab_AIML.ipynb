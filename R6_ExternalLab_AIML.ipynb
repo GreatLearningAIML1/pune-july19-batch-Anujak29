{
  "nbformat": 4,
  "nbformat_minor": 0,
  "metadata": {
    "colab": {
      "name": "R6_ExternalLab_AIML (1).ipynb",
      "provenance": [],
      "collapsed_sections": []
    },
    "kernelspec": {
      "display_name": "Python 2",
      "language": "python",
      "name": "python2"
    }
  },
  "cells": [
    {
      "cell_type": "markdown",
      "metadata": {
        "id": "YYk8NG3yOIT9",
        "colab_type": "text"
      },
      "source": [
        "### A MNIST-like fashion product database\n",
        "\n",
        "In this, we classify the images into respective classes given in the dataset. We use a Neural Net and a Deep Neural Net in Keras to solve this and check the accuracy scores."
      ]
    },
    {
      "cell_type": "markdown",
      "metadata": {
        "id": "tFO6PuxzOIT_",
        "colab_type": "text"
      },
      "source": [
        "### Load tensorflow"
      ]
    },
    {
      "cell_type": "code",
      "metadata": {
        "id": "HoazjSArNY-W",
        "colab_type": "code",
        "colab": {}
      },
      "source": [
        "%tensorflow_version 2.x"
      ],
      "execution_count": 0,
      "outputs": []
    },
    {
      "cell_type": "code",
      "metadata": {
        "id": "efNjNImfOIUC",
        "colab_type": "code",
        "outputId": "2afbdedd-0368-4eab-8bab-2f33548614b0",
        "colab": {
          "base_uri": "https://localhost:8080/",
          "height": 34
        }
      },
      "source": [
        "import tensorflow as tf\n",
        "print(tf.__version__)"
      ],
      "execution_count": 3,
      "outputs": [
        {
          "output_type": "stream",
          "text": [
            "2.0.0\n"
          ],
          "name": "stdout"
        }
      ]
    },
    {
      "cell_type": "code",
      "metadata": {
        "id": "YV5WrB-geDBx",
        "colab_type": "code",
        "colab": {}
      },
      "source": [
        "tf.random.set_seed(42)"
      ],
      "execution_count": 0,
      "outputs": []
    },
    {
      "cell_type": "markdown",
      "metadata": {
        "id": "HcoZBStrOIUQ",
        "colab_type": "text"
      },
      "source": [
        "### Collect Data"
      ]
    },
    {
      "cell_type": "code",
      "metadata": {
        "id": "XA1WsFSeOIUS",
        "colab_type": "code",
        "outputId": "de6ebc64-05b8-4aab-98cc-5a96ddd1cd1a",
        "colab": {
          "base_uri": "https://localhost:8080/",
          "height": 34
        }
      },
      "source": [
        "import keras"
      ],
      "execution_count": 6,
      "outputs": [
        {
          "output_type": "stream",
          "text": [
            "Using TensorFlow backend.\n"
          ],
          "name": "stderr"
        }
      ]
    },
    {
      "cell_type": "code",
      "metadata": {
        "id": "qnbx7TyQOIUY",
        "colab_type": "code",
        "colab": {}
      },
      "source": [
        "(trainX, trainY), (testX, testY) = keras.datasets.fashion_mnist.load_data()"
      ],
      "execution_count": 0,
      "outputs": []
    },
    {
      "cell_type": "code",
      "metadata": {
        "id": "UbiHj5YPOIUc",
        "colab_type": "code",
        "outputId": "04172577-38ca-448f-d428-b67b1b4f7e01",
        "colab": {
          "base_uri": "https://localhost:8080/",
          "height": 34
        }
      },
      "source": [
        "print(testY[0:5])"
      ],
      "execution_count": 8,
      "outputs": [
        {
          "output_type": "stream",
          "text": [
            "[9 2 1 1 6]\n"
          ],
          "name": "stdout"
        }
      ]
    },
    {
      "cell_type": "markdown",
      "metadata": {
        "id": "lDAYzkwyOIUj",
        "colab_type": "text"
      },
      "source": [
        "### Convert both training and testing labels into one-hot vectors.\n",
        "\n",
        "**Hint:** check **tf.keras.utils.to_categorical()**"
      ]
    },
    {
      "cell_type": "code",
      "metadata": {
        "id": "vBlfYlANOIUk",
        "colab_type": "code",
        "colab": {}
      },
      "source": [
        "trainY = tf.keras.utils.to_categorical(trainY, num_classes=10)\n",
        "testY = tf.keras.utils.to_categorical(testY, num_classes=10)"
      ],
      "execution_count": 0,
      "outputs": []
    },
    {
      "cell_type": "code",
      "metadata": {
        "scrolled": true,
        "id": "RHV3b9mzOIUq",
        "colab_type": "code",
        "outputId": "4c8ad760-ba5d-419c-d9f0-309ba68a8470",
        "colab": {
          "base_uri": "https://localhost:8080/",
          "height": 119
        }
      },
      "source": [
        "print(trainY.shape)\n",
        "print('First 5 examples now are: ', trainY[0:5])"
      ],
      "execution_count": 30,
      "outputs": [
        {
          "output_type": "stream",
          "text": [
            "(60000, 10)\n",
            "('First 5 examples now are: ', array([[0., 0., 0., 0., 0., 0., 0., 0., 0., 1.],\n",
            "       [1., 0., 0., 0., 0., 0., 0., 0., 0., 0.],\n",
            "       [1., 0., 0., 0., 0., 0., 0., 0., 0., 0.],\n",
            "       [0., 0., 0., 1., 0., 0., 0., 0., 0., 0.],\n",
            "       [1., 0., 0., 0., 0., 0., 0., 0., 0., 0.]], dtype=float32))\n"
          ],
          "name": "stdout"
        }
      ]
    },
    {
      "cell_type": "markdown",
      "metadata": {
        "id": "FwhQ8e7VOIUw",
        "colab_type": "text"
      },
      "source": [
        "### Visualize the data\n",
        "\n",
        "Plot first 10 images in the triaining set and their labels."
      ]
    },
    {
      "cell_type": "code",
      "metadata": {
        "id": "R9hscTprhJ2K",
        "colab_type": "code",
        "outputId": "3cf1c4fc-3184-4482-ddce-06c7d465443c",
        "colab": {
          "base_uri": "https://localhost:8080/",
          "height": 269
        }
      },
      "source": [
        "import numpy as np\n",
        "\n",
        "# visualizing the first 10 images in the dataset and their labels\n",
        "%matplotlib inline\n",
        "import matplotlib.pyplot as plt\n",
        "plt.figure(figsize=(10, 1))\n",
        "for i in range(10):\n",
        "    plt.subplot(1, 10, i+1)\n",
        "    plt.imshow(trainX[i].reshape(28, 28), cmap=\"gray\")\n",
        "    plt.axis('off')\n",
        "    print('label for each of the below image: %s' % (np.argmax(trainY[0:10][i])))\n",
        "plt.show()"
      ],
      "execution_count": 31,
      "outputs": [
        {
          "output_type": "stream",
          "text": [
            "label for each of the below image: 9\n",
            "label for each of the below image: 0\n",
            "label for each of the below image: 0\n",
            "label for each of the below image: 3\n",
            "label for each of the below image: 0\n",
            "label for each of the below image: 2\n",
            "label for each of the below image: 7\n",
            "label for each of the below image: 2\n",
            "label for each of the below image: 5\n",
            "label for each of the below image: 5\n"
          ],
          "name": "stdout"
        },
        {
          "output_type": "display_data",
          "data": {
            "image/png": "[encoded data removed]",
            "text/plain": [
              "<Figure size 720x72 with 10 Axes>"
            ]
          },
          "metadata": {
            "tags": []
          }
        }
      ]
    },
    {
      "cell_type": "markdown",
      "metadata": {
        "id": "l4TbJGeSOIU4",
        "colab_type": "text"
      },
      "source": [
        "### Build a neural Network with a cross entropy loss function and sgd optimizer in Keras. The output layer with 10 neurons as we have 10 classes."
      ]
    },
    {
      "cell_type": "code",
      "metadata": {
        "id": "Ac06XZZTOIU6",
        "colab_type": "code",
        "colab": {}
      },
      "source": [
        "from tensorflow.keras.models import Sequential\n",
        "from tensorflow.keras.layers import Dense\n",
        "from tensorflow.keras import regularizers\n",
        "from tensorflow.keras import optimizers\n",
        "from tensorflow.keras.backend import backend"
      ],
      "execution_count": 0,
      "outputs": []
    },
    {
      "cell_type": "code",
      "metadata": {
        "id": "4PChCQ8ch35E",
        "colab_type": "code",
        "colab": {}
      },
      "source": [
        "#Build the model \n",
        "# Initialize Sequential model\n",
        "model = tf.keras.models.Sequential()\n",
        "\n",
        "# Reshape data from 2D to 1D -> 28x28 to 784\n",
        "model.add(tf.keras.layers.Reshape((784,),input_shape=(28,28,)))\n",
        "\n",
        "# Add Dense Layer which provides 10 Outputs after applying softmax\n",
        "model.add(tf.keras.layers.Dense(10, activation='softmax'))"
      ],
      "execution_count": 0,
      "outputs": []
    },
    {
      "cell_type": "code",
      "metadata": {
        "id": "IyafLtcpj5PJ",
        "colab_type": "code",
        "colab": {}
      },
      "source": [
        "sgd_optimizer = tf.keras.optimizers.SGD(lr=0.03)\n",
        "\n",
        "# Comile the model\n",
        "model.compile(optimizer=sgd_optimizer, loss='categorical_crossentropy', metrics=['accuracy'])"
      ],
      "execution_count": 0,
      "outputs": []
    },
    {
      "cell_type": "markdown",
      "metadata": {
        "id": "3hQpLv3aOIU_",
        "colab_type": "text"
      },
      "source": [
        "### Execute the model using model.fit()"
      ]
    },
    {
      "cell_type": "code",
      "metadata": {
        "id": "O59C_-IgOIVB",
        "colab_type": "code",
        "outputId": "4a647022-da8e-4192-86e1-e9239bd99fde",
        "colab": {
          "base_uri": "https://localhost:8080/",
          "height": 1000
        }
      },
      "source": [
        "model.fit(trainX, trainY, validation_data=(testX, testY), epochs=30)\n",
        "\n"
      ],
      "execution_count": 35,
      "outputs": [
        {
          "output_type": "stream",
          "text": [
            "Train on 60000 samples, validate on 10000 samples\n",
            "Epoch 1/30\n",
            "60000/60000 [==============================] - 4s 71us/sample - loss: 6150.1695 - accuracy: 0.7375 - val_loss: 4236.3978 - val_accuracy: 0.7860\n",
            "Epoch 2/30\n",
            "60000/60000 [==============================] - 4s 63us/sample - loss: 4884.1101 - accuracy: 0.7771 - val_loss: 8756.7917 - val_accuracy: 0.6323\n",
            "Epoch 3/30\n",
            "60000/60000 [==============================] - 4s 63us/sample - loss: 4688.5255 - accuracy: 0.7864 - val_loss: 6904.9165 - val_accuracy: 0.7909\n",
            "Epoch 4/30\n",
            "60000/60000 [==============================] - 4s 61us/sample - loss: 4494.1222 - accuracy: 0.7911 - val_loss: 3420.7534 - val_accuracy: 0.8119\n",
            "Epoch 5/30\n",
            "60000/60000 [==============================] - 4s 59us/sample - loss: 4418.4293 - accuracy: 0.7957 - val_loss: 3250.4258 - val_accuracy: 0.8019\n",
            "Epoch 6/30\n",
            "60000/60000 [==============================] - 4s 59us/sample - loss: 4478.3483 - accuracy: 0.7947 - val_loss: 3879.0837 - val_accuracy: 0.7746\n",
            "Epoch 7/30\n",
            "60000/60000 [==============================] - 3s 58us/sample - loss: 4381.2286 - accuracy: 0.7980 - val_loss: 7673.9011 - val_accuracy: 0.7337\n",
            "Epoch 8/30\n",
            "60000/60000 [==============================] - 4s 59us/sample - loss: 4308.1680 - accuracy: 0.7999 - val_loss: 3959.5060 - val_accuracy: 0.8066\n",
            "Epoch 9/30\n",
            "60000/60000 [==============================] - 3s 58us/sample - loss: 4225.9351 - accuracy: 0.7981 - val_loss: 6637.2919 - val_accuracy: 0.7543\n",
            "Epoch 10/30\n",
            "60000/60000 [==============================] - 4s 58us/sample - loss: 4208.6372 - accuracy: 0.8008 - val_loss: 15055.7947 - val_accuracy: 0.6738\n",
            "Epoch 11/30\n",
            "60000/60000 [==============================] - 3s 58us/sample - loss: 4352.4833 - accuracy: 0.7999 - val_loss: 3883.7465 - val_accuracy: 0.7894\n",
            "Epoch 12/30\n",
            "60000/60000 [==============================] - 4s 58us/sample - loss: 4280.1352 - accuracy: 0.8021 - val_loss: 2995.7838 - val_accuracy: 0.8274\n",
            "Epoch 13/30\n",
            "60000/60000 [==============================] - 3s 58us/sample - loss: 4198.4513 - accuracy: 0.8019 - val_loss: 8059.1069 - val_accuracy: 0.7184\n",
            "Epoch 14/30\n",
            "60000/60000 [==============================] - 4s 61us/sample - loss: 4220.1290 - accuracy: 0.8026 - val_loss: 3146.2568 - val_accuracy: 0.8128\n",
            "Epoch 15/30\n",
            "60000/60000 [==============================] - 4s 59us/sample - loss: 4185.9112 - accuracy: 0.8043 - val_loss: 4008.0176 - val_accuracy: 0.7931\n",
            "Epoch 16/30\n",
            "60000/60000 [==============================] - 3s 58us/sample - loss: 4240.6744 - accuracy: 0.8019 - val_loss: 5412.3190 - val_accuracy: 0.7383\n",
            "Epoch 17/30\n",
            "60000/60000 [==============================] - 4s 59us/sample - loss: 4350.2861 - accuracy: 0.8036 - val_loss: 3828.2217 - val_accuracy: 0.8177\n",
            "Epoch 18/30\n",
            "60000/60000 [==============================] - 3s 58us/sample - loss: 4260.7201 - accuracy: 0.8039 - val_loss: 5224.6910 - val_accuracy: 0.7479\n",
            "Epoch 19/30\n",
            "60000/60000 [==============================] - 4s 59us/sample - loss: 4122.6273 - accuracy: 0.8047 - val_loss: 4361.9138 - val_accuracy: 0.7796\n",
            "Epoch 20/30\n",
            "60000/60000 [==============================] - 4s 58us/sample - loss: 4202.6261 - accuracy: 0.8059 - val_loss: 3426.1902 - val_accuracy: 0.8161\n",
            "Epoch 21/30\n",
            "60000/60000 [==============================] - 3s 58us/sample - loss: 4138.4603 - accuracy: 0.8069 - val_loss: 6265.5656 - val_accuracy: 0.7537\n",
            "Epoch 22/30\n",
            "60000/60000 [==============================] - 4s 58us/sample - loss: 4164.7967 - accuracy: 0.8058 - val_loss: 4223.9150 - val_accuracy: 0.8067\n",
            "Epoch 23/30\n",
            "60000/60000 [==============================] - 4s 59us/sample - loss: 4208.3580 - accuracy: 0.8038 - val_loss: 6682.9185 - val_accuracy: 0.7377\n",
            "Epoch 24/30\n",
            "60000/60000 [==============================] - 4s 60us/sample - loss: 4219.0322 - accuracy: 0.8080 - val_loss: 5723.1180 - val_accuracy: 0.7725\n",
            "Epoch 25/30\n",
            "60000/60000 [==============================] - 4s 62us/sample - loss: 4072.8945 - accuracy: 0.8052 - val_loss: 3759.1566 - val_accuracy: 0.7951\n",
            "Epoch 26/30\n",
            "60000/60000 [==============================] - 4s 58us/sample - loss: 4134.3613 - accuracy: 0.8061 - val_loss: 5289.6605 - val_accuracy: 0.7683\n",
            "Epoch 27/30\n",
            "60000/60000 [==============================] - 4s 59us/sample - loss: 4067.5041 - accuracy: 0.8077 - val_loss: 3025.9947 - val_accuracy: 0.8222\n",
            "Epoch 28/30\n",
            "60000/60000 [==============================] - 3s 58us/sample - loss: 4168.7847 - accuracy: 0.8061 - val_loss: 4172.4422 - val_accuracy: 0.7830\n",
            "Epoch 29/30\n",
            "60000/60000 [==============================] - 4s 59us/sample - loss: 4113.4524 - accuracy: 0.8080 - val_loss: 4050.5994 - val_accuracy: 0.7787\n",
            "Epoch 30/30\n",
            "60000/60000 [==============================] - 3s 58us/sample - loss: 4113.1957 - accuracy: 0.8086 - val_loss: 3747.8642 - val_accuracy: 0.7916\n"
          ],
          "name": "stdout"
        },
        {
          "output_type": "execute_result",
          "data": {
            "text/plain": [
              "<tensorflow.python.keras.callbacks.History at 0x7f37a92c0c10>"
            ]
          },
          "metadata": {
            "tags": []
          },
          "execution_count": 35
        }
      ]
    },
    {
      "cell_type": "code",
      "metadata": {
        "id": "nqwkqPinm9H7",
        "colab_type": "code",
        "colab": {
          "base_uri": "https://localhost:8080/",
          "height": 34
        },
        "outputId": "041ce835-2e17-4d9e-b565-21aaea013bd0"
      },
      "source": [
        "score = model.evaluate(trainX, trainY, verbose=0)\n",
        "print(score)"
      ],
      "execution_count": 36,
      "outputs": [
        {
          "output_type": "stream",
          "text": [
            "[2903.9981712972003, 0.81811666]\n"
          ],
          "name": "stdout"
        }
      ]
    },
    {
      "cell_type": "markdown",
      "metadata": {
        "id": "JdzDtGwDOIVF",
        "colab_type": "text"
      },
      "source": [
        "### In the above Neural Network model add Batch Normalization layer after the input layer and repeat the steps."
      ]
    },
    {
      "cell_type": "code",
      "metadata": {
        "id": "kndfpdidOIVI",
        "colab_type": "code",
        "colab": {}
      },
      "source": [
        "# Initialize Sequential model\n",
        "model = tf.keras.models.Sequential()\n",
        "\n",
        "# Reshape data from 2D to 1D -> 28x28 to 784\n",
        "model.add(tf.keras.layers.Reshape((784,),input_shape=(28,28,)))\n",
        "\n",
        "# Normalize the data\n",
        "model.add(tf.keras.layers.BatchNormalization())\n",
        "\n",
        "# Add Dense Layer which provides 10 Outputs after applying softmax\n",
        "model.add(tf.keras.layers.Dense(10, activation='softmax'))"
      ],
      "execution_count": 0,
      "outputs": []
    },
    {
      "cell_type": "code",
      "metadata": {
        "id": "GqH1ja5ClYqP",
        "colab_type": "code",
        "colab": {}
      },
      "source": [
        "sgd_optimizer = tf.keras.optimizers.SGD(lr=0.03)\n",
        "# Comile the model\n",
        "model.compile(optimizer=sgd_optimizer, loss='categorical_crossentropy', metrics=['accuracy'])"
      ],
      "execution_count": 0,
      "outputs": []
    },
    {
      "cell_type": "code",
      "metadata": {
        "id": "Yd69NZR7lZMO",
        "colab_type": "code",
        "colab": {}
      },
      "source": [
        ""
      ],
      "execution_count": 0,
      "outputs": []
    },
    {
      "cell_type": "markdown",
      "metadata": {
        "id": "mwk3T5LJOIVN",
        "colab_type": "text"
      },
      "source": [
        "### Execute the model"
      ]
    },
    {
      "cell_type": "code",
      "metadata": {
        "id": "JNLR8tcBOIVP",
        "colab_type": "code",
        "outputId": "19cd330b-0ac1-4c59-a688-f74f9bd6d92d",
        "colab": {
          "base_uri": "https://localhost:8080/",
          "height": 1000
        }
      },
      "source": [
        "model.fit(trainX, trainY, validation_data=(testX, testY), epochs=50,\n",
        "          batch_size = 32)"
      ],
      "execution_count": 39,
      "outputs": [
        {
          "output_type": "stream",
          "text": [
            "Train on 60000 samples, validate on 10000 samples\n",
            "Epoch 1/50\n",
            "60000/60000 [==============================] - 6s 108us/sample - loss: 0.5558 - accuracy: 0.8087 - val_loss: 0.5220 - val_accuracy: 0.8260\n",
            "Epoch 2/50\n",
            "60000/60000 [==============================] - 7s 114us/sample - loss: 0.4875 - accuracy: 0.8324 - val_loss: 0.5048 - val_accuracy: 0.8250\n",
            "Epoch 3/50\n",
            "60000/60000 [==============================] - 19s 320us/sample - loss: 0.4699 - accuracy: 0.8370 - val_loss: 0.5056 - val_accuracy: 0.8381\n",
            "Epoch 4/50\n",
            "60000/60000 [==============================] - 11s 185us/sample - loss: 0.4604 - accuracy: 0.8414 - val_loss: 0.5163 - val_accuracy: 0.8306\n",
            "Epoch 5/50\n",
            "60000/60000 [==============================] - 17s 284us/sample - loss: 0.4572 - accuracy: 0.8413 - val_loss: 0.4868 - val_accuracy: 0.8373\n",
            "Epoch 6/50\n",
            "60000/60000 [==============================] - 9s 153us/sample - loss: 0.4523 - accuracy: 0.8417 - val_loss: 0.4785 - val_accuracy: 0.8387\n",
            "Epoch 7/50\n",
            "60000/60000 [==============================] - 5s 77us/sample - loss: 0.4487 - accuracy: 0.8439 - val_loss: 0.5050 - val_accuracy: 0.8315\n",
            "Epoch 8/50\n",
            "60000/60000 [==============================] - 5s 77us/sample - loss: 0.4469 - accuracy: 0.8440 - val_loss: 0.4951 - val_accuracy: 0.8352\n",
            "Epoch 9/50\n",
            "60000/60000 [==============================] - 5s 78us/sample - loss: 0.4432 - accuracy: 0.8462 - val_loss: 0.5094 - val_accuracy: 0.8280\n",
            "Epoch 10/50\n",
            "60000/60000 [==============================] - 5s 77us/sample - loss: 0.4421 - accuracy: 0.8456 - val_loss: 0.5071 - val_accuracy: 0.8336\n",
            "Epoch 11/50\n",
            "60000/60000 [==============================] - 5s 78us/sample - loss: 0.4401 - accuracy: 0.8466 - val_loss: 0.4977 - val_accuracy: 0.8364\n",
            "Epoch 12/50\n",
            "60000/60000 [==============================] - 5s 79us/sample - loss: 0.4391 - accuracy: 0.8465 - val_loss: 0.4858 - val_accuracy: 0.8378\n",
            "Epoch 13/50\n",
            "60000/60000 [==============================] - 5s 78us/sample - loss: 0.4351 - accuracy: 0.8479 - val_loss: 0.5169 - val_accuracy: 0.8353\n",
            "Epoch 14/50\n",
            "60000/60000 [==============================] - 5s 79us/sample - loss: 0.4339 - accuracy: 0.8480 - val_loss: 0.5064 - val_accuracy: 0.8406\n",
            "Epoch 15/50\n",
            "60000/60000 [==============================] - 16s 267us/sample - loss: 0.4321 - accuracy: 0.8471 - val_loss: 0.5016 - val_accuracy: 0.8347\n",
            "Epoch 16/50\n",
            "60000/60000 [==============================] - 15s 254us/sample - loss: 0.4336 - accuracy: 0.8484 - val_loss: 0.5082 - val_accuracy: 0.8306\n",
            "Epoch 17/50\n",
            "60000/60000 [==============================] - 5s 78us/sample - loss: 0.4313 - accuracy: 0.8488 - val_loss: 0.5274 - val_accuracy: 0.8381\n",
            "Epoch 18/50\n",
            "60000/60000 [==============================] - 9s 154us/sample - loss: 0.4311 - accuracy: 0.8487 - val_loss: 0.5197 - val_accuracy: 0.8297\n",
            "Epoch 19/50\n",
            "60000/60000 [==============================] - 5s 79us/sample - loss: 0.4283 - accuracy: 0.8488 - val_loss: 0.5014 - val_accuracy: 0.8376\n",
            "Epoch 20/50\n",
            "60000/60000 [==============================] - 10s 163us/sample - loss: 0.4263 - accuracy: 0.8504 - val_loss: 0.5075 - val_accuracy: 0.8272\n",
            "Epoch 21/50\n",
            "60000/60000 [==============================] - 5s 78us/sample - loss: 0.4284 - accuracy: 0.8495 - val_loss: 0.5002 - val_accuracy: 0.8332\n",
            "Epoch 22/50\n",
            "60000/60000 [==============================] - 5s 77us/sample - loss: 0.4303 - accuracy: 0.8493 - val_loss: 0.4856 - val_accuracy: 0.8347\n",
            "Epoch 23/50\n",
            "60000/60000 [==============================] - 5s 81us/sample - loss: 0.4253 - accuracy: 0.8497 - val_loss: 0.4885 - val_accuracy: 0.8393\n",
            "Epoch 24/50\n",
            "60000/60000 [==============================] - 11s 191us/sample - loss: 0.4249 - accuracy: 0.8514 - val_loss: 0.5016 - val_accuracy: 0.8343\n",
            "Epoch 25/50\n",
            "60000/60000 [==============================] - 5s 77us/sample - loss: 0.4270 - accuracy: 0.8503 - val_loss: 0.4919 - val_accuracy: 0.8386\n",
            "Epoch 26/50\n",
            "60000/60000 [==============================] - 5s 79us/sample - loss: 0.4271 - accuracy: 0.8496 - val_loss: 0.5185 - val_accuracy: 0.8379\n",
            "Epoch 27/50\n",
            "60000/60000 [==============================] - 5s 77us/sample - loss: 0.4219 - accuracy: 0.8514 - val_loss: 0.4930 - val_accuracy: 0.8389\n",
            "Epoch 28/50\n",
            "60000/60000 [==============================] - 9s 158us/sample - loss: 0.4248 - accuracy: 0.8514 - val_loss: 0.4919 - val_accuracy: 0.8390\n",
            "Epoch 29/50\n",
            "60000/60000 [==============================] - 14s 238us/sample - loss: 0.4194 - accuracy: 0.8519 - val_loss: 0.5190 - val_accuracy: 0.8331\n",
            "Epoch 30/50\n",
            "60000/60000 [==============================] - 5s 77us/sample - loss: 0.4226 - accuracy: 0.8515 - val_loss: 0.5042 - val_accuracy: 0.8362\n",
            "Epoch 31/50\n",
            "60000/60000 [==============================] - 9s 155us/sample - loss: 0.4226 - accuracy: 0.8500 - val_loss: 0.5076 - val_accuracy: 0.8366\n",
            "Epoch 32/50\n",
            "60000/60000 [==============================] - 15s 248us/sample - loss: 0.4209 - accuracy: 0.8519 - val_loss: 0.4832 - val_accuracy: 0.8376\n",
            "Epoch 33/50\n",
            "60000/60000 [==============================] - 5s 79us/sample - loss: 0.4197 - accuracy: 0.8524 - val_loss: 0.4902 - val_accuracy: 0.8384\n",
            "Epoch 34/50\n",
            "60000/60000 [==============================] - 9s 149us/sample - loss: 0.4213 - accuracy: 0.8524 - val_loss: 0.5086 - val_accuracy: 0.8363\n",
            "Epoch 35/50\n",
            "60000/60000 [==============================] - 5s 77us/sample - loss: 0.4182 - accuracy: 0.8530 - val_loss: 0.5115 - val_accuracy: 0.8363\n",
            "Epoch 36/50\n",
            "60000/60000 [==============================] - 5s 79us/sample - loss: 0.4189 - accuracy: 0.8530 - val_loss: 0.5113 - val_accuracy: 0.8384\n",
            "Epoch 37/50\n",
            "60000/60000 [==============================] - 5s 77us/sample - loss: 0.4187 - accuracy: 0.8505 - val_loss: 0.4974 - val_accuracy: 0.8387\n",
            "Epoch 38/50\n",
            "60000/60000 [==============================] - 5s 80us/sample - loss: 0.4178 - accuracy: 0.8520 - val_loss: 0.5047 - val_accuracy: 0.8365\n",
            "Epoch 39/50\n",
            "60000/60000 [==============================] - 19s 318us/sample - loss: 0.4182 - accuracy: 0.8511 - val_loss: 0.5091 - val_accuracy: 0.8366\n",
            "Epoch 40/50\n",
            "60000/60000 [==============================] - 16s 272us/sample - loss: 0.4206 - accuracy: 0.8521 - val_loss: 0.4907 - val_accuracy: 0.8350\n",
            "Epoch 41/50\n",
            "60000/60000 [==============================] - 15s 251us/sample - loss: 0.4174 - accuracy: 0.8523 - val_loss: 0.5020 - val_accuracy: 0.8385\n",
            "Epoch 42/50\n",
            "60000/60000 [==============================] - 19s 321us/sample - loss: 0.4189 - accuracy: 0.8527 - val_loss: 0.5084 - val_accuracy: 0.8341\n",
            "Epoch 43/50\n",
            "60000/60000 [==============================] - 19s 319us/sample - loss: 0.4181 - accuracy: 0.8521 - val_loss: 0.5010 - val_accuracy: 0.8359\n",
            "Epoch 44/50\n",
            "60000/60000 [==============================] - 19s 323us/sample - loss: 0.4159 - accuracy: 0.8542 - val_loss: 0.5023 - val_accuracy: 0.8366\n",
            "Epoch 45/50\n",
            "60000/60000 [==============================] - 19s 315us/sample - loss: 0.4166 - accuracy: 0.8533 - val_loss: 0.5081 - val_accuracy: 0.8331\n",
            "Epoch 46/50\n",
            "60000/60000 [==============================] - 18s 302us/sample - loss: 0.4145 - accuracy: 0.8527 - val_loss: 0.5009 - val_accuracy: 0.8382\n",
            "Epoch 47/50\n",
            "60000/60000 [==============================] - 13s 217us/sample - loss: 0.4152 - accuracy: 0.8542 - val_loss: 0.5100 - val_accuracy: 0.8338\n",
            "Epoch 48/50\n",
            "60000/60000 [==============================] - 5s 78us/sample - loss: 0.4167 - accuracy: 0.8537 - val_loss: 0.5188 - val_accuracy: 0.8335\n",
            "Epoch 49/50\n",
            "60000/60000 [==============================] - 11s 180us/sample - loss: 0.4144 - accuracy: 0.8545 - val_loss: 0.4946 - val_accuracy: 0.8392\n",
            "Epoch 50/50\n",
            "60000/60000 [==============================] - 19s 316us/sample - loss: 0.4134 - accuracy: 0.8537 - val_loss: 0.5033 - val_accuracy: 0.8374\n"
          ],
          "name": "stdout"
        },
        {
          "output_type": "execute_result",
          "data": {
            "text/plain": [
              "<tensorflow.python.keras.callbacks.History at 0x7f37aa424290>"
            ]
          },
          "metadata": {
            "tags": []
          },
          "execution_count": 39
        }
      ]
    },
    {
      "cell_type": "code",
      "metadata": {
        "id": "qc3NtR73nZQX",
        "colab_type": "code",
        "outputId": "809d4a77-21fd-4d5d-d800-c5e96824b468",
        "colab": {
          "base_uri": "https://localhost:8080/",
          "height": 34
        }
      },
      "source": [
        "score = model.evaluate(trainX, trainY, verbose=0)\n",
        "print(score)"
      ],
      "execution_count": 40,
      "outputs": [
        {
          "output_type": "stream",
          "text": [
            "[0.39839513114690783, 0.8685333]\n"
          ],
          "name": "stdout"
        }
      ]
    },
    {
      "cell_type": "markdown",
      "metadata": {
        "id": "Py-KwkmjOIVU",
        "colab_type": "text"
      },
      "source": [
        "### Customize the learning rate to 0.001 in sgd optimizer and run the model"
      ]
    },
    {
      "cell_type": "code",
      "metadata": {
        "id": "yLXUE9jWOIVV",
        "colab_type": "code",
        "colab": {}
      },
      "source": [
        "# Create optimizer with non-default learning rate\n",
        "sgd_optimizer = tf.keras.optimizers.SGD(lr=0.001)"
      ],
      "execution_count": 0,
      "outputs": []
    },
    {
      "cell_type": "code",
      "metadata": {
        "id": "pJUqA5T4OIVc",
        "colab_type": "code",
        "colab": {}
      },
      "source": [
        "# Compile the model\n",
        "model.compile(optimizer=sgd_optimizer, loss='categorical_crossentropy', metrics=['accuracy'])"
      ],
      "execution_count": 0,
      "outputs": []
    },
    {
      "cell_type": "code",
      "metadata": {
        "id": "ZJ3zC6_Mo_1G",
        "colab_type": "code",
        "outputId": "d0943dda-85a2-41d6-874e-25100abf0e71",
        "colab": {
          "base_uri": "https://localhost:8080/",
          "height": 1000
        }
      },
      "source": [
        "model.fit(trainX, trainY, validation_data=(testX, testY), epochs=50,\n",
        "          batch_size = 32)"
      ],
      "execution_count": 14,
      "outputs": [
        {
          "output_type": "stream",
          "text": [
            "Train on 60000 samples, validate on 10000 samples\n",
            "Epoch 1/50\n",
            "60000/60000 [==============================] - 5s 90us/sample - loss: 0.8747 - accuracy: 0.7022 - val_loss: 0.6811 - val_accuracy: 0.7678\n",
            "Epoch 2/50\n",
            "60000/60000 [==============================] - 5s 77us/sample - loss: 0.6410 - accuracy: 0.7804 - val_loss: 0.6157 - val_accuracy: 0.7921\n",
            "Epoch 3/50\n",
            "60000/60000 [==============================] - 5s 79us/sample - loss: 0.5884 - accuracy: 0.7970 - val_loss: 0.5834 - val_accuracy: 0.8026\n",
            "Epoch 4/50\n",
            "60000/60000 [==============================] - 5s 81us/sample - loss: 0.5590 - accuracy: 0.8077 - val_loss: 0.5576 - val_accuracy: 0.8092\n",
            "Epoch 5/50\n",
            "60000/60000 [==============================] - 5s 76us/sample - loss: 0.5439 - accuracy: 0.8133 - val_loss: 0.5440 - val_accuracy: 0.8130\n",
            "Epoch 6/50\n",
            "60000/60000 [==============================] - 5s 76us/sample - loss: 0.5307 - accuracy: 0.8159 - val_loss: 0.5262 - val_accuracy: 0.8181\n",
            "Epoch 7/50\n",
            "60000/60000 [==============================] - 5s 77us/sample - loss: 0.5190 - accuracy: 0.8223 - val_loss: 0.5266 - val_accuracy: 0.8199\n",
            "Epoch 8/50\n",
            "60000/60000 [==============================] - 5s 77us/sample - loss: 0.5118 - accuracy: 0.8237 - val_loss: 0.5121 - val_accuracy: 0.8218\n",
            "Epoch 9/50\n",
            "60000/60000 [==============================] - 5s 78us/sample - loss: 0.5042 - accuracy: 0.8263 - val_loss: 0.5117 - val_accuracy: 0.8219\n",
            "Epoch 10/50\n",
            "60000/60000 [==============================] - 5s 77us/sample - loss: 0.4974 - accuracy: 0.8296 - val_loss: 0.5096 - val_accuracy: 0.8238\n",
            "Epoch 11/50\n",
            "60000/60000 [==============================] - 5s 77us/sample - loss: 0.4931 - accuracy: 0.8299 - val_loss: 0.5029 - val_accuracy: 0.8264\n",
            "Epoch 12/50\n",
            "60000/60000 [==============================] - 5s 78us/sample - loss: 0.4890 - accuracy: 0.8316 - val_loss: 0.4980 - val_accuracy: 0.8266\n",
            "Epoch 13/50\n",
            "60000/60000 [==============================] - 5s 78us/sample - loss: 0.4823 - accuracy: 0.8332 - val_loss: 0.5003 - val_accuracy: 0.8260\n",
            "Epoch 14/50\n",
            "60000/60000 [==============================] - 5s 80us/sample - loss: 0.4803 - accuracy: 0.8354 - val_loss: 0.4925 - val_accuracy: 0.8293\n",
            "Epoch 15/50\n",
            "60000/60000 [==============================] - 5s 82us/sample - loss: 0.4760 - accuracy: 0.8367 - val_loss: 0.4859 - val_accuracy: 0.8290\n",
            "Epoch 16/50\n",
            "60000/60000 [==============================] - 5s 81us/sample - loss: 0.4751 - accuracy: 0.8368 - val_loss: 0.4886 - val_accuracy: 0.8295\n",
            "Epoch 17/50\n",
            "60000/60000 [==============================] - 5s 77us/sample - loss: 0.4700 - accuracy: 0.8381 - val_loss: 0.5009 - val_accuracy: 0.8299\n",
            "Epoch 18/50\n",
            "60000/60000 [==============================] - 5s 76us/sample - loss: 0.4691 - accuracy: 0.8394 - val_loss: 0.5017 - val_accuracy: 0.8311\n",
            "Epoch 19/50\n",
            "60000/60000 [==============================] - 5s 77us/sample - loss: 0.4666 - accuracy: 0.8395 - val_loss: 0.4794 - val_accuracy: 0.8301\n",
            "Epoch 20/50\n",
            "60000/60000 [==============================] - 5s 78us/sample - loss: 0.4621 - accuracy: 0.8419 - val_loss: 0.4829 - val_accuracy: 0.8336\n",
            "Epoch 21/50\n",
            "60000/60000 [==============================] - 5s 77us/sample - loss: 0.4630 - accuracy: 0.8403 - val_loss: 0.4784 - val_accuracy: 0.8332\n",
            "Epoch 22/50\n",
            "60000/60000 [==============================] - 5s 78us/sample - loss: 0.4616 - accuracy: 0.8421 - val_loss: 0.4734 - val_accuracy: 0.8328\n",
            "Epoch 23/50\n",
            "60000/60000 [==============================] - 5s 77us/sample - loss: 0.4581 - accuracy: 0.8424 - val_loss: 0.4739 - val_accuracy: 0.8328\n",
            "Epoch 24/50\n",
            "60000/60000 [==============================] - 5s 77us/sample - loss: 0.4572 - accuracy: 0.8434 - val_loss: 0.4771 - val_accuracy: 0.8331\n",
            "Epoch 25/50\n",
            "60000/60000 [==============================] - 5s 77us/sample - loss: 0.4575 - accuracy: 0.8433 - val_loss: 0.4738 - val_accuracy: 0.8348\n",
            "Epoch 26/50\n",
            "60000/60000 [==============================] - 5s 78us/sample - loss: 0.4554 - accuracy: 0.8428 - val_loss: 0.4778 - val_accuracy: 0.8343\n",
            "Epoch 27/50\n",
            "60000/60000 [==============================] - 5s 77us/sample - loss: 0.4523 - accuracy: 0.8433 - val_loss: 0.4737 - val_accuracy: 0.8349\n",
            "Epoch 28/50\n",
            "60000/60000 [==============================] - 5s 77us/sample - loss: 0.4526 - accuracy: 0.8434 - val_loss: 0.4688 - val_accuracy: 0.8357\n",
            "Epoch 29/50\n",
            "60000/60000 [==============================] - 5s 78us/sample - loss: 0.4480 - accuracy: 0.8469 - val_loss: 0.4768 - val_accuracy: 0.8338\n",
            "Epoch 30/50\n",
            "60000/60000 [==============================] - 5s 76us/sample - loss: 0.4494 - accuracy: 0.8451 - val_loss: 0.4779 - val_accuracy: 0.8354\n",
            "Epoch 31/50\n",
            "60000/60000 [==============================] - 5s 75us/sample - loss: 0.4490 - accuracy: 0.8448 - val_loss: 0.4762 - val_accuracy: 0.8348\n",
            "Epoch 32/50\n",
            "60000/60000 [==============================] - 5s 77us/sample - loss: 0.4464 - accuracy: 0.8475 - val_loss: 0.4657 - val_accuracy: 0.8366\n",
            "Epoch 33/50\n",
            "60000/60000 [==============================] - 5s 77us/sample - loss: 0.4445 - accuracy: 0.8474 - val_loss: 0.4682 - val_accuracy: 0.8370\n",
            "Epoch 34/50\n",
            "60000/60000 [==============================] - 5s 77us/sample - loss: 0.4458 - accuracy: 0.8460 - val_loss: 0.4720 - val_accuracy: 0.8351\n",
            "Epoch 35/50\n",
            "60000/60000 [==============================] - 5s 77us/sample - loss: 0.4432 - accuracy: 0.8480 - val_loss: 0.4731 - val_accuracy: 0.8358\n",
            "Epoch 36/50\n",
            "60000/60000 [==============================] - 5s 77us/sample - loss: 0.4424 - accuracy: 0.8481 - val_loss: 0.4734 - val_accuracy: 0.8359\n",
            "Epoch 37/50\n",
            "60000/60000 [==============================] - 5s 76us/sample - loss: 0.4427 - accuracy: 0.8479 - val_loss: 0.4698 - val_accuracy: 0.8360\n",
            "Epoch 38/50\n",
            "60000/60000 [==============================] - 5s 77us/sample - loss: 0.4405 - accuracy: 0.8495 - val_loss: 0.4703 - val_accuracy: 0.8361\n",
            "Epoch 39/50\n",
            "60000/60000 [==============================] - 5s 77us/sample - loss: 0.4405 - accuracy: 0.8478 - val_loss: 0.4685 - val_accuracy: 0.8381\n",
            "Epoch 40/50\n",
            "60000/60000 [==============================] - 5s 77us/sample - loss: 0.4412 - accuracy: 0.8480 - val_loss: 0.4642 - val_accuracy: 0.8350\n",
            "Epoch 41/50\n",
            "60000/60000 [==============================] - 5s 77us/sample - loss: 0.4400 - accuracy: 0.8477 - val_loss: 0.4686 - val_accuracy: 0.8366\n",
            "Epoch 42/50\n",
            "60000/60000 [==============================] - 5s 78us/sample - loss: 0.4395 - accuracy: 0.8482 - val_loss: 0.4621 - val_accuracy: 0.8379\n",
            "Epoch 43/50\n",
            "60000/60000 [==============================] - 5s 76us/sample - loss: 0.4390 - accuracy: 0.8488 - val_loss: 0.4671 - val_accuracy: 0.8382\n",
            "Epoch 44/50\n",
            "60000/60000 [==============================] - 5s 78us/sample - loss: 0.4376 - accuracy: 0.8498 - val_loss: 0.4675 - val_accuracy: 0.8388\n",
            "Epoch 45/50\n",
            "60000/60000 [==============================] - 5s 77us/sample - loss: 0.4362 - accuracy: 0.8504 - val_loss: 0.4629 - val_accuracy: 0.8386\n",
            "Epoch 46/50\n",
            "60000/60000 [==============================] - 5s 77us/sample - loss: 0.4350 - accuracy: 0.8509 - val_loss: 0.4631 - val_accuracy: 0.8389\n",
            "Epoch 47/50\n",
            "60000/60000 [==============================] - 5s 77us/sample - loss: 0.4357 - accuracy: 0.8510 - val_loss: 0.4661 - val_accuracy: 0.8382\n",
            "Epoch 48/50\n",
            "60000/60000 [==============================] - 5s 79us/sample - loss: 0.4342 - accuracy: 0.8509 - val_loss: 0.4712 - val_accuracy: 0.8384\n",
            "Epoch 49/50\n",
            "60000/60000 [==============================] - 5s 77us/sample - loss: 0.4339 - accuracy: 0.8518 - val_loss: 0.4610 - val_accuracy: 0.8379\n",
            "Epoch 50/50\n",
            "60000/60000 [==============================] - 5s 78us/sample - loss: 0.4322 - accuracy: 0.8508 - val_loss: 0.4619 - val_accuracy: 0.8401\n"
          ],
          "name": "stdout"
        },
        {
          "output_type": "execute_result",
          "data": {
            "text/plain": [
              "<tensorflow.python.keras.callbacks.History at 0x7f0c7c0d1d90>"
            ]
          },
          "metadata": {
            "tags": []
          },
          "execution_count": 14
        }
      ]
    },
    {
      "cell_type": "code",
      "metadata": {
        "id": "fnthBJBzfVuN",
        "colab_type": "code",
        "colab": {
          "base_uri": "https://localhost:8080/",
          "height": 34
        },
        "outputId": "c7a82f06-ec5b-4563-f05a-86bf7411ca96"
      },
      "source": [
        "score = model.evaluate(trainX, trainY, verbose=0)\n",
        "print(score)"
      ],
      "execution_count": 15,
      "outputs": [
        {
          "output_type": "stream",
          "text": [
            "[0.4121707010050615, 0.8606]\n"
          ],
          "name": "stdout"
        }
      ]
    },
    {
      "cell_type": "markdown",
      "metadata": {
        "id": "j9CSqKvpOIVk",
        "colab_type": "text"
      },
      "source": [
        "### Build the Neural Network model with 3 Dense layers with 100,100,10 neurons respectively in each layer. Use cross entropy loss function and singmoid as activation in the hidden layers and softmax as activation function in the output layer. Use sgd optimizer with learning rate 0.03."
      ]
    },
    {
      "cell_type": "code",
      "metadata": {
        "id": "GGAad54JOIVm",
        "colab_type": "code",
        "colab": {}
      },
      "source": [
        "# Initialize Sequential model\n",
        "model = tf.keras.models.Sequential()\n",
        "\n",
        "# Reshape data from 2D to 1D -> 28x28 to 784\n",
        "model.add(tf.keras.layers.Reshape((784,),input_shape=(28,28,)))\n",
        "\n",
        "# Normalize the data\n",
        "model.add(tf.keras.layers.BatchNormalization())\n"
      ],
      "execution_count": 0,
      "outputs": []
    },
    {
      "cell_type": "code",
      "metadata": {
        "id": "MQ7oIymROIVp",
        "colab_type": "code",
        "colab": {}
      },
      "source": [
        "#Add 1st hidden layer\n",
        "model.add(tf.keras.layers.Dense(100, activation='sigmoid', name= \"Layer_1\"))"
      ],
      "execution_count": 0,
      "outputs": []
    },
    {
      "cell_type": "code",
      "metadata": {
        "id": "X-O-fFxnOIVt",
        "colab_type": "code",
        "colab": {}
      },
      "source": [
        "#Add 2nd hidden layer\n",
        "model.add(tf.keras.layers.Dense(100, activation='sigmoid', name= \"Layer_2\"))"
      ],
      "execution_count": 0,
      "outputs": []
    },
    {
      "cell_type": "code",
      "metadata": {
        "id": "BiP7IL52OIVw",
        "colab_type": "code",
        "colab": {}
      },
      "source": [
        "#Add 3rd hidden layer\n",
        "model.add(tf.keras.layers.Dense(10, activation='sigmoid', name= \"Layer_3\"))"
      ],
      "execution_count": 0,
      "outputs": []
    },
    {
      "cell_type": "code",
      "metadata": {
        "id": "gtSFHowXquKT",
        "colab_type": "code",
        "colab": {}
      },
      "source": [
        "#Add OUTPUT layer\n",
        "model.add(tf.keras.layers.Dense(10, activation='softmax', name = \"Output\"))"
      ],
      "execution_count": 0,
      "outputs": []
    },
    {
      "cell_type": "code",
      "metadata": {
        "id": "12NJz6K8qzkG",
        "colab_type": "code",
        "colab": {}
      },
      "source": [
        "# Create optimizer with non-default learning rate\n",
        "sgd_optimizer = tf.keras.optimizers.SGD(lr=0.03)\n",
        "\n",
        "# Compile the model\n",
        "model.compile(optimizer=sgd_optimizer, loss='categorical_crossentropy', metrics=['accuracy'])"
      ],
      "execution_count": 0,
      "outputs": []
    },
    {
      "cell_type": "code",
      "metadata": {
        "id": "bP8I6tn5rD8Z",
        "colab_type": "code",
        "colab": {}
      },
      "source": [
        ""
      ],
      "execution_count": 0,
      "outputs": []
    },
    {
      "cell_type": "markdown",
      "metadata": {
        "id": "Nr2YsZV0OIV0",
        "colab_type": "text"
      },
      "source": [
        "## Review model"
      ]
    },
    {
      "cell_type": "code",
      "metadata": {
        "id": "h4ojW6-oOIV2",
        "colab_type": "code",
        "colab": {
          "base_uri": "https://localhost:8080/",
          "height": 357
        },
        "outputId": "8334a19f-9165-49ba-82cc-7b2fb128ce82"
      },
      "source": [
        "\n",
        "model.summary()"
      ],
      "execution_count": 15,
      "outputs": [
        {
          "output_type": "stream",
          "text": [
            "Model: \"sequential\"\n",
            "_________________________________________________________________\n",
            "Layer (type)                 Output Shape              Param #   \n",
            "=================================================================\n",
            "reshape (Reshape)            (None, 784)               0         \n",
            "_________________________________________________________________\n",
            "batch_normalization (BatchNo (None, 784)               3136      \n",
            "_________________________________________________________________\n",
            "Layer_1 (Dense)              (None, 100)               78500     \n",
            "_________________________________________________________________\n",
            "Layer_2 (Dense)              (None, 100)               10100     \n",
            "_________________________________________________________________\n",
            "Layer_3 (Dense)              (None, 10)                1010      \n",
            "_________________________________________________________________\n",
            "Output (Dense)               (None, 10)                110       \n",
            "=================================================================\n",
            "Total params: 92,856\n",
            "Trainable params: 91,288\n",
            "Non-trainable params: 1,568\n",
            "_________________________________________________________________\n"
          ],
          "name": "stdout"
        }
      ]
    },
    {
      "cell_type": "code",
      "metadata": {
        "id": "kH4lV6d2N-Cj",
        "colab_type": "code",
        "colab": {
          "base_uri": "https://localhost:8080/",
          "height": 119
        },
        "outputId": "b329bc0e-feea-47ad-a1fc-6b72107a9802"
      },
      "source": [
        "model.layers"
      ],
      "execution_count": 24,
      "outputs": [
        {
          "output_type": "execute_result",
          "data": {
            "text/plain": [
              "[<tensorflow.python.keras.layers.core.Reshape at 0x7f078c1cd450>,\n",
              " <tensorflow.python.keras.layers.normalization_v2.BatchNormalization at 0x7f078c1cd650>,\n",
              " <tensorflow.python.keras.layers.core.Dense at 0x7f078b993190>,\n",
              " <tensorflow.python.keras.layers.core.Dense at 0x7f0785f039d0>,\n",
              " <tensorflow.python.keras.layers.core.Dense at 0x7f078b96ee90>,\n",
              " <tensorflow.python.keras.layers.core.Dense at 0x7f0785f1b710>]"
            ]
          },
          "metadata": {
            "tags": []
          },
          "execution_count": 24
        }
      ]
    },
    {
      "cell_type": "markdown",
      "metadata": {
        "id": "gfFGmbZLOIV5",
        "colab_type": "text"
      },
      "source": [
        "### Run the model"
      ]
    },
    {
      "cell_type": "code",
      "metadata": {
        "id": "bIkbMEN5OIV7",
        "colab_type": "code",
        "colab": {
          "base_uri": "https://localhost:8080/",
          "height": 1000
        },
        "outputId": "36361a01-68f0-4380-bb8b-46e4c6d0b37d"
      },
      "source": [
        "model.fit(trainX, trainY, validation_data=(testX, testY), epochs=50,\n",
        "          batch_size = 32)"
      ],
      "execution_count": 16,
      "outputs": [
        {
          "output_type": "stream",
          "text": [
            "Train on 60000 samples, validate on 10000 samples\n",
            "Epoch 1/50\n",
            "60000/60000 [==============================] - 7s 119us/sample - loss: 1.8902 - accuracy: 0.3589 - val_loss: 1.4141 - val_accuracy: 0.5386\n",
            "Epoch 2/50\n",
            "60000/60000 [==============================] - 6s 102us/sample - loss: 1.1712 - accuracy: 0.6063 - val_loss: 0.9508 - val_accuracy: 0.6550\n",
            "Epoch 3/50\n",
            "60000/60000 [==============================] - 6s 103us/sample - loss: 0.8706 - accuracy: 0.6770 - val_loss: 0.7845 - val_accuracy: 0.7152\n",
            "Epoch 4/50\n",
            "60000/60000 [==============================] - 6s 104us/sample - loss: 0.7437 - accuracy: 0.7264 - val_loss: 0.6854 - val_accuracy: 0.7436\n",
            "Epoch 5/50\n",
            "60000/60000 [==============================] - 6s 101us/sample - loss: 0.6627 - accuracy: 0.7574 - val_loss: 0.6175 - val_accuracy: 0.7802\n",
            "Epoch 6/50\n",
            "60000/60000 [==============================] - 6s 102us/sample - loss: 0.6005 - accuracy: 0.7869 - val_loss: 0.5674 - val_accuracy: 0.7984\n",
            "Epoch 7/50\n",
            "60000/60000 [==============================] - 6s 101us/sample - loss: 0.5500 - accuracy: 0.8117 - val_loss: 0.5261 - val_accuracy: 0.8191\n",
            "Epoch 8/50\n",
            "60000/60000 [==============================] - 6s 101us/sample - loss: 0.5120 - accuracy: 0.8256 - val_loss: 0.4963 - val_accuracy: 0.8237\n",
            "Epoch 9/50\n",
            "60000/60000 [==============================] - 6s 102us/sample - loss: 0.4854 - accuracy: 0.8343 - val_loss: 0.4803 - val_accuracy: 0.8328\n",
            "Epoch 10/50\n",
            "60000/60000 [==============================] - 6s 101us/sample - loss: 0.4622 - accuracy: 0.8416 - val_loss: 0.4618 - val_accuracy: 0.8408\n",
            "Epoch 11/50\n",
            "60000/60000 [==============================] - 6s 103us/sample - loss: 0.4434 - accuracy: 0.8487 - val_loss: 0.4502 - val_accuracy: 0.8426\n",
            "Epoch 12/50\n",
            "60000/60000 [==============================] - 6s 102us/sample - loss: 0.4254 - accuracy: 0.8552 - val_loss: 0.4364 - val_accuracy: 0.8456\n",
            "Epoch 13/50\n",
            "60000/60000 [==============================] - 6s 101us/sample - loss: 0.4091 - accuracy: 0.8597 - val_loss: 0.4236 - val_accuracy: 0.8526\n",
            "Epoch 14/50\n",
            "60000/60000 [==============================] - 6s 103us/sample - loss: 0.3936 - accuracy: 0.8651 - val_loss: 0.4113 - val_accuracy: 0.8572\n",
            "Epoch 15/50\n",
            "60000/60000 [==============================] - 6s 102us/sample - loss: 0.3796 - accuracy: 0.8688 - val_loss: 0.4062 - val_accuracy: 0.8596\n",
            "Epoch 16/50\n",
            "60000/60000 [==============================] - 6s 103us/sample - loss: 0.3705 - accuracy: 0.8736 - val_loss: 0.3966 - val_accuracy: 0.8620\n",
            "Epoch 17/50\n",
            "60000/60000 [==============================] - 7s 109us/sample - loss: 0.3590 - accuracy: 0.8762 - val_loss: 0.3980 - val_accuracy: 0.8615\n",
            "Epoch 18/50\n",
            "60000/60000 [==============================] - 7s 110us/sample - loss: 0.3491 - accuracy: 0.8787 - val_loss: 0.3926 - val_accuracy: 0.8643\n",
            "Epoch 19/50\n",
            "60000/60000 [==============================] - 6s 102us/sample - loss: 0.3420 - accuracy: 0.8809 - val_loss: 0.3784 - val_accuracy: 0.8679\n",
            "Epoch 20/50\n",
            "60000/60000 [==============================] - 6s 103us/sample - loss: 0.3328 - accuracy: 0.8834 - val_loss: 0.3784 - val_accuracy: 0.8665\n",
            "Epoch 21/50\n",
            "60000/60000 [==============================] - 6s 104us/sample - loss: 0.3254 - accuracy: 0.8860 - val_loss: 0.3665 - val_accuracy: 0.8716\n",
            "Epoch 22/50\n",
            "60000/60000 [==============================] - 6s 103us/sample - loss: 0.3192 - accuracy: 0.8882 - val_loss: 0.3609 - val_accuracy: 0.8743\n",
            "Epoch 23/50\n",
            "60000/60000 [==============================] - 6s 102us/sample - loss: 0.3096 - accuracy: 0.8908 - val_loss: 0.3600 - val_accuracy: 0.8733\n",
            "Epoch 24/50\n",
            "60000/60000 [==============================] - 6s 103us/sample - loss: 0.3046 - accuracy: 0.8926 - val_loss: 0.3570 - val_accuracy: 0.8755\n",
            "Epoch 25/50\n",
            "60000/60000 [==============================] - 7s 110us/sample - loss: 0.2998 - accuracy: 0.8945 - val_loss: 0.3526 - val_accuracy: 0.8752\n",
            "Epoch 26/50\n",
            "60000/60000 [==============================] - 6s 103us/sample - loss: 0.2926 - accuracy: 0.8956 - val_loss: 0.3554 - val_accuracy: 0.8755\n",
            "Epoch 27/50\n",
            "60000/60000 [==============================] - 6s 103us/sample - loss: 0.2873 - accuracy: 0.8975 - val_loss: 0.3474 - val_accuracy: 0.8792\n",
            "Epoch 28/50\n",
            "60000/60000 [==============================] - 6s 105us/sample - loss: 0.2833 - accuracy: 0.8988 - val_loss: 0.3498 - val_accuracy: 0.8756\n",
            "Epoch 29/50\n",
            "60000/60000 [==============================] - 6s 100us/sample - loss: 0.2775 - accuracy: 0.9004 - val_loss: 0.3587 - val_accuracy: 0.8778\n",
            "Epoch 30/50\n",
            "60000/60000 [==============================] - 6s 105us/sample - loss: 0.2739 - accuracy: 0.9024 - val_loss: 0.3486 - val_accuracy: 0.8784\n",
            "Epoch 31/50\n",
            "60000/60000 [==============================] - 6s 104us/sample - loss: 0.2681 - accuracy: 0.9040 - val_loss: 0.3455 - val_accuracy: 0.8822\n",
            "Epoch 32/50\n",
            "60000/60000 [==============================] - 6s 102us/sample - loss: 0.2630 - accuracy: 0.9056 - val_loss: 0.3472 - val_accuracy: 0.8779\n",
            "Epoch 33/50\n",
            "60000/60000 [==============================] - 6s 106us/sample - loss: 0.2604 - accuracy: 0.9072 - val_loss: 0.3430 - val_accuracy: 0.8816\n",
            "Epoch 34/50\n",
            "60000/60000 [==============================] - 6s 102us/sample - loss: 0.2557 - accuracy: 0.9098 - val_loss: 0.3439 - val_accuracy: 0.8824\n",
            "Epoch 35/50\n",
            "60000/60000 [==============================] - 6s 108us/sample - loss: 0.2536 - accuracy: 0.9095 - val_loss: 0.3447 - val_accuracy: 0.8815\n",
            "Epoch 36/50\n",
            "60000/60000 [==============================] - 6s 104us/sample - loss: 0.2481 - accuracy: 0.9108 - val_loss: 0.3494 - val_accuracy: 0.8813\n",
            "Epoch 37/50\n",
            "60000/60000 [==============================] - 6s 105us/sample - loss: 0.2444 - accuracy: 0.9115 - val_loss: 0.3473 - val_accuracy: 0.8826\n",
            "Epoch 38/50\n",
            "60000/60000 [==============================] - 6s 103us/sample - loss: 0.2418 - accuracy: 0.9137 - val_loss: 0.3511 - val_accuracy: 0.8803\n",
            "Epoch 39/50\n",
            "60000/60000 [==============================] - 6s 101us/sample - loss: 0.2391 - accuracy: 0.9129 - val_loss: 0.3608 - val_accuracy: 0.8757\n",
            "Epoch 40/50\n",
            "60000/60000 [==============================] - 6s 105us/sample - loss: 0.2365 - accuracy: 0.9148 - val_loss: 0.3454 - val_accuracy: 0.8824\n",
            "Epoch 41/50\n",
            "60000/60000 [==============================] - 6s 102us/sample - loss: 0.2338 - accuracy: 0.9161 - val_loss: 0.3439 - val_accuracy: 0.8822\n",
            "Epoch 42/50\n",
            "60000/60000 [==============================] - 6s 105us/sample - loss: 0.2317 - accuracy: 0.9175 - val_loss: 0.3554 - val_accuracy: 0.8808\n",
            "Epoch 43/50\n",
            "60000/60000 [==============================] - 6s 104us/sample - loss: 0.2281 - accuracy: 0.9170 - val_loss: 0.3581 - val_accuracy: 0.8782\n",
            "Epoch 44/50\n",
            "60000/60000 [==============================] - 6s 102us/sample - loss: 0.2235 - accuracy: 0.9195 - val_loss: 0.3481 - val_accuracy: 0.8806\n",
            "Epoch 45/50\n",
            "60000/60000 [==============================] - 6s 103us/sample - loss: 0.2212 - accuracy: 0.9205 - val_loss: 0.3533 - val_accuracy: 0.8799\n",
            "Epoch 46/50\n",
            "60000/60000 [==============================] - 6s 103us/sample - loss: 0.2170 - accuracy: 0.9215 - val_loss: 0.3523 - val_accuracy: 0.8823\n",
            "Epoch 47/50\n",
            "60000/60000 [==============================] - 7s 124us/sample - loss: 0.2168 - accuracy: 0.9224 - val_loss: 0.3529 - val_accuracy: 0.8817\n",
            "Epoch 48/50\n",
            "60000/60000 [==============================] - 6s 103us/sample - loss: 0.2118 - accuracy: 0.9252 - val_loss: 0.3614 - val_accuracy: 0.8817\n",
            "Epoch 49/50\n",
            "60000/60000 [==============================] - 6s 106us/sample - loss: 0.2131 - accuracy: 0.9224 - val_loss: 0.3556 - val_accuracy: 0.8816\n",
            "Epoch 50/50\n",
            "60000/60000 [==============================] - 6s 105us/sample - loss: 0.2057 - accuracy: 0.9259 - val_loss: 0.3480 - val_accuracy: 0.8833\n"
          ],
          "name": "stdout"
        },
        {
          "output_type": "execute_result",
          "data": {
            "text/plain": [
              "<tensorflow.python.keras.callbacks.History at 0x7f0785cf7ed0>"
            ]
          },
          "metadata": {
            "tags": []
          },
          "execution_count": 16
        }
      ]
    },
    {
      "cell_type": "code",
      "metadata": {
        "id": "34AtaJsDHhMe",
        "colab_type": "code",
        "colab": {
          "base_uri": "https://localhost:8080/",
          "height": 34
        },
        "outputId": "d1166f2d-18f0-45e7-d522-b71a6e852eea"
      },
      "source": [
        "score = model.evaluate(trainX, trainY, verbose=0)\n",
        "print(score)"
      ],
      "execution_count": 17,
      "outputs": [
        {
          "output_type": "stream",
          "text": [
            "[0.16392865899205208, 0.9447]\n"
          ],
          "name": "stdout"
        }
      ]
    },
    {
      "cell_type": "code",
      "metadata": {
        "id": "OJRILEHVHpPY",
        "colab_type": "code",
        "colab": {}
      },
      "source": [
        "#Observation : Here , we can say that we have gradually increased the accuracy and reduced the test loss over multiple runs by adding Normalization, \n",
        "#tuning hyperparameters and by addition of the Hidden layers.\n",
        "#In the end,  we have succesfully reduced the the Test loss to 0.1639 and increased the test accuracy to 94.47%."
      ],
      "execution_count": 0,
      "outputs": []
    }
  ]
}