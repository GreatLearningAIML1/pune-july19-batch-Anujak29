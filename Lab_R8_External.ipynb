{
  "nbformat": 4,
  "nbformat_minor": 0,
  "metadata": {
    "colab": {
      "name": "R8_External_Lab_Ques_CIFAR10_Transfer_Learning_TFIDF_Text_Classification.ipynb",
      "provenance": [],
      "collapsed_sections": []
    },
    "kernelspec": {
      "name": "python3",
      "display_name": "Python 3"
    }
  },
  "cells": [
    {
      "cell_type": "markdown",
      "metadata": {
        "id": "QGIsF1ADyJ58",
        "colab_type": "text"
      },
      "source": [
        "# Transfer Learning CIFAR10"
      ]
    },
    {
      "cell_type": "markdown",
      "metadata": {
        "id": "E-n6tVFayGBe",
        "colab_type": "text"
      },
      "source": [
        "* Train a simple convnet on the CIFAR dataset the first 5 output classes [0..4].\n",
        "* Freeze convolutional layers and fine-tune dense layers for the last 5 ouput classes [5..9].\n"
      ]
    },
    {
      "cell_type": "markdown",
      "metadata": {
        "id": "Cq8ejXHJyGYq",
        "colab_type": "text"
      },
      "source": [
        "### 1. Import CIFAR10 data and create 2 datasets with one dataset having classes from 0 to 4 and other having classes from 5 to 9 "
      ]
    },
    {
      "cell_type": "code",
      "metadata": {
        "id": "uWYbxnBayFUP",
        "colab_type": "code",
        "colab": {}
      },
      "source": [
        "%tensorflow_version 2.x\n"
      ],
      "execution_count": 0,
      "outputs": []
    },
    {
      "cell_type": "code",
      "metadata": {
        "id": "KZe_K1wpH_9f",
        "colab_type": "code",
        "colab": {}
      },
      "source": [
        "import tensorflow as tf\n",
        "import numpy as np"
      ],
      "execution_count": 0,
      "outputs": []
    },
    {
      "cell_type": "code",
      "metadata": {
        "id": "Ja5L7Fo3IG6f",
        "colab_type": "code",
        "colab": {}
      },
      "source": [
        "(X_train, y_train), (X_test, y_test) =tf.keras.datasets.cifar10.load_data()\n"
      ],
      "execution_count": 0,
      "outputs": []
    },
    {
      "cell_type": "code",
      "metadata": {
        "id": "wDM4dmllIQGJ",
        "colab_type": "code",
        "colab": {
          "base_uri": "https://localhost:8080/",
          "height": 34
        },
        "outputId": "52e463ec-0243-4f3c-971b-b64822a475e6"
      },
      "source": [
        " X_train.shape"
      ],
      "execution_count": 5,
      "outputs": [
        {
          "output_type": "execute_result",
          "data": {
            "text/plain": [
              "(50000, 32, 32, 3)"
            ]
          },
          "metadata": {
            "tags": []
          },
          "execution_count": 5
        }
      ]
    },
    {
      "cell_type": "code",
      "metadata": {
        "id": "JXBApwIaIQDP",
        "colab_type": "code",
        "colab": {
          "base_uri": "https://localhost:8080/",
          "height": 34
        },
        "outputId": "8c355dec-8e3d-4f76-aae8-5e961619c399"
      },
      "source": [
        "X_test.shape"
      ],
      "execution_count": 24,
      "outputs": [
        {
          "output_type": "execute_result",
          "data": {
            "text/plain": [
              "(10000, 32, 32, 3)"
            ]
          },
          "metadata": {
            "tags": []
          },
          "execution_count": 24
        }
      ]
    },
    {
      "cell_type": "code",
      "metadata": {
        "id": "M1wagejtUyqc",
        "colab_type": "code",
        "colab": {}
      },
      "source": [
        "#Transform x_train and x_test on scale of 0-1\n",
        "x_train_scaled = np.subtract(X_train, np.min(X_train))/np.subtract(np.max(X_train),np.min(X_train))\n",
        "x_test_scaled = np.subtract(X_test, np.min(X_test))/np.subtract(np.max(X_test),np.min(X_test))\n"
      ],
      "execution_count": 0,
      "outputs": []
    },
    {
      "cell_type": "code",
      "metadata": {
        "id": "5AS69KL-K1_J",
        "colab_type": "code",
        "colab": {}
      },
      "source": [
        "X1_train = []\n",
        "X1_test = []\n",
        "X2_train = []\n",
        "X2_test = []\n",
        "Y1_train = []\n",
        "Y1_test = []\n",
        "Y2_train = []\n",
        "Y2_test = []"
      ],
      "execution_count": 0,
      "outputs": []
    },
    {
      "cell_type": "code",
      "metadata": {
        "id": "4CZgUaRNK20j",
        "colab_type": "code",
        "colab": {}
      },
      "source": [
        "n_samples = 50000"
      ],
      "execution_count": 0,
      "outputs": []
    },
    {
      "cell_type": "code",
      "metadata": {
        "id": "86osCm6-K2xl",
        "colab_type": "code",
        "colab": {}
      },
      "source": [
        "for ix in range(n_samples):\n",
        "    if y_train[ix] < 5:\n",
        "        # put data in set 1\n",
        "        X1_train.append(x_train_scaled[ix])\n",
        "        Y1_train.append(y_train[ix])\n",
        "    else:\n",
        "        # put data in set 2\n",
        "        X2_train.append(x_train_scaled[ix])\n",
        "        Y2_train.append(y_train[ix])\n",
        "\n",
        "for ix in range(y_test.shape[0]):\n",
        "    if y_test[ix] < 5:\n",
        "        # put data in set 1\n",
        "        X1_test.append(x_test_scaled[ix])\n",
        "        Y1_test.append(y_test[ix])\n",
        "    else:\n",
        "        # put data in set 2\n",
        "        X2_test.append(x_test_scaled[ix])\n",
        "        Y2_test.append(y_test[ix])"
      ],
      "execution_count": 0,
      "outputs": []
    },
    {
      "cell_type": "code",
      "metadata": {
        "id": "Z09qAUa-K14v",
        "colab_type": "code",
        "colab": {}
      },
      "source": [
        "X1_train = np.asarray(X1_train).reshape((-1, 32, 32, 3))\n",
        "X1_test = np.asarray(X1_test).reshape((-1, 32, 32, 3))\n",
        "X2_train = np.asarray(X2_train).reshape((-1, 32, 32, 3))\n",
        "X2_test = np.asarray(X2_test).reshape((-1, 32, 32, 3))"
      ],
      "execution_count": 0,
      "outputs": []
    },
    {
      "cell_type": "code",
      "metadata": {
        "id": "9Lj4RDTPQoO8",
        "colab_type": "code",
        "colab": {
          "base_uri": "https://localhost:8080/",
          "height": 34
        },
        "outputId": "1016aaf0-dedd-46bf-d114-21c87abfc9a3"
      },
      "source": [
        "X1_train.shape"
      ],
      "execution_count": 12,
      "outputs": [
        {
          "output_type": "execute_result",
          "data": {
            "text/plain": [
              "(25000, 32, 32, 3)"
            ]
          },
          "metadata": {
            "tags": []
          },
          "execution_count": 12
        }
      ]
    },
    {
      "cell_type": "code",
      "metadata": {
        "id": "JPMwVkpAQu_q",
        "colab_type": "code",
        "colab": {
          "base_uri": "https://localhost:8080/",
          "height": 34
        },
        "outputId": "8697a6cd-9f6d-496d-b966-d7559fc43932"
      },
      "source": [
        "X2_train.shape"
      ],
      "execution_count": 13,
      "outputs": [
        {
          "output_type": "execute_result",
          "data": {
            "text/plain": [
              "(25000, 32, 32, 3)"
            ]
          },
          "metadata": {
            "tags": []
          },
          "execution_count": 13
        }
      ]
    },
    {
      "cell_type": "code",
      "metadata": {
        "id": "5cz1GvZVT5it",
        "colab_type": "code",
        "colab": {
          "base_uri": "https://localhost:8080/",
          "height": 34
        },
        "outputId": "de6ce168-a9b5-4baf-e1c3-3c4f8f748796"
      },
      "source": [
        "X1_test.shape"
      ],
      "execution_count": 14,
      "outputs": [
        {
          "output_type": "execute_result",
          "data": {
            "text/plain": [
              "(5000, 32, 32, 3)"
            ]
          },
          "metadata": {
            "tags": []
          },
          "execution_count": 14
        }
      ]
    },
    {
      "cell_type": "code",
      "metadata": {
        "id": "E7NZH2GwS2CY",
        "colab_type": "code",
        "colab": {
          "base_uri": "https://localhost:8080/",
          "height": 34
        },
        "outputId": "080b6864-6c9a-47bd-9e0d-cae0b47256fb"
      },
      "source": [
        "X2_test.shape"
      ],
      "execution_count": 15,
      "outputs": [
        {
          "output_type": "execute_result",
          "data": {
            "text/plain": [
              "(5000, 32, 32, 3)"
            ]
          },
          "metadata": {
            "tags": []
          },
          "execution_count": 15
        }
      ]
    },
    {
      "cell_type": "markdown",
      "metadata": {
        "id": "xtCKmQh4yXhT",
        "colab_type": "text"
      },
      "source": [
        "### 2. Use One-hot encoding to divide y_train and y_test into required no of output classes"
      ]
    },
    {
      "cell_type": "code",
      "metadata": {
        "id": "W0znc9ChIFyI",
        "colab_type": "code",
        "colab": {}
      },
      "source": [
        "Y1_train = tf.keras.utils.to_categorical(np.asarray(Y1_train), num_classes=5)\n",
        "Y1_test = tf.keras.utils.to_categorical(np.asarray(Y1_test), num_classes=5)\n",
        "\n",
        "Y2_train = tf.keras.utils.to_categorical(np.asarray(Y2_train), num_classes=10)\n",
        "Y2_test = tf.keras.utils.to_categorical(np.asarray(Y2_test), num_classes=10)\n"
      ],
      "execution_count": 0,
      "outputs": []
    },
    {
      "cell_type": "code",
      "metadata": {
        "id": "uN5O2kJ3yYa6",
        "colab_type": "code",
        "colab": {
          "base_uri": "https://localhost:8080/",
          "height": 34
        },
        "outputId": "5560966f-cebc-4142-ef47-d576d49b7cb1"
      },
      "source": [
        "Y1_train.shape"
      ],
      "execution_count": 26,
      "outputs": [
        {
          "output_type": "execute_result",
          "data": {
            "text/plain": [
              "(25000, 5)"
            ]
          },
          "metadata": {
            "tags": []
          },
          "execution_count": 26
        }
      ]
    },
    {
      "cell_type": "code",
      "metadata": {
        "id": "GgT5Rv4FBZq1",
        "colab_type": "code",
        "colab": {
          "base_uri": "https://localhost:8080/",
          "height": 34
        },
        "outputId": "e954bae2-995b-49bb-d72c-aafcf201b62f"
      },
      "source": [
        "Y1_test.shape"
      ],
      "execution_count": 27,
      "outputs": [
        {
          "output_type": "execute_result",
          "data": {
            "text/plain": [
              "(5000, 5)"
            ]
          },
          "metadata": {
            "tags": []
          },
          "execution_count": 27
        }
      ]
    },
    {
      "cell_type": "code",
      "metadata": {
        "id": "lUNdpjTTBj2R",
        "colab_type": "code",
        "colab": {
          "base_uri": "https://localhost:8080/",
          "height": 34
        },
        "outputId": "c7803ba3-4f2d-4244-8d86-18872d03d953"
      },
      "source": [
        "Y2_train.shape"
      ],
      "execution_count": 28,
      "outputs": [
        {
          "output_type": "execute_result",
          "data": {
            "text/plain": [
              "(25000, 10)"
            ]
          },
          "metadata": {
            "tags": []
          },
          "execution_count": 28
        }
      ]
    },
    {
      "cell_type": "code",
      "metadata": {
        "id": "8C1Vp9BsBobP",
        "colab_type": "code",
        "colab": {
          "base_uri": "https://localhost:8080/",
          "height": 34
        },
        "outputId": "2f102838-109a-4ab2-8cf6-d185c49572b0"
      },
      "source": [
        "Y2_test.shape"
      ],
      "execution_count": 29,
      "outputs": [
        {
          "output_type": "execute_result",
          "data": {
            "text/plain": [
              "(5000, 10)"
            ]
          },
          "metadata": {
            "tags": []
          },
          "execution_count": 29
        }
      ]
    },
    {
      "cell_type": "markdown",
      "metadata": {
        "id": "cuOiKWfeybAl",
        "colab_type": "text"
      },
      "source": [
        "### 3. Build a sequential neural network model which can classify the classes 0 to 4 of CIFAR10 dataset with at least 80% accuracy on test data"
      ]
    },
    {
      "cell_type": "code",
      "metadata": {
        "id": "6h8GxhsgBnQQ",
        "colab_type": "code",
        "colab": {}
      },
      "source": [
        ""
      ],
      "execution_count": 0,
      "outputs": []
    },
    {
      "cell_type": "code",
      "metadata": {
        "id": "5HzxNbiiyoBD",
        "colab_type": "code",
        "colab": {}
      },
      "source": [
        "#Importing the Libraries for building ANN model \n",
        "from tensorflow.keras.models import Sequential  #For building the Neural Network layer by layer\n",
        "from tensorflow.keras.layers import Dense, BatchNormalization, Dropout, Reshape, Flatten #Dense - To randomly initialize the weights to small numbers close to 0(But not 0)\n",
        "from tensorflow.keras.layers import MaxPool2D, Conv2D\n",
        "from tensorflow.keras import regularizers\n",
        "from tensorflow.keras import optimizers\n",
        "from tensorflow.keras.backend import backend"
      ],
      "execution_count": 0,
      "outputs": []
    },
    {
      "cell_type": "code",
      "metadata": {
        "id": "nXkUCFCwdUFr",
        "colab_type": "code",
        "colab": {}
      },
      "source": [
        "tf.keras.backend.clear_session()\n",
        "#Initialize model, reshape & normalize data\n",
        "model = Sequential()\n",
        "\n",
        "model.add(Reshape((32,32,3),input_shape=(32,32,3)))\n",
        "\n",
        "#normalize data\n",
        "model.add(BatchNormalization())"
      ],
      "execution_count": 0,
      "outputs": []
    },
    {
      "cell_type": "code",
      "metadata": {
        "id": "ZTtzFDXRdUCT",
        "colab_type": "code",
        "colab": {}
      },
      "source": [
        "#Add convolutional layer\n",
        "model.add(Conv2D(64, #Number of filters \n",
        "                                 kernel_size=(3,3), #Size of the filter\n",
        "                                 activation='relu'))\n",
        "\n",
        "\n",
        "#Add convolutional layer\n",
        "model.add(Conv2D(64, #Number of filters \n",
        "                                 kernel_size=(3,3), #Size of the filter\n",
        "                                 activation='relu'))\n",
        "\n",
        "\n"
      ],
      "execution_count": 0,
      "outputs": []
    },
    {
      "cell_type": "code",
      "metadata": {
        "id": "I_Au-SgfdT_R",
        "colab_type": "code",
        "colab": {}
      },
      "source": [
        "#Add MaxPooling layer\n",
        "model.add(MaxPool2D(pool_size=(2,2)))\n",
        "\n",
        "\n",
        "#Add another dropout layer\n",
        "model.add(Dropout(0.42))"
      ],
      "execution_count": 0,
      "outputs": []
    },
    {
      "cell_type": "code",
      "metadata": {
        "id": "93yMemWkDoKp",
        "colab_type": "code",
        "colab": {}
      },
      "source": [
        "#Flatten the output\n",
        "model.add(Flatten())"
      ],
      "execution_count": 0,
      "outputs": []
    },
    {
      "cell_type": "code",
      "metadata": {
        "id": "V4RGtj12dT8A",
        "colab_type": "code",
        "colab": {}
      },
      "source": [
        "#normalize data\n",
        "model.add(BatchNormalization())\n",
        "#Fully Connected Dense layer - 1st\n",
        "model.add(Dense(100, activation='relu'))\n",
        "\n",
        "#normalize data\n",
        "model.add(BatchNormalization())\n",
        "#Dense layer - 2nd\n",
        "model.add(Dense(100, activation='relu'))\n",
        "\n",
        "#normalize data\n",
        "model.add(BatchNormalization())\n",
        "#Dense layer - 3rd\n",
        "model.add(Dense(10, activation='relu'))"
      ],
      "execution_count": 0,
      "outputs": []
    },
    {
      "cell_type": "code",
      "metadata": {
        "id": "cpgJtD1zdT48",
        "colab_type": "code",
        "colab": {}
      },
      "source": [
        "model.add(Dense(5, activation='softmax'))"
      ],
      "execution_count": 0,
      "outputs": []
    },
    {
      "cell_type": "code",
      "metadata": {
        "id": "ekVWbINE_zCD",
        "colab_type": "code",
        "colab": {}
      },
      "source": [
        "model.compile(optimizer= 'adam', loss='categorical_crossentropy', metrics=['accuracy'])"
      ],
      "execution_count": 0,
      "outputs": []
    },
    {
      "cell_type": "code",
      "metadata": {
        "id": "xMRgnAdnABGI",
        "colab_type": "code",
        "colab": {
          "base_uri": "https://localhost:8080/",
          "height": 391
        },
        "outputId": "4c593016-db6b-4358-a8b1-4dbae6cb0f76"
      },
      "source": [
        "#Train the model\n",
        "model.fit(X1_train,Y1_train,          \n",
        "          validation_data=(X1_test,Y1_test),\n",
        "          epochs=10,\n",
        "          batch_size=32)"
      ],
      "execution_count": 142,
      "outputs": [
        {
          "output_type": "stream",
          "text": [
            "Train on 25000 samples, validate on 5000 samples\n",
            "Epoch 1/10\n",
            "25000/25000 [==============================] - 166s 7ms/sample - loss: 0.9797 - accuracy: 0.6078 - val_loss: 0.7793 - val_accuracy: 0.6934\n",
            "Epoch 2/10\n",
            "25000/25000 [==============================] - 164s 7ms/sample - loss: 0.7627 - accuracy: 0.7055 - val_loss: 0.6987 - val_accuracy: 0.7314\n",
            "Epoch 3/10\n",
            "25000/25000 [==============================] - 165s 7ms/sample - loss: 0.6477 - accuracy: 0.7524 - val_loss: 0.6763 - val_accuracy: 0.7424\n",
            "Epoch 4/10\n",
            "25000/25000 [==============================] - 165s 7ms/sample - loss: 0.5802 - accuracy: 0.7828 - val_loss: 0.6497 - val_accuracy: 0.7612\n",
            "Epoch 5/10\n",
            "25000/25000 [==============================] - 165s 7ms/sample - loss: 0.5314 - accuracy: 0.8004 - val_loss: 0.6183 - val_accuracy: 0.7724\n",
            "Epoch 6/10\n",
            "25000/25000 [==============================] - 164s 7ms/sample - loss: 0.4797 - accuracy: 0.8191 - val_loss: 0.6467 - val_accuracy: 0.7630\n",
            "Epoch 7/10\n",
            "25000/25000 [==============================] - 165s 7ms/sample - loss: 0.4389 - accuracy: 0.8367 - val_loss: 0.6468 - val_accuracy: 0.7700\n",
            "Epoch 8/10\n",
            "25000/25000 [==============================] - 164s 7ms/sample - loss: 0.4139 - accuracy: 0.8485 - val_loss: 0.6217 - val_accuracy: 0.7830\n",
            "Epoch 9/10\n",
            "25000/25000 [==============================] - 165s 7ms/sample - loss: 0.3746 - accuracy: 0.8609 - val_loss: 0.6740 - val_accuracy: 0.7704\n",
            "Epoch 10/10\n",
            "25000/25000 [==============================] - 163s 7ms/sample - loss: 0.3371 - accuracy: 0.8762 - val_loss: 0.6600 - val_accuracy: 0.7724\n"
          ],
          "name": "stdout"
        },
        {
          "output_type": "execute_result",
          "data": {
            "text/plain": [
              "<tensorflow.python.keras.callbacks.History at 0x7f9dc14d8e10>"
            ]
          },
          "metadata": {
            "tags": []
          },
          "execution_count": 142
        }
      ]
    },
    {
      "cell_type": "code",
      "metadata": {
        "id": "_8SpeMi19zsF",
        "colab_type": "code",
        "colab": {}
      },
      "source": [
        "#Able to achieve accuracy of 78.30% on test data."
      ],
      "execution_count": 0,
      "outputs": []
    },
    {
      "cell_type": "code",
      "metadata": {
        "id": "ZfdQcdJ9AE8a",
        "colab_type": "code",
        "colab": {
          "base_uri": "https://localhost:8080/",
          "height": 629
        },
        "outputId": "8ff54c99-70fc-4a91-8953-baa49c8db6a9"
      },
      "source": [
        "model.summary()"
      ],
      "execution_count": 143,
      "outputs": [
        {
          "output_type": "stream",
          "text": [
            "Model: \"sequential\"\n",
            "_________________________________________________________________\n",
            "Layer (type)                 Output Shape              Param #   \n",
            "=================================================================\n",
            "reshape (Reshape)            (None, 32, 32, 3)         0         \n",
            "_________________________________________________________________\n",
            "batch_normalization (BatchNo (None, 32, 32, 3)         12        \n",
            "_________________________________________________________________\n",
            "conv2d (Conv2D)              (None, 30, 30, 64)        1792      \n",
            "_________________________________________________________________\n",
            "conv2d_1 (Conv2D)            (None, 28, 28, 64)        36928     \n",
            "_________________________________________________________________\n",
            "max_pooling2d (MaxPooling2D) (None, 14, 14, 64)        0         \n",
            "_________________________________________________________________\n",
            "dropout (Dropout)            (None, 14, 14, 64)        0         \n",
            "_________________________________________________________________\n",
            "flatten (Flatten)            (None, 12544)             0         \n",
            "_________________________________________________________________\n",
            "batch_normalization_1 (Batch (None, 12544)             50176     \n",
            "_________________________________________________________________\n",
            "dense (Dense)                (None, 100)               1254500   \n",
            "_________________________________________________________________\n",
            "batch_normalization_2 (Batch (None, 100)               400       \n",
            "_________________________________________________________________\n",
            "dense_1 (Dense)              (None, 100)               10100     \n",
            "_________________________________________________________________\n",
            "batch_normalization_3 (Batch (None, 100)               400       \n",
            "_________________________________________________________________\n",
            "dense_2 (Dense)              (None, 10)                1010      \n",
            "_________________________________________________________________\n",
            "dense_3 (Dense)              (None, 5)                 55        \n",
            "=================================================================\n",
            "Total params: 1,355,373\n",
            "Trainable params: 1,329,879\n",
            "Non-trainable params: 25,494\n",
            "_________________________________________________________________\n"
          ],
          "name": "stdout"
        }
      ]
    },
    {
      "cell_type": "markdown",
      "metadata": {
        "id": "woTfNst_ynRG",
        "colab_type": "text"
      },
      "source": [
        "### 4. In the model which was built above (for classification of classes 0-4 in CIFAR10), make only the dense layers to be trainable and conv layers to be non-trainable"
      ]
    },
    {
      "cell_type": "code",
      "metadata": {
        "id": "o_VCDB3Byb1a",
        "colab_type": "code",
        "colab": {
          "base_uri": "https://localhost:8080/",
          "height": 34
        },
        "outputId": "b1c851d1-fad5-46b7-8128-6eb608e6df31"
      },
      "source": [
        "print(len(model.layers))"
      ],
      "execution_count": 144,
      "outputs": [
        {
          "output_type": "stream",
          "text": [
            "14\n"
          ],
          "name": "stdout"
        }
      ]
    },
    {
      "cell_type": "code",
      "metadata": {
        "id": "yltNf3UqdRnp",
        "colab_type": "code",
        "colab": {}
      },
      "source": [
        "#Set conv layers to be non-trainable\n",
        "for layer in model.layers[:7]:\n",
        "    layer.trainable = False"
      ],
      "execution_count": 0,
      "outputs": []
    },
    {
      "cell_type": "markdown",
      "metadata": {
        "id": "1-uUPqWpyeyX",
        "colab_type": "text"
      },
      "source": [
        "### 5. Utilize the the model trained on CIFAR 10 (classes 0 to 4) to classify the classes 5 to 9 of CIFAR 10  (Use Transfer Learning) <br>\n",
        "Achieve an accuracy of more than 85% on test data"
      ]
    },
    {
      "cell_type": "code",
      "metadata": {
        "id": "szHjJgDvyfCt",
        "colab_type": "code",
        "colab": {}
      },
      "source": [
        "transfer_model = Sequential(model.layers[:7])\n"
      ],
      "execution_count": 0,
      "outputs": []
    },
    {
      "cell_type": "code",
      "metadata": {
        "id": "k71sfNPW2trU",
        "colab_type": "code",
        "colab": {}
      },
      "source": [
        "#Fully Connected Dense layer - 1st\n",
        "transfer_model.add(Dense(200, activation='relu'))\n",
        "\n",
        "#normalize data\n",
        "transfer_model.add(BatchNormalization())\n",
        "#Dense layer - 2nd\n",
        "transfer_model.add(Dense(200, activation='relu'))\n",
        "\n",
        "#normalize data\n",
        "transfer_model.add(BatchNormalization())\n",
        "#Dense layer - 3rd\n",
        "transfer_model.add(Dense(100, activation='relu'))"
      ],
      "execution_count": 0,
      "outputs": []
    },
    {
      "cell_type": "code",
      "metadata": {
        "id": "qtEkBTLY23Lp",
        "colab_type": "code",
        "colab": {}
      },
      "source": [
        "transfer_model.add(Dense(10, activation='softmax'))"
      ],
      "execution_count": 0,
      "outputs": []
    },
    {
      "cell_type": "code",
      "metadata": {
        "id": "xxjVROfs29Fe",
        "colab_type": "code",
        "colab": {}
      },
      "source": [
        "transfer_model.compile(optimizer= 'adam', loss='categorical_crossentropy', metrics=['accuracy'])"
      ],
      "execution_count": 0,
      "outputs": []
    },
    {
      "cell_type": "code",
      "metadata": {
        "id": "vXiXFCrk99Dx",
        "colab_type": "code",
        "colab": {
          "base_uri": "https://localhost:8080/",
          "height": 595
        },
        "outputId": "9dfc8ef9-8b53-44bf-9aa2-e6028994a856"
      },
      "source": [
        "transfer_model.summary()"
      ],
      "execution_count": 154,
      "outputs": [
        {
          "output_type": "stream",
          "text": [
            "Model: \"sequential_1\"\n",
            "_________________________________________________________________\n",
            "Layer (type)                 Output Shape              Param #   \n",
            "=================================================================\n",
            "reshape (Reshape)            (None, 32, 32, 3)         0         \n",
            "_________________________________________________________________\n",
            "batch_normalization (BatchNo (None, 32, 32, 3)         12        \n",
            "_________________________________________________________________\n",
            "conv2d (Conv2D)              (None, 30, 30, 64)        1792      \n",
            "_________________________________________________________________\n",
            "conv2d_1 (Conv2D)            (None, 28, 28, 64)        36928     \n",
            "_________________________________________________________________\n",
            "max_pooling2d (MaxPooling2D) (None, 14, 14, 64)        0         \n",
            "_________________________________________________________________\n",
            "dropout (Dropout)            (None, 14, 14, 64)        0         \n",
            "_________________________________________________________________\n",
            "flatten (Flatten)            (None, 12544)             0         \n",
            "_________________________________________________________________\n",
            "dense_4 (Dense)              (None, 200)               2509000   \n",
            "_________________________________________________________________\n",
            "batch_normalization_4 (Batch (None, 200)               800       \n",
            "_________________________________________________________________\n",
            "dense_5 (Dense)              (None, 200)               40200     \n",
            "_________________________________________________________________\n",
            "batch_normalization_5 (Batch (None, 200)               800       \n",
            "_________________________________________________________________\n",
            "dense_6 (Dense)              (None, 100)               20100     \n",
            "_________________________________________________________________\n",
            "dense_7 (Dense)              (None, 10)                1010      \n",
            "=================================================================\n",
            "Total params: 2,610,642\n",
            "Trainable params: 2,571,110\n",
            "Non-trainable params: 39,532\n",
            "_________________________________________________________________\n"
          ],
          "name": "stdout"
        }
      ]
    },
    {
      "cell_type": "code",
      "metadata": {
        "id": "lxrez_qc3Cnz",
        "colab_type": "code",
        "colab": {
          "base_uri": "https://localhost:8080/",
          "height": 391
        },
        "outputId": "5e686b77-b170-42fc-c602-a272a63faead"
      },
      "source": [
        "#Train the model\n",
        "transfer_model.fit(X2_train,Y2_train,          \n",
        "          validation_data=(X2_test,Y2_test),\n",
        "          epochs=10,\n",
        "          batch_size=32)"
      ],
      "execution_count": 153,
      "outputs": [
        {
          "output_type": "stream",
          "text": [
            "Train on 25000 samples, validate on 5000 samples\n",
            "Epoch 1/10\n",
            "25000/25000 [==============================] - 65s 3ms/sample - loss: 0.6272 - accuracy: 0.7730 - val_loss: 0.4472 - val_accuracy: 0.8346\n",
            "Epoch 2/10\n",
            "25000/25000 [==============================] - 63s 3ms/sample - loss: 0.4152 - accuracy: 0.8486 - val_loss: 0.4384 - val_accuracy: 0.8446\n",
            "Epoch 3/10\n",
            "25000/25000 [==============================] - 63s 3ms/sample - loss: 0.3377 - accuracy: 0.8756 - val_loss: 0.4124 - val_accuracy: 0.8518\n",
            "Epoch 4/10\n",
            "25000/25000 [==============================] - 63s 3ms/sample - loss: 0.2823 - accuracy: 0.8964 - val_loss: 0.3928 - val_accuracy: 0.8640\n",
            "Epoch 5/10\n",
            "25000/25000 [==============================] - 63s 3ms/sample - loss: 0.2387 - accuracy: 0.9110 - val_loss: 0.4020 - val_accuracy: 0.8602\n",
            "Epoch 6/10\n",
            "25000/25000 [==============================] - 62s 2ms/sample - loss: 0.2039 - accuracy: 0.9269 - val_loss: 0.4276 - val_accuracy: 0.8570\n",
            "Epoch 7/10\n",
            "25000/25000 [==============================] - 63s 3ms/sample - loss: 0.1860 - accuracy: 0.9327 - val_loss: 0.4171 - val_accuracy: 0.8612\n",
            "Epoch 8/10\n",
            "25000/25000 [==============================] - 62s 2ms/sample - loss: 0.1601 - accuracy: 0.9429 - val_loss: 0.4425 - val_accuracy: 0.8682\n",
            "Epoch 9/10\n",
            "25000/25000 [==============================] - 62s 2ms/sample - loss: 0.1554 - accuracy: 0.9437 - val_loss: 0.4435 - val_accuracy: 0.8674\n",
            "Epoch 10/10\n",
            "25000/25000 [==============================] - 63s 3ms/sample - loss: 0.1329 - accuracy: 0.9523 - val_loss: 0.4632 - val_accuracy: 0.8650\n"
          ],
          "name": "stdout"
        },
        {
          "output_type": "execute_result",
          "data": {
            "text/plain": [
              "<tensorflow.python.keras.callbacks.History at 0x7f9dc62977f0>"
            ]
          },
          "metadata": {
            "tags": []
          },
          "execution_count": 153
        }
      ]
    },
    {
      "cell_type": "code",
      "metadata": {
        "id": "WS0BjC7o9j-I",
        "colab_type": "code",
        "colab": {}
      },
      "source": [
        "#Able to achieve accuracy of 86.82% on test data."
      ],
      "execution_count": 0,
      "outputs": []
    },
    {
      "cell_type": "markdown",
      "metadata": {
        "id": "0zDuRecXzEtr",
        "colab_type": "text"
      },
      "source": [
        "# Text classification using TF-IDF"
      ]
    },
    {
      "cell_type": "code",
      "metadata": {
        "id": "yA6h7jDATA29",
        "colab_type": "code",
        "colab": {}
      },
      "source": [
        "from sklearn.feature_extraction.text import TfidfVectorizer\n",
        "from sklearn.linear_model import LogisticRegression\n",
        "from sklearn import metrics\n",
        "\n",
        "import warnings\n",
        "warnings.filterwarnings('ignore')"
      ],
      "execution_count": 0,
      "outputs": []
    },
    {
      "cell_type": "markdown",
      "metadata": {
        "id": "xMPlEJhHzb6P",
        "colab_type": "text"
      },
      "source": [
        "### 6. Load the dataset from sklearn.datasets"
      ]
    },
    {
      "cell_type": "code",
      "metadata": {
        "id": "Fe-B59u3zHNb",
        "colab_type": "code",
        "colab": {}
      },
      "source": [
        "from sklearn.datasets import fetch_20newsgroups"
      ],
      "execution_count": 0,
      "outputs": []
    },
    {
      "cell_type": "code",
      "metadata": {
        "id": "PRrMemVQzbHU",
        "colab_type": "code",
        "colab": {}
      },
      "source": [
        "categories = ['alt.atheism', 'soc.religion.christian', 'comp.graphics', 'sci.med']"
      ],
      "execution_count": 0,
      "outputs": []
    },
    {
      "cell_type": "markdown",
      "metadata": {
        "id": "-sZX0UbJzmg5",
        "colab_type": "text"
      },
      "source": [
        "### 7. Training data"
      ]
    },
    {
      "cell_type": "code",
      "metadata": {
        "id": "CITr_5aXziJ2",
        "colab_type": "code",
        "colab": {
          "base_uri": "https://localhost:8080/",
          "height": 51
        },
        "outputId": "0160db4f-96d9-44d8-8599-76edfffbbabc"
      },
      "source": [
        "twenty_train = fetch_20newsgroups(subset='train', categories=categories, shuffle=True, random_state=42)"
      ],
      "execution_count": 66,
      "outputs": [
        {
          "output_type": "stream",
          "text": [
            "Downloading 20news dataset. This may take a few minutes.\n",
            "Downloading dataset from https://ndownloader.figshare.com/files/5975967 (14 MB)\n"
          ],
          "name": "stderr"
        }
      ]
    },
    {
      "cell_type": "markdown",
      "metadata": {
        "id": "xcESc5QXzr6p",
        "colab_type": "text"
      },
      "source": [
        "### 8. Test data"
      ]
    },
    {
      "cell_type": "code",
      "metadata": {
        "id": "ysInblUMzpvl",
        "colab_type": "code",
        "colab": {}
      },
      "source": [
        "twenty_test = fetch_20newsgroups(subset='test', categories=categories, shuffle=True, random_state=42)"
      ],
      "execution_count": 0,
      "outputs": []
    },
    {
      "cell_type": "markdown",
      "metadata": {
        "id": "DriL2yZ50DQq",
        "colab_type": "text"
      },
      "source": [
        "###  a.  You can access the values for the target variable using .target attribute \n",
        "###  b. You can access the name of the class in the target variable with .target_names\n"
      ]
    },
    {
      "cell_type": "code",
      "metadata": {
        "id": "vlUuai99z1hX",
        "colab_type": "code",
        "colab": {
          "base_uri": "https://localhost:8080/",
          "height": 34
        },
        "outputId": "eba9e2ca-e9d0-4a7d-8c9f-d1b161469ec7"
      },
      "source": [
        "twenty_train.target"
      ],
      "execution_count": 68,
      "outputs": [
        {
          "output_type": "execute_result",
          "data": {
            "text/plain": [
              "array([1, 1, 3, ..., 2, 2, 2])"
            ]
          },
          "metadata": {
            "tags": []
          },
          "execution_count": 68
        }
      ]
    },
    {
      "cell_type": "code",
      "metadata": {
        "id": "VEKzaDfSz5E-",
        "colab_type": "code",
        "colab": {
          "base_uri": "https://localhost:8080/",
          "height": 34
        },
        "outputId": "313d8ea4-4da2-4fa2-d69f-12e976d287cd"
      },
      "source": [
        "twenty_train.target_names"
      ],
      "execution_count": 69,
      "outputs": [
        {
          "output_type": "execute_result",
          "data": {
            "text/plain": [
              "['alt.atheism', 'comp.graphics', 'sci.med', 'soc.religion.christian']"
            ]
          },
          "metadata": {
            "tags": []
          },
          "execution_count": 69
        }
      ]
    },
    {
      "cell_type": "code",
      "metadata": {
        "id": "clBMKHzC0_N1",
        "colab_type": "code",
        "colab": {
          "base_uri": "https://localhost:8080/",
          "height": 122
        },
        "outputId": "cfd73392-094e-4ceb-b177-ac1111456f6b"
      },
      "source": [
        "twenty_train.data[0:5]"
      ],
      "execution_count": 70,
      "outputs": [
        {
          "output_type": "execute_result",
          "data": {
            "text/plain": [
              "['From: sd345@city.ac.uk (Michael Collier)\\nSubject: Converting images to HP LaserJet III?\\nNntp-Posting-Host: hampton\\nOrganization: The City University\\nLines: 14\\n\\nDoes anyone know of a good way (standard PC application/PD utility) to\\nconvert tif/img/tga files into LaserJet III format.  We would also like to\\ndo the same, converting to HPGL (HP plotter) files.\\n\\nPlease email any response.\\n\\nIs this the correct group?\\n\\nThanks in advance.  Michael.\\n-- \\nMichael Collier (Programmer)                 The Computer Unit,\\nEmail: M.P.Collier@uk.ac.city                The City University,\\nTel: 071 477-8000 x3769                      London,\\nFax: 071 477-8565                            EC1V 0HB.\\n',\n",
              " \"From: ani@ms.uky.edu (Aniruddha B. Deglurkar)\\nSubject: help: Splitting a trimming region along a mesh \\nOrganization: University Of Kentucky, Dept. of Math Sciences\\nLines: 28\\n\\n\\n\\n\\tHi,\\n\\n\\tI have a problem, I hope some of the 'gurus' can help me solve.\\n\\n\\tBackground of the problem:\\n\\tI have a rectangular mesh in the uv domain, i.e  the mesh is a \\n\\tmapping of a 3d Bezier patch into 2d. The area in this domain\\n\\twhich is inside a trimming loop had to be rendered. The trimming\\n\\tloop is a set of 2d Bezier curve segments.\\n\\tFor the sake of notation: the mesh is made up of cells.\\n\\n\\tMy problem is this :\\n\\tThe trimming area has to be split up into individual smaller\\n\\tcells bounded by the trimming curve segments. If a cell\\n\\tis wholly inside the area...then it is output as a whole ,\\n\\telse it is trivially rejected. \\n\\n\\tDoes any body know how thiss can be done, or is there any algo. \\n\\tsomewhere for doing this.\\n\\n\\tAny help would be appreciated.\\n\\n\\tThanks, \\n\\tAni.\\n-- \\nTo get irritated is human, to stay cool, divine.\\n\",\n",
              " \"From: djohnson@cs.ucsd.edu (Darin Johnson)\\nSubject: Re: harrassed at work, could use some prayers\\nOrganization: =CSE Dept., U.C. San Diego\\nLines: 63\\n\\n(Well, I'll email also, but this may apply to other people, so\\nI'll post also.)\\n\\n>I've been working at this company for eight years in various\\n>engineering jobs.  I'm female.  Yesterday I counted and realized that\\n>on seven different occasions I've been sexually harrassed at this\\n>company.\\n\\n>I dreaded coming back to work today.  What if my boss comes in to ask\\n>me some kind of question...\\n\\nYour boss should be the person bring these problems to.  If he/she\\ndoes not seem to take any action, keep going up higher and higher.\\nSexual harrassment does not need to be tolerated, and it can be an\\nenormous emotional support to discuss this with someone and know that\\nthey are trying to do something about it.  If you feel you can not\\ndiscuss this with your boss, perhaps your company has a personnel\\ndepartment that can work for you while preserving your privacy.  Most\\ncompanies will want to deal with this problem because constant anxiety\\ndoes seriously affect how effectively employees do their jobs.\\n\\nIt is unclear from your letter if you have done this or not.  It is\\nnot inconceivable that management remains ignorant of employee\\nproblems/strife even after eight years (it's a miracle if they do\\nnotice).  Perhaps your manager did not bring to the attention of\\nhigher ups?  If the company indeed does seem to want to ignore the\\nentire problem, there may be a state agency willing to fight with\\nyou.  (check with a lawyer, a women's resource center, etc to find out)\\n\\nYou may also want to discuss this with your paster, priest, husband,\\netc.  That is, someone you know will not be judgemental and that is\\nsupportive, comforting, etc.  This will bring a lot of healing.\\n\\n>So I returned at 11:25, only to find that ever single\\n>person had already left for lunch.  They left at 11:15 or so.  No one\\n>could be bothered to call me at the other building, even though my\\n>number was posted.\\n\\nThis happens to a lot of people.  Honest.  I believe it may seem\\nto be due to gross insensitivity because of the feelings you are\\ngoing through.  People in offices tend to be more insensitive while\\nworking than they normally are (maybe it's the hustle or stress or...)\\nI've had this happen to me a lot, often because they didn't realize\\nmy car was broken, etc.  Then they will come back and wonder why I\\ndidn't want to go (this would tend to make me stop being angry at\\nbeing ignored and make me laugh).  Once, we went off without our\\nboss, who was paying for the lunch :-)\\n\\n>For this\\n>reason I hope good Mr. Moderator allows me this latest indulgence.\\n\\nWell, if you can't turn to the computer for support, what would\\nwe do?  (signs of the computer age :-)\\n\\nIn closing, please don't let the hateful actions of a single person\\nharm you.  They are doing it because they are still the playground\\nbully and enjoy seeing the hurt they cause.  And you should not\\naccept the opinions of an imbecile that you are worthless - much\\nwiser people hold you in great esteem.\\n-- \\nDarin Johnson\\ndjohnson@ucsd.edu\\n  - Luxury!  In MY day, we had to make do with 5 bytes of swap...\\n\",\n",
              " 'From: s0612596@let.rug.nl (M.M. Zwart)\\nSubject: catholic church poland\\nOrganization: Faculteit der Letteren, Rijksuniversiteit Groningen, NL\\nLines: 10\\n\\nHello,\\n\\nI\\'m writing a paper on the role of the catholic church in Poland after 1989. \\nCan anyone tell me more about this, or fill me in on recent books/articles(\\nin english, german or french). Most important for me is the role of the \\nchurch concerning the abortion-law, religious education at schools,\\nbirth-control and the relation church-state(government). Thanx,\\n\\n                                                 Masja,\\n\"M.M.Zwart\"<s0612596@let.rug.nl>\\n',\n",
              " 'From: stanly@grok11.columbiasc.ncr.com (stanly)\\nSubject: Re: Elder Brother\\nOrganization: NCR Corp., Columbia SC\\nLines: 15\\n\\nIn article <Apr.8.00.57.41.1993.28246@athos.rutgers.edu> REXLEX@fnal.gov writes:\\n>In article <Apr.7.01.56.56.1993.22824@athos.rutgers.edu> shrum@hpfcso.fc.hp.com\\n>Matt. 22:9-14 \\'Go therefore to the main highways, and as many as you find\\n>there, invite to the wedding feast.\\'...\\n\\n>hmmmmmm.  Sounds like your theology and Christ\\'s are at odds. Which one am I \\n>to believe?\\n\\nIn this parable, Jesus tells the parable of the wedding feast. \"The kingdom\\nof heaven is like unto a certain king which made a marriage for his son\".\\nSo the wedding clothes were customary,  and \"given\" to those who \"chose\" to\\nattend.  This man \"refused\" to wear the clothes.  The wedding clothes are\\nequalivant to the \"clothes of righteousness\".  When Jesus died for our sins,\\nthose \"clothes\" were then provided.  Like that man, it is our decision to\\nput the clothes on.\\n']"
            ]
          },
          "metadata": {
            "tags": []
          },
          "execution_count": 70
        }
      ]
    },
    {
      "cell_type": "code",
      "metadata": {
        "id": "x-m5L8JndW9W",
        "colab_type": "code",
        "colab": {
          "base_uri": "https://localhost:8080/",
          "height": 34
        },
        "outputId": "706ca9b0-7c43-4802-cfd8-8ec61c5718cb"
      },
      "source": [
        "twenty_test.target"
      ],
      "execution_count": 80,
      "outputs": [
        {
          "output_type": "execute_result",
          "data": {
            "text/plain": [
              "array([2, 2, 2, ..., 2, 2, 1])"
            ]
          },
          "metadata": {
            "tags": []
          },
          "execution_count": 80
        }
      ]
    },
    {
      "cell_type": "code",
      "metadata": {
        "id": "kfsku-RudhJz",
        "colab_type": "code",
        "colab": {
          "base_uri": "https://localhost:8080/",
          "height": 34
        },
        "outputId": "f0c548bf-92d3-468a-bf97-4f05ea8dbef0"
      },
      "source": [
        "twenty_test.target_names"
      ],
      "execution_count": 81,
      "outputs": [
        {
          "output_type": "execute_result",
          "data": {
            "text/plain": [
              "['alt.atheism', 'comp.graphics', 'sci.med', 'soc.religion.christian']"
            ]
          },
          "metadata": {
            "tags": []
          },
          "execution_count": 81
        }
      ]
    },
    {
      "cell_type": "code",
      "metadata": {
        "id": "vMd-wx6edosq",
        "colab_type": "code",
        "colab": {
          "base_uri": "https://localhost:8080/",
          "height": 122
        },
        "outputId": "d1e497ae-0702-4c8f-888d-eaaea6e0473f"
      },
      "source": [
        "twenty_test.data[0:5]"
      ],
      "execution_count": 82,
      "outputs": [
        {
          "output_type": "execute_result",
          "data": {
            "text/plain": [
              "[\"From: brian@ucsd.edu (Brian Kantor)\\nSubject: Re: HELP for Kidney Stones ..............\\nOrganization: The Avant-Garde of the Now, Ltd.\\nLines: 12\\nNNTP-Posting-Host: ucsd.edu\\n\\nAs I recall from my bout with kidney stones, there isn't any\\nmedication that can do anything about them except relieve the pain.\\n\\nEither they pass, or they have to be broken up with sound, or they have\\nto be extracted surgically.\\n\\nWhen I was in, the X-ray tech happened to mention that she'd had kidney\\nstones and children, and the childbirth hurt less.\\n\\nDemerol worked, although I nearly got arrested on my way home when I barfed\\nall over the police car parked just outside the ER.\\n\\t- Brian\\n\",\n",
              " 'From: rind@enterprise.bih.harvard.edu (David Rind)\\nSubject: Re: Candida(yeast) Bloom, Fact or Fiction\\nOrganization: Beth Israel Hospital, Harvard Medical School, Boston Mass., USA\\nLines: 37\\nNNTP-Posting-Host: enterprise.bih.harvard.edu\\n\\nIn article <1993Apr26.103242.1@vms.ocom.okstate.edu>\\n banschbach@vms.ocom.okstate.edu writes:\\n>are in a different class.  The big question seems to be is it reasonable to \\n>use them in patients with GI distress or sinus problems that *could* be due \\n>to candida blooms following the use of broad-spectrum antibiotics?\\n\\nI guess I\\'m still not clear on what the term \"candida bloom\" means,\\nbut certainly it is well known that thrush (superficial candidal\\ninfections on mucous membranes) can occur after antibiotic use.\\nThis has nothing to do with systemic yeast syndrome, the \"quack\"\\ndiagnosis that has been being discussed.\\n\\n\\n>found in the sinus mucus membranes than is candida.  Women have been known \\n>for a very long time to suffer from candida blooms in the vagina and a \\n>women is lucky to find a physician who is willing to treat the cause and \\n>not give give her advise to use the OTC anti-fungal creams.\\n\\nLucky how?  Since a recent article (randomized controlled trial) of\\noral yogurt on reducing vaginal candidiasis, I\\'ve mentioned to a \\nnumber of patients with frequent vaginal yeast infections that they\\ncould try eating 6 ounces of yogurt daily.  It turns out most would\\nrather just use anti-fungal creams when they get yeast infections.\\n\\n>yogurt dangerous).  If this were a standard part of medical practice, as \\n>Gordon R. says it is, then the incidence of GI distress and vaginal yeast \\n>infections should decline.\\n\\nAgain, this just isn\\'t what the systemic yeast syndrome is about, and\\nhas nothing to do with the quack therapies that were being discussed.\\nThere is some evidence that attempts to reinoculate the GI tract with\\nbacteria after antibiotic therapy don\\'t seem to be very helpful in\\nreducing diarrhea, but I don\\'t think anyone would view this as a\\nquack therapy.\\n-- \\nDavid Rind\\nrind@enterprise.bih.harvard.edu\\n',\n",
              " 'From: adwright@iastate.edu ()\\nSubject: Re: centi- and milli- pedes\\nOrganization: Iowa State University, Ames IA\\nLines: 37\\n\\nIn <1993Apr29.112642.1@vms.ocom.okstate.edu> chorley@vms.ocom.okstate.edu writes:\\n\\n>In article <35004@castle.ed.ac.uk>, gtclark@festival.ed.ac.uk (G T Clark) writes:\\n>> msnyder@nmt.edu (Rebecca Snyder) writes:\\n>> \\n>>>Does anyone know how posionous centipedes and millipedes are? If someone\\n>>>was bitten, how soon would medical treatment be needed, and what would\\n>>>be liable to happen to the person?\\n>> \\n>>>(Just for clarification - I have NOT been bitten by one of these,  but my\\n>>>house seems to be infested, and I want to know \\'just in case\\'.)\\n>> \\n>>>Rebecca\\n>> \\n>> \\n>> \\tMillipedes, I understand, are vegetarian, and therefore almost\\n>> certainly will not bite and are not poisonous. Centipedes are\\n>> carnivorous, and although I don\\'t have any absolute knowledge on this, I\\n>> would tend to think that you\\'re in no danger from anything but a\\n>> concerted assault by several million of them.\\n>> \\n>> \\t\\t\\tG.\\n>Not sure of this but I think some millipedes cause a toxic reaction (sting?\\n>So I would not assume that they are not dangerous merely on the basis of \\n>vegetarianism, after all wasps are vegetarian too.\\n>dnc.\\n\\nAs a child i can remember picking up a centipede and getting a rather painful \\nsting, but it quickly subsided. Much less painful compared to a bee sting. \\nCentipedes have a poison claw (one of the front feet) to stun their prey, but\\nin my single experience it did not have a lot of \"bite\" to it.\\n\\nA.\\n\\n\\n\\n\\n',\n",
              " \"From: livesey@solntze.wpd.sgi.com (Jon Livesey)\\nSubject: Re: free moral agency\\nOrganization: sgi\\nLines: 26\\nDistribution: world\\nNNTP-Posting-Host: solntze.wpd.sgi.com\\n\\nIn article <C5uuL0.n1C@darkside.osrhe.uoknor.edu>, bil@okcforum.osrhe.edu (Bill Conner) writes:\\n|> \\n|> Many of the atheists posting here argue against their own parody of\\n|> religion; they create some ridiculous caricature of a religion and\\n|> then attack the believers within that religion and the religion itself\\n|> as ridiculous. By their own devices, they establish a new religion, a\\n|> mythology.\\n\\nYou mean Bobby Mozumder is a myth?    We wondered about that.\\n\\n|> The point of course, is to erect an easy target and deflect the\\n|> disputants away from the real issue - atheism. The fictional Christian\\n|> or Moslem or Jew who is supposed to believe the distorted\\n|> representation of their beliefs presented here, is therefore made to\\n|> seem a fool and his/her arguments can thereby be made to appear\\n|> ludicrous. The mythology is the misrepresentations of religion used\\n|> here as fact.\\n\\nYou mean Bobby Mozumder didn't really post here?   We wondered\\nabout that, too.\\n\\nSo, Mr Conner.   Is Bobby Mozumder a myth, a performing artist, \\na real Moslem. a crackpot, a provocateur?    You know everything\\nand read all minds: why don't you tell us?\\n\\njon.\\n\",\n",
              " 'From: jhpb@sarto.budd-lake.nj.us (Joseph H. Buehler)\\nSubject: the ancient canon of the Roman rite\\nOrganization: none\\nLines: 132\\n\\nThe following is a juxtaposition of part of an ancient text known as\\n\"de Sacramentis\", usually attributed to St. Ambrose of Milan, and the\\ncanon of the traditional Catholic Mass of the Roman rite.  The\\nconclusion from this comparison is that the central part of the\\ntraditional Roman canon was already fairly well in place by sometime\\nin the late 4th century.\\n\\nTaken from \"The Mass of the Western Rites\", by the Right Reverend Dom\\nFernand Cabrol, Abbot of Farnborough, 1934, without permission.\\nExcerpted from Chapter VI: THE MASS AT ROME, FROM THE FIFTH TO THE\\nSEVENTH CENTURIES.  The paragraph at the end is from the book, not me.\\n\\nSorry about the long lines.\\n\\nJoe Buehler\\n\\n-----\\n\\nTEXT OF DE SACRAMENTIS          ROMAN CANON                     ROMAN CANON\\n(about 400 AD)                  (1962 AD)                       (English translation)\\n\\n                                Te igitur ...                   (omitted here)\\n                                Memento Domine ...\\n                                Communicantes ...\\n                                Hanc igitur oblationem ...\\n\\nFac nobis (inquit sacerdos),    Quam oblationem tu Deus, in     Do thou, O God, deign to\\nhanc oblationem ascriptam,      omnibus, quaesumus,             bless what we offer, and\\nratam, rationabilem,            benedictam, adscriptam,         make it approved,\\nacceptabilem, quod figura       ratam, rationabilem,            effective, right, and\\nest corporis et sanguinis       acceptabilemque facere          wholly pleasing in every\\nJesu Christi.                   digneris: ut nobis corpus et    way, that it may become\\n                                sanguis fiat dilectissimi       for our good, the Body\\n                                Filii tui Domini nostri Jesu    and Blood of Thy dearly\\n                                Christi.                        beloved Son, Jesus Christ\\n                                                                our Lord.\\n\\nQui pridie quam pateretur,      Qui pridie quam pateretur,      Who, the day before He\\nin sanctis manibus suis         accepit panem in sanctas ac     suffered, took bread into\\naccepit panem, respexit in      venerabiles manus suas: et      His holy and venerable\\ncaelum ad te, sancte Pater      elevatis oculis in ccelum,      hands, and having raised\\nomnipotens, aeterne Deus,       ad Te Deum Patrem suum          His eyes to Heaven, unto\\nGratias agens, benedixit,       omnipotentem, tibi gratias      Thee, O God, His Almighty\\nfregit, fractum quae            agens, benedixit, fregit,       Father, giving thanks to\\napostolis suis et discipulis    deditque discipulis suis        Thee, He blessed it, broke\\nsuis tradidit dicens:           dicens: accipite et             it, and gave it to His\\naccipite et edite ex hoc        manducate ex hoc omnes: hoc     disciples, saying: Take ye\\nomnes: hoc est enim corpus      est enim corpus meum.           all and eat of this:\\nmeum, quod pro multis                                           For this is my Body.\\nconfringetur.\\n\\nSimiliter etiam calicem         Simili modo postquam            In like manner, when the\\npostquam caenatum est,          caenatum est, accipiens et      supper was done, taking\\npridie quam pateretur,          hunc praeclarum calicem in      also this goodly chalice\\naccepit, respexit in            sanctas ac venerabiles manus    into His holy and\\ncaelum ad te, sancte pater      suas item tibi gratias          venerable hands, again\\nomnipotens, aeterne Deus,       agens, benedixit deditque       giving thanks to Thee,\\ngratias agens, benedixit,       discipulis suis, dicens:        He blessed it, and gave it\\napostolis suis et discipulis    accipite et bibite ex eo        to His disciples, saying:\\nsuis tradidit, dicens:          omnes: Hic est enim calix       Take ye all, and drink of\\naccipite et bibite ex hoc       sanguinis mei, novi et          this: For this is the\\nomnes: hic est enim sanguis     aeterni testamenti:             Chalice of my Blood of the\\nmeus.                           mysterium fidei; qui pro        new and eternal covenant;\\n                                vobis et pro multis             the mystery of faith,\\n                                effundetur in remissionem       which shall be shed for\\n                                peccatorum.                     you and for many unto the\\n                                                                forgiveness of sins.\\n\\n                                Haec quotiescumque feceritis    As often as you shall do\\n                                in mei memoriam facietis.       these things, in memory of\\n                                                                Me shall you do them.\\n\\nErgo memores gloriosissimae     Unde et memores, Domine, nos    Mindful, therefore, O\\nejus passionis et ab inferis    servi tui, sed et plebs tua     Lord, not only of the\\nresurrectionis, in caelum       sancta, ejusdem Christi         blessed Passion of the\\nascensionis, offerimus tibi     Filii tui Domini nostri, tam    same Christ, Thy Son, our\\nhanc immaculatam hostiam,       beatae passionis necnon et      Lord, but also of His\\nhunc panem sanctum et           ab inferis resurrectionis,      resurrection from the\\ncalicem vitae aeternae;         sed et in caelos gloriosae      dead, and finally His\\n                                ascensionis: offerimus          glorious ascension into\\n                                praeclarae majestati tuae de    Heaven, we, Thy ministers,\\n                                tuis donis ac datis, hostiam    as also Thy holy people,\\n                                puram, hostiam sanctam,         offer unto Thy supreme\\n                                hostiam immaculatam, Panem      majesty, of the gifts\\n                                sanctum vitae aeternae, et      bestowed upon us, the\\n                                Calicem salutis perpetuae.      pure Victim, the holy\\n                                                                Victim, the all-perfect\\n                                                                Victim: the holy Bread of\\n                                                                life eternal and the\\n                                                                Chalice of unending\\n                                                                salvation.\\n\\net petimus et precamur, ut      Supra quae propitio ac          And this do Thou deign to\\nhanc oblationem suscipias in    sereno vultu respicere          regard with gracious and\\nsublimi altari tuo per manus    digneris: et accepta habere,    kindly attention and hold\\nangelorum tuorum sicut          sicuti accepta, habere          acceptable, as Thou didst\\nsuscipere dignatus es munera    dignatus es munera pueri tui    deign to accept the\\npueri tui justi Abel et         justi Abel, et sacrificium      offerings of Abel, Thy\\nsacrificium patriarchae         patriarchae nostri Abrahae,     just servant, and the\\nnostri Abrahae et quod tibi     et quod tibi obtulit summus     sacrifice of Abraham our\\nobtulit summus sacerdos         sacerdos tuus Melchisedech      patriarch, and that which\\nMelchisedech.                   sanctum sacrificium,            Thy chief priest\\n                                immaculatam hostiam.            Melchisedech offered unto\\n                                                                Thee, a holy sacrifice and\\n                                                                a spotless victim.\\n\\n                                Supplices te rogamus,           Most humbly we implore\\n                                omnipotens Deus: jube haec      Thee, almighty God, bid\\n                                perferri per manus sancti       these offerings to be\\n                                Angeli tui in sublime altare    brought by the hands of\\n                                tuum in conspectu divinae       Thy holy angel unto Thy\\n                                majestatis tuae: etc.           altar above; before the\\n                                                                face of Thy Divine\\n                                                                Majesty; etc.\\n\\nThere is no doubt that we have here two editions of the same\\ntext; and as that of De Sacramentis is localised in Upper Italy\\nand dated about the year 400, it is the most ancient witness we\\npossess as to the principal parts of the Roman canon, which only\\nappear in the Sacramentaries some time after the seventh\\ncentury. The question as to whether the Roman canon is not older\\neven than that of De Sacramentis is discussed by\\nliturgiologists.  Mgr. Batiffol is of this opinion, but we, on\\nthe contrary, think that the former bears traces of closer\\ncomposition, of a more carefully guarded orthodoxy, and that\\nconsequently it is a text corrected from De Sacramentis. We\\nshall see, in studying the list of names in the Memento of the\\nliving and that of the dead, that Mgr. Batiffol argues with good\\nreason that he can date these fragments from the pontificate of\\nSymmachus (498-514). We thus have the state of the Roman Mass,\\nor at least of the chief parts of the canon, at the beginning of\\nthe fourth century.\\n']"
            ]
          },
          "metadata": {
            "tags": []
          },
          "execution_count": 82
        }
      ]
    },
    {
      "cell_type": "markdown",
      "metadata": {
        "id": "hTz4EaN_1WGc",
        "colab_type": "text"
      },
      "source": [
        "### 9.  Now with dependent and independent data available for both train and test datasets, using TfidfVectorizer fit and transform the training data and test data and get the tfidf features for both"
      ]
    },
    {
      "cell_type": "code",
      "metadata": {
        "id": "H5G477f81C0Z",
        "colab_type": "code",
        "colab": {
          "base_uri": "https://localhost:8080/",
          "height": 34
        },
        "outputId": "7842767b-8c0d-4c56-cd9a-dc55fa902917"
      },
      "source": [
        "# create a document-term matrix using TF-IDF\n",
        "#Fit transform Training data\n",
        "vect = TfidfVectorizer(stop_words='english', min_df=0.001, max_df=0.20, ngram_range=(1,2))\n",
        "dtm = vect.fit_transform(twenty_train.data)\n",
        "features_train = vect.get_feature_names()\n",
        "dtm.shape"
      ],
      "execution_count": 173,
      "outputs": [
        {
          "output_type": "execute_result",
          "data": {
            "text/plain": [
              "(2257, 31568)"
            ]
          },
          "metadata": {
            "tags": []
          },
          "execution_count": 173
        }
      ]
    },
    {
      "cell_type": "code",
      "metadata": {
        "id": "SOlKzDj7Bq_U",
        "colab_type": "code",
        "colab": {
          "base_uri": "https://localhost:8080/",
          "height": 51
        },
        "outputId": "7f2c3a84-7fd4-45e5-9ad4-e12c61c4f90f"
      },
      "source": [
        "dtm"
      ],
      "execution_count": 180,
      "outputs": [
        {
          "output_type": "execute_result",
          "data": {
            "text/plain": [
              "<2257x31568 sparse matrix of type '<class 'numpy.float64'>'\n",
              "\twith 312336 stored elements in Compressed Sparse Row format>"
            ]
          },
          "metadata": {
            "tags": []
          },
          "execution_count": 180
        }
      ]
    },
    {
      "cell_type": "code",
      "metadata": {
        "id": "PnrZ2ySOUGVL",
        "colab_type": "code",
        "colab": {
          "base_uri": "https://localhost:8080/",
          "height": 1000
        },
        "outputId": "80bd5a54-bc86-4295-e957-2d38a48a6f91"
      },
      "source": [
        "features_train"
      ],
      "execution_count": 181,
      "outputs": [
        {
          "output_type": "execute_result",
          "data": {
            "text/plain": [
              "['00',\n",
              " '00 00',\n",
              " '00 08',\n",
              " '00 09',\n",
              " '00 34',\n",
              " '00 57',\n",
              " '00 58',\n",
              " '00 gmt',\n",
              " '00 p003228',\n",
              " '00 pm',\n",
              " '00 thank',\n",
              " '000',\n",
              " '000 000',\n",
              " '000 bytes',\n",
              " '000 colors',\n",
              " '000 people',\n",
              " '000 pounds',\n",
              " '000 question',\n",
              " '000 year',\n",
              " '0001',\n",
              " '0001 south',\n",
              " '0010580b',\n",
              " '01',\n",
              " '01 02',\n",
              " '01 08',\n",
              " '01 09',\n",
              " '01 10',\n",
              " '01 11',\n",
              " '01 19',\n",
              " '01 55',\n",
              " '01 differences',\n",
              " '01 lines',\n",
              " '01 v2',\n",
              " '0100',\n",
              " '01580',\n",
              " '01580 change',\n",
              " '02',\n",
              " '02 1993',\n",
              " '02 42',\n",
              " '02 51',\n",
              " '02 55',\n",
              " '0200',\n",
              " '02118',\n",
              " '02173',\n",
              " '02173 617',\n",
              " '023044',\n",
              " '023044 19580',\n",
              " '024103',\n",
              " '024103 29880',\n",
              " '03',\n",
              " '03 01',\n",
              " '03 02',\n",
              " '03 03',\n",
              " '03 07',\n",
              " '03 11',\n",
              " '03 1993',\n",
              " '03 24',\n",
              " '03 25',\n",
              " '03 26',\n",
              " '03 44',\n",
              " '03 gmt',\n",
              " '0349',\n",
              " '0349 athens',\n",
              " '0358',\n",
              " '0358 athens',\n",
              " '0358 university',\n",
              " '04',\n",
              " '04 12',\n",
              " '04 13',\n",
              " '04 17',\n",
              " '04 1993',\n",
              " '04 gmt',\n",
              " '040',\n",
              " '040 stacks',\n",
              " '041343',\n",
              " '041343 24997',\n",
              " '05',\n",
              " '05 01',\n",
              " '05 10',\n",
              " '05 11',\n",
              " '05 13',\n",
              " '05 14',\n",
              " '05 30',\n",
              " '05 31',\n",
              " '05 32',\n",
              " '05 33',\n",
              " '0511',\n",
              " '06',\n",
              " '06 1993',\n",
              " '0600',\n",
              " '0608',\n",
              " '06320',\n",
              " '06320 oringinally',\n",
              " '07',\n",
              " '07 1993',\n",
              " '07 21',\n",
              " '07 38',\n",
              " '08',\n",
              " '08 07',\n",
              " '08 1993',\n",
              " '08 22',\n",
              " '08 35',\n",
              " '081052',\n",
              " '081052 11292',\n",
              " '084042',\n",
              " '084042 822',\n",
              " '09',\n",
              " '09 04',\n",
              " '09 1993',\n",
              " '09 50',\n",
              " '095220',\n",
              " '095220 24632',\n",
              " '0x100',\n",
              " '0x100 vga',\n",
              " '10',\n",
              " '10 00',\n",
              " '10 000',\n",
              " '10 05',\n",
              " '10 11',\n",
              " '10 12',\n",
              " '10 14',\n",
              " '10 15',\n",
              " '10 17',\n",
              " '10 1946',\n",
              " '10 1993',\n",
              " '10 20',\n",
              " '10 25',\n",
              " '10 34',\n",
              " '10 58',\n",
              " '10 april',\n",
              " '10 article',\n",
              " '10 days',\n",
              " '10 million',\n",
              " '10 minutes',\n",
              " '10 nntp',\n",
              " '10 percent',\n",
              " '10 usenet',\n",
              " '10 years',\n",
              " '100',\n",
              " '100 000',\n",
              " '100 81',\n",
              " '100 fred',\n",
              " '100 years',\n",
              " '1000',\n",
              " '101',\n",
              " '10101',\n",
              " '10101 geneva',\n",
              " '101010',\n",
              " '101010 binary',\n",
              " '1013',\n",
              " '1013 unlv',\n",
              " '102',\n",
              " '102 18',\n",
              " '102007',\n",
              " '102007 20664',\n",
              " '1024',\n",
              " '1024x768',\n",
              " '103',\n",
              " '104',\n",
              " '105',\n",
              " '106',\n",
              " '109',\n",
              " '10th',\n",
              " '10th cent',\n",
              " '11',\n",
              " '11 01',\n",
              " '11 12',\n",
              " '11 15',\n",
              " '11 16',\n",
              " '11 17',\n",
              " '11 25',\n",
              " '11 27',\n",
              " '11 article',\n",
              " '11 distribution',\n",
              " '11 nntp',\n",
              " '110',\n",
              " '1100',\n",
              " '1100 east',\n",
              " '111',\n",
              " '1111',\n",
              " '112',\n",
              " '11230',\n",
              " '11230 sophia',\n",
              " '11292',\n",
              " '11292 monu6',\n",
              " '113',\n",
              " '114',\n",
              " '114 15',\n",
              " '114127',\n",
              " '114127 bu',\n",
              " '114158',\n",
              " '114158 2246',\n",
              " '115',\n",
              " '115288',\n",
              " '115288 bu',\n",
              " '115565',\n",
              " '115565 bu',\n",
              " '115a',\n",
              " '115a campbell',\n",
              " '116305',\n",
              " '116305 bu',\n",
              " '11632',\n",
              " '11632 mercury',\n",
              " '1165',\n",
              " '1165 bitnet',\n",
              " '11670',\n",
              " '11670 aragorn',\n",
              " '117',\n",
              " '1170',\n",
              " '118',\n",
              " '11825',\n",
              " '11825 vice',\n",
              " '119',\n",
              " '1192d',\n",
              " '1192d mailstop',\n",
              " '12',\n",
              " '12 03',\n",
              " '12 10',\n",
              " '12 13',\n",
              " '12 15',\n",
              " '12 1993',\n",
              " '12 apr',\n",
              " '12 article',\n",
              " '12 distribution',\n",
              " '12 fps',\n",
              " '12 hi',\n",
              " '12 nntp',\n",
              " '12 step',\n",
              " '12 years',\n",
              " '120',\n",
              " '1200',\n",
              " '12091',\n",
              " '12091 unocal',\n",
              " '121',\n",
              " '122',\n",
              " '122647',\n",
              " '122647 16364',\n",
              " '123',\n",
              " '1246',\n",
              " '125',\n",
              " '126',\n",
              " '127',\n",
              " '127 organization',\n",
              " '128',\n",
              " '128 102',\n",
              " '128 153',\n",
              " '128 32',\n",
              " '1280',\n",
              " '1280 200',\n",
              " '129',\n",
              " '129 89',\n",
              " '13',\n",
              " '13 00',\n",
              " '13 14',\n",
              " '13 1993',\n",
              " '13 35',\n",
              " '13 48',\n",
              " '13 article',\n",
              " '13 distribution',\n",
              " '13 does',\n",
              " '13 hi',\n",
              " '13 looking',\n",
              " '13 nntp',\n",
              " '13 weeks',\n",
              " '13 year',\n",
              " '13 years',\n",
              " '130',\n",
              " '130 11',\n",
              " '130 60',\n",
              " '1300',\n",
              " '131',\n",
              " '1312',\n",
              " '1312 carlton',\n",
              " '131239',\n",
              " '131239 11670',\n",
              " '132',\n",
              " '133',\n",
              " '134',\n",
              " '13495',\n",
              " '13495 seanmac',\n",
              " '135',\n",
              " '1352',\n",
              " '1352 geneva',\n",
              " '135941',\n",
              " '135941 16105',\n",
              " '136',\n",
              " '137',\n",
              " '1379',\n",
              " '1379 geneva',\n",
              " '138',\n",
              " '139',\n",
              " '13h',\n",
              " '13h 320x200',\n",
              " '13th',\n",
              " '14',\n",
              " '14 03',\n",
              " '14 12',\n",
              " '14 15',\n",
              " '14 16',\n",
              " '14 19',\n",
              " '14 1993',\n",
              " '14 apr',\n",
              " '14 article',\n",
              " '14 distribution',\n",
              " '14 gmt',\n",
              " '14 jesus',\n",
              " '14 nntp',\n",
              " '14 probably',\n",
              " '140',\n",
              " '1400',\n",
              " '1400 picture',\n",
              " '141',\n",
              " '141 214',\n",
              " '142',\n",
              " '143',\n",
              " '14313',\n",
              " '14313 athos',\n",
              " '14385',\n",
              " '14385 athos',\n",
              " '14388',\n",
              " '14388 athos',\n",
              " '14391',\n",
              " '14391 athos',\n",
              " '144',\n",
              " '144843',\n",
              " '144843 19549',\n",
              " '145',\n",
              " '145 146',\n",
              " '145 734928689',\n",
              " '146',\n",
              " '146 35',\n",
              " '147',\n",
              " '147 163',\n",
              " '148',\n",
              " '149',\n",
              " '149 19',\n",
              " '15',\n",
              " '15 00',\n",
              " '15 09',\n",
              " '15 16',\n",
              " '15 1993',\n",
              " '15 20',\n",
              " '15 27',\n",
              " '15 amateur',\n",
              " '15 apr',\n",
              " '15 article',\n",
              " '15 bit',\n",
              " '15 distribution',\n",
              " '15 finou',\n",
              " '15 fps',\n",
              " '15 hi',\n",
              " '15 lord',\n",
              " '15 nntp',\n",
              " '15 paul',\n",
              " '15 years',\n",
              " '150',\n",
              " '150 203',\n",
              " '1500',\n",
              " '150550',\n",
              " '150550 15347',\n",
              " '151',\n",
              " '15118',\n",
              " '15118 bnr',\n",
              " '152',\n",
              " '152 22',\n",
              " '152 32',\n",
              " '15213',\n",
              " '153',\n",
              " '15347',\n",
              " '15347 ecsvax',\n",
              " '154',\n",
              " '155',\n",
              " '155123',\n",
              " '155123 447',\n",
              " '155919',\n",
              " '155919 28040',\n",
              " '156',\n",
              " '156 work',\n",
              " '157',\n",
              " '16',\n",
              " '16 10',\n",
              " '16 16',\n",
              " '16 17',\n",
              " '16 18',\n",
              " '16 1993',\n",
              " '16 23',\n",
              " '16 30',\n",
              " '16 32',\n",
              " '16 apr',\n",
              " '16 article',\n",
              " '16 bit',\n",
              " '16 color',\n",
              " '16 distribution',\n",
              " '16 esperidon',\n",
              " '16 million',\n",
              " '16 nntp',\n",
              " '1600',\n",
              " '160x2xx',\n",
              " '160x2xx played',\n",
              " '161',\n",
              " '16105',\n",
              " '16105 lmpsbbs',\n",
              " '163',\n",
              " '16364',\n",
              " '16364 tms390',\n",
              " '164940',\n",
              " '164940 11632',\n",
              " '1653',\n",
              " '1653 fax',\n",
              " '165410',\n",
              " '165410 4206',\n",
              " '167',\n",
              " '16937',\n",
              " '16937 athos',\n",
              " '16th',\n",
              " '17',\n",
              " '17 01',\n",
              " '17 18',\n",
              " '17 1993',\n",
              " '17 40',\n",
              " '17 apr',\n",
              " '17 april',\n",
              " '17 article',\n",
              " '17 computer',\n",
              " '17 directory',\n",
              " '17 distribution',\n",
              " '17 hello',\n",
              " '17 hi',\n",
              " '17 nntp',\n",
              " '171',\n",
              " '172',\n",
              " '172 27',\n",
              " '172965',\n",
              " '172965 locus',\n",
              " '17505',\n",
              " '17505 nw',\n",
              " '178',\n",
              " '179',\n",
              " '179 organization',\n",
              " '17th',\n",
              " '18',\n",
              " '18 16',\n",
              " '18 172',\n",
              " '18 19',\n",
              " '18 1993',\n",
              " '18 24',\n",
              " '18 30',\n",
              " '18 article',\n",
              " '18 distribution',\n",
              " '18 gmt',\n",
              " '18 hi',\n",
              " '18 nntp',\n",
              " '18 years',\n",
              " '1800',\n",
              " '182',\n",
              " '18669',\n",
              " '18669 bach',\n",
              " '187',\n",
              " '18833',\n",
              " '18833 athos',\n",
              " '1888',\n",
              " '1890',\n",
              " '19',\n",
              " '19 05',\n",
              " '19 1993',\n",
              " '19 20',\n",
              " '19 43',\n",
              " '19 apr',\n",
              " '19 article',\n",
              " '19 distribution',\n",
              " '19 feb',\n",
              " '19 gmt',\n",
              " '19 nntp',\n",
              " '192',\n",
              " '192 100',\n",
              " '192 35',\n",
              " '192947',\n",
              " '192947 11230',\n",
              " '193758',\n",
              " '193758 12091',\n",
              " '1939',\n",
              " '194',\n",
              " '1946',\n",
              " '1946 national',\n",
              " '1947',\n",
              " '1949',\n",
              " '1950',\n",
              " '1950 certainly',\n",
              " '19549',\n",
              " '19549 rchland',\n",
              " '1958',\n",
              " '1958 pager',\n",
              " '19580',\n",
              " '19580 ultb',\n",
              " '1960',\n",
              " '1960s',\n",
              " '1960s called',\n",
              " '1963',\n",
              " '19687',\n",
              " '19687 pitt',\n",
              " '1970s',\n",
              " '1971',\n",
              " '1972',\n",
              " '1973',\n",
              " '1974',\n",
              " '1976',\n",
              " '1977',\n",
              " '1979',\n",
              " '1979 covert',\n",
              " '198',\n",
              " '1980',\n",
              " '1981',\n",
              " '1983',\n",
              " '1984',\n",
              " '1985',\n",
              " '1986',\n",
              " '1987',\n",
              " '1987 hmmm',\n",
              " '1988',\n",
              " '1988 check',\n",
              " '1989',\n",
              " '1989 pp',\n",
              " '1990',\n",
              " '1990 page',\n",
              " '1990 subject',\n",
              " '1991',\n",
              " '1992',\n",
              " '1992 1993',\n",
              " '1992 45am',\n",
              " '1992 93',\n",
              " '1993',\n",
              " '1993 00',\n",
              " '1993 01',\n",
              " '1993 04',\n",
              " '1993 10',\n",
              " '1993 10101',\n",
              " '1993 1352',\n",
              " '1993 1379',\n",
              " '1993 14',\n",
              " '1993 14313',\n",
              " '1993 14385',\n",
              " '1993 14388',\n",
              " '1993 14391',\n",
              " '1993 15',\n",
              " '1993 16937',\n",
              " '1993 18',\n",
              " '1993 18833',\n",
              " '1993 19',\n",
              " '1993 21',\n",
              " '1993 2118',\n",
              " '1993 2246',\n",
              " '1993 22771',\n",
              " '1993 23',\n",
              " '1993 28379',\n",
              " '1993 28397',\n",
              " '1993 28412',\n",
              " '1993 29266',\n",
              " '1993 3123',\n",
              " '1993 3815',\n",
              " '1993 5402',\n",
              " '1993 5420',\n",
              " '1993 information',\n",
              " '1993 new',\n",
              " '1993 true',\n",
              " '1993 university',\n",
              " '1993 version',\n",
              " '1993apr03',\n",
              " '1993apr10',\n",
              " '1993apr11',\n",
              " '1993apr12',\n",
              " '1993apr12 165410',\n",
              " '1993apr12 201056',\n",
              " '1993apr13',\n",
              " '1993apr14',\n",
              " '1993apr14 102007',\n",
              " '1993apr14 122647',\n",
              " '1993apr15',\n",
              " '1993apr15 135941',\n",
              " '1993apr15 144843',\n",
              " '1993apr15 150550',\n",
              " '1993apr15 164940',\n",
              " '1993apr15 200344',\n",
              " '1993apr15 212943',\n",
              " '1993apr16',\n",
              " '1993apr16 114158',\n",
              " '1993apr16 155123',\n",
              " '1993apr16 155919',\n",
              " '1993apr16 212441',\n",
              " '1993apr17',\n",
              " '1993apr17 192947',\n",
              " '1993apr18',\n",
              " '1993apr19',\n",
              " '1993apr19 131239',\n",
              " '1993apr19 193758',\n",
              " '1993apr19 205615',\n",
              " '1993apr2',\n",
              " '1993apr20',\n",
              " '1993apr20 212706',\n",
              " '1993apr21',\n",
              " '1993apr21 024103',\n",
              " '1993apr22',\n",
              " '1993apr22 205341',\n",
              " '1993apr23',\n",
              " '1993apr3',\n",
              " '1993apr3 081052',\n",
              " '1993apr3 095220',\n",
              " '1993apr5',\n",
              " '1993apr5 023044',\n",
              " '1993apr5 084042',\n",
              " '1993apr6',\n",
              " '1993apr6 041343',\n",
              " '1993apr7',\n",
              " '1993apr9',\n",
              " '1993mar25',\n",
              " '1993mar26',\n",
              " '1993mar27',\n",
              " '1993mar29',\n",
              " '1993mar30',\n",
              " '1994',\n",
              " '19th',\n",
              " '1d9',\n",
              " '1d9 xxdate',\n",
              " '1l4',\n",
              " '1l4 fido',\n",
              " '1m',\n",
              " '1mb',\n",
              " '1pscti',\n",
              " '1pscti aqe',\n",
              " '1qi3l5',\n",
              " '1qi3l5 jkj',\n",
              " '1qkgbuinns9n',\n",
              " '1qkgbuinns9n shelley',\n",
              " '1qkq9t',\n",
              " '1qkq9t 66n',\n",
              " '1qnns0',\n",
              " '1qnns0 4l3',\n",
              " '1quvdoinn3e7',\n",
              " '1quvdoinn3e7 srvr1',\n",
              " '1r6g8finne88',\n",
              " '1r6g8finne88 ceti',\n",
              " '1st',\n",
              " '1st cent',\n",
              " '1st century',\n",
              " '1st day',\n",
              " '1st european',\n",
              " '1x1',\n",
              " '20',\n",
              " '20 000',\n",
              " '20 03',\n",
              " '20 1993',\n",
              " '20 21',\n",
              " '20 30',\n",
              " '20 56',\n",
              " '20 article',\n",
              " '20 centuries',\n",
              " '20 distribution',\n",
              " '20 magic',\n",
              " '20 minutes',\n",
              " '20 nntp',\n",
              " '20 posts',\n",
              " '20 years',\n",
              " '200',\n",
              " '200 200',\n",
              " '200 256',\n",
              " '200 600',\n",
              " '200 shed',\n",
              " '2000',\n",
              " '2000 patients',\n",
              " '2000 years',\n",
              " '200344',\n",
              " '200344 28013',\n",
              " '2006',\n",
              " '2006 compuserve',\n",
              " '20084',\n",
              " '20084 5000',\n",
              " '201',\n",
              " '201056',\n",
              " '201056 20753',\n",
              " '202',\n",
              " '203',\n",
              " '203 523296',\n",
              " '203 525714',\n",
              " '203 favour',\n",
              " '2039',\n",
              " '2039 university',\n",
              " '205',\n",
              " '205 934',\n",
              " '205341',\n",
              " '205341 172965',\n",
              " '205615',\n",
              " '205615 1013',\n",
              " '206',\n",
              " '20664',\n",
              " '20664 uk03',\n",
              " '20742',\n",
              " '20742 lines',\n",
              " '20753',\n",
              " '20753 ns1',\n",
              " '20mhz',\n",
              " '20mhz 040',\n",
              " '20th',\n",
              " '20th century',\n",
              " '21',\n",
              " '21 03',\n",
              " '21 1993',\n",
              " '21 22',\n",
              " '21 27',\n",
              " '21 33',\n",
              " '21 apr',\n",
              " '21 article',\n",
              " '21 distribution',\n",
              " '21 hi',\n",
              " '21 lines',\n",
              " '21 nntp',\n",
              " '210',\n",
              " '210 dgf1',\n",
              " '21000',\n",
              " '21000 brookpark',\n",
              " '2118',\n",
              " '2118 geneva',\n",
              " '212',\n",
              " '212 274',\n",
              " '212441',\n",
              " '212441 34125',\n",
              " '212706',\n",
              " '212706 820',\n",
              " '212943',\n",
              " '212943 15118',\n",
              " '213',\n",
              " '214',\n",
              " '214 86',\n",
              " '215',\n",
              " '216',\n",
              " '216 433',\n",
              " '217',\n",
              " '217 355',\n",
              " '218',\n",
              " '219',\n",
              " '21apr199308571323',\n",
              " '21apr199308571323 ucsvax',\n",
              " '22',\n",
              " '22 00',\n",
              " '22 1993',\n",
              " '22 23',\n",
              " '22 article',\n",
              " '22 distribution',\n",
              " '22 nntp',\n",
              " '221',\n",
              " '22102',\n",
              " '22102 fax',\n",
              " '2213',\n",
              " '2213 115a',\n",
              " '224',\n",
              " '2241',\n",
              " '2241 hampton',\n",
              " '2246',\n",
              " '2246 geneva',\n",
              " '2246 whiting',\n",
              " '225',\n",
              " '226',\n",
              " '2268',\n",
              " '227',\n",
              " '22771',\n",
              " '22771 athos',\n",
              " '2284',\n",
              " '229',\n",
              " '23',\n",
              " '23 02',\n",
              " '23 15',\n",
              " '23 17',\n",
              " '23 23',\n",
              " '23 24',\n",
              " '23 25',\n",
              " '23 26',\n",
              " '23 31',\n",
              " '23 apr',\n",
              " '23 article',\n",
              " '23 gmt',\n",
              " '23 nntp',\n",
              " '231',\n",
              " '232',\n",
              " '2362',\n",
              " '23681',\n",
              " '23681 home',\n",
              " '24',\n",
              " '24 01',\n",
              " '24 10',\n",
              " '24 13',\n",
              " '24 26',\n",
              " '24 article',\n",
              " '24 bit',\n",
              " '24 bits',\n",
              " '24 distribution',\n",
              " '24 good',\n",
              " '24 hi',\n",
              " '24 hour',\n",
              " '24 hours',\n",
              " '24 hrs',\n",
              " '24 nntp',\n",
              " '24 organization',\n",
              " '24 rtsg',\n",
              " '24 video',\n",
              " '240',\n",
              " '2400',\n",
              " '2400x4',\n",
              " '2400x4 vancouver',\n",
              " '241',\n",
              " '241 9760',\n",
              " '244',\n",
              " '244 wood',\n",
              " '245',\n",
              " '245 2965',\n",
              " '245 3205',\n",
              " '245 4366',\n",
              " '246',\n",
              " '246 17',\n",
              " '24632',\n",
              " '24632 leland',\n",
              " '248',\n",
              " '249',\n",
              " '249 9630',\n",
              " '24997',\n",
              " '24bit',\n",
              " '24th',\n",
              " '24x',\n",
              " '25',\n",
              " '25 1993',\n",
              " '25 article',\n",
              " '25 distribution',\n",
              " '25 hi',\n",
              " '25 mhz',\n",
              " '250',\n",
              " '252',\n",
              " '252 179',\n",
              " '253',\n",
              " '254',\n",
              " '255',\n",
              " '256',\n",
              " '256 000',\n",
              " '256 color',\n",
              " '256 colors',\n",
              " '256 grey',\n",
              " '256 levels',\n",
              " '2575',\n",
              " '2575 lewis',\n",
              " '25mhz',\n",
              " '25x',\n",
              " '25x 3xx',\n",
              " '26',\n",
              " '26 18',\n",
              " '26 1993',\n",
              " '26 51',\n",
              " '26 article',\n",
              " '26 distribution',\n",
              " '26 gmt',\n",
              " '26 nntp',\n",
              " '26 west',\n",
              " '263',\n",
              " '27',\n",
              " '27 1993',\n",
              " '27 article',\n",
              " '27 directory',\n",
              " '27 hi',\n",
              " '27 nntp',\n",
              " '270',\n",
              " '272',\n",
              " '273',\n",
              " '274',\n",
              " '274 8298v',\n",
              " '275',\n",
              " '27513',\n",
              " '27513 919',\n",
              " '277',\n",
              " '27903',\n",
              " '27903 just',\n",
              " '28',\n",
              " '28 1993',\n",
              " '28 article',\n",
              " '28 distribution',\n",
              " '28 matter',\n",
              " '28 nntp',\n",
              " '28 rsv',\n",
              " '280',\n",
              " '2800',\n",
              " '28013',\n",
              " '28013 cs',\n",
              " '28040',\n",
              " '28040 cs',\n",
              " '28376',\n",
              " '28379',\n",
              " '28379 athos',\n",
              " '28388',\n",
              " '28388 athos',\n",
              " '28397',\n",
              " '28397 athos',\n",
              " '284',\n",
              " '28412',\n",
              " '28412 athos',\n",
              " '286',\n",
              " '29',\n",
              " '29 1993',\n",
              " '29 apr',\n",
              " '29 article',\n",
              " '29 nntp',\n",
              " '29266',\n",
              " '29266 athos',\n",
              " '29279',\n",
              " '29279 athos',\n",
              " '294',\n",
              " '294 8153',\n",
              " '2965',\n",
              " '2965 llo',\n",
              " '29880',\n",
              " '29880 spdcc',\n",
              " '2a',\n",
              " '2a best',\n",
              " '2d',\n",
              " '2d 3d',\n",
              " '2d graphics',\n",
              " '2mb',\n",
              " '2nd',\n",
              " '2nd edition',\n",
              " '30',\n",
              " '30 03',\n",
              " '30 16',\n",
              " '30 50',\n",
              " '30 77',\n",
              " '30 article',\n",
              " '30 days',\n",
              " '30 minutes',\n",
              " '30 nntp',\n",
              " '30 years',\n",
              " '300',\n",
              " '3000',\n",
              " '301',\n",
              " '301 227',\n",
              " '301 496',\n",
              " '303',\n",
              " '3049',\n",
              " '3049 uupcb',\n",
              " '305',\n",
              " '30602',\n",
              " '30602 7415',\n",
              " '30fps',\n",
              " '30fps 30fps',\n",
              " '30fps anymore',\n",
              " '30fps nicely',\n",
              " '30pm',\n",
              " '31',\n",
              " '31 1993',\n",
              " '31 32',\n",
              " '31 46',\n",
              " '31 article',\n",
              " '31 nntp',\n",
              " '31 organization',\n",
              " '310',\n",
              " '310 billion',\n",
              " '312',\n",
              " '312 06320',\n",
              " '312 702',\n",
              " '3123',\n",
              " '3123 geneva',\n",
              " '313',\n",
              " '3168',\n",
              " '32',\n",
              " '32 149',\n",
              " '32 15',\n",
              " '32 29',\n",
              " '32 36',\n",
              " '32 article',\n",
              " '32 bit',\n",
              " '32 uucp',\n",
              " '320',\n",
              " '320 1280',\n",
              " '320 200',\n",
              " '320 think',\n",
              " '3205',\n",
              " '3205 v32',\n",
              " '320x200',\n",
              " '320x200 game',\n",
              " '320x200 nice',\n",
              " '320x200x256',\n",
              " '320x200x256 mode',\n",
              " '320x240',\n",
              " '3245',\n",
              " '325',\n",
              " '32768',\n",
              " '328',\n",
              " '32bis',\n",
              " '32bis reply',\n",
              " '33',\n",
              " '33 1993',\n",
              " '33 article',\n",
              " '33 distribution',\n",
              " '33 nntp',\n",
              " '330',\n",
              " '331',\n",
              " '334',\n",
              " '34',\n",
              " '34 1993',\n",
              " ...]"
            ]
          },
          "metadata": {
            "tags": []
          },
          "execution_count": 181
        }
      ]
    },
    {
      "cell_type": "code",
      "metadata": {
        "id": "57_KxSSgYgGE",
        "colab_type": "code",
        "colab": {
          "base_uri": "https://localhost:8080/",
          "height": 34
        },
        "outputId": "0fb2e5bc-69dc-4f92-d9db-43a84c31558b"
      },
      "source": [
        "#Transform testing data\n",
        "dtm1 = vect.transform(twenty_test.data)\n",
        "features_test = vect.get_feature_names()\n",
        "dtm1.shape"
      ],
      "execution_count": 174,
      "outputs": [
        {
          "output_type": "execute_result",
          "data": {
            "text/plain": [
              "(1502, 31568)"
            ]
          },
          "metadata": {
            "tags": []
          },
          "execution_count": 174
        }
      ]
    },
    {
      "cell_type": "code",
      "metadata": {
        "id": "nMVfp_P0BuiC",
        "colab_type": "code",
        "colab": {
          "base_uri": "https://localhost:8080/",
          "height": 51
        },
        "outputId": "a67c9a8c-073f-4d12-c9d1-e25881fbf513"
      },
      "source": [
        "dtm1"
      ],
      "execution_count": 179,
      "outputs": [
        {
          "output_type": "execute_result",
          "data": {
            "text/plain": [
              "<1502x31568 sparse matrix of type '<class 'numpy.float64'>'\n",
              "\twith 176284 stored elements in Compressed Sparse Row format>"
            ]
          },
          "metadata": {
            "tags": []
          },
          "execution_count": 179
        }
      ]
    },
    {
      "cell_type": "code",
      "metadata": {
        "id": "9tB-zFkoYwNG",
        "colab_type": "code",
        "colab": {
          "base_uri": "https://localhost:8080/",
          "height": 1000
        },
        "outputId": "7cffaa77-a91d-467a-b2b3-973238cd4d18"
      },
      "source": [
        "features_test"
      ],
      "execution_count": 178,
      "outputs": [
        {
          "output_type": "execute_result",
          "data": {
            "text/plain": [
              "['00',\n",
              " '00 00',\n",
              " '00 08',\n",
              " '00 09',\n",
              " '00 34',\n",
              " '00 57',\n",
              " '00 58',\n",
              " '00 gmt',\n",
              " '00 p003228',\n",
              " '00 pm',\n",
              " '00 thank',\n",
              " '000',\n",
              " '000 000',\n",
              " '000 bytes',\n",
              " '000 colors',\n",
              " '000 people',\n",
              " '000 pounds',\n",
              " '000 question',\n",
              " '000 year',\n",
              " '0001',\n",
              " '0001 south',\n",
              " '0010580b',\n",
              " '01',\n",
              " '01 02',\n",
              " '01 08',\n",
              " '01 09',\n",
              " '01 10',\n",
              " '01 11',\n",
              " '01 19',\n",
              " '01 55',\n",
              " '01 differences',\n",
              " '01 lines',\n",
              " '01 v2',\n",
              " '0100',\n",
              " '01580',\n",
              " '01580 change',\n",
              " '02',\n",
              " '02 1993',\n",
              " '02 42',\n",
              " '02 51',\n",
              " '02 55',\n",
              " '0200',\n",
              " '02118',\n",
              " '02173',\n",
              " '02173 617',\n",
              " '023044',\n",
              " '023044 19580',\n",
              " '024103',\n",
              " '024103 29880',\n",
              " '03',\n",
              " '03 01',\n",
              " '03 02',\n",
              " '03 03',\n",
              " '03 07',\n",
              " '03 11',\n",
              " '03 1993',\n",
              " '03 24',\n",
              " '03 25',\n",
              " '03 26',\n",
              " '03 44',\n",
              " '03 gmt',\n",
              " '0349',\n",
              " '0349 athens',\n",
              " '0358',\n",
              " '0358 athens',\n",
              " '0358 university',\n",
              " '04',\n",
              " '04 12',\n",
              " '04 13',\n",
              " '04 17',\n",
              " '04 1993',\n",
              " '04 gmt',\n",
              " '040',\n",
              " '040 stacks',\n",
              " '041343',\n",
              " '041343 24997',\n",
              " '05',\n",
              " '05 01',\n",
              " '05 10',\n",
              " '05 11',\n",
              " '05 13',\n",
              " '05 14',\n",
              " '05 30',\n",
              " '05 31',\n",
              " '05 32',\n",
              " '05 33',\n",
              " '0511',\n",
              " '06',\n",
              " '06 1993',\n",
              " '0600',\n",
              " '0608',\n",
              " '06320',\n",
              " '06320 oringinally',\n",
              " '07',\n",
              " '07 1993',\n",
              " '07 21',\n",
              " '07 38',\n",
              " '08',\n",
              " '08 07',\n",
              " '08 1993',\n",
              " '08 22',\n",
              " '08 35',\n",
              " '081052',\n",
              " '081052 11292',\n",
              " '084042',\n",
              " '084042 822',\n",
              " '09',\n",
              " '09 04',\n",
              " '09 1993',\n",
              " '09 50',\n",
              " '095220',\n",
              " '095220 24632',\n",
              " '0x100',\n",
              " '0x100 vga',\n",
              " '10',\n",
              " '10 00',\n",
              " '10 000',\n",
              " '10 05',\n",
              " '10 11',\n",
              " '10 12',\n",
              " '10 14',\n",
              " '10 15',\n",
              " '10 17',\n",
              " '10 1946',\n",
              " '10 1993',\n",
              " '10 20',\n",
              " '10 25',\n",
              " '10 34',\n",
              " '10 58',\n",
              " '10 april',\n",
              " '10 article',\n",
              " '10 days',\n",
              " '10 million',\n",
              " '10 minutes',\n",
              " '10 nntp',\n",
              " '10 percent',\n",
              " '10 usenet',\n",
              " '10 years',\n",
              " '100',\n",
              " '100 000',\n",
              " '100 81',\n",
              " '100 fred',\n",
              " '100 years',\n",
              " '1000',\n",
              " '101',\n",
              " '10101',\n",
              " '10101 geneva',\n",
              " '101010',\n",
              " '101010 binary',\n",
              " '1013',\n",
              " '1013 unlv',\n",
              " '102',\n",
              " '102 18',\n",
              " '102007',\n",
              " '102007 20664',\n",
              " '1024',\n",
              " '1024x768',\n",
              " '103',\n",
              " '104',\n",
              " '105',\n",
              " '106',\n",
              " '109',\n",
              " '10th',\n",
              " '10th cent',\n",
              " '11',\n",
              " '11 01',\n",
              " '11 12',\n",
              " '11 15',\n",
              " '11 16',\n",
              " '11 17',\n",
              " '11 25',\n",
              " '11 27',\n",
              " '11 article',\n",
              " '11 distribution',\n",
              " '11 nntp',\n",
              " '110',\n",
              " '1100',\n",
              " '1100 east',\n",
              " '111',\n",
              " '1111',\n",
              " '112',\n",
              " '11230',\n",
              " '11230 sophia',\n",
              " '11292',\n",
              " '11292 monu6',\n",
              " '113',\n",
              " '114',\n",
              " '114 15',\n",
              " '114127',\n",
              " '114127 bu',\n",
              " '114158',\n",
              " '114158 2246',\n",
              " '115',\n",
              " '115288',\n",
              " '115288 bu',\n",
              " '115565',\n",
              " '115565 bu',\n",
              " '115a',\n",
              " '115a campbell',\n",
              " '116305',\n",
              " '116305 bu',\n",
              " '11632',\n",
              " '11632 mercury',\n",
              " '1165',\n",
              " '1165 bitnet',\n",
              " '11670',\n",
              " '11670 aragorn',\n",
              " '117',\n",
              " '1170',\n",
              " '118',\n",
              " '11825',\n",
              " '11825 vice',\n",
              " '119',\n",
              " '1192d',\n",
              " '1192d mailstop',\n",
              " '12',\n",
              " '12 03',\n",
              " '12 10',\n",
              " '12 13',\n",
              " '12 15',\n",
              " '12 1993',\n",
              " '12 apr',\n",
              " '12 article',\n",
              " '12 distribution',\n",
              " '12 fps',\n",
              " '12 hi',\n",
              " '12 nntp',\n",
              " '12 step',\n",
              " '12 years',\n",
              " '120',\n",
              " '1200',\n",
              " '12091',\n",
              " '12091 unocal',\n",
              " '121',\n",
              " '122',\n",
              " '122647',\n",
              " '122647 16364',\n",
              " '123',\n",
              " '1246',\n",
              " '125',\n",
              " '126',\n",
              " '127',\n",
              " '127 organization',\n",
              " '128',\n",
              " '128 102',\n",
              " '128 153',\n",
              " '128 32',\n",
              " '1280',\n",
              " '1280 200',\n",
              " '129',\n",
              " '129 89',\n",
              " '13',\n",
              " '13 00',\n",
              " '13 14',\n",
              " '13 1993',\n",
              " '13 35',\n",
              " '13 48',\n",
              " '13 article',\n",
              " '13 distribution',\n",
              " '13 does',\n",
              " '13 hi',\n",
              " '13 looking',\n",
              " '13 nntp',\n",
              " '13 weeks',\n",
              " '13 year',\n",
              " '13 years',\n",
              " '130',\n",
              " '130 11',\n",
              " '130 60',\n",
              " '1300',\n",
              " '131',\n",
              " '1312',\n",
              " '1312 carlton',\n",
              " '131239',\n",
              " '131239 11670',\n",
              " '132',\n",
              " '133',\n",
              " '134',\n",
              " '13495',\n",
              " '13495 seanmac',\n",
              " '135',\n",
              " '1352',\n",
              " '1352 geneva',\n",
              " '135941',\n",
              " '135941 16105',\n",
              " '136',\n",
              " '137',\n",
              " '1379',\n",
              " '1379 geneva',\n",
              " '138',\n",
              " '139',\n",
              " '13h',\n",
              " '13h 320x200',\n",
              " '13th',\n",
              " '14',\n",
              " '14 03',\n",
              " '14 12',\n",
              " '14 15',\n",
              " '14 16',\n",
              " '14 19',\n",
              " '14 1993',\n",
              " '14 apr',\n",
              " '14 article',\n",
              " '14 distribution',\n",
              " '14 gmt',\n",
              " '14 jesus',\n",
              " '14 nntp',\n",
              " '14 probably',\n",
              " '140',\n",
              " '1400',\n",
              " '1400 picture',\n",
              " '141',\n",
              " '141 214',\n",
              " '142',\n",
              " '143',\n",
              " '14313',\n",
              " '14313 athos',\n",
              " '14385',\n",
              " '14385 athos',\n",
              " '14388',\n",
              " '14388 athos',\n",
              " '14391',\n",
              " '14391 athos',\n",
              " '144',\n",
              " '144843',\n",
              " '144843 19549',\n",
              " '145',\n",
              " '145 146',\n",
              " '145 734928689',\n",
              " '146',\n",
              " '146 35',\n",
              " '147',\n",
              " '147 163',\n",
              " '148',\n",
              " '149',\n",
              " '149 19',\n",
              " '15',\n",
              " '15 00',\n",
              " '15 09',\n",
              " '15 16',\n",
              " '15 1993',\n",
              " '15 20',\n",
              " '15 27',\n",
              " '15 amateur',\n",
              " '15 apr',\n",
              " '15 article',\n",
              " '15 bit',\n",
              " '15 distribution',\n",
              " '15 finou',\n",
              " '15 fps',\n",
              " '15 hi',\n",
              " '15 lord',\n",
              " '15 nntp',\n",
              " '15 paul',\n",
              " '15 years',\n",
              " '150',\n",
              " '150 203',\n",
              " '1500',\n",
              " '150550',\n",
              " '150550 15347',\n",
              " '151',\n",
              " '15118',\n",
              " '15118 bnr',\n",
              " '152',\n",
              " '152 22',\n",
              " '152 32',\n",
              " '15213',\n",
              " '153',\n",
              " '15347',\n",
              " '15347 ecsvax',\n",
              " '154',\n",
              " '155',\n",
              " '155123',\n",
              " '155123 447',\n",
              " '155919',\n",
              " '155919 28040',\n",
              " '156',\n",
              " '156 work',\n",
              " '157',\n",
              " '16',\n",
              " '16 10',\n",
              " '16 16',\n",
              " '16 17',\n",
              " '16 18',\n",
              " '16 1993',\n",
              " '16 23',\n",
              " '16 30',\n",
              " '16 32',\n",
              " '16 apr',\n",
              " '16 article',\n",
              " '16 bit',\n",
              " '16 color',\n",
              " '16 distribution',\n",
              " '16 esperidon',\n",
              " '16 million',\n",
              " '16 nntp',\n",
              " '1600',\n",
              " '160x2xx',\n",
              " '160x2xx played',\n",
              " '161',\n",
              " '16105',\n",
              " '16105 lmpsbbs',\n",
              " '163',\n",
              " '16364',\n",
              " '16364 tms390',\n",
              " '164940',\n",
              " '164940 11632',\n",
              " '1653',\n",
              " '1653 fax',\n",
              " '165410',\n",
              " '165410 4206',\n",
              " '167',\n",
              " '16937',\n",
              " '16937 athos',\n",
              " '16th',\n",
              " '17',\n",
              " '17 01',\n",
              " '17 18',\n",
              " '17 1993',\n",
              " '17 40',\n",
              " '17 apr',\n",
              " '17 april',\n",
              " '17 article',\n",
              " '17 computer',\n",
              " '17 directory',\n",
              " '17 distribution',\n",
              " '17 hello',\n",
              " '17 hi',\n",
              " '17 nntp',\n",
              " '171',\n",
              " '172',\n",
              " '172 27',\n",
              " '172965',\n",
              " '172965 locus',\n",
              " '17505',\n",
              " '17505 nw',\n",
              " '178',\n",
              " '179',\n",
              " '179 organization',\n",
              " '17th',\n",
              " '18',\n",
              " '18 16',\n",
              " '18 172',\n",
              " '18 19',\n",
              " '18 1993',\n",
              " '18 24',\n",
              " '18 30',\n",
              " '18 article',\n",
              " '18 distribution',\n",
              " '18 gmt',\n",
              " '18 hi',\n",
              " '18 nntp',\n",
              " '18 years',\n",
              " '1800',\n",
              " '182',\n",
              " '18669',\n",
              " '18669 bach',\n",
              " '187',\n",
              " '18833',\n",
              " '18833 athos',\n",
              " '1888',\n",
              " '1890',\n",
              " '19',\n",
              " '19 05',\n",
              " '19 1993',\n",
              " '19 20',\n",
              " '19 43',\n",
              " '19 apr',\n",
              " '19 article',\n",
              " '19 distribution',\n",
              " '19 feb',\n",
              " '19 gmt',\n",
              " '19 nntp',\n",
              " '192',\n",
              " '192 100',\n",
              " '192 35',\n",
              " '192947',\n",
              " '192947 11230',\n",
              " '193758',\n",
              " '193758 12091',\n",
              " '1939',\n",
              " '194',\n",
              " '1946',\n",
              " '1946 national',\n",
              " '1947',\n",
              " '1949',\n",
              " '1950',\n",
              " '1950 certainly',\n",
              " '19549',\n",
              " '19549 rchland',\n",
              " '1958',\n",
              " '1958 pager',\n",
              " '19580',\n",
              " '19580 ultb',\n",
              " '1960',\n",
              " '1960s',\n",
              " '1960s called',\n",
              " '1963',\n",
              " '19687',\n",
              " '19687 pitt',\n",
              " '1970s',\n",
              " '1971',\n",
              " '1972',\n",
              " '1973',\n",
              " '1974',\n",
              " '1976',\n",
              " '1977',\n",
              " '1979',\n",
              " '1979 covert',\n",
              " '198',\n",
              " '1980',\n",
              " '1981',\n",
              " '1983',\n",
              " '1984',\n",
              " '1985',\n",
              " '1986',\n",
              " '1987',\n",
              " '1987 hmmm',\n",
              " '1988',\n",
              " '1988 check',\n",
              " '1989',\n",
              " '1989 pp',\n",
              " '1990',\n",
              " '1990 page',\n",
              " '1990 subject',\n",
              " '1991',\n",
              " '1992',\n",
              " '1992 1993',\n",
              " '1992 45am',\n",
              " '1992 93',\n",
              " '1993',\n",
              " '1993 00',\n",
              " '1993 01',\n",
              " '1993 04',\n",
              " '1993 10',\n",
              " '1993 10101',\n",
              " '1993 1352',\n",
              " '1993 1379',\n",
              " '1993 14',\n",
              " '1993 14313',\n",
              " '1993 14385',\n",
              " '1993 14388',\n",
              " '1993 14391',\n",
              " '1993 15',\n",
              " '1993 16937',\n",
              " '1993 18',\n",
              " '1993 18833',\n",
              " '1993 19',\n",
              " '1993 21',\n",
              " '1993 2118',\n",
              " '1993 2246',\n",
              " '1993 22771',\n",
              " '1993 23',\n",
              " '1993 28379',\n",
              " '1993 28397',\n",
              " '1993 28412',\n",
              " '1993 29266',\n",
              " '1993 3123',\n",
              " '1993 3815',\n",
              " '1993 5402',\n",
              " '1993 5420',\n",
              " '1993 information',\n",
              " '1993 new',\n",
              " '1993 true',\n",
              " '1993 university',\n",
              " '1993 version',\n",
              " '1993apr03',\n",
              " '1993apr10',\n",
              " '1993apr11',\n",
              " '1993apr12',\n",
              " '1993apr12 165410',\n",
              " '1993apr12 201056',\n",
              " '1993apr13',\n",
              " '1993apr14',\n",
              " '1993apr14 102007',\n",
              " '1993apr14 122647',\n",
              " '1993apr15',\n",
              " '1993apr15 135941',\n",
              " '1993apr15 144843',\n",
              " '1993apr15 150550',\n",
              " '1993apr15 164940',\n",
              " '1993apr15 200344',\n",
              " '1993apr15 212943',\n",
              " '1993apr16',\n",
              " '1993apr16 114158',\n",
              " '1993apr16 155123',\n",
              " '1993apr16 155919',\n",
              " '1993apr16 212441',\n",
              " '1993apr17',\n",
              " '1993apr17 192947',\n",
              " '1993apr18',\n",
              " '1993apr19',\n",
              " '1993apr19 131239',\n",
              " '1993apr19 193758',\n",
              " '1993apr19 205615',\n",
              " '1993apr2',\n",
              " '1993apr20',\n",
              " '1993apr20 212706',\n",
              " '1993apr21',\n",
              " '1993apr21 024103',\n",
              " '1993apr22',\n",
              " '1993apr22 205341',\n",
              " '1993apr23',\n",
              " '1993apr3',\n",
              " '1993apr3 081052',\n",
              " '1993apr3 095220',\n",
              " '1993apr5',\n",
              " '1993apr5 023044',\n",
              " '1993apr5 084042',\n",
              " '1993apr6',\n",
              " '1993apr6 041343',\n",
              " '1993apr7',\n",
              " '1993apr9',\n",
              " '1993mar25',\n",
              " '1993mar26',\n",
              " '1993mar27',\n",
              " '1993mar29',\n",
              " '1993mar30',\n",
              " '1994',\n",
              " '19th',\n",
              " '1d9',\n",
              " '1d9 xxdate',\n",
              " '1l4',\n",
              " '1l4 fido',\n",
              " '1m',\n",
              " '1mb',\n",
              " '1pscti',\n",
              " '1pscti aqe',\n",
              " '1qi3l5',\n",
              " '1qi3l5 jkj',\n",
              " '1qkgbuinns9n',\n",
              " '1qkgbuinns9n shelley',\n",
              " '1qkq9t',\n",
              " '1qkq9t 66n',\n",
              " '1qnns0',\n",
              " '1qnns0 4l3',\n",
              " '1quvdoinn3e7',\n",
              " '1quvdoinn3e7 srvr1',\n",
              " '1r6g8finne88',\n",
              " '1r6g8finne88 ceti',\n",
              " '1st',\n",
              " '1st cent',\n",
              " '1st century',\n",
              " '1st day',\n",
              " '1st european',\n",
              " '1x1',\n",
              " '20',\n",
              " '20 000',\n",
              " '20 03',\n",
              " '20 1993',\n",
              " '20 21',\n",
              " '20 30',\n",
              " '20 56',\n",
              " '20 article',\n",
              " '20 centuries',\n",
              " '20 distribution',\n",
              " '20 magic',\n",
              " '20 minutes',\n",
              " '20 nntp',\n",
              " '20 posts',\n",
              " '20 years',\n",
              " '200',\n",
              " '200 200',\n",
              " '200 256',\n",
              " '200 600',\n",
              " '200 shed',\n",
              " '2000',\n",
              " '2000 patients',\n",
              " '2000 years',\n",
              " '200344',\n",
              " '200344 28013',\n",
              " '2006',\n",
              " '2006 compuserve',\n",
              " '20084',\n",
              " '20084 5000',\n",
              " '201',\n",
              " '201056',\n",
              " '201056 20753',\n",
              " '202',\n",
              " '203',\n",
              " '203 523296',\n",
              " '203 525714',\n",
              " '203 favour',\n",
              " '2039',\n",
              " '2039 university',\n",
              " '205',\n",
              " '205 934',\n",
              " '205341',\n",
              " '205341 172965',\n",
              " '205615',\n",
              " '205615 1013',\n",
              " '206',\n",
              " '20664',\n",
              " '20664 uk03',\n",
              " '20742',\n",
              " '20742 lines',\n",
              " '20753',\n",
              " '20753 ns1',\n",
              " '20mhz',\n",
              " '20mhz 040',\n",
              " '20th',\n",
              " '20th century',\n",
              " '21',\n",
              " '21 03',\n",
              " '21 1993',\n",
              " '21 22',\n",
              " '21 27',\n",
              " '21 33',\n",
              " '21 apr',\n",
              " '21 article',\n",
              " '21 distribution',\n",
              " '21 hi',\n",
              " '21 lines',\n",
              " '21 nntp',\n",
              " '210',\n",
              " '210 dgf1',\n",
              " '21000',\n",
              " '21000 brookpark',\n",
              " '2118',\n",
              " '2118 geneva',\n",
              " '212',\n",
              " '212 274',\n",
              " '212441',\n",
              " '212441 34125',\n",
              " '212706',\n",
              " '212706 820',\n",
              " '212943',\n",
              " '212943 15118',\n",
              " '213',\n",
              " '214',\n",
              " '214 86',\n",
              " '215',\n",
              " '216',\n",
              " '216 433',\n",
              " '217',\n",
              " '217 355',\n",
              " '218',\n",
              " '219',\n",
              " '21apr199308571323',\n",
              " '21apr199308571323 ucsvax',\n",
              " '22',\n",
              " '22 00',\n",
              " '22 1993',\n",
              " '22 23',\n",
              " '22 article',\n",
              " '22 distribution',\n",
              " '22 nntp',\n",
              " '221',\n",
              " '22102',\n",
              " '22102 fax',\n",
              " '2213',\n",
              " '2213 115a',\n",
              " '224',\n",
              " '2241',\n",
              " '2241 hampton',\n",
              " '2246',\n",
              " '2246 geneva',\n",
              " '2246 whiting',\n",
              " '225',\n",
              " '226',\n",
              " '2268',\n",
              " '227',\n",
              " '22771',\n",
              " '22771 athos',\n",
              " '2284',\n",
              " '229',\n",
              " '23',\n",
              " '23 02',\n",
              " '23 15',\n",
              " '23 17',\n",
              " '23 23',\n",
              " '23 24',\n",
              " '23 25',\n",
              " '23 26',\n",
              " '23 31',\n",
              " '23 apr',\n",
              " '23 article',\n",
              " '23 gmt',\n",
              " '23 nntp',\n",
              " '231',\n",
              " '232',\n",
              " '2362',\n",
              " '23681',\n",
              " '23681 home',\n",
              " '24',\n",
              " '24 01',\n",
              " '24 10',\n",
              " '24 13',\n",
              " '24 26',\n",
              " '24 article',\n",
              " '24 bit',\n",
              " '24 bits',\n",
              " '24 distribution',\n",
              " '24 good',\n",
              " '24 hi',\n",
              " '24 hour',\n",
              " '24 hours',\n",
              " '24 hrs',\n",
              " '24 nntp',\n",
              " '24 organization',\n",
              " '24 rtsg',\n",
              " '24 video',\n",
              " '240',\n",
              " '2400',\n",
              " '2400x4',\n",
              " '2400x4 vancouver',\n",
              " '241',\n",
              " '241 9760',\n",
              " '244',\n",
              " '244 wood',\n",
              " '245',\n",
              " '245 2965',\n",
              " '245 3205',\n",
              " '245 4366',\n",
              " '246',\n",
              " '246 17',\n",
              " '24632',\n",
              " '24632 leland',\n",
              " '248',\n",
              " '249',\n",
              " '249 9630',\n",
              " '24997',\n",
              " '24bit',\n",
              " '24th',\n",
              " '24x',\n",
              " '25',\n",
              " '25 1993',\n",
              " '25 article',\n",
              " '25 distribution',\n",
              " '25 hi',\n",
              " '25 mhz',\n",
              " '250',\n",
              " '252',\n",
              " '252 179',\n",
              " '253',\n",
              " '254',\n",
              " '255',\n",
              " '256',\n",
              " '256 000',\n",
              " '256 color',\n",
              " '256 colors',\n",
              " '256 grey',\n",
              " '256 levels',\n",
              " '2575',\n",
              " '2575 lewis',\n",
              " '25mhz',\n",
              " '25x',\n",
              " '25x 3xx',\n",
              " '26',\n",
              " '26 18',\n",
              " '26 1993',\n",
              " '26 51',\n",
              " '26 article',\n",
              " '26 distribution',\n",
              " '26 gmt',\n",
              " '26 nntp',\n",
              " '26 west',\n",
              " '263',\n",
              " '27',\n",
              " '27 1993',\n",
              " '27 article',\n",
              " '27 directory',\n",
              " '27 hi',\n",
              " '27 nntp',\n",
              " '270',\n",
              " '272',\n",
              " '273',\n",
              " '274',\n",
              " '274 8298v',\n",
              " '275',\n",
              " '27513',\n",
              " '27513 919',\n",
              " '277',\n",
              " '27903',\n",
              " '27903 just',\n",
              " '28',\n",
              " '28 1993',\n",
              " '28 article',\n",
              " '28 distribution',\n",
              " '28 matter',\n",
              " '28 nntp',\n",
              " '28 rsv',\n",
              " '280',\n",
              " '2800',\n",
              " '28013',\n",
              " '28013 cs',\n",
              " '28040',\n",
              " '28040 cs',\n",
              " '28376',\n",
              " '28379',\n",
              " '28379 athos',\n",
              " '28388',\n",
              " '28388 athos',\n",
              " '28397',\n",
              " '28397 athos',\n",
              " '284',\n",
              " '28412',\n",
              " '28412 athos',\n",
              " '286',\n",
              " '29',\n",
              " '29 1993',\n",
              " '29 apr',\n",
              " '29 article',\n",
              " '29 nntp',\n",
              " '29266',\n",
              " '29266 athos',\n",
              " '29279',\n",
              " '29279 athos',\n",
              " '294',\n",
              " '294 8153',\n",
              " '2965',\n",
              " '2965 llo',\n",
              " '29880',\n",
              " '29880 spdcc',\n",
              " '2a',\n",
              " '2a best',\n",
              " '2d',\n",
              " '2d 3d',\n",
              " '2d graphics',\n",
              " '2mb',\n",
              " '2nd',\n",
              " '2nd edition',\n",
              " '30',\n",
              " '30 03',\n",
              " '30 16',\n",
              " '30 50',\n",
              " '30 77',\n",
              " '30 article',\n",
              " '30 days',\n",
              " '30 minutes',\n",
              " '30 nntp',\n",
              " '30 years',\n",
              " '300',\n",
              " '3000',\n",
              " '301',\n",
              " '301 227',\n",
              " '301 496',\n",
              " '303',\n",
              " '3049',\n",
              " '3049 uupcb',\n",
              " '305',\n",
              " '30602',\n",
              " '30602 7415',\n",
              " '30fps',\n",
              " '30fps 30fps',\n",
              " '30fps anymore',\n",
              " '30fps nicely',\n",
              " '30pm',\n",
              " '31',\n",
              " '31 1993',\n",
              " '31 32',\n",
              " '31 46',\n",
              " '31 article',\n",
              " '31 nntp',\n",
              " '31 organization',\n",
              " '310',\n",
              " '310 billion',\n",
              " '312',\n",
              " '312 06320',\n",
              " '312 702',\n",
              " '3123',\n",
              " '3123 geneva',\n",
              " '313',\n",
              " '3168',\n",
              " '32',\n",
              " '32 149',\n",
              " '32 15',\n",
              " '32 29',\n",
              " '32 36',\n",
              " '32 article',\n",
              " '32 bit',\n",
              " '32 uucp',\n",
              " '320',\n",
              " '320 1280',\n",
              " '320 200',\n",
              " '320 think',\n",
              " '3205',\n",
              " '3205 v32',\n",
              " '320x200',\n",
              " '320x200 game',\n",
              " '320x200 nice',\n",
              " '320x200x256',\n",
              " '320x200x256 mode',\n",
              " '320x240',\n",
              " '3245',\n",
              " '325',\n",
              " '32768',\n",
              " '328',\n",
              " '32bis',\n",
              " '32bis reply',\n",
              " '33',\n",
              " '33 1993',\n",
              " '33 article',\n",
              " '33 distribution',\n",
              " '33 nntp',\n",
              " '330',\n",
              " '331',\n",
              " '334',\n",
              " '34',\n",
              " '34 1993',\n",
              " ...]"
            ]
          },
          "metadata": {
            "tags": []
          },
          "execution_count": 178
        }
      ]
    },
    {
      "cell_type": "markdown",
      "metadata": {
        "id": "tp_fDINJ1t4L",
        "colab_type": "text"
      },
      "source": [
        "### 10. Use logisticRegression with tfidf features as input and targets as output and train the model and report the train and test accuracy score"
      ]
    },
    {
      "cell_type": "code",
      "metadata": {
        "id": "THlN2b5d1yQp",
        "colab_type": "code",
        "colab": {
          "base_uri": "https://localhost:8080/",
          "height": 34
        },
        "outputId": "47e6c5b8-3edf-48ef-8c3d-b07470d97c7c"
      },
      "source": [
        "# use logistic regression with all features - Training accuracy\n",
        "logreg = LogisticRegression(C=1e9)\n",
        "logreg.fit(dtm, twenty_train.target)\n",
        "y_pred_class = logreg.predict(dtm)\n",
        "print(\"Training Accuracy : \",metrics.accuracy_score(twenty_train.target, y_pred_class))"
      ],
      "execution_count": 184,
      "outputs": [
        {
          "output_type": "stream",
          "text": [
            "Training Accuracy :  1.0\n"
          ],
          "name": "stdout"
        }
      ]
    },
    {
      "cell_type": "code",
      "metadata": {
        "id": "FRKEDe6Zp0Mk",
        "colab_type": "code",
        "colab": {
          "base_uri": "https://localhost:8080/",
          "height": 34
        },
        "outputId": "43966171-5bef-4115-fd19-7691a13304e1"
      },
      "source": [
        "#Testing Accuracy\n",
        "y_pred_class_test = logreg.predict(dtm1)\n",
        "y_pred_class_test"
      ],
      "execution_count": 185,
      "outputs": [
        {
          "output_type": "execute_result",
          "data": {
            "text/plain": [
              "array([2, 2, 2, ..., 2, 2, 1])"
            ]
          },
          "metadata": {
            "tags": []
          },
          "execution_count": 185
        }
      ]
    },
    {
      "cell_type": "code",
      "metadata": {
        "id": "gvz__YKSqWos",
        "colab_type": "code",
        "colab": {
          "base_uri": "https://localhost:8080/",
          "height": 34
        },
        "outputId": "e958ae1e-f212-4414-f7fe-e6eb043021b7"
      },
      "source": [
        "print(\"Testing Accuracy : \",metrics.accuracy_score(twenty_test.target, y_pred_class_test))"
      ],
      "execution_count": 186,
      "outputs": [
        {
          "output_type": "stream",
          "text": [
            "Testing Accuracy :  0.9247669773635153\n"
          ],
          "name": "stdout"
        }
      ]
    },
    {
      "cell_type": "code",
      "metadata": {
        "id": "jdnUw0AKFM4X",
        "colab_type": "code",
        "colab": {}
      },
      "source": [
        ""
      ],
      "execution_count": 0,
      "outputs": []
    }
  ]
}