{
  "nbformat": 4,
  "nbformat_minor": 0,
  "metadata": {
    "colab": {
      "name": "INNDL_R6_Project1.ipynb",
      "provenance": [],
      "collapsed_sections": []
    },
    "kernelspec": {
      "name": "python3",
      "display_name": "Python 3"
    }
  },
  "cells": [
    {
      "cell_type": "markdown",
      "metadata": {
        "id": "z_zZPV2rFgEB",
        "colab_type": "text"
      },
      "source": [
        "# Neural Network & Deep learning | Project 1"
      ]
    },
    {
      "cell_type": "code",
      "metadata": {
        "id": "Q8TYQzxLFiel",
        "colab_type": "code",
        "colab": {}
      },
      "source": [
        "#Import Libraries\n",
        "\n",
        "import numpy as np\n",
        "import pandas as pd\n",
        "from sklearn.model_selection import train_test_split\n",
        "from sklearn.preprocessing import StandardScaler, LabelEncoder, OneHotEncoder\n",
        "from sklearn.compose import ColumnTransformer\n"
      ],
      "execution_count": 0,
      "outputs": []
    },
    {
      "cell_type": "code",
      "metadata": {
        "id": "yZQ3NcZmipRx",
        "colab_type": "code",
        "outputId": "4a647b51-50aa-4e59-d189-3d4f2c500f3a",
        "colab": {
          "base_uri": "https://localhost:8080/",
          "height": 34
        }
      },
      "source": [
        " %tensorflow_version 2.x"
      ],
      "execution_count": 2,
      "outputs": [
        {
          "output_type": "stream",
          "text": [
            "TensorFlow 2.x selected.\n"
          ],
          "name": "stdout"
        }
      ]
    },
    {
      "cell_type": "code",
      "metadata": {
        "id": "WIfwOQTui6s1",
        "colab_type": "code",
        "outputId": "82d5d938-385f-47b7-df8d-5901d9ae94b8",
        "colab": {
          "base_uri": "https://localhost:8080/",
          "height": 34
        }
      },
      "source": [
        "import tensorflow as tf\n",
        "print(tf.__version__)"
      ],
      "execution_count": 3,
      "outputs": [
        {
          "output_type": "stream",
          "text": [
            "2.1.0-rc1\n"
          ],
          "name": "stdout"
        }
      ]
    },
    {
      "cell_type": "code",
      "metadata": {
        "id": "8hq9TSxki-Xt",
        "colab_type": "code",
        "colab": {}
      },
      "source": [
        "tf.random.set_seed(42)"
      ],
      "execution_count": 0,
      "outputs": []
    },
    {
      "cell_type": "markdown",
      "metadata": {
        "id": "YUGymr5CFuXt",
        "colab_type": "text"
      },
      "source": [
        "## Read the dataset in a new python notebook."
      ]
    },
    {
      "cell_type": "code",
      "metadata": {
        "id": "dIPCsbeFFwtn",
        "colab_type": "code",
        "outputId": "700de1f9-7825-4d12-b888-980bf4e20534",
        "colab": {
          "base_uri": "https://localhost:8080/",
          "height": 122
        }
      },
      "source": [
        "from google.colab import drive\n",
        "drive.mount('/content/drive')"
      ],
      "execution_count": 5,
      "outputs": [
        {
          "output_type": "stream",
          "text": [
            "Go to this URL in a browser: https://accounts.google.com/o/oauth2/auth?client_id=947318989803-6bn6qk8qdgf4n4g3pfee6491hc0brc4i.apps.googleusercontent.com&redirect_uri=urn%3aietf%3awg%3aoauth%3a2.0%3aoob&response_type=code&scope=email%20https%3a%2f%2fwww.googleapis.com%2fauth%2fdocs.test%20https%3a%2f%2fwww.googleapis.com%2fauth%2fdrive%20https%3a%2f%2fwww.googleapis.com%2fauth%2fdrive.photos.readonly%20https%3a%2f%2fwww.googleapis.com%2fauth%2fpeopleapi.readonly\n",
            "\n",
            "Enter your authorization code:\n",
            "··········\n",
            "Mounted at /content/drive\n"
          ],
          "name": "stdout"
        }
      ]
    },
    {
      "cell_type": "code",
      "metadata": {
        "id": "-gou2myJqjoV",
        "colab_type": "code",
        "colab": {}
      },
      "source": [
        "#Reading the file \n",
        "data = pd.read_csv('/content/drive/My Drive/bank.csv')"
      ],
      "execution_count": 0,
      "outputs": []
    },
    {
      "cell_type": "code",
      "metadata": {
        "id": "_W6Mi5TtqurE",
        "colab_type": "code",
        "outputId": "1242e306-3ae8-46da-dac5-eeab60085b4d",
        "colab": {
          "base_uri": "https://localhost:8080/",
          "height": 34
        }
      },
      "source": [
        "data.shape"
      ],
      "execution_count": 7,
      "outputs": [
        {
          "output_type": "execute_result",
          "data": {
            "text/plain": [
              "(10000, 14)"
            ]
          },
          "metadata": {
            "tags": []
          },
          "execution_count": 7
        }
      ]
    },
    {
      "cell_type": "code",
      "metadata": {
        "id": "b4vKp3MJ6FcE",
        "colab_type": "code",
        "colab": {}
      },
      "source": [
        "#The data has 10000 record points and 14 columns."
      ],
      "execution_count": 0,
      "outputs": []
    },
    {
      "cell_type": "code",
      "metadata": {
        "id": "DP-3POQ7qyIt",
        "colab_type": "code",
        "outputId": "ef787b1f-07f6-4108-9f7f-0c0801c7a493",
        "colab": {
          "base_uri": "https://localhost:8080/",
          "height": 204
        }
      },
      "source": [
        "data.head()"
      ],
      "execution_count": 9,
      "outputs": [
        {
          "output_type": "execute_result",
          "data": {
            "text/html": [
              "<div>\n",
              "<style scoped>\n",
              "    .dataframe tbody tr th:only-of-type {\n",
              "        vertical-align: middle;\n",
              "    }\n",
              "\n",
              "    .dataframe tbody tr th {\n",
              "        vertical-align: top;\n",
              "    }\n",
              "\n",
              "    .dataframe thead th {\n",
              "        text-align: right;\n",
              "    }\n",
              "</style>\n",
              "<table border=\"1\" class=\"dataframe\">\n",
              "  <thead>\n",
              "    <tr style=\"text-align: right;\">\n",
              "      <th></th>\n",
              "      <th>RowNumber</th>\n",
              "      <th>CustomerId</th>\n",
              "      <th>Surname</th>\n",
              "      <th>CreditScore</th>\n",
              "      <th>Geography</th>\n",
              "      <th>Gender</th>\n",
              "      <th>Age</th>\n",
              "      <th>Tenure</th>\n",
              "      <th>Balance</th>\n",
              "      <th>NumOfProducts</th>\n",
              "      <th>HasCrCard</th>\n",
              "      <th>IsActiveMember</th>\n",
              "      <th>EstimatedSalary</th>\n",
              "      <th>Exited</th>\n",
              "    </tr>\n",
              "  </thead>\n",
              "  <tbody>\n",
              "    <tr>\n",
              "      <th>0</th>\n",
              "      <td>1</td>\n",
              "      <td>15634602</td>\n",
              "      <td>Hargrave</td>\n",
              "      <td>619</td>\n",
              "      <td>France</td>\n",
              "      <td>Female</td>\n",
              "      <td>42</td>\n",
              "      <td>2</td>\n",
              "      <td>0.00</td>\n",
              "      <td>1</td>\n",
              "      <td>1</td>\n",
              "      <td>1</td>\n",
              "      <td>101348.88</td>\n",
              "      <td>1</td>\n",
              "    </tr>\n",
              "    <tr>\n",
              "      <th>1</th>\n",
              "      <td>2</td>\n",
              "      <td>15647311</td>\n",
              "      <td>Hill</td>\n",
              "      <td>608</td>\n",
              "      <td>Spain</td>\n",
              "      <td>Female</td>\n",
              "      <td>41</td>\n",
              "      <td>1</td>\n",
              "      <td>83807.86</td>\n",
              "      <td>1</td>\n",
              "      <td>0</td>\n",
              "      <td>1</td>\n",
              "      <td>112542.58</td>\n",
              "      <td>0</td>\n",
              "    </tr>\n",
              "    <tr>\n",
              "      <th>2</th>\n",
              "      <td>3</td>\n",
              "      <td>15619304</td>\n",
              "      <td>Onio</td>\n",
              "      <td>502</td>\n",
              "      <td>France</td>\n",
              "      <td>Female</td>\n",
              "      <td>42</td>\n",
              "      <td>8</td>\n",
              "      <td>159660.80</td>\n",
              "      <td>3</td>\n",
              "      <td>1</td>\n",
              "      <td>0</td>\n",
              "      <td>113931.57</td>\n",
              "      <td>1</td>\n",
              "    </tr>\n",
              "    <tr>\n",
              "      <th>3</th>\n",
              "      <td>4</td>\n",
              "      <td>15701354</td>\n",
              "      <td>Boni</td>\n",
              "      <td>699</td>\n",
              "      <td>France</td>\n",
              "      <td>Female</td>\n",
              "      <td>39</td>\n",
              "      <td>1</td>\n",
              "      <td>0.00</td>\n",
              "      <td>2</td>\n",
              "      <td>0</td>\n",
              "      <td>0</td>\n",
              "      <td>93826.63</td>\n",
              "      <td>0</td>\n",
              "    </tr>\n",
              "    <tr>\n",
              "      <th>4</th>\n",
              "      <td>5</td>\n",
              "      <td>15737888</td>\n",
              "      <td>Mitchell</td>\n",
              "      <td>850</td>\n",
              "      <td>Spain</td>\n",
              "      <td>Female</td>\n",
              "      <td>43</td>\n",
              "      <td>2</td>\n",
              "      <td>125510.82</td>\n",
              "      <td>1</td>\n",
              "      <td>1</td>\n",
              "      <td>1</td>\n",
              "      <td>79084.10</td>\n",
              "      <td>0</td>\n",
              "    </tr>\n",
              "  </tbody>\n",
              "</table>\n",
              "</div>"
            ],
            "text/plain": [
              "   RowNumber  CustomerId   Surname  ...  IsActiveMember EstimatedSalary Exited\n",
              "0          1    15634602  Hargrave  ...               1       101348.88      1\n",
              "1          2    15647311      Hill  ...               1       112542.58      0\n",
              "2          3    15619304      Onio  ...               0       113931.57      1\n",
              "3          4    15701354      Boni  ...               0        93826.63      0\n",
              "4          5    15737888  Mitchell  ...               1        79084.10      0\n",
              "\n",
              "[5 rows x 14 columns]"
            ]
          },
          "metadata": {
            "tags": []
          },
          "execution_count": 9
        }
      ]
    },
    {
      "cell_type": "markdown",
      "metadata": {
        "id": "Oe4DHgaiFyPl",
        "colab_type": "text"
      },
      "source": [
        "## Drop the columns which are unique for all users like IDs"
      ]
    },
    {
      "cell_type": "code",
      "metadata": {
        "id": "5qGyGwfXF259",
        "colab_type": "code",
        "outputId": "d75964a5-1f89-4580-dbcf-24d47e2ffd7d",
        "colab": {
          "base_uri": "https://localhost:8080/",
          "height": 34
        }
      },
      "source": [
        "data[\"CustomerId\"].nunique()"
      ],
      "execution_count": 8,
      "outputs": [
        {
          "output_type": "execute_result",
          "data": {
            "text/plain": [
              "10000"
            ]
          },
          "metadata": {
            "tags": []
          },
          "execution_count": 8
        }
      ]
    },
    {
      "cell_type": "code",
      "metadata": {
        "id": "oW5DVvuLgsE0",
        "colab_type": "code",
        "colab": {
          "base_uri": "https://localhost:8080/",
          "height": 34
        },
        "outputId": "5c64361f-2e96-42c0-9c8d-87589372f952"
      },
      "source": [
        "data[\"RowNumber\"].nunique()"
      ],
      "execution_count": 9,
      "outputs": [
        {
          "output_type": "execute_result",
          "data": {
            "text/plain": [
              "10000"
            ]
          },
          "metadata": {
            "tags": []
          },
          "execution_count": 9
        }
      ]
    },
    {
      "cell_type": "code",
      "metadata": {
        "id": "_qPOqMCUr8q3",
        "colab_type": "code",
        "colab": {}
      },
      "source": [
        "#Columns RowNumber and CustomerId are unique to all customers -  dropping those columns. Also, we do  not require Surname column as it\n",
        "#wont have any relation with the customer leaving the bank, hence we drop that column too.\n",
        "data = data.drop([\"RowNumber\",\"CustomerId\", \"Surname\"], axis=1)"
      ],
      "execution_count": 0,
      "outputs": []
    },
    {
      "cell_type": "code",
      "metadata": {
        "id": "RAKUBv1cspxI",
        "colab_type": "code",
        "outputId": "2218f839-cd20-489e-80ea-20a4ef883b01",
        "colab": {
          "base_uri": "https://localhost:8080/",
          "height": 34
        }
      },
      "source": [
        "data.shape"
      ],
      "execution_count": 27,
      "outputs": [
        {
          "output_type": "execute_result",
          "data": {
            "text/plain": [
              "(10000, 11)"
            ]
          },
          "metadata": {
            "tags": []
          },
          "execution_count": 27
        }
      ]
    },
    {
      "cell_type": "code",
      "metadata": {
        "id": "_X0_4VyfSfsD",
        "colab_type": "code",
        "outputId": "fcadf285-331c-4f22-ba70-f847d59be624",
        "colab": {
          "base_uri": "https://localhost:8080/",
          "height": 221
        }
      },
      "source": [
        "data.dtypes"
      ],
      "execution_count": 28,
      "outputs": [
        {
          "output_type": "execute_result",
          "data": {
            "text/plain": [
              "CreditScore          int64\n",
              "Geography           object\n",
              "Gender              object\n",
              "Age                  int64\n",
              "Tenure               int64\n",
              "Balance            float64\n",
              "NumOfProducts        int64\n",
              "HasCrCard            int64\n",
              "IsActiveMember       int64\n",
              "EstimatedSalary    float64\n",
              "Exited               int64\n",
              "dtype: object"
            ]
          },
          "metadata": {
            "tags": []
          },
          "execution_count": 28
        }
      ]
    },
    {
      "cell_type": "code",
      "metadata": {
        "id": "BLpHSAqVszB-",
        "colab_type": "code",
        "colab": {
          "base_uri": "https://localhost:8080/",
          "height": 34
        },
        "outputId": "a6bd0f74-5133-40a1-8540-70f42b65cc95"
      },
      "source": [
        "#Check unique values for categorical columns \n",
        "data[\"Geography\"].unique()"
      ],
      "execution_count": 34,
      "outputs": [
        {
          "output_type": "execute_result",
          "data": {
            "text/plain": [
              "array(['France', 'Spain', 'Germany'], dtype=object)"
            ]
          },
          "metadata": {
            "tags": []
          },
          "execution_count": 34
        }
      ]
    },
    {
      "cell_type": "code",
      "metadata": {
        "id": "nlUVlsFXs8i9",
        "colab_type": "code",
        "colab": {
          "base_uri": "https://localhost:8080/",
          "height": 34
        },
        "outputId": "b80ef86b-56ea-4c9f-fd22-aef65249636e"
      },
      "source": [
        "data[\"Gender\"].unique()"
      ],
      "execution_count": 35,
      "outputs": [
        {
          "output_type": "execute_result",
          "data": {
            "text/plain": [
              "array(['Female', 'Male'], dtype=object)"
            ]
          },
          "metadata": {
            "tags": []
          },
          "execution_count": 35
        }
      ]
    },
    {
      "cell_type": "markdown",
      "metadata": {
        "id": "86V0JGB4F9VY",
        "colab_type": "text"
      },
      "source": [
        "## Distinguish the feature and target set"
      ]
    },
    {
      "cell_type": "code",
      "metadata": {
        "id": "aIoyKkX7GAuX",
        "colab_type": "code",
        "colab": {}
      },
      "source": [
        "#Target column is last column - \"Exited\" and the rest are feature set\n",
        "X = data.iloc[:, 0:10].values\n",
        "y = data.iloc[:, 10].values"
      ],
      "execution_count": 0,
      "outputs": []
    },
    {
      "cell_type": "code",
      "metadata": {
        "id": "VjnswNwZqLdJ",
        "colab_type": "code",
        "colab": {
          "base_uri": "https://localhost:8080/",
          "height": 136
        },
        "outputId": "13a7c3fd-5601-4efb-b169-5f1645baca06"
      },
      "source": [
        "X"
      ],
      "execution_count": 30,
      "outputs": [
        {
          "output_type": "execute_result",
          "data": {
            "text/plain": [
              "array([[619, 'France', 'Female', ..., 1, 1, 101348.88],\n",
              "       [608, 'Spain', 'Female', ..., 0, 1, 112542.58],\n",
              "       [502, 'France', 'Female', ..., 1, 0, 113931.57],\n",
              "       ...,\n",
              "       [709, 'France', 'Female', ..., 0, 1, 42085.58],\n",
              "       [772, 'Germany', 'Male', ..., 1, 0, 92888.52],\n",
              "       [792, 'France', 'Female', ..., 1, 0, 38190.78]], dtype=object)"
            ]
          },
          "metadata": {
            "tags": []
          },
          "execution_count": 30
        }
      ]
    },
    {
      "cell_type": "code",
      "metadata": {
        "id": "CzkwQFsVsaZB",
        "colab_type": "code",
        "colab": {
          "base_uri": "https://localhost:8080/",
          "height": 34
        },
        "outputId": "4aad7260-f6fd-4581-d318-18b33e1c66e8"
      },
      "source": [
        "y"
      ],
      "execution_count": 31,
      "outputs": [
        {
          "output_type": "execute_result",
          "data": {
            "text/plain": [
              "array([1, 0, 1, ..., 1, 1, 0])"
            ]
          },
          "metadata": {
            "tags": []
          },
          "execution_count": 31
        }
      ]
    },
    {
      "cell_type": "code",
      "metadata": {
        "id": "VunZAl-Gp5Ef",
        "colab_type": "code",
        "colab": {}
      },
      "source": [
        "le = LabelEncoder()#creating label encoder object no. 1 to encode Geography name(index 1 in features)\n",
        "X[:, 1] = le.fit_transform(X[:, 1])#encoding Geography from string to just 3 no.s 0,1,2 respectively\n"
      ],
      "execution_count": 0,
      "outputs": []
    },
    {
      "cell_type": "code",
      "metadata": {
        "id": "G1yu8kuwsrJy",
        "colab_type": "code",
        "colab": {
          "base_uri": "https://localhost:8080/",
          "height": 136
        },
        "outputId": "aa284982-5095-4cb3-8017-159b1f3491e6"
      },
      "source": [
        "X"
      ],
      "execution_count": 33,
      "outputs": [
        {
          "output_type": "execute_result",
          "data": {
            "text/plain": [
              "array([[619, 0, 'Female', ..., 1, 1, 101348.88],\n",
              "       [608, 2, 'Female', ..., 0, 1, 112542.58],\n",
              "       [502, 0, 'Female', ..., 1, 0, 113931.57],\n",
              "       ...,\n",
              "       [709, 0, 'Female', ..., 0, 1, 42085.58],\n",
              "       [772, 1, 'Male', ..., 1, 0, 92888.52],\n",
              "       [792, 0, 'Female', ..., 1, 0, 38190.78]], dtype=object)"
            ]
          },
          "metadata": {
            "tags": []
          },
          "execution_count": 33
        }
      ]
    },
    {
      "cell_type": "code",
      "metadata": {
        "id": "JLiKRxA_tENq",
        "colab_type": "code",
        "colab": {}
      },
      "source": [
        "#Similarly, we label Encode the gender column\n",
        "X[:, 2] = le.fit_transform(X[:, 2])#encoding Gender from string to just 2 no.s 0,1(male,female) respectively\n"
      ],
      "execution_count": 0,
      "outputs": []
    },
    {
      "cell_type": "code",
      "metadata": {
        "id": "spYxE-RxtY8K",
        "colab_type": "code",
        "colab": {
          "base_uri": "https://localhost:8080/",
          "height": 34
        },
        "outputId": "ea6a4044-ce11-406f-d70e-c79c0ea9e720"
      },
      "source": [
        "X[1]"
      ],
      "execution_count": 114,
      "outputs": [
        {
          "output_type": "execute_result",
          "data": {
            "text/plain": [
              "array([608, 2, 0, 41, 1, 83807.86, 1, 0, 1, 112542.58], dtype=object)"
            ]
          },
          "metadata": {
            "tags": []
          },
          "execution_count": 114
        }
      ]
    },
    {
      "cell_type": "code",
      "metadata": {
        "id": "0nGmoGR7Snca",
        "colab_type": "code",
        "colab": {}
      },
      "source": [
        "#Creating dummy variables\n",
        "\n",
        "ct = ColumnTransformer([(\"Geography\", OneHotEncoder(), [1])],    remainder = 'passthrough')\n",
        "X = ct.fit_transform(X)\n"
      ],
      "execution_count": 0,
      "outputs": []
    },
    {
      "cell_type": "code",
      "metadata": {
        "id": "I1fV3JkrS3i5",
        "colab_type": "code",
        "outputId": "84c7d850-334d-4e88-803b-a140883fd809",
        "colab": {
          "base_uri": "https://localhost:8080/",
          "height": 51
        }
      },
      "source": [
        "X[1]"
      ],
      "execution_count": 120,
      "outputs": [
        {
          "output_type": "execute_result",
          "data": {
            "text/plain": [
              "array([0.0, 0.0, 1.0, 608, 0, 41, 1, 83807.86, 1, 0, 1, 112542.58],\n",
              "      dtype=object)"
            ]
          },
          "metadata": {
            "tags": []
          },
          "execution_count": 120
        }
      ]
    },
    {
      "cell_type": "code",
      "metadata": {
        "id": "qXn7xbUut9oA",
        "colab_type": "code",
        "colab": {
          "base_uri": "https://localhost:8080/",
          "height": 34
        },
        "outputId": "8527c66f-06fd-40ca-a20f-b26842bc1eae"
      },
      "source": [
        "X.shape"
      ],
      "execution_count": 162,
      "outputs": [
        {
          "output_type": "execute_result",
          "data": {
            "text/plain": [
              "(10000, 12)"
            ]
          },
          "metadata": {
            "tags": []
          },
          "execution_count": 162
        }
      ]
    },
    {
      "cell_type": "markdown",
      "metadata": {
        "id": "hQy4brMWGB6o",
        "colab_type": "text"
      },
      "source": [
        "## Divide the data set into Train and test sets"
      ]
    },
    {
      "cell_type": "code",
      "metadata": {
        "id": "SqJ9uO-JGEeH",
        "colab_type": "code",
        "colab": {}
      },
      "source": [
        "#Splitting the feature and target set using train_test_split and standard ratio of 70:30\n",
        "X_train, X_test, y_train, y_test = train_test_split(X,y,test_size=0.30, random_state=0)"
      ],
      "execution_count": 0,
      "outputs": []
    },
    {
      "cell_type": "markdown",
      "metadata": {
        "id": "bXJtB0QGGFTy",
        "colab_type": "text"
      },
      "source": [
        "## Normalize the train and test data"
      ]
    },
    {
      "cell_type": "code",
      "metadata": {
        "id": "xT6XuIHqGIbv",
        "colab_type": "code",
        "colab": {}
      },
      "source": [
        "#Using Standard scaler to normalize the data\n",
        "sc= StandardScaler()\n",
        "X_train_scaled = sc.fit_transform(X_train)\n",
        "X_test_scaled = sc.transform(X_test)"
      ],
      "execution_count": 0,
      "outputs": []
    },
    {
      "cell_type": "markdown",
      "metadata": {
        "id": "vmSSuSNoGJTW",
        "colab_type": "text"
      },
      "source": [
        "## Initialize &amp; build the model"
      ]
    },
    {
      "cell_type": "code",
      "metadata": {
        "id": "TmjndJouGMsf",
        "colab_type": "code",
        "colab": {}
      },
      "source": [
        "#Importing the Libraries for building ANN model \n",
        "from tensorflow.keras.models import Sequential  #For building the Neural Network layer by layer\n",
        "from tensorflow.keras.layers import Dense, BatchNormalization, Dropout #Dense - To randomly initialize the weights to small numbers close to 0(But not 0)\n",
        "from tensorflow.keras.layers import MaxPool2D\n",
        "from tensorflow.keras import regularizers\n",
        "from tensorflow.keras import optimizers\n",
        "from tensorflow.keras.backend import backend"
      ],
      "execution_count": 0,
      "outputs": []
    },
    {
      "cell_type": "code",
      "metadata": {
        "id": "fMosLLSQ7Gkq",
        "colab_type": "code",
        "colab": {}
      },
      "source": [
        "#We would be building the initial model without any hidden layers."
      ],
      "execution_count": 0,
      "outputs": []
    },
    {
      "cell_type": "code",
      "metadata": {
        "id": "fQCQpPWiU_YT",
        "colab_type": "code",
        "colab": {}
      },
      "source": [
        "tf.keras.backend.clear_session()\n",
        "\n",
        "# Initialize Sequential model\n",
        "model = Sequential()"
      ],
      "execution_count": 0,
      "outputs": []
    },
    {
      "cell_type": "code",
      "metadata": {
        "id": "EEJbbuYh2PGi",
        "colab_type": "code",
        "colab": {}
      },
      "source": [
        "#normalize data\n",
        "model.add(BatchNormalization())"
      ],
      "execution_count": 0,
      "outputs": []
    },
    {
      "cell_type": "code",
      "metadata": {
        "id": "hI0zd9ASU_wi",
        "colab_type": "code",
        "colab": {}
      },
      "source": [
        "#Output layer\n",
        "#Sigmoid activation function is used whenever we need Probabilities of 2 categories or less(Similar to Logistic Regression)\n",
        "#We would switch to Softmax when the dependent variable has more than 2 categories\n",
        "model.add(Dense(1, activation='sigmoid'))"
      ],
      "execution_count": 0,
      "outputs": []
    },
    {
      "cell_type": "code",
      "metadata": {
        "id": "MfWO4lIXU_3_",
        "colab_type": "code",
        "colab": {}
      },
      "source": [
        "# Compile the model\n",
        "#Here we would be using 'adam' optimizer and loss as 'binary_crossentropy' as we have only 2 categories. \n",
        "#if more than 2 categories then we use - categorical_crossentropy\n",
        "model.compile(optimizer= 'adam', loss='binary_crossentropy', metrics=['accuracy'])"
      ],
      "execution_count": 0,
      "outputs": []
    },
    {
      "cell_type": "code",
      "metadata": {
        "id": "dV_-ZQnfnm51",
        "colab_type": "code",
        "colab": {
          "base_uri": "https://localhost:8080/",
          "height": 221
        },
        "outputId": "eae9e82a-8eb4-4f7f-a991-eb0ef172b6ac"
      },
      "source": [
        "model.summary()"
      ],
      "execution_count": 151,
      "outputs": [
        {
          "output_type": "stream",
          "text": [
            "Model: \"sequential\"\n",
            "_________________________________________________________________\n",
            "Layer (type)                 Output Shape              Param #   \n",
            "=================================================================\n",
            "batch_normalization (BatchNo multiple                  48        \n",
            "_________________________________________________________________\n",
            "dense (Dense)                multiple                  13        \n",
            "=================================================================\n",
            "Total params: 61\n",
            "Trainable params: 37\n",
            "Non-trainable params: 24\n",
            "_________________________________________________________________\n"
          ],
          "name": "stdout"
        }
      ]
    },
    {
      "cell_type": "code",
      "metadata": {
        "id": "Bv077-LlU__7",
        "colab_type": "code",
        "outputId": "35b4e670-e7f5-43c3-d81d-23f07432c263",
        "colab": {
          "base_uri": "https://localhost:8080/",
          "height": 391
        }
      },
      "source": [
        "#Train the model\n",
        "model.fit(X_train_scaled,y_train,          \n",
        "          validation_data=(X_test_scaled,y_test),\n",
        "          epochs=10,\n",
        "          batch_size=32)"
      ],
      "execution_count": 150,
      "outputs": [
        {
          "output_type": "stream",
          "text": [
            "Train on 7000 samples, validate on 3000 samples\n",
            "Epoch 1/10\n",
            "7000/7000 [==============================] - 1s 123us/sample - loss: 0.6773 - accuracy: 0.5980 - val_loss: 0.5998 - val_accuracy: 0.6827\n",
            "Epoch 2/10\n",
            "7000/7000 [==============================] - 0s 62us/sample - loss: 0.5397 - accuracy: 0.7486 - val_loss: 0.5137 - val_accuracy: 0.7750\n",
            "Epoch 3/10\n",
            "7000/7000 [==============================] - 0s 63us/sample - loss: 0.4805 - accuracy: 0.7889 - val_loss: 0.4745 - val_accuracy: 0.7833\n",
            "Epoch 4/10\n",
            "7000/7000 [==============================] - 0s 62us/sample - loss: 0.4537 - accuracy: 0.7981 - val_loss: 0.4551 - val_accuracy: 0.7927\n",
            "Epoch 5/10\n",
            "7000/7000 [==============================] - 0s 62us/sample - loss: 0.4397 - accuracy: 0.8036 - val_loss: 0.4442 - val_accuracy: 0.8010\n",
            "Epoch 6/10\n",
            "7000/7000 [==============================] - 0s 63us/sample - loss: 0.4351 - accuracy: 0.8090 - val_loss: 0.4382 - val_accuracy: 0.8030\n",
            "Epoch 7/10\n",
            "7000/7000 [==============================] - 0s 61us/sample - loss: 0.4337 - accuracy: 0.8079 - val_loss: 0.4351 - val_accuracy: 0.8037\n",
            "Epoch 8/10\n",
            "7000/7000 [==============================] - 0s 64us/sample - loss: 0.4320 - accuracy: 0.8097 - val_loss: 0.4336 - val_accuracy: 0.8037\n",
            "Epoch 9/10\n",
            "7000/7000 [==============================] - 0s 67us/sample - loss: 0.4290 - accuracy: 0.8117 - val_loss: 0.4325 - val_accuracy: 0.8060\n",
            "Epoch 10/10\n",
            "7000/7000 [==============================] - 0s 64us/sample - loss: 0.4310 - accuracy: 0.8066 - val_loss: 0.4319 - val_accuracy: 0.8063\n"
          ],
          "name": "stdout"
        },
        {
          "output_type": "execute_result",
          "data": {
            "text/plain": [
              "<tensorflow.python.keras.callbacks.History at 0x7f4dd936c390>"
            ]
          },
          "metadata": {
            "tags": []
          },
          "execution_count": 150
        }
      ]
    },
    {
      "cell_type": "code",
      "metadata": {
        "id": "eth1b8cxU_93",
        "colab_type": "code",
        "colab": {
          "base_uri": "https://localhost:8080/",
          "height": 51
        },
        "outputId": "da88ebfa-564d-4b19-dfdc-04d86f5db50d"
      },
      "source": [
        "#Training Accuracy\n",
        "score = model.evaluate(X_train_scaled, y_train, verbose=0)\n",
        "print(\"Train Loss : \", score[0])\n",
        "print(\"Train Accuracy : \",score[1])"
      ],
      "execution_count": 152,
      "outputs": [
        {
          "output_type": "stream",
          "text": [
            "Train Loss :  0.4292629791668483\n",
            "Train Accuracy :  0.80985713\n"
          ],
          "name": "stdout"
        }
      ]
    },
    {
      "cell_type": "code",
      "metadata": {
        "id": "yorHqAxzU_1M",
        "colab_type": "code",
        "colab": {
          "base_uri": "https://localhost:8080/",
          "height": 51
        },
        "outputId": "fbea32eb-6d5c-4048-aa59-63b1551e9a88"
      },
      "source": [
        "#Testing Accuracy\n",
        "score = model.evaluate(X_test_scaled, y_test, verbose=0)\n",
        "print(\"Test Loss : \", score[0])\n",
        "print(\"Test Accuracy : \",score[1])"
      ],
      "execution_count": 154,
      "outputs": [
        {
          "output_type": "stream",
          "text": [
            "Test Loss :  0.4318587795893351\n",
            "Test Accuracy :  0.80633336\n"
          ],
          "name": "stdout"
        }
      ]
    },
    {
      "cell_type": "markdown",
      "metadata": {
        "id": "y_12D-QNGQpH",
        "colab_type": "text"
      },
      "source": [
        "## Optimize the model "
      ]
    },
    {
      "cell_type": "code",
      "metadata": {
        "id": "fKjenTlJGR3_",
        "colab_type": "code",
        "colab": {}
      },
      "source": [
        "#We would optimize the model by adding hidden layers to original model and rebuilding the model."
      ],
      "execution_count": 0,
      "outputs": []
    },
    {
      "cell_type": "code",
      "metadata": {
        "id": "hhMI49YBm5Yv",
        "colab_type": "code",
        "colab": {}
      },
      "source": [
        "tf.keras.backend.clear_session()\n",
        "\n",
        "# Initialize Sequential model \n",
        "model2 = Sequential()\n",
        "\n",
        "#normalize data\n",
        "model2.add(BatchNormalization())"
      ],
      "execution_count": 0,
      "outputs": []
    },
    {
      "cell_type": "code",
      "metadata": {
        "id": "lOhoMtALmsvn",
        "colab_type": "code",
        "colab": {}
      },
      "source": [
        "#Adding Hidden Layer 1 \n",
        "model2.add(Dense(100, activation='relu'))\n"
      ],
      "execution_count": 0,
      "outputs": []
    },
    {
      "cell_type": "code",
      "metadata": {
        "id": "qWVjwwRznA-D",
        "colab_type": "code",
        "colab": {}
      },
      "source": [
        "#Adding Hidden Layer 2\n",
        "model2.add(Dense(100, activation='relu'))\n"
      ],
      "execution_count": 0,
      "outputs": []
    },
    {
      "cell_type": "code",
      "metadata": {
        "id": "6z0wj-IRwmEM",
        "colab_type": "code",
        "colab": {}
      },
      "source": [
        "#Adding Hidden Layer 3\n",
        "model2.add(Dense(10, activation='relu'))\n"
      ],
      "execution_count": 0,
      "outputs": []
    },
    {
      "cell_type": "code",
      "metadata": {
        "id": "VUx19XHfwmOi",
        "colab_type": "code",
        "colab": {}
      },
      "source": [
        "#Adding Dropout Layer\n",
        "model2.add(Dropout(0.25))"
      ],
      "execution_count": 0,
      "outputs": []
    },
    {
      "cell_type": "code",
      "metadata": {
        "id": "fku-rvg6nIfy",
        "colab_type": "code",
        "colab": {}
      },
      "source": [
        "#Output layer\n",
        "model2.add(Dense(1, activation='sigmoid'))"
      ],
      "execution_count": 0,
      "outputs": []
    },
    {
      "cell_type": "code",
      "metadata": {
        "id": "GpdVCB64nIcE",
        "colab_type": "code",
        "colab": {}
      },
      "source": [
        "# Compile the model\n",
        "model2.compile(optimizer= 'adam', loss='binary_crossentropy', metrics=['accuracy'])"
      ],
      "execution_count": 0,
      "outputs": []
    },
    {
      "cell_type": "code",
      "metadata": {
        "id": "0tXR79KHnIXo",
        "colab_type": "code",
        "colab": {
          "base_uri": "https://localhost:8080/",
          "height": 1000
        },
        "outputId": "08285755-b21f-4351-c938-7295343026fa"
      },
      "source": [
        "#Fit the model\n",
        "#Train the model\n",
        "model2.fit(X_train_scaled,y_train,          \n",
        "          validation_data=(X_test_scaled,y_test),\n",
        "          epochs=30,\n",
        "          batch_size=32)"
      ],
      "execution_count": 304,
      "outputs": [
        {
          "output_type": "stream",
          "text": [
            "Train on 7000 samples, validate on 3000 samples\n",
            "Epoch 1/30\n",
            "7000/7000 [==============================] - 1s 167us/sample - loss: 0.4994 - accuracy: 0.7909 - val_loss: 0.4221 - val_accuracy: 0.8270\n",
            "Epoch 2/30\n",
            "7000/7000 [==============================] - 1s 93us/sample - loss: 0.4313 - accuracy: 0.8264 - val_loss: 0.3847 - val_accuracy: 0.8487\n",
            "Epoch 3/30\n",
            "7000/7000 [==============================] - 1s 91us/sample - loss: 0.4098 - accuracy: 0.8344 - val_loss: 0.3621 - val_accuracy: 0.8503\n",
            "Epoch 4/30\n",
            "7000/7000 [==============================] - 1s 91us/sample - loss: 0.3793 - accuracy: 0.8460 - val_loss: 0.3531 - val_accuracy: 0.8513\n",
            "Epoch 5/30\n",
            "7000/7000 [==============================] - 1s 86us/sample - loss: 0.3761 - accuracy: 0.8459 - val_loss: 0.3511 - val_accuracy: 0.8607\n",
            "Epoch 6/30\n",
            "7000/7000 [==============================] - 1s 86us/sample - loss: 0.3756 - accuracy: 0.8544 - val_loss: 0.3420 - val_accuracy: 0.8617\n",
            "Epoch 7/30\n",
            "7000/7000 [==============================] - 1s 94us/sample - loss: 0.3652 - accuracy: 0.8534 - val_loss: 0.3465 - val_accuracy: 0.8593\n",
            "Epoch 8/30\n",
            "7000/7000 [==============================] - 1s 94us/sample - loss: 0.3621 - accuracy: 0.8563 - val_loss: 0.3410 - val_accuracy: 0.8620\n",
            "Epoch 9/30\n",
            "7000/7000 [==============================] - 1s 89us/sample - loss: 0.3630 - accuracy: 0.8529 - val_loss: 0.3402 - val_accuracy: 0.8613\n",
            "Epoch 10/30\n",
            "7000/7000 [==============================] - 1s 93us/sample - loss: 0.3603 - accuracy: 0.8526 - val_loss: 0.3431 - val_accuracy: 0.8597\n",
            "Epoch 11/30\n",
            "7000/7000 [==============================] - 1s 92us/sample - loss: 0.3589 - accuracy: 0.8567 - val_loss: 0.3443 - val_accuracy: 0.8553\n",
            "Epoch 12/30\n",
            "7000/7000 [==============================] - 1s 89us/sample - loss: 0.3557 - accuracy: 0.8579 - val_loss: 0.3438 - val_accuracy: 0.8573\n",
            "Epoch 13/30\n",
            "7000/7000 [==============================] - 1s 91us/sample - loss: 0.3486 - accuracy: 0.8581 - val_loss: 0.3391 - val_accuracy: 0.8600\n",
            "Epoch 14/30\n",
            "7000/7000 [==============================] - 1s 87us/sample - loss: 0.3519 - accuracy: 0.8576 - val_loss: 0.3414 - val_accuracy: 0.8593\n",
            "Epoch 15/30\n",
            "7000/7000 [==============================] - 1s 95us/sample - loss: 0.3455 - accuracy: 0.8614 - val_loss: 0.3414 - val_accuracy: 0.8567\n",
            "Epoch 16/30\n",
            "7000/7000 [==============================] - 1s 99us/sample - loss: 0.3476 - accuracy: 0.8599 - val_loss: 0.3388 - val_accuracy: 0.8643\n",
            "Epoch 17/30\n",
            "7000/7000 [==============================] - 1s 90us/sample - loss: 0.3463 - accuracy: 0.8643 - val_loss: 0.3463 - val_accuracy: 0.8600\n",
            "Epoch 18/30\n",
            "7000/7000 [==============================] - 1s 92us/sample - loss: 0.3446 - accuracy: 0.8606 - val_loss: 0.3431 - val_accuracy: 0.8587\n",
            "Epoch 19/30\n",
            "7000/7000 [==============================] - 1s 93us/sample - loss: 0.3452 - accuracy: 0.8626 - val_loss: 0.3417 - val_accuracy: 0.8593\n",
            "Epoch 20/30\n",
            "7000/7000 [==============================] - 1s 92us/sample - loss: 0.3383 - accuracy: 0.8653 - val_loss: 0.3438 - val_accuracy: 0.8617\n",
            "Epoch 21/30\n",
            "7000/7000 [==============================] - 1s 88us/sample - loss: 0.3417 - accuracy: 0.8610 - val_loss: 0.3435 - val_accuracy: 0.8597\n",
            "Epoch 22/30\n",
            "7000/7000 [==============================] - 1s 93us/sample - loss: 0.3369 - accuracy: 0.8623 - val_loss: 0.3440 - val_accuracy: 0.8577\n",
            "Epoch 23/30\n",
            "7000/7000 [==============================] - 1s 103us/sample - loss: 0.3340 - accuracy: 0.8633 - val_loss: 0.3469 - val_accuracy: 0.8563\n",
            "Epoch 24/30\n",
            "7000/7000 [==============================] - 1s 95us/sample - loss: 0.3354 - accuracy: 0.8647 - val_loss: 0.3547 - val_accuracy: 0.8487\n",
            "Epoch 25/30\n",
            "7000/7000 [==============================] - 1s 94us/sample - loss: 0.3293 - accuracy: 0.8657 - val_loss: 0.3498 - val_accuracy: 0.8573\n",
            "Epoch 26/30\n",
            "7000/7000 [==============================] - 1s 98us/sample - loss: 0.3312 - accuracy: 0.8656 - val_loss: 0.3482 - val_accuracy: 0.8587\n",
            "Epoch 27/30\n",
            "7000/7000 [==============================] - 1s 95us/sample - loss: 0.3292 - accuracy: 0.8663 - val_loss: 0.3470 - val_accuracy: 0.8523\n",
            "Epoch 28/30\n",
            "7000/7000 [==============================] - 1s 93us/sample - loss: 0.3302 - accuracy: 0.8671 - val_loss: 0.3473 - val_accuracy: 0.8557\n",
            "Epoch 29/30\n",
            "7000/7000 [==============================] - 1s 94us/sample - loss: 0.3270 - accuracy: 0.8666 - val_loss: 0.3499 - val_accuracy: 0.8550\n",
            "Epoch 30/30\n",
            "7000/7000 [==============================] - 1s 90us/sample - loss: 0.3275 - accuracy: 0.8623 - val_loss: 0.3516 - val_accuracy: 0.8553\n"
          ],
          "name": "stdout"
        },
        {
          "output_type": "execute_result",
          "data": {
            "text/plain": [
              "<tensorflow.python.keras.callbacks.History at 0x7f4dd2216198>"
            ]
          },
          "metadata": {
            "tags": []
          },
          "execution_count": 304
        }
      ]
    },
    {
      "cell_type": "code",
      "metadata": {
        "id": "6brcc82bxNmP",
        "colab_type": "code",
        "colab": {
          "base_uri": "https://localhost:8080/",
          "height": 357
        },
        "outputId": "1c250faa-e42f-4bca-feb9-784588839da5"
      },
      "source": [
        "model2.summary()"
      ],
      "execution_count": 281,
      "outputs": [
        {
          "output_type": "stream",
          "text": [
            "Model: \"sequential\"\n",
            "_________________________________________________________________\n",
            "Layer (type)                 Output Shape              Param #   \n",
            "=================================================================\n",
            "batch_normalization (BatchNo multiple                  48        \n",
            "_________________________________________________________________\n",
            "dense (Dense)                multiple                  2600      \n",
            "_________________________________________________________________\n",
            "dense_1 (Dense)              multiple                  20100     \n",
            "_________________________________________________________________\n",
            "dense_2 (Dense)              multiple                  1010      \n",
            "_________________________________________________________________\n",
            "dropout (Dropout)            multiple                  0         \n",
            "_________________________________________________________________\n",
            "dense_3 (Dense)              multiple                  11        \n",
            "=================================================================\n",
            "Total params: 23,769\n",
            "Trainable params: 23,745\n",
            "Non-trainable params: 24\n",
            "_________________________________________________________________\n"
          ],
          "name": "stdout"
        }
      ]
    },
    {
      "cell_type": "markdown",
      "metadata": {
        "id": "bZWtUsrGGSv6",
        "colab_type": "text"
      },
      "source": [
        "## Predict the results using 0.5 as a threshold "
      ]
    },
    {
      "cell_type": "code",
      "metadata": {
        "id": "aO8J8SkvGVn_",
        "colab_type": "code",
        "colab": {
          "base_uri": "https://localhost:8080/",
          "height": 136
        },
        "outputId": "170f1de7-c968-4bce-80c6-6afac12f20b2"
      },
      "source": [
        "# Predicting the Test set results\n",
        "y_pred = model2.predict(X_test_scaled)\n",
        "\n",
        "#if y_pred is larger than 0.5 it returns true(1) which means Exited  else false(2) which means - not exited \n",
        "y_pred = (y_pred > 0.5)\n",
        "print(y_pred)"
      ],
      "execution_count": 305,
      "outputs": [
        {
          "output_type": "stream",
          "text": [
            "[[False]\n",
            " [False]\n",
            " [False]\n",
            " ...\n",
            " [False]\n",
            " [False]\n",
            " [ True]]\n"
          ],
          "name": "stdout"
        }
      ]
    },
    {
      "cell_type": "markdown",
      "metadata": {
        "id": "0uKc0vR7GWWA",
        "colab_type": "text"
      },
      "source": [
        "## Print the Accuracy score and confusion matrix"
      ]
    },
    {
      "cell_type": "code",
      "metadata": {
        "id": "1TFGMc5JGZD5",
        "colab_type": "code",
        "colab": {
          "base_uri": "https://localhost:8080/",
          "height": 68
        },
        "outputId": "f66c35e3-cbcd-4420-c1dd-7310b969b752"
      },
      "source": [
        "from sklearn.metrics import confusion_matrix\n",
        "cm = confusion_matrix(y_test, y_pred)\n",
        "print(\"Confusion Matrix : \\n\", cm)\n"
      ],
      "execution_count": 306,
      "outputs": [
        {
          "output_type": "stream",
          "text": [
            "Confusion Matrix : \n",
            " [[2287   92]\n",
            " [ 342  279]]\n"
          ],
          "name": "stdout"
        }
      ]
    },
    {
      "cell_type": "code",
      "metadata": {
        "id": "J0QHcHaWvlkF",
        "colab_type": "code",
        "colab": {
          "base_uri": "https://localhost:8080/",
          "height": 34
        },
        "outputId": "88c5a9e5-5ce4-4cba-9540-82a74219c093"
      },
      "source": [
        "#Accuracy calculated from values obtained from Confusion Matrix\n",
        "accuracy=(2287+279)/3000\n",
        "print(\"Test accuracy : \", accuracy)"
      ],
      "execution_count": 308,
      "outputs": [
        {
          "output_type": "stream",
          "text": [
            "Test accuracy :  0.8553333333333333\n"
          ],
          "name": "stdout"
        }
      ]
    },
    {
      "cell_type": "code",
      "metadata": {
        "id": "VCSUswpPwRDc",
        "colab_type": "code",
        "colab": {
          "base_uri": "https://localhost:8080/",
          "height": 51
        },
        "outputId": "db311c27-a315-470a-ca16-6a30bf6d5a1b"
      },
      "source": [
        "#Testing Accuracy using model.evaluate\n",
        "score = model2.evaluate(X_test_scaled, y_test, verbose=0)\n",
        "print(\"Test Loss : \", score[0])\n",
        "print(\"Test Accuracy : \",score[1])"
      ],
      "execution_count": 309,
      "outputs": [
        {
          "output_type": "stream",
          "text": [
            "Test Loss :  0.3515751620928446\n",
            "Test Accuracy :  0.8553333\n"
          ],
          "name": "stdout"
        }
      ]
    },
    {
      "cell_type": "code",
      "metadata": {
        "id": "3xKHXz8_zxLj",
        "colab_type": "code",
        "colab": {}
      },
      "source": [
        "#Observation - Thus by the addition of Hidden layers we were able to reduce the loss and improve our accuracy score to 85.53%"
      ],
      "execution_count": 0,
      "outputs": []
    }
  ]
}