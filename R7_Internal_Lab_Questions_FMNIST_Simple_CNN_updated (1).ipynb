{
  "nbformat": 4,
  "nbformat_minor": 0,
  "metadata": {
    "accelerator": "GPU",
    "colab": {
      "name": "R7_Internal_Lab_Questions_FMNIST_Simple_CNN_updated.ipynb",
      "provenance": [],
      "collapsed_sections": []
    },
    "kernelspec": {
      "display_name": "Python 3",
      "language": "python",
      "name": "python3"
    },
    "language_info": {
      "codemirror_mode": {
        "name": "ipython",
        "version": 3
      },
      "file_extension": ".py",
      "mimetype": "text/x-python",
      "name": "python",
      "nbconvert_exporter": "python",
      "pygments_lexer": "ipython3",
      "version": "3.7.3"
    }
  },
  "cells": [
    {
      "cell_type": "markdown",
      "metadata": {
        "colab_type": "text",
        "id": "MyfMmMnPJjvn"
      },
      "source": [
        "## Train a simple convnet on the Fashion MNIST dataset"
      ]
    },
    {
      "cell_type": "markdown",
      "metadata": {
        "colab_type": "text",
        "id": "zjcGOJhcJjvp"
      },
      "source": [
        "In this, we will see how to deal with image data and train a convnet for image classification task."
      ]
    },
    {
      "cell_type": "markdown",
      "metadata": {
        "id": "YvbL1jmax1dx",
        "colab_type": "text"
      },
      "source": [
        "###1. Import and set and Tensorflow 2 and verify version"
      ]
    },
    {
      "cell_type": "code",
      "metadata": {
        "id": "Uqhs2LTNx0lQ",
        "colab_type": "code",
        "colab": {
          "base_uri": "https://localhost:8080/",
          "height": 34
        },
        "outputId": "69e773c9-731a-4ef8-cd22-3827ab9fe940"
      },
      "source": [
        "%tensorflow_version 2.x"
      ],
      "execution_count": 1,
      "outputs": [
        {
          "output_type": "stream",
          "text": [
            "TensorFlow 2.x selected.\n"
          ],
          "name": "stdout"
        }
      ]
    },
    {
      "cell_type": "code",
      "metadata": {
        "id": "AqzjQBQ25UQQ",
        "colab_type": "code",
        "colab": {
          "base_uri": "https://localhost:8080/",
          "height": 34
        },
        "outputId": "32e7833c-c440-4ce2-fada-75b0d1d3bca6"
      },
      "source": [
        "import tensorflow as tf\n",
        "print(tf.__version__)"
      ],
      "execution_count": 2,
      "outputs": [
        {
          "output_type": "stream",
          "text": [
            "2.1.0-rc1\n"
          ],
          "name": "stdout"
        }
      ]
    },
    {
      "cell_type": "code",
      "metadata": {
        "id": "lEeQ1afO-S84",
        "colab_type": "code",
        "colab": {}
      },
      "source": [
        ""
      ],
      "execution_count": 0,
      "outputs": []
    },
    {
      "cell_type": "markdown",
      "metadata": {
        "colab_type": "text",
        "id": "jR0Pl2XjJjvq"
      },
      "source": [
        "### 2. Load the  `fashion_mnist`  dataset\n",
        "\n",
        "** Use keras.datasets to load the dataset **"
      ]
    },
    {
      "cell_type": "code",
      "metadata": {
        "colab_type": "code",
        "id": "Qr75v_UYJjvs",
        "colab": {
          "base_uri": "https://localhost:8080/",
          "height": 170
        },
        "outputId": "fc001e59-b95a-4a8a-e6b2-266303e3d673"
      },
      "source": [
        "from keras.datasets import fashion_mnist\n",
        "(x_train, y_train), (x_test, y_test) = fashion_mnist.load_data()"
      ],
      "execution_count": 3,
      "outputs": [
        {
          "output_type": "stream",
          "text": [
            "Using TensorFlow backend.\n"
          ],
          "name": "stderr"
        },
        {
          "output_type": "stream",
          "text": [
            "Downloading data from http://fashion-mnist.s3-website.eu-central-1.amazonaws.com/train-labels-idx1-ubyte.gz\n",
            "32768/29515 [=================================] - 0s 4us/step\n",
            "Downloading data from http://fashion-mnist.s3-website.eu-central-1.amazonaws.com/train-images-idx3-ubyte.gz\n",
            "26427392/26421880 [==============================] - 2s 0us/step\n",
            "Downloading data from http://fashion-mnist.s3-website.eu-central-1.amazonaws.com/t10k-labels-idx1-ubyte.gz\n",
            "8192/5148 [===============================================] - 0s 0us/step\n",
            "Downloading data from http://fashion-mnist.s3-website.eu-central-1.amazonaws.com/t10k-images-idx3-ubyte.gz\n",
            "4423680/4422102 [==============================] - 1s 0us/step\n"
          ],
          "name": "stdout"
        }
      ]
    },
    {
      "cell_type": "markdown",
      "metadata": {
        "id": "Zf2NG5NJ05w_",
        "colab_type": "text"
      },
      "source": [
        "###3. Create a list 'class_names' of below Class Names\n",
        "**Class - Class Name** ==> \n",
        "0 - T-shirt, \n",
        "1 - Trouser, \n",
        "2 - Pullover, \n",
        "3 - Dress, \n",
        "4 - Coat, \n",
        "5 - Sandal, \n",
        "6 - Shirt, \n",
        "7 - Sneaker, \n",
        "8 - Bag, \n",
        "9 - Ankle boot,"
      ]
    },
    {
      "cell_type": "code",
      "metadata": {
        "id": "30E9G9cRRxwx",
        "colab_type": "code",
        "colab": {
          "base_uri": "https://localhost:8080/",
          "height": 187
        },
        "outputId": "3278645e-ffa5-4a9b-c5dc-b79c67eff788"
      },
      "source": [
        "\n",
        "class_names = ['T-shirt','Trouser','Pullover','Dress','Coat','Sandal','Shirt','Sneaker','Bag','Ankle boot']\n",
        "class_names"
      ],
      "execution_count": 51,
      "outputs": [
        {
          "output_type": "execute_result",
          "data": {
            "text/plain": [
              "['T-shirt',\n",
              " 'Trouser',\n",
              " 'Pullover',\n",
              " 'Dress',\n",
              " 'Coat',\n",
              " 'Sandal',\n",
              " 'Shirt',\n",
              " 'Sneaker',\n",
              " 'Bag',\n",
              " 'Ankle boot']"
            ]
          },
          "metadata": {
            "tags": []
          },
          "execution_count": 51
        }
      ]
    },
    {
      "cell_type": "markdown",
      "metadata": {
        "colab_type": "text",
        "id": "hTI42-0qJjvw"
      },
      "source": [
        "###4. Find no.of samples in training and test dataset"
      ]
    },
    {
      "cell_type": "code",
      "metadata": {
        "colab_type": "code",
        "id": "g2sf67VoJjvx",
        "colab": {
          "base_uri": "https://localhost:8080/",
          "height": 34
        },
        "outputId": "a0565ade-3b1f-48f0-cdd9-7b80cda4e4a4"
      },
      "source": [
        "x_train.shape"
      ],
      "execution_count": 5,
      "outputs": [
        {
          "output_type": "execute_result",
          "data": {
            "text/plain": [
              "(60000, 28, 28)"
            ]
          },
          "metadata": {
            "tags": []
          },
          "execution_count": 5
        }
      ]
    },
    {
      "cell_type": "code",
      "metadata": {
        "colab_type": "code",
        "id": "zewyDcBlJjv1",
        "colab": {
          "base_uri": "https://localhost:8080/",
          "height": 34
        },
        "outputId": "69bc902e-6ee0-4d62-95e0-9bc652a33d4a"
      },
      "source": [
        "x_test.shape"
      ],
      "execution_count": 6,
      "outputs": [
        {
          "output_type": "execute_result",
          "data": {
            "text/plain": [
              "(10000, 28, 28)"
            ]
          },
          "metadata": {
            "tags": []
          },
          "execution_count": 6
        }
      ]
    },
    {
      "cell_type": "markdown",
      "metadata": {
        "colab_type": "text",
        "id": "WytT2eRnJjv4"
      },
      "source": [
        "###5. Find dimensions of an image in the dataset"
      ]
    },
    {
      "cell_type": "code",
      "metadata": {
        "colab_type": "code",
        "id": "XycQGBSGJjv5",
        "colab": {
          "base_uri": "https://localhost:8080/",
          "height": 34
        },
        "outputId": "49eac442-5906-49a0-a5fb-d54b66c44392"
      },
      "source": [
        "x_train.shape[1:3]"
      ],
      "execution_count": 8,
      "outputs": [
        {
          "output_type": "execute_result",
          "data": {
            "text/plain": [
              "(28, 28)"
            ]
          },
          "metadata": {
            "tags": []
          },
          "execution_count": 8
        }
      ]
    },
    {
      "cell_type": "markdown",
      "metadata": {
        "id": "JJaUaIKATSVr",
        "colab_type": "text"
      },
      "source": [
        "### 6. Verify if existing labels/Classes are correct "
      ]
    },
    {
      "cell_type": "code",
      "metadata": {
        "id": "UAzXREYjTRhn",
        "colab_type": "code",
        "colab": {
          "base_uri": "https://localhost:8080/",
          "height": 139
        },
        "outputId": "1f48d339-3c88-451c-804f-be15ea80a6d2"
      },
      "source": [
        "import matplotlib.pyplot as plt\n",
        "\n",
        "plt.figure(figsize=(10,10))\n",
        "for i in range(5):\n",
        "    plt.subplot(5,5,i+1)\n",
        "    plt.xticks([])\n",
        "    plt.yticks([])\n",
        "    plt.grid(False)\n",
        "    plt.imshow(x_train[i])\n",
        "    plt.xlabel(class_names[y_train[i]])\n",
        "plt.show()"
      ],
      "execution_count": 15,
      "outputs": [
        {
          "output_type": "display_data",
          "data": {
            "image/png": "[encoded data removed]",
            "text/plain": [
              "<Figure size 720x720 with 5 Axes>"
            ]
          },
          "metadata": {
            "tags": []
          }
        }
      ]
    },
    {
      "cell_type": "markdown",
      "metadata": {
        "colab_type": "text",
        "id": "5jtdZ7RqJjv8"
      },
      "source": [
        "### 7. Convert train and test labels to one hot vectors\n",
        "\n",
        "** check `tensorflow.keras.utils.to_categorical()` **"
      ]
    },
    {
      "cell_type": "code",
      "metadata": {
        "colab_type": "code",
        "id": "sAD3q5I6Jjv9",
        "colab": {}
      },
      "source": [
        "trainY = tf.keras.utils.to_categorical(y_train, num_classes=10)\n",
        "testY = tf.keras.utils.to_categorical(y_test, num_classes=10)"
      ],
      "execution_count": 0,
      "outputs": []
    },
    {
      "cell_type": "code",
      "metadata": {
        "colab_type": "code",
        "id": "mgHSCXy3JjwA",
        "colab": {
          "base_uri": "https://localhost:8080/",
          "height": 34
        },
        "outputId": "319adaa2-bf09-42de-de9d-38dfd2129477"
      },
      "source": [
        "trainY[0]"
      ],
      "execution_count": 14,
      "outputs": [
        {
          "output_type": "execute_result",
          "data": {
            "text/plain": [
              "array([0., 0., 0., 0., 0., 0., 0., 0., 0., 1.], dtype=float32)"
            ]
          },
          "metadata": {
            "tags": []
          },
          "execution_count": 14
        }
      ]
    },
    {
      "cell_type": "markdown",
      "metadata": {
        "colab_type": "text",
        "id": "xO5BRBzBJjwD"
      },
      "source": [
        "###8. Normalize both the train and test image data from 0-255 to 0-1"
      ]
    },
    {
      "cell_type": "code",
      "metadata": {
        "colab_type": "code",
        "id": "3fUQpMHxJjwE",
        "colab": {}
      },
      "source": [
        "import numpy as np\n",
        "x_train_scaled = np.subtract(x_train, np.min(x_train))/np.subtract(np.max(x_train),np.min(x_train))"
      ],
      "execution_count": 0,
      "outputs": []
    },
    {
      "cell_type": "code",
      "metadata": {
        "colab_type": "code",
        "id": "Okwo_SB5JjwI",
        "colab": {
          "base_uri": "https://localhost:8080/",
          "height": 34
        },
        "outputId": "8f2d873f-07f6-4992-8e34-b820d42fe813"
      },
      "source": [
        "np.max(x_train_scaled)"
      ],
      "execution_count": 19,
      "outputs": [
        {
          "output_type": "execute_result",
          "data": {
            "text/plain": [
              "1.0"
            ]
          },
          "metadata": {
            "tags": []
          },
          "execution_count": 19
        }
      ]
    },
    {
      "cell_type": "code",
      "metadata": {
        "id": "hOrFUuDED_Nj",
        "colab_type": "code",
        "colab": {}
      },
      "source": [
        "x_test_scaled = np.subtract(x_test, np.min(x_test))/np.subtract(np.max(x_test),np.min(x_test))"
      ],
      "execution_count": 0,
      "outputs": []
    },
    {
      "cell_type": "code",
      "metadata": {
        "id": "3N7yabTrEKm4",
        "colab_type": "code",
        "colab": {
          "base_uri": "https://localhost:8080/",
          "height": 34
        },
        "outputId": "cc9376d4-8883-47d9-80f3-378cfd33687f"
      },
      "source": [
        "np.max(x_test_scaled)"
      ],
      "execution_count": 21,
      "outputs": [
        {
          "output_type": "execute_result",
          "data": {
            "text/plain": [
              "1.0"
            ]
          },
          "metadata": {
            "tags": []
          },
          "execution_count": 21
        }
      ]
    },
    {
      "cell_type": "markdown",
      "metadata": {
        "colab_type": "text",
        "id": "da5-DwgrJjwM"
      },
      "source": [
        "###9. Reshape the data from 28x28 to 28x28x1 to match input dimensions in Conv2D layer in keras\n",
        "check `tensorflow.keras.backend.expand_dims`\n"
      ]
    },
    {
      "cell_type": "code",
      "metadata": {
        "colab_type": "code",
        "id": "LPGVQ-JJJjwN",
        "colab": {}
      },
      "source": [
        "x_train_reshape = tf.keras.backend.expand_dims(x_train_scaled, axis=-1)"
      ],
      "execution_count": 0,
      "outputs": []
    },
    {
      "cell_type": "code",
      "metadata": {
        "id": "x7uAm1bnFcjZ",
        "colab_type": "code",
        "colab": {}
      },
      "source": [
        "x_test_reshape = tf.keras.backend.expand_dims(x_test_scaled, axis=-1)"
      ],
      "execution_count": 0,
      "outputs": []
    },
    {
      "cell_type": "code",
      "metadata": {
        "id": "FE6n6vn7FUpb",
        "colab_type": "code",
        "colab": {
          "base_uri": "https://localhost:8080/",
          "height": 34
        },
        "outputId": "bcd05576-0488-440c-8d35-3fd33431d29a"
      },
      "source": [
        "x_train_reshape.shape"
      ],
      "execution_count": 23,
      "outputs": [
        {
          "output_type": "execute_result",
          "data": {
            "text/plain": [
              "TensorShape([60000, 28, 28, 1])"
            ]
          },
          "metadata": {
            "tags": []
          },
          "execution_count": 23
        }
      ]
    },
    {
      "cell_type": "code",
      "metadata": {
        "id": "QlacVR_TFiwI",
        "colab_type": "code",
        "colab": {
          "base_uri": "https://localhost:8080/",
          "height": 34
        },
        "outputId": "b37c774b-a5ee-48c0-f094-8824288af3b6"
      },
      "source": [
        "x_test_reshape.shape"
      ],
      "execution_count": 25,
      "outputs": [
        {
          "output_type": "execute_result",
          "data": {
            "text/plain": [
              "TensorShape([10000, 28, 28, 1])"
            ]
          },
          "metadata": {
            "tags": []
          },
          "execution_count": 25
        }
      ]
    },
    {
      "cell_type": "markdown",
      "metadata": {
        "colab_type": "text",
        "id": "OFRRTJq8JjwQ"
      },
      "source": [
        "###10. Import the necessary layers from keras to build the model"
      ]
    },
    {
      "cell_type": "code",
      "metadata": {
        "colab_type": "code",
        "id": "dWTZYnKSJjwR",
        "colab": {}
      },
      "source": [
        "#import\n",
        "from tensorflow.keras import models, layers"
      ],
      "execution_count": 0,
      "outputs": []
    },
    {
      "cell_type": "markdown",
      "metadata": {
        "colab_type": "text",
        "id": "C18AoS7eJjwU"
      },
      "source": [
        "### 11. Build a model \n",
        "\n",
        "** with 2 Conv layers having `32 3x3 filters` in both convolutions with `relu activations` and `flatten` before passing the feature map into 2 fully connected layers (or Dense Layers) having 128 and 10 neurons with `relu` and `softmax` activations respectively. Now, using `categorical_crossentropy` loss with `adam` optimizer train the model with no.of `epochs=10`. **"
      ]
    },
    {
      "cell_type": "code",
      "metadata": {
        "colab_type": "code",
        "id": "DORCLgSwJjwV",
        "colab": {}
      },
      "source": [
        "tf.keras.backend.clear_session()\n",
        "#Initialize model, reshape & normalize data\n",
        "model = models.Sequential()\n",
        "\n",
        "model.add(layers.Reshape((28,28,1),input_shape=(28,28,1)))\n",
        "\n",
        "#normalize data\n",
        "model.add(layers.BatchNormalization())\n"
      ],
      "execution_count": 0,
      "outputs": []
    },
    {
      "cell_type": "code",
      "metadata": {
        "id": "yORWJyZdHrgP",
        "colab_type": "code",
        "colab": {}
      },
      "source": [
        "#Add first convolutional layer\n",
        "model.add(layers.Conv2D(32, #Number of filters \n",
        "                                 kernel_size=(3,3), #Size of the filter\n",
        "                                 activation='relu'))\n",
        "\n",
        "#Add second convolutional layer\n",
        "model.add(layers.Conv2D(32, kernel_size=(3,3), activation='relu'))"
      ],
      "execution_count": 0,
      "outputs": []
    },
    {
      "cell_type": "code",
      "metadata": {
        "id": "1oqXOvGyH7Jw",
        "colab_type": "code",
        "colab": {}
      },
      "source": [
        "#Flatten the output\n",
        "model.add(layers.Flatten())"
      ],
      "execution_count": 0,
      "outputs": []
    },
    {
      "cell_type": "code",
      "metadata": {
        "id": "Bii2-HQmIFTE",
        "colab_type": "code",
        "colab": {}
      },
      "source": [
        "#Dense layer\n",
        "model.add(layers.Dense(128, activation='relu'))\n",
        "\n",
        "\n",
        "#Output layer\n",
        "model.add(layers.Dense(10, activation='softmax'))"
      ],
      "execution_count": 0,
      "outputs": []
    },
    {
      "cell_type": "code",
      "metadata": {
        "id": "0b8vWr0-ILUL",
        "colab_type": "code",
        "colab": {}
      },
      "source": [
        "model.compile(optimizer='adam', \n",
        "              loss='categorical_crossentropy', metrics=['accuracy'])"
      ],
      "execution_count": 0,
      "outputs": []
    },
    {
      "cell_type": "code",
      "metadata": {
        "id": "H-aaNE2DINPf",
        "colab_type": "code",
        "colab": {
          "base_uri": "https://localhost:8080/",
          "height": 391
        },
        "outputId": "da89a266-2294-4253-cb75-ba8e92739dd5"
      },
      "source": [
        "model.summary()"
      ],
      "execution_count": 31,
      "outputs": [
        {
          "output_type": "stream",
          "text": [
            "Model: \"sequential\"\n",
            "_________________________________________________________________\n",
            "Layer (type)                 Output Shape              Param #   \n",
            "=================================================================\n",
            "reshape (Reshape)            (None, 28, 28, 1)         0         \n",
            "_________________________________________________________________\n",
            "batch_normalization (BatchNo (None, 28, 28, 1)         4         \n",
            "_________________________________________________________________\n",
            "conv2d (Conv2D)              (None, 26, 26, 32)        320       \n",
            "_________________________________________________________________\n",
            "conv2d_1 (Conv2D)            (None, 24, 24, 32)        9248      \n",
            "_________________________________________________________________\n",
            "flatten (Flatten)            (None, 18432)             0         \n",
            "_________________________________________________________________\n",
            "dense (Dense)                (None, 128)               2359424   \n",
            "_________________________________________________________________\n",
            "dense_1 (Dense)              (None, 10)                1290      \n",
            "=================================================================\n",
            "Total params: 2,370,286\n",
            "Trainable params: 2,370,284\n",
            "Non-trainable params: 2\n",
            "_________________________________________________________________\n"
          ],
          "name": "stdout"
        }
      ]
    },
    {
      "cell_type": "code",
      "metadata": {
        "id": "RTMwJNyoJLet",
        "colab_type": "code",
        "colab": {
          "base_uri": "https://localhost:8080/",
          "height": 391
        },
        "outputId": "90caf96c-f8fa-4c9c-f828-48f232239284"
      },
      "source": [
        "#Train the model\n",
        "model.fit(x_train_reshape,trainY,          \n",
        "          validation_data=(x_test_reshape,testY),\n",
        "          epochs=10,\n",
        "          batch_size=32)"
      ],
      "execution_count": 34,
      "outputs": [
        {
          "output_type": "stream",
          "text": [
            "Train on 60000 samples, validate on 10000 samples\n",
            "Epoch 1/10\n",
            "60000/60000 [==============================] - 14s 227us/sample - loss: 0.3649 - accuracy: 0.8687 - val_loss: 0.3006 - val_accuracy: 0.8878\n",
            "Epoch 2/10\n",
            "60000/60000 [==============================] - 7s 113us/sample - loss: 0.2196 - accuracy: 0.9188 - val_loss: 0.2807 - val_accuracy: 0.9013\n",
            "Epoch 3/10\n",
            "60000/60000 [==============================] - 7s 116us/sample - loss: 0.1514 - accuracy: 0.9446 - val_loss: 0.2672 - val_accuracy: 0.9097\n",
            "Epoch 4/10\n",
            "60000/60000 [==============================] - 7s 113us/sample - loss: 0.0986 - accuracy: 0.9633 - val_loss: 0.2927 - val_accuracy: 0.9112\n",
            "Epoch 5/10\n",
            "60000/60000 [==============================] - 7s 112us/sample - loss: 0.0617 - accuracy: 0.9771 - val_loss: 0.3658 - val_accuracy: 0.9085\n",
            "Epoch 6/10\n",
            "60000/60000 [==============================] - 7s 114us/sample - loss: 0.0463 - accuracy: 0.9834 - val_loss: 0.4403 - val_accuracy: 0.9092\n",
            "Epoch 7/10\n",
            "60000/60000 [==============================] - 7s 114us/sample - loss: 0.0322 - accuracy: 0.9883 - val_loss: 0.4622 - val_accuracy: 0.9099\n",
            "Epoch 8/10\n",
            "60000/60000 [==============================] - 7s 115us/sample - loss: 0.0280 - accuracy: 0.9902 - val_loss: 0.4919 - val_accuracy: 0.9089\n",
            "Epoch 9/10\n",
            "60000/60000 [==============================] - 7s 114us/sample - loss: 0.0206 - accuracy: 0.9930 - val_loss: 0.5513 - val_accuracy: 0.9032\n",
            "Epoch 10/10\n",
            "60000/60000 [==============================] - 7s 114us/sample - loss: 0.0190 - accuracy: 0.9935 - val_loss: 0.5818 - val_accuracy: 0.9107\n"
          ],
          "name": "stdout"
        },
        {
          "output_type": "execute_result",
          "data": {
            "text/plain": [
              "<tensorflow.python.keras.callbacks.History at 0x7f995bd0a208>"
            ]
          },
          "metadata": {
            "tags": []
          },
          "execution_count": 34
        }
      ]
    },
    {
      "cell_type": "markdown",
      "metadata": {
        "colab_type": "text",
        "id": "ju69vKdIJjwX"
      },
      "source": [
        "###12. Now, to the above model add `max` pooling layer of `filter size 2x2` and `dropout` layer with `p=0.25` after the 2 conv layers and run the model"
      ]
    },
    {
      "cell_type": "code",
      "metadata": {
        "id": "xbPBRoIRRiJl",
        "colab_type": "code",
        "colab": {}
      },
      "source": [
        "tf.keras.backend.clear_session()\n",
        "#Initialize model, reshape & normalize data\n",
        "model2 = models.Sequential()\n",
        "\n",
        "model2.add(layers.Reshape((28,28,1),input_shape=(28,28,1)))\n",
        "\n",
        "#normalize data\n",
        "model2.add(layers.BatchNormalization())\n"
      ],
      "execution_count": 0,
      "outputs": []
    },
    {
      "cell_type": "code",
      "metadata": {
        "id": "1-w_G32qLhb9",
        "colab_type": "code",
        "colab": {}
      },
      "source": [
        "#Add first convolutional layer\n",
        "model2.add(layers.Conv2D(32, #Number of filters \n",
        "                                 kernel_size=(3,3), #Size of the filter\n",
        "                                 activation='relu'))\n",
        "\n",
        "#Add second convolutional layer\n",
        "model2.add(layers.Conv2D(32, kernel_size=(3,3), activation='relu'))"
      ],
      "execution_count": 0,
      "outputs": []
    },
    {
      "cell_type": "code",
      "metadata": {
        "id": "RZqFGa4qLmdA",
        "colab_type": "code",
        "colab": {}
      },
      "source": [
        "#Add MaxPooling layer\n",
        "model2.add(layers.MaxPool2D(pool_size=(2,2)))\n",
        "\n",
        "\n",
        "#Add another dropout layer\n",
        "model2.add(layers.Dropout(0.25))"
      ],
      "execution_count": 0,
      "outputs": []
    },
    {
      "cell_type": "code",
      "metadata": {
        "id": "obRNh1kULmZi",
        "colab_type": "code",
        "colab": {}
      },
      "source": [
        "#Flatten the output\n",
        "model2.add(layers.Flatten())"
      ],
      "execution_count": 0,
      "outputs": []
    },
    {
      "cell_type": "code",
      "metadata": {
        "id": "Fpz8zTe7LmWO",
        "colab_type": "code",
        "colab": {}
      },
      "source": [
        "#Dense layer\n",
        "model2.add(layers.Dense(128, activation='relu'))\n",
        "\n",
        "\n",
        "#Output layer\n",
        "model2.add(layers.Dense(10, activation='softmax'))"
      ],
      "execution_count": 0,
      "outputs": []
    },
    {
      "cell_type": "code",
      "metadata": {
        "id": "y1DY00EqLmRF",
        "colab_type": "code",
        "colab": {}
      },
      "source": [
        "model2.compile(optimizer='adam', \n",
        "              loss='categorical_crossentropy', metrics=['accuracy'])"
      ],
      "execution_count": 0,
      "outputs": []
    },
    {
      "cell_type": "code",
      "metadata": {
        "id": "rBPSXa57McvZ",
        "colab_type": "code",
        "colab": {
          "base_uri": "https://localhost:8080/",
          "height": 459
        },
        "outputId": "163fb0d7-035e-434b-be26-63df3e3e29ac"
      },
      "source": [
        "model2.summary()"
      ],
      "execution_count": 67,
      "outputs": [
        {
          "output_type": "stream",
          "text": [
            "Model: \"sequential\"\n",
            "_________________________________________________________________\n",
            "Layer (type)                 Output Shape              Param #   \n",
            "=================================================================\n",
            "reshape (Reshape)            (None, 28, 28, 1)         0         \n",
            "_________________________________________________________________\n",
            "batch_normalization (BatchNo (None, 28, 28, 1)         4         \n",
            "_________________________________________________________________\n",
            "conv2d (Conv2D)              (None, 26, 26, 32)        320       \n",
            "_________________________________________________________________\n",
            "conv2d_1 (Conv2D)            (None, 24, 24, 32)        9248      \n",
            "_________________________________________________________________\n",
            "max_pooling2d (MaxPooling2D) (None, 12, 12, 32)        0         \n",
            "_________________________________________________________________\n",
            "dropout (Dropout)            (None, 12, 12, 32)        0         \n",
            "_________________________________________________________________\n",
            "flatten (Flatten)            (None, 4608)              0         \n",
            "_________________________________________________________________\n",
            "dense (Dense)                (None, 128)               589952    \n",
            "_________________________________________________________________\n",
            "dense_1 (Dense)              (None, 10)                1290      \n",
            "=================================================================\n",
            "Total params: 600,814\n",
            "Trainable params: 600,812\n",
            "Non-trainable params: 2\n",
            "_________________________________________________________________\n"
          ],
          "name": "stdout"
        }
      ]
    },
    {
      "cell_type": "code",
      "metadata": {
        "id": "qsc26YPjMgrV",
        "colab_type": "code",
        "colab": {
          "base_uri": "https://localhost:8080/",
          "height": 391
        },
        "outputId": "d010e244-fe3c-432a-d177-d0a0b68e8789"
      },
      "source": [
        "#Train the model\n",
        "model2.fit(x_train_reshape,trainY,          \n",
        "          validation_data=(x_test_reshape,testY),\n",
        "          epochs=10,\n",
        "          batch_size=32)"
      ],
      "execution_count": 68,
      "outputs": [
        {
          "output_type": "stream",
          "text": [
            "Train on 60000 samples, validate on 10000 samples\n",
            "Epoch 1/10\n",
            "60000/60000 [==============================] - 7s 121us/sample - loss: 0.3761 - accuracy: 0.8640 - val_loss: 0.2780 - val_accuracy: 0.8999\n",
            "Epoch 2/10\n",
            "60000/60000 [==============================] - 7s 110us/sample - loss: 0.2435 - accuracy: 0.9106 - val_loss: 0.2542 - val_accuracy: 0.9108\n",
            "Epoch 3/10\n",
            "60000/60000 [==============================] - 7s 111us/sample - loss: 0.1973 - accuracy: 0.9268 - val_loss: 0.2233 - val_accuracy: 0.9220\n",
            "Epoch 4/10\n",
            "60000/60000 [==============================] - 7s 110us/sample - loss: 0.1639 - accuracy: 0.9381 - val_loss: 0.2195 - val_accuracy: 0.9221\n",
            "Epoch 5/10\n",
            "60000/60000 [==============================] - 7s 113us/sample - loss: 0.1397 - accuracy: 0.9474 - val_loss: 0.2538 - val_accuracy: 0.9128\n",
            "Epoch 6/10\n",
            "60000/60000 [==============================] - 7s 117us/sample - loss: 0.1198 - accuracy: 0.9550 - val_loss: 0.2415 - val_accuracy: 0.9203\n",
            "Epoch 7/10\n",
            "60000/60000 [==============================] - 7s 110us/sample - loss: 0.1016 - accuracy: 0.9617 - val_loss: 0.2632 - val_accuracy: 0.9201\n",
            "Epoch 8/10\n",
            "60000/60000 [==============================] - 7s 111us/sample - loss: 0.0888 - accuracy: 0.9663 - val_loss: 0.2756 - val_accuracy: 0.9165\n",
            "Epoch 9/10\n",
            "60000/60000 [==============================] - 7s 110us/sample - loss: 0.0795 - accuracy: 0.9696 - val_loss: 0.2842 - val_accuracy: 0.9252\n",
            "Epoch 10/10\n",
            "60000/60000 [==============================] - 7s 111us/sample - loss: 0.0683 - accuracy: 0.9749 - val_loss: 0.2831 - val_accuracy: 0.9241\n"
          ],
          "name": "stdout"
        },
        {
          "output_type": "execute_result",
          "data": {
            "text/plain": [
              "<tensorflow.python.keras.callbacks.History at 0x7f99595ba198>"
            ]
          },
          "metadata": {
            "tags": []
          },
          "execution_count": 68
        }
      ]
    },
    {
      "cell_type": "markdown",
      "metadata": {
        "colab_type": "text",
        "id": "MwQQW5iOJjwq"
      },
      "source": [
        "###13. Verify accuracy of the model\n",
        "\n",
        "> "
      ]
    },
    {
      "cell_type": "code",
      "metadata": {
        "colab_type": "code",
        "id": "L2hAP94vJjwY",
        "colab": {
          "base_uri": "https://localhost:8080/",
          "height": 34
        },
        "outputId": "74ba865d-caf4-479f-a6f1-65e9b1f9581b"
      },
      "source": [
        "score = model2.evaluate(x_train_reshape, trainY, verbose=0)\n",
        "print(score)"
      ],
      "execution_count": 69,
      "outputs": [
        {
          "output_type": "stream",
          "text": [
            "[0.03403697781777009, 0.9891833]\n"
          ],
          "name": "stdout"
        }
      ]
    },
    {
      "cell_type": "code",
      "metadata": {
        "id": "xXJzS-6QNB0S",
        "colab_type": "code",
        "colab": {
          "base_uri": "https://localhost:8080/",
          "height": 34
        },
        "outputId": "e4dd85ff-fad8-46c2-f10c-83cd74f57956"
      },
      "source": [
        "score = model2.evaluate(x_test_reshape, testY, verbose=0)\n",
        "print(score)"
      ],
      "execution_count": 70,
      "outputs": [
        {
          "output_type": "stream",
          "text": [
            "[0.28309994943886996, 0.9241]\n"
          ],
          "name": "stdout"
        }
      ]
    },
    {
      "cell_type": "markdown",
      "metadata": {
        "id": "qfjNBWhbZ2KM",
        "colab_type": "text"
      },
      "source": [
        "####14. Verify performance of your model selectively "
      ]
    },
    {
      "cell_type": "code",
      "metadata": {
        "id": "erPkStxJaHEO",
        "colab_type": "code",
        "colab": {}
      },
      "source": [
        "predictions = model2.predict(x_train_reshape)\n",
        "\n",
        "def plot_image(i, predictions_array, true_label, img):\n",
        "  predictions_array, true_label, img = predictions_array, true_label[i], img[i]\n",
        "  plt.grid(False)\n",
        "  plt.xticks([])\n",
        "  plt.yticks([])\n",
        "\n",
        "  plt.imshow(img, cmap=plt.cm.binary)\n",
        "\n",
        "  predicted_label = np.argmax(predictions_array)\n",
        "\n",
        "  plt.xlabel(\"{} {:2.0f}% ({})\".format(class_names[predicted_label],\n",
        "                                100*np.max(predictions_array),\n",
        "                                class_names[true_label]),\n",
        "                                color='blue')\n",
        "\n",
        "def plot_value_array(i, predictions_array, true_label):\n",
        "  predictions_array, true_label = predictions_array, true_label[i]\n",
        "  plt.grid(False)\n",
        "  plt.xticks(range(9), class_names, rotation=90)\n",
        "  plt.yticks([])\n",
        "  thisplot = plt.bar(range(10), predictions_array, color='blue')\n",
        "  plt.ylim([0, 1])\n",
        "  predicted_label = np.argmax(predictions_array)"
      ],
      "execution_count": 0,
      "outputs": []
    },
    {
      "cell_type": "code",
      "metadata": {
        "id": "cFPzCbnDaYAH",
        "colab_type": "code",
        "colab": {
          "base_uri": "https://localhost:8080/",
          "height": 296
        },
        "outputId": "2d5a82ad-b539-4876-b6e7-eaa8046a4c35"
      },
      "source": [
        "#Replace value of i with other index to check other product\n",
        "i = 5\n",
        "plt.figure(figsize=(8,4))\n",
        "plt.subplot(1,2,1)\n",
        "plot_image(i, predictions[i], y_train, x_train)\n",
        "plt.subplot(1,2,2)\n",
        "plot_value_array(i, predictions[i],  y_train)\n",
        "plt.show()"
      ],
      "execution_count": 72,
      "outputs": [
        {
          "output_type": "display_data",
          "data": {
            "image/png": "[encoded data removed]",
            "text/plain": [
              "<Figure size 576x288 with 2 Axes>"
            ]
          },
          "metadata": {
            "tags": []
          }
        }
      ]
    },
    {
      "cell_type": "markdown",
      "metadata": {
        "colab_type": "text",
        "id": "lGTA3bfEJjwa"
      },
      "source": [
        "### Now, to the above model, lets add Data Augmentation "
      ]
    },
    {
      "cell_type": "markdown",
      "metadata": {
        "colab_type": "text",
        "id": "F6gX8n5SJjwb"
      },
      "source": [
        "###15. Import the ImageDataGenrator from keras and fit the training images"
      ]
    },
    {
      "cell_type": "code",
      "metadata": {
        "colab_type": "code",
        "id": "Cbz4uHBuJjwc",
        "colab": {}
      },
      "source": [
        "from tensorflow.keras.preprocessing.image import ImageDataGenerator"
      ],
      "execution_count": 0,
      "outputs": []
    },
    {
      "cell_type": "code",
      "metadata": {
        "id": "qdYnGR-VSp5V",
        "colab_type": "code",
        "colab": {}
      },
      "source": [
        "datagen = ImageDataGenerator(\n",
        "    featurewise_center=True,\n",
        "    featurewise_std_normalization=True,\n",
        "    rotation_range=20,\n",
        "    width_shift_range=0.2,\n",
        "    height_shift_range=0.2,\n",
        "    horizontal_flip=True)"
      ],
      "execution_count": 0,
      "outputs": []
    },
    {
      "cell_type": "code",
      "metadata": {
        "id": "sOVL8CivStGi",
        "colab_type": "code",
        "colab": {
          "base_uri": "https://localhost:8080/",
          "height": 459
        },
        "outputId": "e2b625d3-52cc-4fe0-eeff-775b352d3cb6"
      },
      "source": [
        "# compute quantities required for featurewise normalization\n",
        "# (std, mean, and principal components if ZCA whitening is applied)\n",
        "datagen.fit(x_train_reshape)\n",
        "# fits the model on batches with real-time data augmentation:\n",
        "model2.fit_generator(datagen.flow(x_train_reshape, trainY, batch_size=32),\n",
        "                    steps_per_epoch=len(x_train_reshape) / 32, epochs=10)"
      ],
      "execution_count": 73,
      "outputs": [
        {
          "output_type": "stream",
          "text": [
            "WARNING:tensorflow:sample_weight modes were coerced from\n",
            "  ...\n",
            "    to  \n",
            "  ['...']\n",
            "Train for 1875.0 steps\n",
            "Epoch 1/10\n",
            "1875/1875 [==============================] - 18s 10ms/step - loss: 0.7379 - accuracy: 0.7316\n",
            "Epoch 2/10\n",
            "1875/1875 [==============================] - 18s 10ms/step - loss: 0.5380 - accuracy: 0.8010\n",
            "Epoch 3/10\n",
            "1875/1875 [==============================] - 18s 10ms/step - loss: 0.4919 - accuracy: 0.8186\n",
            "Epoch 4/10\n",
            "1875/1875 [==============================] - 18s 10ms/step - loss: 0.4641 - accuracy: 0.8280\n",
            "Epoch 5/10\n",
            "1875/1875 [==============================] - 18s 10ms/step - loss: 0.4503 - accuracy: 0.8339\n",
            "Epoch 6/10\n",
            "1875/1875 [==============================] - 18s 9ms/step - loss: 0.4349 - accuracy: 0.8399\n",
            "Epoch 7/10\n",
            "1875/1875 [==============================] - 18s 10ms/step - loss: 0.4237 - accuracy: 0.8430\n",
            "Epoch 8/10\n",
            "1875/1875 [==============================] - 18s 10ms/step - loss: 0.4143 - accuracy: 0.8470\n",
            "Epoch 9/10\n",
            "1875/1875 [==============================] - 18s 9ms/step - loss: 0.4058 - accuracy: 0.8475\n",
            "Epoch 10/10\n",
            "1875/1875 [==============================] - 18s 9ms/step - loss: 0.3998 - accuracy: 0.8532\n"
          ],
          "name": "stdout"
        },
        {
          "output_type": "execute_result",
          "data": {
            "text/plain": [
              "<tensorflow.python.keras.callbacks.History at 0x7f99593976a0>"
            ]
          },
          "metadata": {
            "tags": []
          },
          "execution_count": 73
        }
      ]
    },
    {
      "cell_type": "markdown",
      "metadata": {
        "colab_type": "text",
        "id": "pl-8dOo7Jjwf"
      },
      "source": [
        "####16. Showing 5 versions of the first image in training dataset using image datagenerator.flow()"
      ]
    },
    {
      "cell_type": "code",
      "metadata": {
        "colab_type": "code",
        "id": "DpI1_McYJjwg",
        "scrolled": true,
        "colab": {
          "base_uri": "https://localhost:8080/",
          "height": 89
        },
        "outputId": "ae057f4e-810b-46d2-e2a6-34ecd80524eb"
      },
      "source": [
        "from matplotlib import pyplot as plt\n",
        "gen = datagen.flow(x_train_reshape[0:1], batch_size=1)\n",
        "for i in range(1, 6):\n",
        "    plt.subplot(1,5,i)\n",
        "    plt.axis(\"off\")\n",
        "    plt.imshow(gen.next().squeeze(), cmap='gray')\n",
        "    plt.plot()\n",
        "plt.show()"
      ],
      "execution_count": 74,
      "outputs": [
        {
          "output_type": "display_data",
          "data": {
            "image/png": "[encoded data removed]",
            "text/plain": [
              "<Figure size 432x288 with 5 Axes>"
            ]
          },
          "metadata": {
            "tags": []
          }
        }
      ]
    },
    {
      "cell_type": "code",
      "metadata": {
        "colab_type": "code",
        "id": "c1SrtBEPJjwq",
        "colab": {}
      },
      "source": [
        ""
      ],
      "execution_count": 0,
      "outputs": []
    },
    {
      "cell_type": "code",
      "metadata": {
        "colab_type": "code",
        "id": "ZBwVWNQC2qZD",
        "colab": {}
      },
      "source": [
        ""
      ],
      "execution_count": 0,
      "outputs": []
    }
  ]
}